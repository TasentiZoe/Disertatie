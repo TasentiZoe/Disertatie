{
 "cells": [
  {
   "cell_type": "code",
   "execution_count": 1,
   "metadata": {},
   "outputs": [],
   "source": [
    "import numpy as np\n",
    "import pandas as pd \n",
    "import os\n",
    "import matplotlib.pyplot as plt\n",
    "import seaborn as sns"
   ]
  },
  {
   "cell_type": "code",
   "execution_count": 2,
   "metadata": {},
   "outputs": [
    {
     "name": "stderr",
     "output_type": "stream",
     "text": [
      "[nltk_data] Downloading package wordnet to\n",
      "[nltk_data]     C:\\Users\\Zoe\\AppData\\Roaming\\nltk_data...\n",
      "[nltk_data]   Package wordnet is already up-to-date!\n",
      "[nltk_data] Downloading package omw-1.4 to\n",
      "[nltk_data]     C:\\Users\\Zoe\\AppData\\Roaming\\nltk_data...\n",
      "[nltk_data]   Package omw-1.4 is already up-to-date!\n"
     ]
    },
    {
     "data": {
      "text/plain": [
       "True"
      ]
     },
     "execution_count": 2,
     "metadata": {},
     "output_type": "execute_result"
    }
   ],
   "source": [
    "from nltk.corpus import stopwords\n",
    "from nltk.util import ngrams\n",
    "from nltk.stem.wordnet import WordNetLemmatizer\n",
    "stopwords=set(stopwords.words('romanian'))\n",
    "from nltk.tokenize import word_tokenize\n",
    "import gensim\n",
    "import nltk\n",
    "nltk.download('wordnet')\n",
    "nltk.download('omw-1.4')"
   ]
  },
  {
   "cell_type": "code",
   "execution_count": 3,
   "metadata": {},
   "outputs": [
    {
     "name": "stderr",
     "output_type": "stream",
     "text": [
      "[nltk_data] Downloading package names to\n",
      "[nltk_data]     C:\\Users\\Zoe\\AppData\\Roaming\\nltk_data...\n",
      "[nltk_data]   Package names is already up-to-date!\n",
      "[nltk_data] Downloading package stopwords to\n",
      "[nltk_data]     C:\\Users\\Zoe\\AppData\\Roaming\\nltk_data...\n",
      "[nltk_data]   Package stopwords is already up-to-date!\n",
      "[nltk_data] Downloading package state_union to\n",
      "[nltk_data]     C:\\Users\\Zoe\\AppData\\Roaming\\nltk_data...\n",
      "[nltk_data]   Package state_union is already up-to-date!\n",
      "[nltk_data] Downloading package twitter_samples to\n",
      "[nltk_data]     C:\\Users\\Zoe\\AppData\\Roaming\\nltk_data...\n",
      "[nltk_data]   Package twitter_samples is already up-to-date!\n",
      "[nltk_data] Downloading package movie_reviews to\n",
      "[nltk_data]     C:\\Users\\Zoe\\AppData\\Roaming\\nltk_data...\n",
      "[nltk_data]   Package movie_reviews is already up-to-date!\n",
      "[nltk_data] Downloading package averaged_perceptron_tagger to\n",
      "[nltk_data]     C:\\Users\\Zoe\\AppData\\Roaming\\nltk_data...\n",
      "[nltk_data]   Package averaged_perceptron_tagger is already up-to-\n",
      "[nltk_data]       date!\n",
      "[nltk_data] Downloading package vader_lexicon to\n",
      "[nltk_data]     C:\\Users\\Zoe\\AppData\\Roaming\\nltk_data...\n",
      "[nltk_data]   Package vader_lexicon is already up-to-date!\n",
      "[nltk_data] Downloading package punkt to\n",
      "[nltk_data]     C:\\Users\\Zoe\\AppData\\Roaming\\nltk_data...\n",
      "[nltk_data]   Package punkt is already up-to-date!\n"
     ]
    },
    {
     "data": {
      "text/plain": [
       "True"
      ]
     },
     "execution_count": 3,
     "metadata": {},
     "output_type": "execute_result"
    }
   ],
   "source": [
    "nltk.download([\n",
    "...     \"names\",\n",
    "...     \"stopwords\",\n",
    "...     \"state_union\",\n",
    "...     \"twitter_samples\",\n",
    "...     \"movie_reviews\",\n",
    "...     \"averaged_perceptron_tagger\",\n",
    "...     \"vader_lexicon\",\n",
    "...     \"punkt\",\n",
    "... ])"
   ]
  },
  {
   "cell_type": "code",
   "execution_count": 4,
   "metadata": {},
   "outputs": [],
   "source": [
    "from gensim.models import Word2Vec"
   ]
  },
  {
   "cell_type": "code",
   "execution_count": 5,
   "metadata": {},
   "outputs": [],
   "source": [
    "from collections import defaultdict\n",
    "from collections import  Counter\n",
    "import re\n",
    "import string\n",
    "plt.style.use('ggplot')"
   ]
  },
  {
   "cell_type": "code",
   "execution_count": 6,
   "metadata": {},
   "outputs": [],
   "source": [
    "from nltk.sentiment import SentimentIntensityAnalyzer"
   ]
  },
  {
   "cell_type": "code",
   "execution_count": 7,
   "metadata": {},
   "outputs": [],
   "source": [
    "from vaderSentiment.vaderSentiment import SentimentIntensityAnalyzer"
   ]
  },
  {
   "cell_type": "code",
   "execution_count": 8,
   "metadata": {},
   "outputs": [],
   "source": [
    "df = pd.read_excel(r'C:\\Users\\Zoe\\Desktop\\Disertatie\\Coduri\\PM_RI cu etichete.xlsx')"
   ]
  },
  {
   "cell_type": "code",
   "execution_count": 9,
   "metadata": {},
   "outputs": [],
   "source": [
    "\n",
    "df['year'] = pd.DatetimeIndex(df['Data']).year\n",
    "df['month'] = pd.DatetimeIndex(df['Data']).month\n",
    "df['month_year'] = pd.to_datetime(df['Data']).dt.to_period('M')\n",
    "df.head()\n",
    "df['date'] =  pd.to_datetime(df['Data']).dt.strftime('%Y-%m-%d')"
   ]
  },
  {
   "cell_type": "code",
   "execution_count": 10,
   "metadata": {},
   "outputs": [
    {
     "data": {
      "text/html": [
       "<div>\n",
       "<style scoped>\n",
       "    .dataframe tbody tr th:only-of-type {\n",
       "        vertical-align: middle;\n",
       "    }\n",
       "\n",
       "    .dataframe tbody tr th {\n",
       "        vertical-align: top;\n",
       "    }\n",
       "\n",
       "    .dataframe thead th {\n",
       "        text-align: right;\n",
       "    }\n",
       "</style>\n",
       "<table border=\"1\" class=\"dataframe\">\n",
       "  <thead>\n",
       "    <tr style=\"text-align: right;\">\n",
       "      <th></th>\n",
       "      <th>Data</th>\n",
       "      <th>Header</th>\n",
       "      <th>Text</th>\n",
       "      <th>RI</th>\n",
       "      <th>RID</th>\n",
       "      <th>Directie</th>\n",
       "      <th>year</th>\n",
       "      <th>month</th>\n",
       "      <th>month_year</th>\n",
       "      <th>date</th>\n",
       "    </tr>\n",
       "  </thead>\n",
       "  <tbody>\n",
       "    <tr>\n",
       "      <th>0</th>\n",
       "      <td>2005-01-17</td>\n",
       "      <td>Consiliul de administratie al BNR a hotarat re...</td>\n",
       "      <td>in sedinta sa din 14-15 ianuarie 2005, Consili...</td>\n",
       "      <td>8.9</td>\n",
       "      <td>-0.4</td>\n",
       "      <td>s</td>\n",
       "      <td>2005</td>\n",
       "      <td>1</td>\n",
       "      <td>2005-01</td>\n",
       "      <td>2005-01-17</td>\n",
       "    </tr>\n",
       "    <tr>\n",
       "      <th>1</th>\n",
       "      <td>2005-02-12</td>\n",
       "      <td>Consiliul de Administratie al Bancii Nationale...</td>\n",
       "      <td>in sedinta din 10 februarie 2005, Consiliul de...</td>\n",
       "      <td>8.7</td>\n",
       "      <td>-0.2</td>\n",
       "      <td>s</td>\n",
       "      <td>2005</td>\n",
       "      <td>2</td>\n",
       "      <td>2005-02</td>\n",
       "      <td>2005-02-12</td>\n",
       "    </tr>\n",
       "    <tr>\n",
       "      <th>2</th>\n",
       "      <td>2005-03-14</td>\n",
       "      <td>Consiliul de Administratie al Bancii Nationale...</td>\n",
       "      <td>in sedinta din 12 martie 2005, Consiliul de Ad...</td>\n",
       "      <td>10.0</td>\n",
       "      <td>1.3</td>\n",
       "      <td>c</td>\n",
       "      <td>2005</td>\n",
       "      <td>3</td>\n",
       "      <td>2005-03</td>\n",
       "      <td>2005-03-14</td>\n",
       "    </tr>\n",
       "    <tr>\n",
       "      <th>3</th>\n",
       "      <td>2005-04-08</td>\n",
       "      <td>NaN</td>\n",
       "      <td>in sedinta sa din 7 aprilie 2005, Consiliul de...</td>\n",
       "      <td>9.3</td>\n",
       "      <td>-0.7</td>\n",
       "      <td>s</td>\n",
       "      <td>2005</td>\n",
       "      <td>4</td>\n",
       "      <td>2005-04</td>\n",
       "      <td>2005-04-08</td>\n",
       "    </tr>\n",
       "    <tr>\n",
       "      <th>4</th>\n",
       "      <td>2005-07-08</td>\n",
       "      <td>Consiliul de Administratie al Bancii Nationale...</td>\n",
       "      <td>in sedinta din 8 iulie 2005, Consiliul de Admi...</td>\n",
       "      <td>8.9</td>\n",
       "      <td>-0.4</td>\n",
       "      <td>s</td>\n",
       "      <td>2005</td>\n",
       "      <td>7</td>\n",
       "      <td>2005-07</td>\n",
       "      <td>2005-07-08</td>\n",
       "    </tr>\n",
       "  </tbody>\n",
       "</table>\n",
       "</div>"
      ],
      "text/plain": [
       "        Data                                             Header  \\\n",
       "0 2005-01-17  Consiliul de administratie al BNR a hotarat re...   \n",
       "1 2005-02-12  Consiliul de Administratie al Bancii Nationale...   \n",
       "2 2005-03-14  Consiliul de Administratie al Bancii Nationale...   \n",
       "3 2005-04-08                                                NaN   \n",
       "4 2005-07-08  Consiliul de Administratie al Bancii Nationale...   \n",
       "\n",
       "                                                Text    RI  RID Directie  \\\n",
       "0  in sedinta sa din 14-15 ianuarie 2005, Consili...   8.9 -0.4        s   \n",
       "1  in sedinta din 10 februarie 2005, Consiliul de...   8.7 -0.2        s   \n",
       "2  in sedinta din 12 martie 2005, Consiliul de Ad...  10.0  1.3        c   \n",
       "3  in sedinta sa din 7 aprilie 2005, Consiliul de...   9.3 -0.7        s   \n",
       "4  in sedinta din 8 iulie 2005, Consiliul de Admi...   8.9 -0.4        s   \n",
       "\n",
       "   year  month month_year        date  \n",
       "0  2005      1    2005-01  2005-01-17  \n",
       "1  2005      2    2005-02  2005-02-12  \n",
       "2  2005      3    2005-03  2005-03-14  \n",
       "3  2005      4    2005-04  2005-04-08  \n",
       "4  2005      7    2005-07  2005-07-08  "
      ]
     },
     "execution_count": 10,
     "metadata": {},
     "output_type": "execute_result"
    }
   ],
   "source": [
    "df.head()"
   ]
  },
  {
   "cell_type": "code",
   "execution_count": 11,
   "metadata": {},
   "outputs": [],
   "source": [
    "def remove_string(data, regex):\n",
    "    return data.str.lower().str.replace(regex.lower(), ' ')\n",
    "\n",
    "def cleanDataset(dataset, columnsToClean, regexList):\n",
    "    for column in columnsToClean:\n",
    "        for regex in regexList:\n",
    "            dataset[column] = remove_string(dataset[column], regex)\n",
    "    return dataset\n",
    "\n",
    "def get_regex_list():\n",
    "    '''\n",
    "    add here expressions you want to filter out\n",
    "    '''\n",
    "    regexList = []\n",
    "    regexList += ['[^a-zA-z 0-9]+']\n",
    "    regexList += ['[0-9]']\n",
    "    regexList += ['https?:[^\\]\\n\\r]+']\n",
    "    regexList += ['http?:[^\\]\\n\\r]+']\n",
    "    regexList += ['co?:[^\\]\\n\\r]+']\n",
    "    regexList += [\"  \"]\n",
    "    regexList += ['http']\n",
    "    return regexList"
   ]
  },
  {
   "cell_type": "code",
   "execution_count": 12,
   "metadata": {},
   "outputs": [],
   "source": [
    "def preprocess(text):\n",
    "    result = []\n",
    "    for x in gensim.utils.simple_preprocess(text,min_len=3, max_len=13):\n",
    "        if x not in stopwords:\n",
    "            result.append(x)     \n",
    "    return result"
   ]
  },
  {
   "cell_type": "code",
   "execution_count": 13,
   "metadata": {},
   "outputs": [],
   "source": [
    "def get_lemma(word):\n",
    "    return WordNetLemmatizer().lemmatize(word)"
   ]
  },
  {
   "cell_type": "code",
   "execution_count": 14,
   "metadata": {},
   "outputs": [],
   "source": [
    "def prepare_text(tokens):\n",
    "    tokens = [get_lemma(token) for token in tokens]\n",
    "    return ' '.join(tokens)"
   ]
  },
  {
   "cell_type": "code",
   "execution_count": 15,
   "metadata": {},
   "outputs": [],
   "source": [
    "def sentimentScore(text):\n",
    "    analyzer = SentimentIntensityAnalyzer()\n",
    "    results = []\n",
    "    for sentence in text:\n",
    "        vs = analyzer.polarity_scores(sentence)\n",
    "        results.append(vs)\n",
    "    return results"
   ]
  },
  {
   "cell_type": "code",
   "execution_count": 16,
   "metadata": {},
   "outputs": [],
   "source": [
    "import time\n",
    "from sklearn.feature_extraction.text import CountVectorizer\n",
    "\n",
    "\n",
    "def count_vect_feature(feature, df, max_features=5000):\n",
    "    start_time = time.time()\n",
    "    cv = CountVectorizer(max_features=max_features,\n",
    "                             ngram_range=(1, 1),\n",
    "                             stop_words=stopwords)\n",
    "    X_feature = cv.fit_transform(df[feature])\n",
    "    print('Count Vectorizer `{}` completed in {} sec.'.format(feature, round(time.time() - start_time,2)))\n",
    "    return X_feature, cv"
   ]
  },
  {
   "cell_type": "code",
   "execution_count": 17,
   "metadata": {},
   "outputs": [
    {
     "name": "stdout",
     "output_type": "stream",
     "text": [
      "Count Vectorizer `Text` completed in 0.14 sec.\n"
     ]
    },
    {
     "name": "stderr",
     "output_type": "stream",
     "text": [
      "C:\\Users\\Zoe\\anaconda3\\lib\\site-packages\\sklearn\\feature_extraction\\text.py:396: UserWarning: Your stop_words may be inconsistent with your preprocessing. Tokenizing the stop words generated tokens ['printr'] not in stop_words.\n",
      "  warnings.warn(\n"
     ]
    }
   ],
   "source": [
    "X_text, cv = count_vect_feature('Text', df)"
   ]
  },
  {
   "cell_type": "code",
   "execution_count": 18,
   "metadata": {},
   "outputs": [
    {
     "name": "stderr",
     "output_type": "stream",
     "text": [
      "C:\\Users\\Zoe\\AppData\\Local\\Temp\\ipykernel_14684\\1815370050.py:2: FutureWarning: The default value of regex will change from True to False in a future version.\n",
      "  return data.str.lower().str.replace(regex.lower(), ' ')\n"
     ]
    }
   ],
   "source": [
    "regex_list = get_regex_list()\n",
    "x = cleanDataset(df, ['Text'],regex_list)\n"
   ]
  },
  {
   "cell_type": "code",
   "execution_count": 19,
   "metadata": {},
   "outputs": [
    {
     "data": {
      "text/plain": [
       "0      sedinta ianuarie consiliul administratie banci...\n",
       "1      sedinta februarie consiliul administratie banc...\n",
       "2      sedinta martie consiliul administratie bancii ...\n",
       "3      sedinta aprilie consiliul administratie bancii...\n",
       "4      sedinta iulie consiliul administratie bancii n...\n",
       "                             ...                        \n",
       "137    rata anuala inflatiei ajuns suta august margin...\n",
       "138    consiliul administratie bancii nationale roman...\n",
       "139    rata anuala inflatiei ajuns noiembrie suta niv...\n",
       "140    membri consiliului administra ncii ionale rom ...\n",
       "141    membri consiliului administra ncii ionale rom ...\n",
       "Name: prep_text, Length: 142, dtype: object"
      ]
     },
     "execution_count": 19,
     "metadata": {},
     "output_type": "execute_result"
    }
   ],
   "source": [
    "df['prep_text'] = x['Text'].apply(lambda y:preprocess(y))\n",
    "df['prep_text'] = df['prep_text'].apply(lambda y:prepare_text(y))\n",
    "df['prep_text']"
   ]
  },
  {
   "cell_type": "code",
   "execution_count": 20,
   "metadata": {},
   "outputs": [
    {
     "data": {
      "text/html": [
       "<div>\n",
       "<style scoped>\n",
       "    .dataframe tbody tr th:only-of-type {\n",
       "        vertical-align: middle;\n",
       "    }\n",
       "\n",
       "    .dataframe tbody tr th {\n",
       "        vertical-align: top;\n",
       "    }\n",
       "\n",
       "    .dataframe thead th {\n",
       "        text-align: right;\n",
       "    }\n",
       "</style>\n",
       "<table border=\"1\" class=\"dataframe\">\n",
       "  <thead>\n",
       "    <tr style=\"text-align: right;\">\n",
       "      <th></th>\n",
       "      <th>Data</th>\n",
       "      <th>Header</th>\n",
       "      <th>Text</th>\n",
       "      <th>RI</th>\n",
       "      <th>RID</th>\n",
       "      <th>Directie</th>\n",
       "      <th>year</th>\n",
       "      <th>month</th>\n",
       "      <th>month_year</th>\n",
       "      <th>date</th>\n",
       "      <th>prep_text</th>\n",
       "    </tr>\n",
       "  </thead>\n",
       "  <tbody>\n",
       "    <tr>\n",
       "      <th>0</th>\n",
       "      <td>2005-01-17</td>\n",
       "      <td>Consiliul de administratie al BNR a hotarat re...</td>\n",
       "      <td>in sedinta sa din    ianuarie    consiliul de ...</td>\n",
       "      <td>8.9</td>\n",
       "      <td>-0.4</td>\n",
       "      <td>s</td>\n",
       "      <td>2005</td>\n",
       "      <td>1</td>\n",
       "      <td>2005-01</td>\n",
       "      <td>2005-01-17</td>\n",
       "      <td>sedinta ianuarie consiliul administratie banci...</td>\n",
       "    </tr>\n",
       "    <tr>\n",
       "      <th>1</th>\n",
       "      <td>2005-02-12</td>\n",
       "      <td>Consiliul de Administratie al Bancii Nationale...</td>\n",
       "      <td>in sedinta din  februarie    consiliul de admi...</td>\n",
       "      <td>8.7</td>\n",
       "      <td>-0.2</td>\n",
       "      <td>s</td>\n",
       "      <td>2005</td>\n",
       "      <td>2</td>\n",
       "      <td>2005-02</td>\n",
       "      <td>2005-02-12</td>\n",
       "      <td>sedinta februarie consiliul administratie banc...</td>\n",
       "    </tr>\n",
       "    <tr>\n",
       "      <th>2</th>\n",
       "      <td>2005-03-14</td>\n",
       "      <td>Consiliul de Administratie al Bancii Nationale...</td>\n",
       "      <td>in sedinta din  martie    consiliul de adminis...</td>\n",
       "      <td>10.0</td>\n",
       "      <td>1.3</td>\n",
       "      <td>c</td>\n",
       "      <td>2005</td>\n",
       "      <td>3</td>\n",
       "      <td>2005-03</td>\n",
       "      <td>2005-03-14</td>\n",
       "      <td>sedinta martie consiliul administratie bancii ...</td>\n",
       "    </tr>\n",
       "    <tr>\n",
       "      <th>3</th>\n",
       "      <td>2005-04-08</td>\n",
       "      <td>NaN</td>\n",
       "      <td>in sedinta sa din  aprilie    consiliul de adm...</td>\n",
       "      <td>9.3</td>\n",
       "      <td>-0.7</td>\n",
       "      <td>s</td>\n",
       "      <td>2005</td>\n",
       "      <td>4</td>\n",
       "      <td>2005-04</td>\n",
       "      <td>2005-04-08</td>\n",
       "      <td>sedinta aprilie consiliul administratie bancii...</td>\n",
       "    </tr>\n",
       "    <tr>\n",
       "      <th>4</th>\n",
       "      <td>2005-07-08</td>\n",
       "      <td>Consiliul de Administratie al Bancii Nationale...</td>\n",
       "      <td>in sedinta din  iulie    consiliul de administ...</td>\n",
       "      <td>8.9</td>\n",
       "      <td>-0.4</td>\n",
       "      <td>s</td>\n",
       "      <td>2005</td>\n",
       "      <td>7</td>\n",
       "      <td>2005-07</td>\n",
       "      <td>2005-07-08</td>\n",
       "      <td>sedinta iulie consiliul administratie bancii n...</td>\n",
       "    </tr>\n",
       "  </tbody>\n",
       "</table>\n",
       "</div>"
      ],
      "text/plain": [
       "        Data                                             Header  \\\n",
       "0 2005-01-17  Consiliul de administratie al BNR a hotarat re...   \n",
       "1 2005-02-12  Consiliul de Administratie al Bancii Nationale...   \n",
       "2 2005-03-14  Consiliul de Administratie al Bancii Nationale...   \n",
       "3 2005-04-08                                                NaN   \n",
       "4 2005-07-08  Consiliul de Administratie al Bancii Nationale...   \n",
       "\n",
       "                                                Text    RI  RID Directie  \\\n",
       "0  in sedinta sa din    ianuarie    consiliul de ...   8.9 -0.4        s   \n",
       "1  in sedinta din  februarie    consiliul de admi...   8.7 -0.2        s   \n",
       "2  in sedinta din  martie    consiliul de adminis...  10.0  1.3        c   \n",
       "3  in sedinta sa din  aprilie    consiliul de adm...   9.3 -0.7        s   \n",
       "4  in sedinta din  iulie    consiliul de administ...   8.9 -0.4        s   \n",
       "\n",
       "   year  month month_year        date  \\\n",
       "0  2005      1    2005-01  2005-01-17   \n",
       "1  2005      2    2005-02  2005-02-12   \n",
       "2  2005      3    2005-03  2005-03-14   \n",
       "3  2005      4    2005-04  2005-04-08   \n",
       "4  2005      7    2005-07  2005-07-08   \n",
       "\n",
       "                                           prep_text  \n",
       "0  sedinta ianuarie consiliul administratie banci...  \n",
       "1  sedinta februarie consiliul administratie banc...  \n",
       "2  sedinta martie consiliul administratie bancii ...  \n",
       "3  sedinta aprilie consiliul administratie bancii...  \n",
       "4  sedinta iulie consiliul administratie bancii n...  "
      ]
     },
     "execution_count": 20,
     "metadata": {},
     "output_type": "execute_result"
    }
   ],
   "source": [
    "df.head()"
   ]
  },
  {
   "cell_type": "code",
   "execution_count": 21,
   "metadata": {},
   "outputs": [],
   "source": [
    "def sentimentScore(text):\n",
    "    analyzer = SentimentIntensityAnalyzer()\n",
    "    results = []\n",
    "    for sentence in text:\n",
    "        vs = analyzer.polarity_scores(sentence)\n",
    "        results.append(vs)\n",
    "    return results"
   ]
  },
  {
   "cell_type": "code",
   "execution_count": 22,
   "metadata": {},
   "outputs": [],
   "source": [
    "df_results = pd.DataFrame(sentimentScore(df['prep_text']))\n",
    "df=pd.merge(df, df_results, left_index=True, right_index=True)\n",
    "df.set_index('month_year', inplace=True)"
   ]
  },
  {
   "cell_type": "code",
   "execution_count": 23,
   "metadata": {},
   "outputs": [],
   "source": [
    "df['polarity']=(df.pos-df.neg)/(df.pos+df.neg)"
   ]
  },
  {
   "cell_type": "code",
   "execution_count": 24,
   "metadata": {},
   "outputs": [],
   "source": [
    "#df.index = pd.to_datetime(df.index)\n",
    "sentiment=df['compound']#.resample(\"M\").mean()\n",
    "polarity=df['polarity']#.resample(\"M\").mean()"
   ]
  },
  {
   "cell_type": "code",
   "execution_count": 25,
   "metadata": {},
   "outputs": [],
   "source": [
    "df = df.fillna(0)"
   ]
  },
  {
   "cell_type": "code",
   "execution_count": 26,
   "metadata": {},
   "outputs": [
    {
     "data": {
      "text/html": [
       "<div>\n",
       "<style scoped>\n",
       "    .dataframe tbody tr th:only-of-type {\n",
       "        vertical-align: middle;\n",
       "    }\n",
       "\n",
       "    .dataframe tbody tr th {\n",
       "        vertical-align: top;\n",
       "    }\n",
       "\n",
       "    .dataframe thead th {\n",
       "        text-align: right;\n",
       "    }\n",
       "</style>\n",
       "<table border=\"1\" class=\"dataframe\">\n",
       "  <thead>\n",
       "    <tr style=\"text-align: right;\">\n",
       "      <th></th>\n",
       "      <th>Data</th>\n",
       "      <th>Header</th>\n",
       "      <th>Text</th>\n",
       "      <th>RI</th>\n",
       "      <th>RID</th>\n",
       "      <th>Directie</th>\n",
       "      <th>year</th>\n",
       "      <th>month</th>\n",
       "      <th>date</th>\n",
       "      <th>prep_text</th>\n",
       "      <th>neg</th>\n",
       "      <th>neu</th>\n",
       "      <th>pos</th>\n",
       "      <th>compound</th>\n",
       "      <th>polarity</th>\n",
       "    </tr>\n",
       "    <tr>\n",
       "      <th>month_year</th>\n",
       "      <th></th>\n",
       "      <th></th>\n",
       "      <th></th>\n",
       "      <th></th>\n",
       "      <th></th>\n",
       "      <th></th>\n",
       "      <th></th>\n",
       "      <th></th>\n",
       "      <th></th>\n",
       "      <th></th>\n",
       "      <th></th>\n",
       "      <th></th>\n",
       "      <th></th>\n",
       "      <th></th>\n",
       "      <th></th>\n",
       "    </tr>\n",
       "  </thead>\n",
       "  <tbody>\n",
       "    <tr>\n",
       "      <th>2005-01</th>\n",
       "      <td>2005-01-17</td>\n",
       "      <td>Consiliul de administratie al BNR a hotarat re...</td>\n",
       "      <td>in sedinta sa din    ianuarie    consiliul de ...</td>\n",
       "      <td>8.9</td>\n",
       "      <td>-0.4</td>\n",
       "      <td>s</td>\n",
       "      <td>2005</td>\n",
       "      <td>1</td>\n",
       "      <td>2005-01-17</td>\n",
       "      <td>sedinta ianuarie consiliul administratie banci...</td>\n",
       "      <td>0.000</td>\n",
       "      <td>0.986</td>\n",
       "      <td>0.014</td>\n",
       "      <td>0.3818</td>\n",
       "      <td>1.000000</td>\n",
       "    </tr>\n",
       "    <tr>\n",
       "      <th>2005-02</th>\n",
       "      <td>2005-02-12</td>\n",
       "      <td>Consiliul de Administratie al Bancii Nationale...</td>\n",
       "      <td>in sedinta din  februarie    consiliul de admi...</td>\n",
       "      <td>8.7</td>\n",
       "      <td>-0.2</td>\n",
       "      <td>s</td>\n",
       "      <td>2005</td>\n",
       "      <td>2</td>\n",
       "      <td>2005-02-12</td>\n",
       "      <td>sedinta februarie consiliul administratie banc...</td>\n",
       "      <td>0.006</td>\n",
       "      <td>0.979</td>\n",
       "      <td>0.015</td>\n",
       "      <td>0.5106</td>\n",
       "      <td>0.428571</td>\n",
       "    </tr>\n",
       "    <tr>\n",
       "      <th>2005-03</th>\n",
       "      <td>2005-03-14</td>\n",
       "      <td>Consiliul de Administratie al Bancii Nationale...</td>\n",
       "      <td>in sedinta din  martie    consiliul de adminis...</td>\n",
       "      <td>10.0</td>\n",
       "      <td>1.3</td>\n",
       "      <td>c</td>\n",
       "      <td>2005</td>\n",
       "      <td>3</td>\n",
       "      <td>2005-03-14</td>\n",
       "      <td>sedinta martie consiliul administratie bancii ...</td>\n",
       "      <td>0.010</td>\n",
       "      <td>0.970</td>\n",
       "      <td>0.020</td>\n",
       "      <td>0.4215</td>\n",
       "      <td>0.333333</td>\n",
       "    </tr>\n",
       "    <tr>\n",
       "      <th>2005-04</th>\n",
       "      <td>2005-04-08</td>\n",
       "      <td>0</td>\n",
       "      <td>in sedinta sa din  aprilie    consiliul de adm...</td>\n",
       "      <td>9.3</td>\n",
       "      <td>-0.7</td>\n",
       "      <td>s</td>\n",
       "      <td>2005</td>\n",
       "      <td>4</td>\n",
       "      <td>2005-04-08</td>\n",
       "      <td>sedinta aprilie consiliul administratie bancii...</td>\n",
       "      <td>0.000</td>\n",
       "      <td>0.982</td>\n",
       "      <td>0.018</td>\n",
       "      <td>0.6124</td>\n",
       "      <td>1.000000</td>\n",
       "    </tr>\n",
       "    <tr>\n",
       "      <th>2005-07</th>\n",
       "      <td>2005-07-08</td>\n",
       "      <td>Consiliul de Administratie al Bancii Nationale...</td>\n",
       "      <td>in sedinta din  iulie    consiliul de administ...</td>\n",
       "      <td>8.9</td>\n",
       "      <td>-0.4</td>\n",
       "      <td>s</td>\n",
       "      <td>2005</td>\n",
       "      <td>7</td>\n",
       "      <td>2005-07-08</td>\n",
       "      <td>sedinta iulie consiliul administratie bancii n...</td>\n",
       "      <td>0.002</td>\n",
       "      <td>0.966</td>\n",
       "      <td>0.032</td>\n",
       "      <td>0.9313</td>\n",
       "      <td>0.882353</td>\n",
       "    </tr>\n",
       "  </tbody>\n",
       "</table>\n",
       "</div>"
      ],
      "text/plain": [
       "                 Data                                             Header  \\\n",
       "month_year                                                                 \n",
       "2005-01    2005-01-17  Consiliul de administratie al BNR a hotarat re...   \n",
       "2005-02    2005-02-12  Consiliul de Administratie al Bancii Nationale...   \n",
       "2005-03    2005-03-14  Consiliul de Administratie al Bancii Nationale...   \n",
       "2005-04    2005-04-08                                                  0   \n",
       "2005-07    2005-07-08  Consiliul de Administratie al Bancii Nationale...   \n",
       "\n",
       "                                                         Text    RI  RID  \\\n",
       "month_year                                                                 \n",
       "2005-01     in sedinta sa din    ianuarie    consiliul de ...   8.9 -0.4   \n",
       "2005-02     in sedinta din  februarie    consiliul de admi...   8.7 -0.2   \n",
       "2005-03     in sedinta din  martie    consiliul de adminis...  10.0  1.3   \n",
       "2005-04     in sedinta sa din  aprilie    consiliul de adm...   9.3 -0.7   \n",
       "2005-07     in sedinta din  iulie    consiliul de administ...   8.9 -0.4   \n",
       "\n",
       "           Directie  year  month        date  \\\n",
       "month_year                                     \n",
       "2005-01           s  2005      1  2005-01-17   \n",
       "2005-02           s  2005      2  2005-02-12   \n",
       "2005-03           c  2005      3  2005-03-14   \n",
       "2005-04           s  2005      4  2005-04-08   \n",
       "2005-07           s  2005      7  2005-07-08   \n",
       "\n",
       "                                                    prep_text    neg    neu  \\\n",
       "month_year                                                                    \n",
       "2005-01     sedinta ianuarie consiliul administratie banci...  0.000  0.986   \n",
       "2005-02     sedinta februarie consiliul administratie banc...  0.006  0.979   \n",
       "2005-03     sedinta martie consiliul administratie bancii ...  0.010  0.970   \n",
       "2005-04     sedinta aprilie consiliul administratie bancii...  0.000  0.982   \n",
       "2005-07     sedinta iulie consiliul administratie bancii n...  0.002  0.966   \n",
       "\n",
       "              pos  compound  polarity  \n",
       "month_year                             \n",
       "2005-01     0.014    0.3818  1.000000  \n",
       "2005-02     0.015    0.5106  0.428571  \n",
       "2005-03     0.020    0.4215  0.333333  \n",
       "2005-04     0.018    0.6124  1.000000  \n",
       "2005-07     0.032    0.9313  0.882353  "
      ]
     },
     "execution_count": 26,
     "metadata": {},
     "output_type": "execute_result"
    }
   ],
   "source": [
    "df.head()"
   ]
  },
  {
   "cell_type": "code",
   "execution_count": 27,
   "metadata": {},
   "outputs": [],
   "source": [
    "%matplotlib inline\n",
    "import matplotlib as mpl\n",
    "import matplotlib.pyplot as plt\n",
    "import numpy as np\n",
    "import pandas as pd\n",
    "import seaborn as sns\n",
    "import os\n",
    "from sklearn.model_selection import train_test_split\n",
    "from sklearn.neighbors import KNeighborsClassifier\n",
    "from sklearn.linear_model import LogisticRegression\n",
    "from sklearn.svm import SVC\n",
    "from sklearn.naive_bayes import MultinomialNB\n",
    "from sklearn.preprocessing import MinMaxScaler\n",
    "from sklearn import tree\n",
    "import pydotplus\n",
    "from six import StringIO  \n",
    "from IPython.display import Image\n",
    "from sklearn.ensemble import RandomForestClassifier \n",
    "from sklearn.model_selection import cross_val_score\n",
    "import xlsxwriter\n",
    "import os"
   ]
  },
  {
   "cell_type": "code",
   "execution_count": 28,
   "metadata": {},
   "outputs": [
    {
     "data": {
      "image/png": "[encoded data removed]",
      "text/plain": [
       "<Figure size 1600x400 with 1 Axes>"
      ]
     },
     "metadata": {},
     "output_type": "display_data"
    }
   ],
   "source": [
    "fig_size = plt.rcParams[\"figure.figsize\"]\n",
    "fig_size[0] =16.0\n",
    "fig_size[1] = 4.0\n",
    "x = df['compound'] \n",
    "plt.hist(x,  bins=250)\n",
    "plt.ylabel('Compound'); "
   ]
  },
  {
   "cell_type": "code",
   "execution_count": 103,
   "metadata": {},
   "outputs": [],
   "source": [
    "x = np.array(df[['compound']]) #\n",
    "y = np.array(df['Directie'])\n",
    "\n",
    "# from sklearn.model_selection import train_test_split\n",
    "\n",
    "x_train, x_test, y_train, y_test = train_test_split(x, y, test_size = 0.2, random_state = 42)"
   ]
  },
  {
   "cell_type": "markdown",
   "metadata": {},
   "source": [
    "### KNN - K-Nearest-Neighbors"
   ]
  },
  {
   "cell_type": "code",
   "execution_count": 104,
   "metadata": {},
   "outputs": [
    {
     "data": {
      "text/plain": [
       "array(['s', 'c', 'c', 's', 's', 's', 'c', 's', 's', 'c', 's', 'c', 'c',\n",
       "       's', 's', 's', 's', 'c', 'c', 's', 'c', 's', 's', 'c', 'c', 'c',\n",
       "       's', 'c', 's', 'c', 'c', 'c', 's', 'c', 'c', 'c', 's', 'c', 's',\n",
       "       'c', 'c', 'c', 's', 's', 'c', 'c', 'c', 's', 's', 'c', 's', 'c',\n",
       "       's', 's', 's', 'c', 'c', 's', 's', 'c', 's', 's', 's', 'c', 's',\n",
       "       's', 'c', 'c', 'c', 'c', 's', 's', 'c', 's', 'c', 's', 's', 's',\n",
       "       'c', 'c', 'c', 'c', 'c', 'c', 's', 'c', 'c', 's', 's', 's', 'c',\n",
       "       'c', 's', 'c', 'c', 'c', 'c', 'c', 's', 's', 'c', 's', 's', 's',\n",
       "       'c', 's', 's', 'c', 's', 's', 's', 's', 'c'], dtype=object)"
      ]
     },
     "execution_count": 104,
     "metadata": {},
     "output_type": "execute_result"
    }
   ],
   "source": [
    "y_train"
   ]
  },
  {
   "cell_type": "code",
   "execution_count": 30,
   "metadata": {},
   "outputs": [
    {
     "name": "stderr",
     "output_type": "stream",
     "text": [
      "C:\\Users\\Zoe\\anaconda3\\lib\\site-packages\\sklearn\\neighbors\\_classification.py:228: FutureWarning: Unlike other reduction functions (e.g. `skew`, `kurtosis`), the default behavior of `mode` typically preserves the axis it acts along. In SciPy 1.11.0, this behavior will change: the default value of `keepdims` will become False, the `axis` over which the statistic is taken will be eliminated, and the value None will no longer be accepted. Set `keepdims` to True or False to avoid this warning.\n",
      "  mode, _ = stats.mode(_y[neigh_ind, k], axis=1)\n"
     ]
    },
    {
     "data": {
      "text/plain": [
       "0.5172413793103449"
      ]
     },
     "execution_count": 30,
     "metadata": {},
     "output_type": "execute_result"
    }
   ],
   "source": [
    "from sklearn.neighbors import KNeighborsClassifier\n",
    "from sklearn.model_selection import cross_val_score\n",
    "\n",
    "neigh = KNeighborsClassifier(n_neighbors=5)\n",
    "neigh.fit(x_train, y_train) \n",
    "neigh.score( x_test, y_test)"
   ]
  },
  {
   "cell_type": "code",
   "execution_count": 31,
   "metadata": {},
   "outputs": [
    {
     "name": "stderr",
     "output_type": "stream",
     "text": [
      "C:\\Users\\Zoe\\anaconda3\\lib\\site-packages\\sklearn\\neighbors\\_classification.py:228: FutureWarning: Unlike other reduction functions (e.g. `skew`, `kurtosis`), the default behavior of `mode` typically preserves the axis it acts along. In SciPy 1.11.0, this behavior will change: the default value of `keepdims` will become False, the `axis` over which the statistic is taken will be eliminated, and the value None will no longer be accepted. Set `keepdims` to True or False to avoid this warning.\n",
      "  mode, _ = stats.mode(_y[neigh_ind, k], axis=1)\n"
     ]
    },
    {
     "data": {
      "text/plain": [
       "0.6991150442477876"
      ]
     },
     "execution_count": 31,
     "metadata": {},
     "output_type": "execute_result"
    }
   ],
   "source": [
    "neigh.score(x_train, y_train)"
   ]
  },
  {
   "cell_type": "code",
   "execution_count": 32,
   "metadata": {},
   "outputs": [],
   "source": [
    "import numpy as np\n",
    "import matplotlib.pyplot as plt\n",
    "import seaborn as sns\n",
    "from sklearn.metrics import confusion_matrix"
   ]
  },
  {
   "cell_type": "code",
   "execution_count": 33,
   "metadata": {},
   "outputs": [],
   "source": [
    "def plot_confusion_matrix(y_true, y_pred, labels):\n",
    "    cm = confusion_matrix(y_true, y_pred, labels=labels)\n",
    "    plt.figure(figsize=(8, 6))\n",
    "    sns.heatmap(cm, annot=True, fmt=\"d\", cmap=\"Blues\", xticklabels=labels, yticklabels=labels)\n",
    "    plt.xlabel('Predicted')\n",
    "    plt.ylabel('True')\n",
    "    plt.show()"
   ]
  },
  {
   "cell_type": "code",
   "execution_count": 102,
   "metadata": {},
   "outputs": [],
   "source": [
    "labels = ['c', 's'] "
   ]
  },
  {
   "cell_type": "code",
   "execution_count": 36,
   "metadata": {},
   "outputs": [
    {
     "name": "stderr",
     "output_type": "stream",
     "text": [
      "C:\\Users\\Zoe\\anaconda3\\lib\\site-packages\\sklearn\\neighbors\\_classification.py:228: FutureWarning: Unlike other reduction functions (e.g. `skew`, `kurtosis`), the default behavior of `mode` typically preserves the axis it acts along. In SciPy 1.11.0, this behavior will change: the default value of `keepdims` will become False, the `axis` over which the statistic is taken will be eliminated, and the value None will no longer be accepted. Set `keepdims` to True or False to avoid this warning.\n",
      "  mode, _ = stats.mode(_y[neigh_ind, k], axis=1)\n"
     ]
    }
   ],
   "source": [
    "y_pred = neigh.predict(x_train)"
   ]
  },
  {
   "cell_type": "code",
   "execution_count": 37,
   "metadata": {},
   "outputs": [
    {
     "data": {
      "image/png": "[encoded data removed]",
      "text/plain": [
       "<Figure size 800x600 with 2 Axes>"
      ]
     },
     "metadata": {},
     "output_type": "display_data"
    }
   ],
   "source": [
    "plot_confusion_matrix(y_train, y_pred, labels)"
   ]
  },
  {
   "cell_type": "code",
   "execution_count": 38,
   "metadata": {},
   "outputs": [
    {
     "name": "stderr",
     "output_type": "stream",
     "text": [
      "C:\\Users\\Zoe\\anaconda3\\lib\\site-packages\\sklearn\\neighbors\\_classification.py:228: FutureWarning: Unlike other reduction functions (e.g. `skew`, `kurtosis`), the default behavior of `mode` typically preserves the axis it acts along. In SciPy 1.11.0, this behavior will change: the default value of `keepdims` will become False, the `axis` over which the statistic is taken will be eliminated, and the value None will no longer be accepted. Set `keepdims` to True or False to avoid this warning.\n",
      "  mode, _ = stats.mode(_y[neigh_ind, k], axis=1)\n"
     ]
    }
   ],
   "source": [
    "y_pred = neigh.predict(x_test)"
   ]
  },
  {
   "cell_type": "code",
   "execution_count": 39,
   "metadata": {},
   "outputs": [
    {
     "data": {
      "image/png": "[encoded data removed]",
      "text/plain": [
       "<Figure size 800x600 with 2 Axes>"
      ]
     },
     "metadata": {},
     "output_type": "display_data"
    }
   ],
   "source": [
    "plot_confusion_matrix(y_test, y_pred, labels)"
   ]
  },
  {
   "cell_type": "code",
   "execution_count": 40,
   "metadata": {},
   "outputs": [
    {
     "name": "stdout",
     "output_type": "stream",
     "text": [
      "0.47727272727272724\n"
     ]
    },
    {
     "name": "stderr",
     "output_type": "stream",
     "text": [
      "C:\\Users\\Zoe\\anaconda3\\lib\\site-packages\\sklearn\\neighbors\\_classification.py:228: FutureWarning: Unlike other reduction functions (e.g. `skew`, `kurtosis`), the default behavior of `mode` typically preserves the axis it acts along. In SciPy 1.11.0, this behavior will change: the default value of `keepdims` will become False, the `axis` over which the statistic is taken will be eliminated, and the value None will no longer be accepted. Set `keepdims` to True or False to avoid this warning.\n",
      "  mode, _ = stats.mode(_y[neigh_ind, k], axis=1)\n",
      "C:\\Users\\Zoe\\anaconda3\\lib\\site-packages\\sklearn\\neighbors\\_classification.py:228: FutureWarning: Unlike other reduction functions (e.g. `skew`, `kurtosis`), the default behavior of `mode` typically preserves the axis it acts along. In SciPy 1.11.0, this behavior will change: the default value of `keepdims` will become False, the `axis` over which the statistic is taken will be eliminated, and the value None will no longer be accepted. Set `keepdims` to True or False to avoid this warning.\n",
      "  mode, _ = stats.mode(_y[neigh_ind, k], axis=1)\n",
      "C:\\Users\\Zoe\\anaconda3\\lib\\site-packages\\sklearn\\neighbors\\_classification.py:228: FutureWarning: Unlike other reduction functions (e.g. `skew`, `kurtosis`), the default behavior of `mode` typically preserves the axis it acts along. In SciPy 1.11.0, this behavior will change: the default value of `keepdims` will become False, the `axis` over which the statistic is taken will be eliminated, and the value None will no longer be accepted. Set `keepdims` to True or False to avoid this warning.\n",
      "  mode, _ = stats.mode(_y[neigh_ind, k], axis=1)\n",
      "C:\\Users\\Zoe\\anaconda3\\lib\\site-packages\\sklearn\\neighbors\\_classification.py:228: FutureWarning: Unlike other reduction functions (e.g. `skew`, `kurtosis`), the default behavior of `mode` typically preserves the axis it acts along. In SciPy 1.11.0, this behavior will change: the default value of `keepdims` will become False, the `axis` over which the statistic is taken will be eliminated, and the value None will no longer be accepted. Set `keepdims` to True or False to avoid this warning.\n",
      "  mode, _ = stats.mode(_y[neigh_ind, k], axis=1)\n",
      "C:\\Users\\Zoe\\anaconda3\\lib\\site-packages\\sklearn\\neighbors\\_classification.py:228: FutureWarning: Unlike other reduction functions (e.g. `skew`, `kurtosis`), the default behavior of `mode` typically preserves the axis it acts along. In SciPy 1.11.0, this behavior will change: the default value of `keepdims` will become False, the `axis` over which the statistic is taken will be eliminated, and the value None will no longer be accepted. Set `keepdims` to True or False to avoid this warning.\n",
      "  mode, _ = stats.mode(_y[neigh_ind, k], axis=1)\n",
      "C:\\Users\\Zoe\\anaconda3\\lib\\site-packages\\sklearn\\neighbors\\_classification.py:228: FutureWarning: Unlike other reduction functions (e.g. `skew`, `kurtosis`), the default behavior of `mode` typically preserves the axis it acts along. In SciPy 1.11.0, this behavior will change: the default value of `keepdims` will become False, the `axis` over which the statistic is taken will be eliminated, and the value None will no longer be accepted. Set `keepdims` to True or False to avoid this warning.\n",
      "  mode, _ = stats.mode(_y[neigh_ind, k], axis=1)\n",
      "C:\\Users\\Zoe\\anaconda3\\lib\\site-packages\\sklearn\\neighbors\\_classification.py:228: FutureWarning: Unlike other reduction functions (e.g. `skew`, `kurtosis`), the default behavior of `mode` typically preserves the axis it acts along. In SciPy 1.11.0, this behavior will change: the default value of `keepdims` will become False, the `axis` over which the statistic is taken will be eliminated, and the value None will no longer be accepted. Set `keepdims` to True or False to avoid this warning.\n",
      "  mode, _ = stats.mode(_y[neigh_ind, k], axis=1)\n",
      "C:\\Users\\Zoe\\anaconda3\\lib\\site-packages\\sklearn\\neighbors\\_classification.py:228: FutureWarning: Unlike other reduction functions (e.g. `skew`, `kurtosis`), the default behavior of `mode` typically preserves the axis it acts along. In SciPy 1.11.0, this behavior will change: the default value of `keepdims` will become False, the `axis` over which the statistic is taken will be eliminated, and the value None will no longer be accepted. Set `keepdims` to True or False to avoid this warning.\n",
      "  mode, _ = stats.mode(_y[neigh_ind, k], axis=1)\n",
      "C:\\Users\\Zoe\\anaconda3\\lib\\site-packages\\sklearn\\neighbors\\_classification.py:228: FutureWarning: Unlike other reduction functions (e.g. `skew`, `kurtosis`), the default behavior of `mode` typically preserves the axis it acts along. In SciPy 1.11.0, this behavior will change: the default value of `keepdims` will become False, the `axis` over which the statistic is taken will be eliminated, and the value None will no longer be accepted. Set `keepdims` to True or False to avoid this warning.\n",
      "  mode, _ = stats.mode(_y[neigh_ind, k], axis=1)\n",
      "C:\\Users\\Zoe\\anaconda3\\lib\\site-packages\\sklearn\\neighbors\\_classification.py:228: FutureWarning: Unlike other reduction functions (e.g. `skew`, `kurtosis`), the default behavior of `mode` typically preserves the axis it acts along. In SciPy 1.11.0, this behavior will change: the default value of `keepdims` will become False, the `axis` over which the statistic is taken will be eliminated, and the value None will no longer be accepted. Set `keepdims` to True or False to avoid this warning.\n",
      "  mode, _ = stats.mode(_y[neigh_ind, k], axis=1)\n"
     ]
    }
   ],
   "source": [
    "neigh_cv = cross_val_score(neigh, x_train, y_train, cv=10) \n",
    "print(neigh_cv.mean()) "
   ]
  },
  {
   "cell_type": "code",
   "execution_count": 41,
   "metadata": {},
   "outputs": [
    {
     "name": "stdout",
     "output_type": "stream",
     "text": [
      "0.4333333333333333\n"
     ]
    },
    {
     "name": "stderr",
     "output_type": "stream",
     "text": [
      "C:\\Users\\Zoe\\anaconda3\\lib\\site-packages\\sklearn\\neighbors\\_classification.py:228: FutureWarning: Unlike other reduction functions (e.g. `skew`, `kurtosis`), the default behavior of `mode` typically preserves the axis it acts along. In SciPy 1.11.0, this behavior will change: the default value of `keepdims` will become False, the `axis` over which the statistic is taken will be eliminated, and the value None will no longer be accepted. Set `keepdims` to True or False to avoid this warning.\n",
      "  mode, _ = stats.mode(_y[neigh_ind, k], axis=1)\n",
      "C:\\Users\\Zoe\\anaconda3\\lib\\site-packages\\sklearn\\neighbors\\_classification.py:228: FutureWarning: Unlike other reduction functions (e.g. `skew`, `kurtosis`), the default behavior of `mode` typically preserves the axis it acts along. In SciPy 1.11.0, this behavior will change: the default value of `keepdims` will become False, the `axis` over which the statistic is taken will be eliminated, and the value None will no longer be accepted. Set `keepdims` to True or False to avoid this warning.\n",
      "  mode, _ = stats.mode(_y[neigh_ind, k], axis=1)\n",
      "C:\\Users\\Zoe\\anaconda3\\lib\\site-packages\\sklearn\\neighbors\\_classification.py:228: FutureWarning: Unlike other reduction functions (e.g. `skew`, `kurtosis`), the default behavior of `mode` typically preserves the axis it acts along. In SciPy 1.11.0, this behavior will change: the default value of `keepdims` will become False, the `axis` over which the statistic is taken will be eliminated, and the value None will no longer be accepted. Set `keepdims` to True or False to avoid this warning.\n",
      "  mode, _ = stats.mode(_y[neigh_ind, k], axis=1)\n",
      "C:\\Users\\Zoe\\anaconda3\\lib\\site-packages\\sklearn\\neighbors\\_classification.py:228: FutureWarning: Unlike other reduction functions (e.g. `skew`, `kurtosis`), the default behavior of `mode` typically preserves the axis it acts along. In SciPy 1.11.0, this behavior will change: the default value of `keepdims` will become False, the `axis` over which the statistic is taken will be eliminated, and the value None will no longer be accepted. Set `keepdims` to True or False to avoid this warning.\n",
      "  mode, _ = stats.mode(_y[neigh_ind, k], axis=1)\n",
      "C:\\Users\\Zoe\\anaconda3\\lib\\site-packages\\sklearn\\neighbors\\_classification.py:228: FutureWarning: Unlike other reduction functions (e.g. `skew`, `kurtosis`), the default behavior of `mode` typically preserves the axis it acts along. In SciPy 1.11.0, this behavior will change: the default value of `keepdims` will become False, the `axis` over which the statistic is taken will be eliminated, and the value None will no longer be accepted. Set `keepdims` to True or False to avoid this warning.\n",
      "  mode, _ = stats.mode(_y[neigh_ind, k], axis=1)\n",
      "C:\\Users\\Zoe\\anaconda3\\lib\\site-packages\\sklearn\\neighbors\\_classification.py:228: FutureWarning: Unlike other reduction functions (e.g. `skew`, `kurtosis`), the default behavior of `mode` typically preserves the axis it acts along. In SciPy 1.11.0, this behavior will change: the default value of `keepdims` will become False, the `axis` over which the statistic is taken will be eliminated, and the value None will no longer be accepted. Set `keepdims` to True or False to avoid this warning.\n",
      "  mode, _ = stats.mode(_y[neigh_ind, k], axis=1)\n",
      "C:\\Users\\Zoe\\anaconda3\\lib\\site-packages\\sklearn\\neighbors\\_classification.py:228: FutureWarning: Unlike other reduction functions (e.g. `skew`, `kurtosis`), the default behavior of `mode` typically preserves the axis it acts along. In SciPy 1.11.0, this behavior will change: the default value of `keepdims` will become False, the `axis` over which the statistic is taken will be eliminated, and the value None will no longer be accepted. Set `keepdims` to True or False to avoid this warning.\n",
      "  mode, _ = stats.mode(_y[neigh_ind, k], axis=1)\n",
      "C:\\Users\\Zoe\\anaconda3\\lib\\site-packages\\sklearn\\neighbors\\_classification.py:228: FutureWarning: Unlike other reduction functions (e.g. `skew`, `kurtosis`), the default behavior of `mode` typically preserves the axis it acts along. In SciPy 1.11.0, this behavior will change: the default value of `keepdims` will become False, the `axis` over which the statistic is taken will be eliminated, and the value None will no longer be accepted. Set `keepdims` to True or False to avoid this warning.\n",
      "  mode, _ = stats.mode(_y[neigh_ind, k], axis=1)\n",
      "C:\\Users\\Zoe\\anaconda3\\lib\\site-packages\\sklearn\\neighbors\\_classification.py:228: FutureWarning: Unlike other reduction functions (e.g. `skew`, `kurtosis`), the default behavior of `mode` typically preserves the axis it acts along. In SciPy 1.11.0, this behavior will change: the default value of `keepdims` will become False, the `axis` over which the statistic is taken will be eliminated, and the value None will no longer be accepted. Set `keepdims` to True or False to avoid this warning.\n",
      "  mode, _ = stats.mode(_y[neigh_ind, k], axis=1)\n",
      "C:\\Users\\Zoe\\anaconda3\\lib\\site-packages\\sklearn\\neighbors\\_classification.py:228: FutureWarning: Unlike other reduction functions (e.g. `skew`, `kurtosis`), the default behavior of `mode` typically preserves the axis it acts along. In SciPy 1.11.0, this behavior will change: the default value of `keepdims` will become False, the `axis` over which the statistic is taken will be eliminated, and the value None will no longer be accepted. Set `keepdims` to True or False to avoid this warning.\n",
      "  mode, _ = stats.mode(_y[neigh_ind, k], axis=1)\n"
     ]
    }
   ],
   "source": [
    "neigh_cv = cross_val_score(neigh, x_test, y_test, cv=10) \n",
    "print(neigh_cv.mean()) "
   ]
  },
  {
   "cell_type": "markdown",
   "metadata": {},
   "source": [
    "Logistic Regression"
   ]
  },
  {
   "cell_type": "code",
   "execution_count": 42,
   "metadata": {},
   "outputs": [
    {
     "data": {
      "text/plain": [
       "0.6206896551724138"
      ]
     },
     "execution_count": 42,
     "metadata": {},
     "output_type": "execute_result"
    }
   ],
   "source": [
    "from sklearn.linear_model import LogisticRegression\n",
    "\n",
    "logreg = LogisticRegression(random_state=42)\n",
    "logreg.fit(x_train, y_train)\n",
    "logreg.score( x_test, y_test)"
   ]
  },
  {
   "cell_type": "code",
   "execution_count": 43,
   "metadata": {},
   "outputs": [
    {
     "data": {
      "text/plain": [
       "0.49557522123893805"
      ]
     },
     "execution_count": 43,
     "metadata": {},
     "output_type": "execute_result"
    }
   ],
   "source": [
    "logreg.score(x_train, y_train)"
   ]
  },
  {
   "cell_type": "code",
   "execution_count": 44,
   "metadata": {},
   "outputs": [],
   "source": [
    "y_pred = logreg.predict(x_train)"
   ]
  },
  {
   "cell_type": "code",
   "execution_count": 45,
   "metadata": {},
   "outputs": [
    {
     "data": {
      "image/png": "[encoded data removed]",
      "text/plain": [
       "<Figure size 800x600 with 2 Axes>"
      ]
     },
     "metadata": {},
     "output_type": "display_data"
    }
   ],
   "source": [
    "plot_confusion_matrix(y_train, y_pred, labels)"
   ]
  },
  {
   "cell_type": "code",
   "execution_count": 46,
   "metadata": {},
   "outputs": [],
   "source": [
    "y_pred = logreg.predict(x_test)"
   ]
  },
  {
   "cell_type": "code",
   "execution_count": 47,
   "metadata": {},
   "outputs": [
    {
     "data": {
      "image/png": "[encoded data removed]",
      "text/plain": [
       "<Figure size 800x600 with 2 Axes>"
      ]
     },
     "metadata": {},
     "output_type": "display_data"
    }
   ],
   "source": [
    "plot_confusion_matrix(y_test, y_pred, labels)"
   ]
  },
  {
   "cell_type": "code",
   "execution_count": 48,
   "metadata": {},
   "outputs": [
    {
     "name": "stdout",
     "output_type": "stream",
     "text": [
      "0.5022727272727273\n"
     ]
    }
   ],
   "source": [
    "logreg_cv = cross_val_score(logreg, x_train, y_train, cv=10)\n",
    "print(logreg_cv.mean())"
   ]
  },
  {
   "cell_type": "code",
   "execution_count": 49,
   "metadata": {},
   "outputs": [
    {
     "name": "stdout",
     "output_type": "stream",
     "text": [
      "0.65\n"
     ]
    }
   ],
   "source": [
    "logreg_cv = cross_val_score(logreg, x_test, y_test, cv=10)\n",
    "print(logreg_cv.mean())"
   ]
  },
  {
   "cell_type": "markdown",
   "metadata": {},
   "source": [
    "Support Vector Machines (SVM) with linear kernel"
   ]
  },
  {
   "cell_type": "code",
   "execution_count": 50,
   "metadata": {},
   "outputs": [
    {
     "data": {
      "text/plain": [
       "0.6551724137931034"
      ]
     },
     "execution_count": 50,
     "metadata": {},
     "output_type": "execute_result"
    }
   ],
   "source": [
    "from sklearn.svm import SVC\n",
    "\n",
    "svm_linear = SVC( kernel = 'linear')\n",
    "svm_linear.fit(x_train, y_train)\n",
    "svm_linear.score(x_test, y_test)"
   ]
  },
  {
   "cell_type": "code",
   "execution_count": 51,
   "metadata": {},
   "outputs": [
    {
     "data": {
      "text/plain": [
       "0.5398230088495575"
      ]
     },
     "execution_count": 51,
     "metadata": {},
     "output_type": "execute_result"
    }
   ],
   "source": [
    "svm_linear.score(x_train, y_train)"
   ]
  },
  {
   "cell_type": "code",
   "execution_count": 52,
   "metadata": {},
   "outputs": [],
   "source": [
    "y_pred_train = svm_linear.predict(x_train)\n",
    "y_pred_test = svm_linear.predict(x_test)"
   ]
  },
  {
   "cell_type": "code",
   "execution_count": 53,
   "metadata": {},
   "outputs": [
    {
     "data": {
      "image/png": "[encoded data removed]",
      "text/plain": [
       "<Figure size 800x600 with 2 Axes>"
      ]
     },
     "metadata": {},
     "output_type": "display_data"
    }
   ],
   "source": [
    "plot_confusion_matrix(y_test, y_pred_test, labels)"
   ]
  },
  {
   "cell_type": "code",
   "execution_count": 54,
   "metadata": {},
   "outputs": [
    {
     "data": {
      "image/png": "[encoded data removed]",
      "text/plain": [
       "<Figure size 800x600 with 2 Axes>"
      ]
     },
     "metadata": {},
     "output_type": "display_data"
    }
   ],
   "source": [
    "plot_confusion_matrix(y_train, y_pred_train, labels)"
   ]
  },
  {
   "cell_type": "code",
   "execution_count": 55,
   "metadata": {},
   "outputs": [
    {
     "name": "stdout",
     "output_type": "stream",
     "text": [
      "0.45984848484848484\n"
     ]
    }
   ],
   "source": [
    "svm_linear_cv = cross_val_score(svm_linear, x_train, y_train, cv=10)\n",
    "print(svm_linear_cv.mean())"
   ]
  },
  {
   "cell_type": "code",
   "execution_count": 56,
   "metadata": {},
   "outputs": [
    {
     "name": "stdout",
     "output_type": "stream",
     "text": [
      "0.65\n"
     ]
    }
   ],
   "source": [
    "svm_linear_cv = cross_val_score(svm_linear, x_test, y_test, cv=10)\n",
    "print(svm_linear_cv.mean())"
   ]
  },
  {
   "cell_type": "markdown",
   "metadata": {},
   "source": [
    "Naive Bayes"
   ]
  },
  {
   "cell_type": "code",
   "execution_count": 57,
   "metadata": {},
   "outputs": [
    {
     "data": {
      "text/plain": [
       "MultinomialNB()"
      ]
     },
     "execution_count": 57,
     "metadata": {},
     "output_type": "execute_result"
    }
   ],
   "source": [
    "from sklearn.naive_bayes import MultinomialNB\n",
    "\n",
    "from sklearn.preprocessing import MinMaxScaler\n",
    "scaler = MinMaxScaler() \n",
    "X_minmax = scaler.fit_transform(x_train)\n",
    "X_minmax_test = scaler.fit_transform(x_test)\n",
    "mnb = MultinomialNB()\n",
    "mnb.fit(X_minmax, y_train)"
   ]
  },
  {
   "cell_type": "code",
   "execution_count": 58,
   "metadata": {},
   "outputs": [
    {
     "data": {
      "text/plain": [
       "0.3448275862068966"
      ]
     },
     "execution_count": 58,
     "metadata": {},
     "output_type": "execute_result"
    }
   ],
   "source": [
    "mnb.score(X_minmax_test, y_test)"
   ]
  },
  {
   "cell_type": "code",
   "execution_count": 59,
   "metadata": {},
   "outputs": [
    {
     "data": {
      "text/plain": [
       "0.504424778761062"
      ]
     },
     "execution_count": 59,
     "metadata": {},
     "output_type": "execute_result"
    }
   ],
   "source": [
    "mnb.score(X_minmax, y_train)"
   ]
  },
  {
   "cell_type": "code",
   "execution_count": 60,
   "metadata": {},
   "outputs": [],
   "source": [
    "y_pred_train = mnb.predict(X_minmax)\n",
    "y_pred_test = mnb.predict(X_minmax_test)"
   ]
  },
  {
   "cell_type": "code",
   "execution_count": 61,
   "metadata": {},
   "outputs": [
    {
     "data": {
      "image/png": "[encoded data removed]",
      "text/plain": [
       "<Figure size 800x600 with 2 Axes>"
      ]
     },
     "metadata": {},
     "output_type": "display_data"
    }
   ],
   "source": [
    "plot_confusion_matrix(y_test, y_pred_test, labels)"
   ]
  },
  {
   "cell_type": "code",
   "execution_count": 62,
   "metadata": {},
   "outputs": [
    {
     "data": {
      "image/png": "[encoded data removed]",
      "text/plain": [
       "<Figure size 800x600 with 2 Axes>"
      ]
     },
     "metadata": {},
     "output_type": "display_data"
    }
   ],
   "source": [
    "plot_confusion_matrix(y_train, y_pred_train, labels)"
   ]
  },
  {
   "cell_type": "code",
   "execution_count": 63,
   "metadata": {},
   "outputs": [
    {
     "name": "stdout",
     "output_type": "stream",
     "text": [
      "0.5045454545454545\n"
     ]
    }
   ],
   "source": [
    "mnb_cv = cross_val_score(mnb, X_minmax, y_train, cv=10) \n",
    "print(mnb_cv.mean())"
   ]
  },
  {
   "cell_type": "code",
   "execution_count": 64,
   "metadata": {},
   "outputs": [
    {
     "name": "stdout",
     "output_type": "stream",
     "text": [
      "0.65\n"
     ]
    }
   ],
   "source": [
    "mnb_cv = cross_val_score(mnb, X_minmax_test, y_test, cv=10) \n",
    "print(mnb_cv.mean())"
   ]
  },
  {
   "cell_type": "markdown",
   "metadata": {},
   "source": [
    "Decision Tree"
   ]
  },
  {
   "cell_type": "code",
   "execution_count": 65,
   "metadata": {},
   "outputs": [
    {
     "data": {
      "text/plain": [
       "DecisionTreeClassifier(random_state=42)"
      ]
     },
     "execution_count": 65,
     "metadata": {},
     "output_type": "execute_result"
    }
   ],
   "source": [
    "from sklearn import tree\n",
    "dtc = tree.DecisionTreeClassifier(random_state=42)\n",
    "dtc.fit(x_train, y_train) \n",
    "dtc.score(x_test, y_test)\n",
    "dtc"
   ]
  },
  {
   "cell_type": "code",
   "execution_count": 66,
   "metadata": {},
   "outputs": [],
   "source": [
    "y_pred_train = dtc.predict(x_train)\n",
    "y_pred_test = dtc.predict(x_test)"
   ]
  },
  {
   "cell_type": "code",
   "execution_count": 67,
   "metadata": {},
   "outputs": [
    {
     "data": {
      "image/png": "[encoded data removed]",
      "text/plain": [
       "<Figure size 800x600 with 2 Axes>"
      ]
     },
     "metadata": {},
     "output_type": "display_data"
    }
   ],
   "source": [
    "plot_confusion_matrix(y_test, y_pred_test, labels)"
   ]
  },
  {
   "cell_type": "code",
   "execution_count": 68,
   "metadata": {},
   "outputs": [
    {
     "data": {
      "image/png": "[encoded data removed]",
      "text/plain": [
       "<Figure size 800x600 with 2 Axes>"
      ]
     },
     "metadata": {},
     "output_type": "display_data"
    }
   ],
   "source": [
    "plot_confusion_matrix(y_train, y_pred_train, labels)"
   ]
  },
  {
   "cell_type": "code",
   "execution_count": 69,
   "metadata": {},
   "outputs": [
    {
     "name": "stdout",
     "output_type": "stream",
     "text": [
      "0.5553030303030303\n"
     ]
    }
   ],
   "source": [
    "dtc_cv = cross_val_score(dtc, x_train, y_train, cv=10) \n",
    "print(dtc_cv.mean())"
   ]
  },
  {
   "cell_type": "code",
   "execution_count": 70,
   "metadata": {},
   "outputs": [
    {
     "name": "stdout",
     "output_type": "stream",
     "text": [
      "0.3333333333333333\n"
     ]
    }
   ],
   "source": [
    "dtc_cv = cross_val_score(dtc, x_test, y_test, cv=10) \n",
    "print(dtc_cv.mean())"
   ]
  },
  {
   "cell_type": "markdown",
   "metadata": {},
   "source": [
    "Random Forest"
   ]
  },
  {
   "cell_type": "code",
   "execution_count": 71,
   "metadata": {},
   "outputs": [
    {
     "data": {
      "text/plain": [
       "0.4482758620689655"
      ]
     },
     "execution_count": 71,
     "metadata": {},
     "output_type": "execute_result"
    }
   ],
   "source": [
    "forest_reg = RandomForestClassifier(random_state=42)\n",
    "forest_reg.fit(x_train, y_train)\n",
    "forest_reg.score(x_test, y_test)"
   ]
  },
  {
   "cell_type": "code",
   "execution_count": 72,
   "metadata": {},
   "outputs": [
    {
     "data": {
      "text/plain": [
       "0.8407079646017699"
      ]
     },
     "execution_count": 72,
     "metadata": {},
     "output_type": "execute_result"
    }
   ],
   "source": [
    "forest_reg.score(x_train, y_train)"
   ]
  },
  {
   "cell_type": "code",
   "execution_count": 73,
   "metadata": {},
   "outputs": [],
   "source": [
    "y_pred_train = forest_reg.predict(x_train)\n",
    "y_pred_test = forest_reg.predict(x_test)"
   ]
  },
  {
   "cell_type": "code",
   "execution_count": 74,
   "metadata": {},
   "outputs": [
    {
     "data": {
      "image/png": "[encoded data removed]",
      "text/plain": [
       "<Figure size 800x600 with 2 Axes>"
      ]
     },
     "metadata": {},
     "output_type": "display_data"
    }
   ],
   "source": [
    "plot_confusion_matrix(y_train, y_pred_train, labels)"
   ]
  },
  {
   "cell_type": "code",
   "execution_count": 75,
   "metadata": {},
   "outputs": [
    {
     "data": {
      "image/png": "[encoded data removed]",
      "text/plain": [
       "<Figure size 800x600 with 2 Axes>"
      ]
     },
     "metadata": {},
     "output_type": "display_data"
    }
   ],
   "source": [
    "plot_confusion_matrix(y_test, y_pred_test, labels)"
   ]
  },
  {
   "cell_type": "code",
   "execution_count": 76,
   "metadata": {},
   "outputs": [
    {
     "name": "stdout",
     "output_type": "stream",
     "text": [
      "0.546969696969697\n"
     ]
    }
   ],
   "source": [
    "forest_reg_cv = cross_val_score(forest_reg, x_train, y_train, cv=10) \n",
    "print(forest_reg_cv.mean())  "
   ]
  },
  {
   "cell_type": "code",
   "execution_count": 77,
   "metadata": {},
   "outputs": [
    {
     "name": "stdout",
     "output_type": "stream",
     "text": [
      "0.4\n"
     ]
    }
   ],
   "source": [
    "forest_reg_cv = cross_val_score(forest_reg, x_test, y_test, cv=10) \n",
    "print(forest_reg_cv.mean()) "
   ]
  },
  {
   "cell_type": "markdown",
   "metadata": {},
   "source": [
    "AdaBoostClassifier"
   ]
  },
  {
   "cell_type": "code",
   "execution_count": 78,
   "metadata": {},
   "outputs": [
    {
     "name": "stdout",
     "output_type": "stream",
     "text": [
      "Accuracy: 0.4482758620689655\n"
     ]
    }
   ],
   "source": [
    "from sklearn.ensemble import AdaBoostClassifier\n",
    "from sklearn.datasets import make_classification\n",
    "from sklearn.model_selection import train_test_split\n",
    "from sklearn.metrics import accuracy_score\n",
    "\n",
    "\n",
    "# Create an AdaBoost classifier\n",
    "adaboost = AdaBoostClassifier(n_estimators=50, random_state=42)\n",
    "\n",
    "# Train the classifier\n",
    "adaboost.fit(x_train, y_train)\n",
    "\n",
    "# Predict on the test set\n",
    "y_pred = adaboost.predict(x_test)\n",
    "\n",
    "# Calculate the accuracy of the classifier\n",
    "accuracy = accuracy_score(y_test, y_pred)\n",
    "print(\"Accuracy:\", accuracy)\n"
   ]
  },
  {
   "cell_type": "code",
   "execution_count": 79,
   "metadata": {},
   "outputs": [
    {
     "name": "stdout",
     "output_type": "stream",
     "text": [
      "Accuracy: 0.7699115044247787\n"
     ]
    }
   ],
   "source": [
    "y_pred = adaboost.predict(x_train)\n",
    "accuracy = accuracy_score(y_train, y_pred)\n",
    "print(\"Accuracy:\", accuracy)\n"
   ]
  },
  {
   "cell_type": "code",
   "execution_count": 81,
   "metadata": {},
   "outputs": [
    {
     "name": "stdout",
     "output_type": "stream",
     "text": [
      "0.4333333333333333\n"
     ]
    }
   ],
   "source": [
    "adaboost_reg_cv = cross_val_score(adaboost, x_test, y_test, cv=10) \n",
    "print(adaboost_reg_cv.mean()) "
   ]
  },
  {
   "cell_type": "code",
   "execution_count": 82,
   "metadata": {},
   "outputs": [
    {
     "name": "stdout",
     "output_type": "stream",
     "text": [
      "0.5196969696969697\n"
     ]
    }
   ],
   "source": [
    "adaboost_reg_cv = cross_val_score(adaboost, x_train, y_train, cv=10) \n",
    "print(adaboost_reg_cv.mean()) "
   ]
  },
  {
   "cell_type": "markdown",
   "metadata": {},
   "source": [
    "xgboost"
   ]
  },
  {
   "cell_type": "code",
   "execution_count": 83,
   "metadata": {},
   "outputs": [
    {
     "name": "stdout",
     "output_type": "stream",
     "text": [
      "Accuracy: 0.4482758620689655\n"
     ]
    }
   ],
   "source": [
    "import xgboost as xgb\n",
    "from sklearn.datasets import make_classification\n",
    "from sklearn.model_selection import train_test_split\n",
    "from sklearn.metrics import accuracy_score\n",
    "from sklearn.preprocessing import LabelEncoder\n",
    "\n",
    "# Convert class labels to numeric values\n",
    "label_encoder = LabelEncoder()\n",
    "y = label_encoder.fit_transform(y)\n",
    "y_train = label_encoder.fit_transform(y_train)\n",
    "y_test = label_encoder.fit_transform(y_test)\n",
    "\n",
    "# Create an XGBoost classifier\n",
    "xgb_classifier = xgb.XGBClassifier(n_estimators=100, random_state=52)\n",
    "\n",
    "# Train the classifier\n",
    "xgb_classifier.fit(x_train, y_train)\n",
    "\n",
    "# Predict on the test set\n",
    "y_pred = xgb_classifier.predict(x_test)\n",
    "\n",
    "# Calculate the accuracy of the classifier\n",
    "accuracy = accuracy_score(y_test, y_pred)\n",
    "print(\"Accuracy:\", accuracy)"
   ]
  },
  {
   "cell_type": "code",
   "execution_count": 84,
   "metadata": {},
   "outputs": [
    {
     "name": "stdout",
     "output_type": "stream",
     "text": [
      "Accuracy: 0.8141592920353983\n"
     ]
    }
   ],
   "source": [
    "y_pred = xgb_classifier.predict(x_train)\n",
    "accuracy = accuracy_score(y_train, y_pred)\n",
    "print(\"Accuracy:\", accuracy)"
   ]
  },
  {
   "cell_type": "code",
   "execution_count": 85,
   "metadata": {},
   "outputs": [
    {
     "name": "stdout",
     "output_type": "stream",
     "text": [
      "0.5121212121212121\n"
     ]
    }
   ],
   "source": [
    "xgb_classifier_cv = cross_val_score(xgb_classifier, x_train, y_train, cv=10) \n",
    "print(xgb_classifier_cv.mean()) "
   ]
  },
  {
   "cell_type": "code",
   "execution_count": 86,
   "metadata": {},
   "outputs": [
    {
     "name": "stdout",
     "output_type": "stream",
     "text": [
      "0.33333333333333337\n"
     ]
    }
   ],
   "source": [
    "xgb_classifier_cv = cross_val_score(xgb_classifier, x_test, y_test, cv=10) \n",
    "print(xgb_classifier_cv.mean()) "
   ]
  },
  {
   "cell_type": "markdown",
   "metadata": {},
   "source": [
    "CatBoostClassifier"
   ]
  },
  {
   "cell_type": "code",
   "execution_count": 105,
   "metadata": {},
   "outputs": [
    {
     "name": "stdout",
     "output_type": "stream",
     "text": [
      "Learning rate set to 0.033543\n",
      "0:\tlearn: 0.6922202\ttotal: 857us\tremaining: 84.9ms\n",
      "1:\tlearn: 0.6911772\ttotal: 1.59ms\tremaining: 77.8ms\n",
      "2:\tlearn: 0.6893018\ttotal: 2.3ms\tremaining: 74.2ms\n",
      "3:\tlearn: 0.6886369\ttotal: 2.92ms\tremaining: 70.1ms\n",
      "4:\tlearn: 0.6878772\ttotal: 3.52ms\tremaining: 66.9ms\n",
      "5:\tlearn: 0.6869529\ttotal: 4.14ms\tremaining: 64.8ms\n",
      "6:\tlearn: 0.6859513\ttotal: 4.79ms\tremaining: 63.7ms\n",
      "7:\tlearn: 0.6841603\ttotal: 5.48ms\tremaining: 63ms\n",
      "8:\tlearn: 0.6832100\ttotal: 6.13ms\tremaining: 62ms\n",
      "9:\tlearn: 0.6822138\ttotal: 6.72ms\tremaining: 60.5ms\n",
      "10:\tlearn: 0.6812337\ttotal: 7.3ms\tremaining: 59ms\n",
      "11:\tlearn: 0.6803128\ttotal: 7.95ms\tremaining: 58.3ms\n",
      "12:\tlearn: 0.6797709\ttotal: 8.59ms\tremaining: 57.5ms\n",
      "13:\tlearn: 0.6791979\ttotal: 9.66ms\tremaining: 59.4ms\n",
      "14:\tlearn: 0.6790124\ttotal: 10.2ms\tremaining: 57.5ms\n",
      "15:\tlearn: 0.6777642\ttotal: 10.7ms\tremaining: 56.4ms\n",
      "16:\tlearn: 0.6767237\ttotal: 11.4ms\tremaining: 55.6ms\n",
      "17:\tlearn: 0.6756271\ttotal: 12ms\tremaining: 54.9ms\n",
      "18:\tlearn: 0.6751565\ttotal: 12.6ms\tremaining: 53.9ms\n",
      "19:\tlearn: 0.6745075\ttotal: 13.1ms\tremaining: 52.5ms\n",
      "20:\tlearn: 0.6737197\ttotal: 13.7ms\tremaining: 51.7ms\n",
      "21:\tlearn: 0.6728601\ttotal: 14.4ms\tremaining: 50.9ms\n",
      "22:\tlearn: 0.6715846\ttotal: 14.9ms\tremaining: 50ms\n",
      "23:\tlearn: 0.6701193\ttotal: 15.6ms\tremaining: 49.4ms\n",
      "24:\tlearn: 0.6693134\ttotal: 16.2ms\tremaining: 48.7ms\n",
      "25:\tlearn: 0.6684908\ttotal: 16.7ms\tremaining: 47.6ms\n",
      "26:\tlearn: 0.6674061\ttotal: 17.3ms\tremaining: 46.9ms\n",
      "27:\tlearn: 0.6670579\ttotal: 17.7ms\tremaining: 45.6ms\n",
      "28:\tlearn: 0.6664143\ttotal: 18.3ms\tremaining: 44.8ms\n",
      "29:\tlearn: 0.6654008\ttotal: 18.9ms\tremaining: 44.1ms\n",
      "30:\tlearn: 0.6645296\ttotal: 19.5ms\tremaining: 43.4ms\n",
      "31:\tlearn: 0.6637574\ttotal: 20.1ms\tremaining: 42.8ms\n",
      "32:\tlearn: 0.6627394\ttotal: 20.7ms\tremaining: 42.1ms\n",
      "33:\tlearn: 0.6618644\ttotal: 21.3ms\tremaining: 41.4ms\n",
      "34:\tlearn: 0.6611761\ttotal: 23.2ms\tremaining: 43ms\n",
      "35:\tlearn: 0.6604838\ttotal: 23.9ms\tremaining: 42.4ms\n",
      "36:\tlearn: 0.6597022\ttotal: 24.5ms\tremaining: 41.7ms\n",
      "37:\tlearn: 0.6578252\ttotal: 25.2ms\tremaining: 41.2ms\n",
      "38:\tlearn: 0.6563725\ttotal: 25.9ms\tremaining: 40.4ms\n",
      "39:\tlearn: 0.6559035\ttotal: 26.6ms\tremaining: 39.8ms\n",
      "40:\tlearn: 0.6545521\ttotal: 27.2ms\tremaining: 39.2ms\n",
      "41:\tlearn: 0.6541577\ttotal: 27.8ms\tremaining: 38.4ms\n",
      "42:\tlearn: 0.6537971\ttotal: 28.4ms\tremaining: 37.6ms\n",
      "43:\tlearn: 0.6533497\ttotal: 28.9ms\tremaining: 36.8ms\n",
      "44:\tlearn: 0.6529432\ttotal: 29.5ms\tremaining: 36.1ms\n",
      "45:\tlearn: 0.6526535\ttotal: 30.1ms\tremaining: 35.4ms\n",
      "46:\tlearn: 0.6520341\ttotal: 30.7ms\tremaining: 34.6ms\n",
      "47:\tlearn: 0.6513916\ttotal: 31.3ms\tremaining: 34ms\n",
      "48:\tlearn: 0.6499181\ttotal: 31.9ms\tremaining: 33.2ms\n",
      "49:\tlearn: 0.6488043\ttotal: 32.5ms\tremaining: 32.5ms\n",
      "50:\tlearn: 0.6478251\ttotal: 33.2ms\tremaining: 31.9ms\n",
      "51:\tlearn: 0.6470683\ttotal: 33.8ms\tremaining: 31.2ms\n",
      "52:\tlearn: 0.6468152\ttotal: 34.4ms\tremaining: 30.5ms\n",
      "53:\tlearn: 0.6463348\ttotal: 35.2ms\tremaining: 30ms\n",
      "54:\tlearn: 0.6455215\ttotal: 36.3ms\tremaining: 29.7ms\n",
      "55:\tlearn: 0.6452713\ttotal: 37ms\tremaining: 29.1ms\n",
      "56:\tlearn: 0.6445494\ttotal: 37.6ms\tremaining: 28.4ms\n",
      "57:\tlearn: 0.6441249\ttotal: 38.2ms\tremaining: 27.7ms\n",
      "58:\tlearn: 0.6427080\ttotal: 38.9ms\tremaining: 27ms\n",
      "59:\tlearn: 0.6416009\ttotal: 39.5ms\tremaining: 26.4ms\n",
      "60:\tlearn: 0.6413598\ttotal: 40.3ms\tremaining: 25.7ms\n",
      "61:\tlearn: 0.6406364\ttotal: 41ms\tremaining: 25.1ms\n",
      "62:\tlearn: 0.6403884\ttotal: 41.6ms\tremaining: 24.4ms\n",
      "63:\tlearn: 0.6401768\ttotal: 42.2ms\tremaining: 23.7ms\n",
      "64:\tlearn: 0.6393596\ttotal: 42.7ms\tremaining: 23ms\n",
      "65:\tlearn: 0.6389356\ttotal: 43.4ms\tremaining: 22.4ms\n",
      "66:\tlearn: 0.6382830\ttotal: 44ms\tremaining: 21.7ms\n",
      "67:\tlearn: 0.6375707\ttotal: 44.7ms\tremaining: 21ms\n",
      "68:\tlearn: 0.6369851\ttotal: 45.2ms\tremaining: 20.3ms\n",
      "69:\tlearn: 0.6362935\ttotal: 45.9ms\tremaining: 19.7ms\n",
      "70:\tlearn: 0.6359114\ttotal: 46.5ms\tremaining: 19ms\n",
      "71:\tlearn: 0.6354210\ttotal: 48.4ms\tremaining: 18.8ms\n",
      "72:\tlearn: 0.6345582\ttotal: 49.3ms\tremaining: 18.2ms\n",
      "73:\tlearn: 0.6337705\ttotal: 50ms\tremaining: 17.6ms\n",
      "74:\tlearn: 0.6335601\ttotal: 50.6ms\tremaining: 16.9ms\n",
      "75:\tlearn: 0.6329472\ttotal: 51.3ms\tremaining: 16.2ms\n",
      "76:\tlearn: 0.6325359\ttotal: 52.1ms\tremaining: 15.6ms\n",
      "77:\tlearn: 0.6319163\ttotal: 52.8ms\tremaining: 14.9ms\n",
      "78:\tlearn: 0.6315298\ttotal: 53.4ms\tremaining: 14.2ms\n",
      "79:\tlearn: 0.6313013\ttotal: 54ms\tremaining: 13.5ms\n",
      "80:\tlearn: 0.6309239\ttotal: 54.6ms\tremaining: 12.8ms\n",
      "81:\tlearn: 0.6306730\ttotal: 55.3ms\tremaining: 12.1ms\n",
      "82:\tlearn: 0.6300930\ttotal: 56ms\tremaining: 11.5ms\n",
      "83:\tlearn: 0.6292104\ttotal: 56.7ms\tremaining: 10.8ms\n",
      "84:\tlearn: 0.6287364\ttotal: 57.3ms\tremaining: 10.1ms\n",
      "85:\tlearn: 0.6278702\ttotal: 57.9ms\tremaining: 9.43ms\n",
      "86:\tlearn: 0.6272841\ttotal: 58.5ms\tremaining: 8.74ms\n",
      "87:\tlearn: 0.6265376\ttotal: 59.2ms\tremaining: 8.07ms\n",
      "88:\tlearn: 0.6262635\ttotal: 59.7ms\tremaining: 7.38ms\n",
      "89:\tlearn: 0.6262173\ttotal: 61.2ms\tremaining: 6.8ms\n",
      "90:\tlearn: 0.6261247\ttotal: 61.8ms\tremaining: 6.12ms\n",
      "91:\tlearn: 0.6258106\ttotal: 62.6ms\tremaining: 5.44ms\n",
      "92:\tlearn: 0.6252064\ttotal: 63.2ms\tremaining: 4.76ms\n",
      "93:\tlearn: 0.6244747\ttotal: 63.9ms\tremaining: 4.08ms\n",
      "94:\tlearn: 0.6242215\ttotal: 64.5ms\tremaining: 3.39ms\n",
      "95:\tlearn: 0.6238440\ttotal: 65.1ms\tremaining: 2.71ms\n",
      "96:\tlearn: 0.6235895\ttotal: 65.7ms\tremaining: 2.03ms\n",
      "97:\tlearn: 0.6229595\ttotal: 66.3ms\tremaining: 1.35ms\n",
      "98:\tlearn: 0.6224368\ttotal: 66.9ms\tremaining: 675us\n",
      "99:\tlearn: 0.6215599\ttotal: 67.5ms\tremaining: 0us\n",
      "Accuracy: 0.5172413793103449\n"
     ]
    }
   ],
   "source": [
    "from catboost import CatBoostClassifier\n",
    "from sklearn.datasets import make_classification\n",
    "from sklearn.model_selection import train_test_split\n",
    "from sklearn.metrics import accuracy_score\n",
    "\n",
    "# Create a CatBoost classifier\n",
    "catboost = CatBoostClassifier(iterations=100, random_state=42)\n",
    "\n",
    "# Train the classifier\n",
    "catboost.fit(x_train, y_train)\n",
    "\n",
    "# Predict on the test set\n",
    "y_pred = catboost.predict(x_test)\n",
    "\n",
    "# Calculate the accuracy of the classifier\n",
    "accuracy = accuracy_score(y_test, y_pred)\n",
    "print(\"Accuracy:\", accuracy)"
   ]
  },
  {
   "cell_type": "code",
   "execution_count": 106,
   "metadata": {},
   "outputs": [
    {
     "data": {
      "text/plain": [
       "array(['s', 's', 's', 'c', 's', 's', 'c', 'c', 'c', 's', 'c', 's', 'c',\n",
       "       'c', 's', 's', 'c', 's', 's', 'c', 's', 's', 'c', 's', 's', 'c',\n",
       "       's', 'c', 's'], dtype=object)"
      ]
     },
     "execution_count": 106,
     "metadata": {},
     "output_type": "execute_result"
    }
   ],
   "source": [
    "y_pred"
   ]
  },
  {
   "cell_type": "code",
   "execution_count": 107,
   "metadata": {},
   "outputs": [
    {
     "data": {
      "image/png": "[encoded data removed]",
      "text/plain": [
       "<Figure size 800x600 with 2 Axes>"
      ]
     },
     "metadata": {},
     "output_type": "display_data"
    }
   ],
   "source": [
    "plot_confusion_matrix(y_test, y_pred, labels)"
   ]
  },
  {
   "cell_type": "code",
   "execution_count": 88,
   "metadata": {},
   "outputs": [
    {
     "name": "stdout",
     "output_type": "stream",
     "text": [
      "Accuracy: 0.6991150442477876\n"
     ]
    }
   ],
   "source": [
    "# Predict on the test set\n",
    "y_pred = catboost.predict(x_train)\n",
    "\n",
    "# Calculate the accuracy of the classifier\n",
    "accuracy = accuracy_score(y_train, y_pred)\n",
    "print(\"Accuracy:\", accuracy)"
   ]
  },
  {
   "cell_type": "code",
   "execution_count": 89,
   "metadata": {},
   "outputs": [
    {
     "name": "stdout",
     "output_type": "stream",
     "text": [
      "Learning rate set to 0.017911\n",
      "0:\tlearn: 0.6914042\ttotal: 588us\tremaining: 58.2ms\n",
      "1:\tlearn: 0.6906095\ttotal: 1.08ms\tremaining: 52.9ms\n",
      "2:\tlearn: 0.6898221\ttotal: 1.57ms\tremaining: 50.7ms\n",
      "3:\tlearn: 0.6890490\ttotal: 2ms\tremaining: 47.9ms\n",
      "4:\tlearn: 0.6880159\ttotal: 2.42ms\tremaining: 46ms\n",
      "5:\tlearn: 0.6868177\ttotal: 2.84ms\tremaining: 44.5ms\n",
      "6:\tlearn: 0.6854288\ttotal: 3.19ms\tremaining: 42.4ms\n",
      "7:\tlearn: 0.6846768\ttotal: 3.66ms\tremaining: 42.1ms\n",
      "8:\tlearn: 0.6840293\ttotal: 4.1ms\tremaining: 41.4ms\n",
      "9:\tlearn: 0.6826650\ttotal: 4.55ms\tremaining: 41ms\n",
      "10:\tlearn: 0.6816213\ttotal: 4.88ms\tremaining: 39.5ms\n",
      "11:\tlearn: 0.6809316\ttotal: 5.33ms\tremaining: 39.1ms\n",
      "12:\tlearn: 0.6801142\ttotal: 5.79ms\tremaining: 38.7ms\n",
      "13:\tlearn: 0.6792924\ttotal: 6.22ms\tremaining: 38.2ms\n",
      "14:\tlearn: 0.6781994\ttotal: 6.48ms\tremaining: 36.7ms\n",
      "15:\tlearn: 0.6766437\ttotal: 6.92ms\tremaining: 36.3ms\n",
      "16:\tlearn: 0.6752615\ttotal: 7.46ms\tremaining: 36.4ms\n",
      "17:\tlearn: 0.6739884\ttotal: 7.99ms\tremaining: 36.4ms\n",
      "18:\tlearn: 0.6725170\ttotal: 8.44ms\tremaining: 36ms\n",
      "19:\tlearn: 0.6717361\ttotal: 8.82ms\tremaining: 35.3ms\n",
      "20:\tlearn: 0.6711148\ttotal: 9.26ms\tremaining: 34.8ms\n",
      "21:\tlearn: 0.6703633\ttotal: 9.67ms\tremaining: 34.3ms\n",
      "22:\tlearn: 0.6697751\ttotal: 10.1ms\tremaining: 33.8ms\n",
      "23:\tlearn: 0.6686091\ttotal: 10.5ms\tremaining: 33.3ms\n",
      "24:\tlearn: 0.6672996\ttotal: 10.9ms\tremaining: 32.8ms\n",
      "25:\tlearn: 0.6667775\ttotal: 11.4ms\tremaining: 32.3ms\n",
      "26:\tlearn: 0.6656039\ttotal: 11.6ms\tremaining: 31.4ms\n",
      "27:\tlearn: 0.6645982\ttotal: 12ms\tremaining: 31ms\n",
      "28:\tlearn: 0.6632017\ttotal: 12.5ms\tremaining: 30.5ms\n",
      "29:\tlearn: 0.6623438\ttotal: 12.8ms\tremaining: 29.8ms\n",
      "30:\tlearn: 0.6614160\ttotal: 13.1ms\tremaining: 29.1ms\n",
      "31:\tlearn: 0.6608844\ttotal: 13.5ms\tremaining: 28.7ms\n",
      "32:\tlearn: 0.6602575\ttotal: 13.8ms\tremaining: 28.1ms\n",
      "33:\tlearn: 0.6590216\ttotal: 14.3ms\tremaining: 27.7ms\n",
      "34:\tlearn: 0.6582407\ttotal: 14.6ms\tremaining: 27.1ms\n",
      "35:\tlearn: 0.6571737\ttotal: 15.1ms\tremaining: 26.9ms\n",
      "36:\tlearn: 0.6564573\ttotal: 15.7ms\tremaining: 26.8ms\n",
      "37:\tlearn: 0.6556319\ttotal: 16.2ms\tremaining: 26.4ms\n",
      "38:\tlearn: 0.6545944\ttotal: 16.5ms\tremaining: 25.8ms\n",
      "39:\tlearn: 0.6535313\ttotal: 16.7ms\tremaining: 25.1ms\n",
      "40:\tlearn: 0.6521153\ttotal: 17.2ms\tremaining: 24.7ms\n",
      "41:\tlearn: 0.6515615\ttotal: 17.6ms\tremaining: 24.3ms\n",
      "42:\tlearn: 0.6505452\ttotal: 17.8ms\tremaining: 23.6ms\n",
      "43:\tlearn: 0.6500158\ttotal: 18.3ms\tremaining: 23.3ms\n",
      "44:\tlearn: 0.6494875\ttotal: 18.6ms\tremaining: 22.8ms\n",
      "45:\tlearn: 0.6485413\ttotal: 19ms\tremaining: 22.4ms\n",
      "46:\tlearn: 0.6477904\ttotal: 19.6ms\tremaining: 22.1ms\n",
      "47:\tlearn: 0.6467486\ttotal: 20ms\tremaining: 21.6ms\n",
      "48:\tlearn: 0.6456201\ttotal: 20.5ms\tremaining: 21.4ms\n",
      "49:\tlearn: 0.6448845\ttotal: 21.3ms\tremaining: 21.3ms\n",
      "50:\tlearn: 0.6440464\ttotal: 21.6ms\tremaining: 20.7ms\n",
      "51:\tlearn: 0.6434407\ttotal: 21.9ms\tremaining: 20.3ms\n",
      "52:\tlearn: 0.6427322\ttotal: 22.2ms\tremaining: 19.7ms\n",
      "53:\tlearn: 0.6419102\ttotal: 22.4ms\tremaining: 19.1ms\n",
      "54:\tlearn: 0.6412370\ttotal: 22.9ms\tremaining: 18.8ms\n",
      "55:\tlearn: 0.6406724\ttotal: 23.2ms\tremaining: 18.3ms\n",
      "56:\tlearn: 0.6398889\ttotal: 23.5ms\tremaining: 17.8ms\n",
      "57:\tlearn: 0.6389658\ttotal: 23.8ms\tremaining: 17.2ms\n",
      "58:\tlearn: 0.6384900\ttotal: 24.2ms\tremaining: 16.8ms\n",
      "59:\tlearn: 0.6377256\ttotal: 24.7ms\tremaining: 16.5ms\n",
      "60:\tlearn: 0.6369117\ttotal: 25.1ms\tremaining: 16.1ms\n",
      "61:\tlearn: 0.6360638\ttotal: 25.5ms\tremaining: 15.7ms\n",
      "62:\tlearn: 0.6352096\ttotal: 25.8ms\tremaining: 15.1ms\n",
      "63:\tlearn: 0.6345965\ttotal: 26.2ms\tremaining: 14.7ms\n",
      "64:\tlearn: 0.6335662\ttotal: 26.6ms\tremaining: 14.3ms\n",
      "65:\tlearn: 0.6327116\ttotal: 27.1ms\tremaining: 13.9ms\n",
      "66:\tlearn: 0.6319638\ttotal: 27.3ms\tremaining: 13.5ms\n",
      "67:\tlearn: 0.6314085\ttotal: 27.8ms\tremaining: 13.1ms\n",
      "68:\tlearn: 0.6309513\ttotal: 28.2ms\tremaining: 12.7ms\n",
      "69:\tlearn: 0.6301966\ttotal: 28.5ms\tremaining: 12.2ms\n",
      "70:\tlearn: 0.6295484\ttotal: 28.8ms\tremaining: 11.8ms\n",
      "71:\tlearn: 0.6289637\ttotal: 29.1ms\tremaining: 11.3ms\n",
      "72:\tlearn: 0.6280391\ttotal: 29.6ms\tremaining: 10.9ms\n",
      "73:\tlearn: 0.6277332\ttotal: 30.1ms\tremaining: 10.6ms\n",
      "74:\tlearn: 0.6269321\ttotal: 30.5ms\tremaining: 10.2ms\n",
      "75:\tlearn: 0.6260691\ttotal: 30.8ms\tremaining: 9.74ms\n",
      "76:\tlearn: 0.6254390\ttotal: 31.1ms\tremaining: 9.29ms\n",
      "77:\tlearn: 0.6248724\ttotal: 31.9ms\tremaining: 8.99ms\n",
      "78:\tlearn: 0.6241693\ttotal: 32.3ms\tremaining: 8.58ms\n",
      "79:\tlearn: 0.6237035\ttotal: 32.6ms\tremaining: 8.14ms\n",
      "80:\tlearn: 0.6232058\ttotal: 33ms\tremaining: 7.73ms\n",
      "81:\tlearn: 0.6227475\ttotal: 33.4ms\tremaining: 7.33ms\n",
      "82:\tlearn: 0.6224170\ttotal: 33.8ms\tremaining: 6.92ms\n",
      "83:\tlearn: 0.6220752\ttotal: 34.2ms\tremaining: 6.51ms\n",
      "84:\tlearn: 0.6218357\ttotal: 34.7ms\tremaining: 6.13ms\n",
      "85:\tlearn: 0.6213333\ttotal: 35.6ms\tremaining: 5.8ms\n",
      "86:\tlearn: 0.6206405\ttotal: 36.1ms\tremaining: 5.39ms\n",
      "87:\tlearn: 0.6199539\ttotal: 36.5ms\tremaining: 4.98ms\n",
      "88:\tlearn: 0.6195242\ttotal: 37.1ms\tremaining: 4.58ms\n",
      "89:\tlearn: 0.6191382\ttotal: 37.7ms\tremaining: 4.19ms\n",
      "90:\tlearn: 0.6186401\ttotal: 38.7ms\tremaining: 3.83ms\n",
      "91:\tlearn: 0.6182130\ttotal: 39.5ms\tremaining: 3.43ms\n",
      "92:\tlearn: 0.6177525\ttotal: 40.2ms\tremaining: 3.02ms\n",
      "93:\tlearn: 0.6171550\ttotal: 42.1ms\tremaining: 2.69ms\n",
      "94:\tlearn: 0.6166513\ttotal: 42.6ms\tremaining: 2.24ms\n",
      "95:\tlearn: 0.6160810\ttotal: 43.2ms\tremaining: 1.8ms\n",
      "96:\tlearn: 0.6157273\ttotal: 43.9ms\tremaining: 1.36ms\n",
      "97:\tlearn: 0.6152520\ttotal: 44.5ms\tremaining: 907us\n",
      "98:\tlearn: 0.6146947\ttotal: 45ms\tremaining: 454us\n",
      "99:\tlearn: 0.6141809\ttotal: 45.3ms\tremaining: 0us\n",
      "Learning rate set to 0.017911\n",
      "0:\tlearn: 0.6922607\ttotal: 632us\tremaining: 62.6ms\n",
      "1:\tlearn: 0.6914785\ttotal: 1.14ms\tremaining: 56.1ms\n",
      "2:\tlearn: 0.6905671\ttotal: 1.64ms\tremaining: 52.9ms\n",
      "3:\tlearn: 0.6896913\ttotal: 2.13ms\tremaining: 51.1ms\n",
      "4:\tlearn: 0.6889691\ttotal: 2.62ms\tremaining: 49.8ms\n",
      "5:\tlearn: 0.6877173\ttotal: 2.91ms\tremaining: 45.6ms\n",
      "6:\tlearn: 0.6862313\ttotal: 3.4ms\tremaining: 45.2ms\n",
      "7:\tlearn: 0.6851982\ttotal: 3.81ms\tremaining: 43.9ms\n",
      "8:\tlearn: 0.6840159\ttotal: 4.14ms\tremaining: 41.9ms\n",
      "9:\tlearn: 0.6831477\ttotal: 4.41ms\tremaining: 39.7ms\n",
      "10:\tlearn: 0.6820816\ttotal: 4.83ms\tremaining: 39.1ms\n",
      "11:\tlearn: 0.6811397\ttotal: 5.33ms\tremaining: 39.1ms\n",
      "12:\tlearn: 0.6801174\ttotal: 5.71ms\tremaining: 38.2ms\n",
      "13:\tlearn: 0.6796943\ttotal: 6.4ms\tremaining: 39.3ms\n",
      "14:\tlearn: 0.6788600\ttotal: 6.96ms\tremaining: 39.5ms\n",
      "15:\tlearn: 0.6778268\ttotal: 7.46ms\tremaining: 39.2ms\n",
      "16:\tlearn: 0.6768424\ttotal: 7.96ms\tremaining: 38.9ms\n",
      "17:\tlearn: 0.6759629\ttotal: 8.43ms\tremaining: 38.4ms\n",
      "18:\tlearn: 0.6743752\ttotal: 8.89ms\tremaining: 37.9ms\n",
      "19:\tlearn: 0.6735518\ttotal: 9.37ms\tremaining: 37.5ms\n",
      "20:\tlearn: 0.6727156\ttotal: 9.69ms\tremaining: 36.4ms\n",
      "21:\tlearn: 0.6717201\ttotal: 10.1ms\tremaining: 35.9ms\n",
      "22:\tlearn: 0.6704994\ttotal: 10.6ms\tremaining: 35.6ms\n",
      "23:\tlearn: 0.6697781\ttotal: 11ms\tremaining: 34.8ms\n",
      "24:\tlearn: 0.6688839\ttotal: 11.5ms\tremaining: 34.5ms\n",
      "25:\tlearn: 0.6677612\ttotal: 12ms\tremaining: 34ms\n",
      "26:\tlearn: 0.6665077\ttotal: 12.4ms\tremaining: 33.6ms\n",
      "27:\tlearn: 0.6656405\ttotal: 12.7ms\tremaining: 32.6ms\n",
      "28:\tlearn: 0.6648387\ttotal: 13.1ms\tremaining: 32.2ms\n",
      "29:\tlearn: 0.6641248\ttotal: 13.6ms\tremaining: 31.8ms\n",
      "30:\tlearn: 0.6631347\ttotal: 13.9ms\tremaining: 31ms\n",
      "31:\tlearn: 0.6622409\ttotal: 14.2ms\tremaining: 30.3ms\n",
      "32:\tlearn: 0.6614672\ttotal: 14.6ms\tremaining: 29.6ms\n",
      "33:\tlearn: 0.6608179\ttotal: 15ms\tremaining: 29.2ms\n",
      "34:\tlearn: 0.6598127\ttotal: 15.4ms\tremaining: 28.5ms\n",
      "35:\tlearn: 0.6590487\ttotal: 15.8ms\tremaining: 28.2ms\n",
      "36:\tlearn: 0.6578863\ttotal: 16.3ms\tremaining: 27.8ms\n",
      "37:\tlearn: 0.6573320\ttotal: 16.6ms\tremaining: 27ms\n",
      "38:\tlearn: 0.6566577\ttotal: 16.9ms\tremaining: 26.4ms\n",
      "39:\tlearn: 0.6555538\ttotal: 17.4ms\tremaining: 26.1ms\n",
      "40:\tlearn: 0.6547990\ttotal: 17.6ms\tremaining: 25.3ms\n",
      "41:\tlearn: 0.6539762\ttotal: 18.1ms\tremaining: 25ms\n",
      "42:\tlearn: 0.6534067\ttotal: 18.5ms\tremaining: 24.6ms\n",
      "43:\tlearn: 0.6526067\ttotal: 18.9ms\tremaining: 24.1ms\n",
      "44:\tlearn: 0.6519835\ttotal: 19.4ms\tremaining: 23.7ms\n",
      "45:\tlearn: 0.6514858\ttotal: 19.8ms\tremaining: 23.3ms\n",
      "46:\tlearn: 0.6506889\ttotal: 20.3ms\tremaining: 22.9ms\n",
      "47:\tlearn: 0.6498345\ttotal: 20.8ms\tremaining: 22.5ms\n",
      "48:\tlearn: 0.6488446\ttotal: 21.3ms\tremaining: 22.1ms\n",
      "49:\tlearn: 0.6481857\ttotal: 21.5ms\tremaining: 21.5ms\n",
      "50:\tlearn: 0.6474943\ttotal: 22ms\tremaining: 21.2ms\n",
      "51:\tlearn: 0.6466023\ttotal: 22.6ms\tremaining: 20.8ms\n",
      "52:\tlearn: 0.6458426\ttotal: 22.9ms\tremaining: 20.3ms\n",
      "53:\tlearn: 0.6450109\ttotal: 23.3ms\tremaining: 19.9ms\n",
      "54:\tlearn: 0.6443180\ttotal: 23.7ms\tremaining: 19.4ms\n",
      "55:\tlearn: 0.6436614\ttotal: 24.1ms\tremaining: 19ms\n",
      "56:\tlearn: 0.6423195\ttotal: 24.6ms\tremaining: 18.5ms\n",
      "57:\tlearn: 0.6414247\ttotal: 25.1ms\tremaining: 18.1ms\n",
      "58:\tlearn: 0.6409047\ttotal: 25.5ms\tremaining: 17.7ms\n",
      "59:\tlearn: 0.6401061\ttotal: 25.7ms\tremaining: 17.2ms\n",
      "60:\tlearn: 0.6395929\ttotal: 26.1ms\tremaining: 16.7ms\n",
      "61:\tlearn: 0.6391499\ttotal: 26.6ms\tremaining: 16.3ms\n",
      "62:\tlearn: 0.6387576\ttotal: 27.1ms\tremaining: 15.9ms\n",
      "63:\tlearn: 0.6380997\ttotal: 27.6ms\tremaining: 15.6ms\n",
      "64:\tlearn: 0.6373818\ttotal: 28ms\tremaining: 15.1ms\n",
      "65:\tlearn: 0.6364363\ttotal: 28.5ms\tremaining: 14.7ms\n",
      "66:\tlearn: 0.6360536\ttotal: 29ms\tremaining: 14.3ms\n",
      "67:\tlearn: 0.6355595\ttotal: 29.5ms\tremaining: 13.9ms\n",
      "68:\tlearn: 0.6348600\ttotal: 29.8ms\tremaining: 13.4ms\n",
      "69:\tlearn: 0.6344013\ttotal: 30.1ms\tremaining: 12.9ms\n",
      "70:\tlearn: 0.6338978\ttotal: 30.4ms\tremaining: 12.4ms\n",
      "71:\tlearn: 0.6328715\ttotal: 30.8ms\tremaining: 12ms\n",
      "72:\tlearn: 0.6324434\ttotal: 31.3ms\tremaining: 11.6ms\n",
      "73:\tlearn: 0.6316680\ttotal: 32.5ms\tremaining: 11.4ms\n",
      "74:\tlearn: 0.6310476\ttotal: 32.9ms\tremaining: 11ms\n",
      "75:\tlearn: 0.6304119\ttotal: 33.3ms\tremaining: 10.5ms\n",
      "76:\tlearn: 0.6298333\ttotal: 33.5ms\tremaining: 10ms\n",
      "77:\tlearn: 0.6292484\ttotal: 33.9ms\tremaining: 9.55ms\n",
      "78:\tlearn: 0.6284346\ttotal: 34.3ms\tremaining: 9.13ms\n",
      "79:\tlearn: 0.6279305\ttotal: 34.9ms\tremaining: 8.71ms\n",
      "80:\tlearn: 0.6276185\ttotal: 35.3ms\tremaining: 8.29ms\n",
      "81:\tlearn: 0.6271795\ttotal: 35.7ms\tremaining: 7.83ms\n",
      "82:\tlearn: 0.6269026\ttotal: 36ms\tremaining: 7.37ms\n",
      "83:\tlearn: 0.6266504\ttotal: 36.4ms\tremaining: 6.93ms\n",
      "84:\tlearn: 0.6259209\ttotal: 36.8ms\tremaining: 6.49ms\n",
      "85:\tlearn: 0.6254335\ttotal: 37.2ms\tremaining: 6.05ms\n",
      "86:\tlearn: 0.6249291\ttotal: 37.5ms\tremaining: 5.61ms\n",
      "87:\tlearn: 0.6246674\ttotal: 38ms\tremaining: 5.18ms\n",
      "88:\tlearn: 0.6242794\ttotal: 38.3ms\tremaining: 4.73ms\n",
      "89:\tlearn: 0.6239190\ttotal: 38.5ms\tremaining: 4.28ms\n",
      "90:\tlearn: 0.6235673\ttotal: 38.9ms\tremaining: 3.85ms\n",
      "91:\tlearn: 0.6228825\ttotal: 39.4ms\tremaining: 3.43ms\n",
      "92:\tlearn: 0.6224873\ttotal: 39.9ms\tremaining: 3ms\n",
      "93:\tlearn: 0.6221160\ttotal: 40.3ms\tremaining: 2.57ms\n",
      "94:\tlearn: 0.6212952\ttotal: 40.8ms\tremaining: 2.15ms\n",
      "95:\tlearn: 0.6207181\ttotal: 41.3ms\tremaining: 1.72ms\n",
      "96:\tlearn: 0.6200302\ttotal: 41.9ms\tremaining: 1.29ms\n",
      "97:\tlearn: 0.6196787\ttotal: 42.4ms\tremaining: 865us\n",
      "98:\tlearn: 0.6189239\ttotal: 42.9ms\tremaining: 433us\n",
      "99:\tlearn: 0.6185853\ttotal: 43.1ms\tremaining: 0us\n",
      "Learning rate set to 0.017911\n",
      "0:\tlearn: 0.6914112\ttotal: 595us\tremaining: 58.9ms\n",
      "1:\tlearn: 0.6903582\ttotal: 1.09ms\tremaining: 53.6ms\n",
      "2:\tlearn: 0.6894173\ttotal: 1.66ms\tremaining: 53.7ms\n",
      "3:\tlearn: 0.6877376\ttotal: 2.15ms\tremaining: 51.7ms\n",
      "4:\tlearn: 0.6867093\ttotal: 2.65ms\tremaining: 50.4ms\n",
      "5:\tlearn: 0.6857519\ttotal: 2.94ms\tremaining: 46.1ms\n",
      "6:\tlearn: 0.6839037\ttotal: 3.43ms\tremaining: 45.6ms\n",
      "7:\tlearn: 0.6827576\ttotal: 3.74ms\tremaining: 43ms\n",
      "8:\tlearn: 0.6820468\ttotal: 4.23ms\tremaining: 42.8ms\n",
      "9:\tlearn: 0.6814789\ttotal: 4.73ms\tremaining: 42.6ms\n",
      "10:\tlearn: 0.6797158\ttotal: 5.05ms\tremaining: 40.9ms\n",
      "11:\tlearn: 0.6783826\ttotal: 5.54ms\tremaining: 40.6ms\n",
      "12:\tlearn: 0.6777297\ttotal: 6ms\tremaining: 40.2ms\n",
      "13:\tlearn: 0.6758966\ttotal: 6.49ms\tremaining: 39.9ms\n",
      "14:\tlearn: 0.6746385\ttotal: 6.97ms\tremaining: 39.5ms\n",
      "15:\tlearn: 0.6734722\ttotal: 7.47ms\tremaining: 39.2ms\n",
      "16:\tlearn: 0.6721192\ttotal: 7.89ms\tremaining: 38.5ms\n",
      "17:\tlearn: 0.6707413\ttotal: 8.4ms\tremaining: 38.3ms\n",
      "18:\tlearn: 0.6691627\ttotal: 8.88ms\tremaining: 37.9ms\n",
      "19:\tlearn: 0.6685249\ttotal: 9.27ms\tremaining: 37.1ms\n",
      "20:\tlearn: 0.6677780\ttotal: 9.76ms\tremaining: 36.7ms\n",
      "21:\tlearn: 0.6660427\ttotal: 10.2ms\tremaining: 36.3ms\n"
     ]
    },
    {
     "name": "stdout",
     "output_type": "stream",
     "text": [
      "22:\tlearn: 0.6651637\ttotal: 11.2ms\tremaining: 37.6ms\n",
      "23:\tlearn: 0.6639951\ttotal: 12.2ms\tremaining: 38.7ms\n",
      "24:\tlearn: 0.6624739\ttotal: 12.8ms\tremaining: 38.4ms\n",
      "25:\tlearn: 0.6613483\ttotal: 13.5ms\tremaining: 38.4ms\n",
      "26:\tlearn: 0.6601282\ttotal: 13.8ms\tremaining: 37.3ms\n",
      "27:\tlearn: 0.6589668\ttotal: 14.3ms\tremaining: 36.6ms\n",
      "28:\tlearn: 0.6575945\ttotal: 14.7ms\tremaining: 36.1ms\n",
      "29:\tlearn: 0.6568651\ttotal: 15.2ms\tremaining: 35.4ms\n",
      "30:\tlearn: 0.6558241\ttotal: 15.6ms\tremaining: 34.8ms\n",
      "31:\tlearn: 0.6547596\ttotal: 16.1ms\tremaining: 34.2ms\n",
      "32:\tlearn: 0.6539867\ttotal: 16.6ms\tremaining: 33.7ms\n",
      "33:\tlearn: 0.6530968\ttotal: 16.8ms\tremaining: 32.6ms\n",
      "34:\tlearn: 0.6509195\ttotal: 17.3ms\tremaining: 32.1ms\n",
      "35:\tlearn: 0.6500180\ttotal: 17.7ms\tremaining: 31.5ms\n",
      "36:\tlearn: 0.6491518\ttotal: 18.1ms\tremaining: 30.8ms\n",
      "37:\tlearn: 0.6480871\ttotal: 18.3ms\tremaining: 29.9ms\n",
      "38:\tlearn: 0.6466627\ttotal: 18.7ms\tremaining: 29.3ms\n",
      "39:\tlearn: 0.6450612\ttotal: 19.2ms\tremaining: 28.7ms\n",
      "40:\tlearn: 0.6444502\ttotal: 19.6ms\tremaining: 28.2ms\n",
      "41:\tlearn: 0.6431870\ttotal: 20ms\tremaining: 27.6ms\n",
      "42:\tlearn: 0.6421430\ttotal: 20.4ms\tremaining: 27.1ms\n",
      "43:\tlearn: 0.6408257\ttotal: 20.7ms\tremaining: 26.4ms\n",
      "44:\tlearn: 0.6399371\ttotal: 21.1ms\tremaining: 25.8ms\n",
      "45:\tlearn: 0.6391118\ttotal: 21.4ms\tremaining: 25.2ms\n",
      "46:\tlearn: 0.6376666\ttotal: 21.9ms\tremaining: 24.7ms\n",
      "47:\tlearn: 0.6366544\ttotal: 22.3ms\tremaining: 24.2ms\n",
      "48:\tlearn: 0.6351876\ttotal: 22.8ms\tremaining: 23.7ms\n",
      "49:\tlearn: 0.6344423\ttotal: 23.2ms\tremaining: 23.2ms\n",
      "50:\tlearn: 0.6338060\ttotal: 23.6ms\tremaining: 22.7ms\n",
      "51:\tlearn: 0.6332883\ttotal: 24.4ms\tremaining: 22.5ms\n",
      "52:\tlearn: 0.6327604\ttotal: 25.2ms\tremaining: 22.3ms\n",
      "53:\tlearn: 0.6319585\ttotal: 26.1ms\tremaining: 22.3ms\n",
      "54:\tlearn: 0.6312544\ttotal: 26.6ms\tremaining: 21.8ms\n",
      "55:\tlearn: 0.6304083\ttotal: 26.9ms\tremaining: 21.2ms\n",
      "56:\tlearn: 0.6300066\ttotal: 27.4ms\tremaining: 20.6ms\n",
      "57:\tlearn: 0.6290968\ttotal: 27.9ms\tremaining: 20.2ms\n",
      "58:\tlearn: 0.6282450\ttotal: 28.3ms\tremaining: 19.7ms\n",
      "59:\tlearn: 0.6271676\ttotal: 28.9ms\tremaining: 19.2ms\n",
      "60:\tlearn: 0.6262197\ttotal: 29.3ms\tremaining: 18.7ms\n",
      "61:\tlearn: 0.6250379\ttotal: 29.6ms\tremaining: 18.2ms\n",
      "62:\tlearn: 0.6243574\ttotal: 29.9ms\tremaining: 17.6ms\n",
      "63:\tlearn: 0.6226092\ttotal: 30.4ms\tremaining: 17.1ms\n",
      "64:\tlearn: 0.6219227\ttotal: 30.8ms\tremaining: 16.6ms\n",
      "65:\tlearn: 0.6208585\ttotal: 31.3ms\tremaining: 16.1ms\n",
      "66:\tlearn: 0.6200088\ttotal: 31.8ms\tremaining: 15.6ms\n",
      "67:\tlearn: 0.6190631\ttotal: 32.1ms\tremaining: 15.1ms\n",
      "68:\tlearn: 0.6184955\ttotal: 32.6ms\tremaining: 14.6ms\n",
      "69:\tlearn: 0.6179091\ttotal: 33.1ms\tremaining: 14.2ms\n",
      "70:\tlearn: 0.6175907\ttotal: 33.5ms\tremaining: 13.7ms\n",
      "71:\tlearn: 0.6158106\ttotal: 34.1ms\tremaining: 13.2ms\n",
      "72:\tlearn: 0.6143327\ttotal: 34.5ms\tremaining: 12.8ms\n",
      "73:\tlearn: 0.6130131\ttotal: 35ms\tremaining: 12.3ms\n",
      "74:\tlearn: 0.6125376\ttotal: 35.4ms\tremaining: 11.8ms\n",
      "75:\tlearn: 0.6120910\ttotal: 35.7ms\tremaining: 11.3ms\n",
      "76:\tlearn: 0.6113738\ttotal: 36.2ms\tremaining: 10.8ms\n",
      "77:\tlearn: 0.6104731\ttotal: 37.3ms\tremaining: 10.5ms\n",
      "78:\tlearn: 0.6095907\ttotal: 37.9ms\tremaining: 10.1ms\n",
      "79:\tlearn: 0.6092557\ttotal: 38.5ms\tremaining: 9.62ms\n",
      "80:\tlearn: 0.6087327\ttotal: 38.9ms\tremaining: 9.12ms\n",
      "81:\tlearn: 0.6081649\ttotal: 39.3ms\tremaining: 8.62ms\n",
      "82:\tlearn: 0.6075285\ttotal: 39.8ms\tremaining: 8.14ms\n",
      "83:\tlearn: 0.6066426\ttotal: 40.1ms\tremaining: 7.63ms\n",
      "84:\tlearn: 0.6058602\ttotal: 40.5ms\tremaining: 7.15ms\n",
      "85:\tlearn: 0.6055568\ttotal: 40.8ms\tremaining: 6.64ms\n",
      "86:\tlearn: 0.6051145\ttotal: 41.1ms\tremaining: 6.14ms\n",
      "87:\tlearn: 0.6046302\ttotal: 41.5ms\tremaining: 5.65ms\n",
      "88:\tlearn: 0.6036971\ttotal: 41.9ms\tremaining: 5.18ms\n",
      "89:\tlearn: 0.6029993\ttotal: 42.4ms\tremaining: 4.71ms\n",
      "90:\tlearn: 0.6023981\ttotal: 42.8ms\tremaining: 4.24ms\n",
      "91:\tlearn: 0.6018322\ttotal: 43.3ms\tremaining: 3.77ms\n",
      "92:\tlearn: 0.6005944\ttotal: 43.8ms\tremaining: 3.29ms\n",
      "93:\tlearn: 0.5997302\ttotal: 44.2ms\tremaining: 2.82ms\n",
      "94:\tlearn: 0.5991380\ttotal: 44.6ms\tremaining: 2.35ms\n",
      "95:\tlearn: 0.5982264\ttotal: 45ms\tremaining: 1.88ms\n",
      "96:\tlearn: 0.5977899\ttotal: 45.3ms\tremaining: 1.4ms\n",
      "97:\tlearn: 0.5971758\ttotal: 45.6ms\tremaining: 930us\n",
      "98:\tlearn: 0.5968107\ttotal: 46ms\tremaining: 465us\n",
      "99:\tlearn: 0.5961543\ttotal: 46.5ms\tremaining: 0us\n",
      "Learning rate set to 0.017911\n",
      "0:\tlearn: 0.6905573\ttotal: 587us\tremaining: 58.1ms\n",
      "1:\tlearn: 0.6895065\ttotal: 1.08ms\tremaining: 52.8ms\n",
      "2:\tlearn: 0.6885994\ttotal: 1.57ms\tremaining: 50.7ms\n",
      "3:\tlearn: 0.6878279\ttotal: 2.04ms\tremaining: 48.9ms\n",
      "4:\tlearn: 0.6867247\ttotal: 2.46ms\tremaining: 46.8ms\n",
      "5:\tlearn: 0.6848971\ttotal: 2.74ms\tremaining: 42.9ms\n",
      "6:\tlearn: 0.6833508\ttotal: 3.17ms\tremaining: 42.1ms\n",
      "7:\tlearn: 0.6817434\ttotal: 3.54ms\tremaining: 40.7ms\n",
      "8:\tlearn: 0.6805582\ttotal: 3.83ms\tremaining: 38.8ms\n",
      "9:\tlearn: 0.6796953\ttotal: 4.29ms\tremaining: 38.6ms\n",
      "10:\tlearn: 0.6780187\ttotal: 4.73ms\tremaining: 38.3ms\n",
      "11:\tlearn: 0.6772267\ttotal: 5.2ms\tremaining: 38.1ms\n",
      "12:\tlearn: 0.6754548\ttotal: 5.64ms\tremaining: 37.8ms\n",
      "13:\tlearn: 0.6746258\ttotal: 6.32ms\tremaining: 38.8ms\n",
      "14:\tlearn: 0.6729118\ttotal: 6.65ms\tremaining: 37.7ms\n",
      "15:\tlearn: 0.6708867\ttotal: 7.11ms\tremaining: 37.3ms\n",
      "16:\tlearn: 0.6694610\ttotal: 8.25ms\tremaining: 40.3ms\n",
      "17:\tlearn: 0.6679294\ttotal: 8.78ms\tremaining: 40ms\n",
      "18:\tlearn: 0.6664872\ttotal: 9.32ms\tremaining: 39.7ms\n",
      "19:\tlearn: 0.6656245\ttotal: 9.73ms\tremaining: 38.9ms\n",
      "20:\tlearn: 0.6650109\ttotal: 10.4ms\tremaining: 39ms\n",
      "21:\tlearn: 0.6638995\ttotal: 11ms\tremaining: 39ms\n",
      "22:\tlearn: 0.6631808\ttotal: 11.9ms\tremaining: 39.9ms\n",
      "23:\tlearn: 0.6617154\ttotal: 12.4ms\tremaining: 39.3ms\n",
      "24:\tlearn: 0.6601472\ttotal: 12.9ms\tremaining: 38.6ms\n",
      "25:\tlearn: 0.6592276\ttotal: 13.4ms\tremaining: 38ms\n",
      "26:\tlearn: 0.6580737\ttotal: 13.6ms\tremaining: 36.9ms\n",
      "27:\tlearn: 0.6569796\ttotal: 14.1ms\tremaining: 36.3ms\n",
      "28:\tlearn: 0.6552466\ttotal: 14.6ms\tremaining: 35.8ms\n",
      "29:\tlearn: 0.6542392\ttotal: 14.9ms\tremaining: 34.9ms\n",
      "30:\tlearn: 0.6527640\ttotal: 15.4ms\tremaining: 34.3ms\n",
      "31:\tlearn: 0.6516656\ttotal: 15.9ms\tremaining: 33.8ms\n",
      "32:\tlearn: 0.6507370\ttotal: 16.4ms\tremaining: 33.3ms\n",
      "33:\tlearn: 0.6497254\ttotal: 16.6ms\tremaining: 32.3ms\n",
      "34:\tlearn: 0.6488482\ttotal: 17ms\tremaining: 31.5ms\n",
      "35:\tlearn: 0.6477063\ttotal: 17.4ms\tremaining: 31ms\n",
      "36:\tlearn: 0.6471376\ttotal: 17.7ms\tremaining: 30.1ms\n",
      "37:\tlearn: 0.6463727\ttotal: 18.1ms\tremaining: 29.6ms\n",
      "38:\tlearn: 0.6451051\ttotal: 18.5ms\tremaining: 28.9ms\n",
      "39:\tlearn: 0.6437359\ttotal: 18.8ms\tremaining: 28.2ms\n",
      "40:\tlearn: 0.6430789\ttotal: 19.2ms\tremaining: 27.7ms\n",
      "41:\tlearn: 0.6418381\ttotal: 20.2ms\tremaining: 27.9ms\n",
      "42:\tlearn: 0.6411294\ttotal: 20.7ms\tremaining: 27.5ms\n",
      "43:\tlearn: 0.6405129\ttotal: 21.7ms\tremaining: 27.7ms\n",
      "44:\tlearn: 0.6392838\ttotal: 22.2ms\tremaining: 27.2ms\n",
      "45:\tlearn: 0.6384610\ttotal: 22.7ms\tremaining: 26.7ms\n",
      "46:\tlearn: 0.6374944\ttotal: 23.2ms\tremaining: 26.2ms\n",
      "47:\tlearn: 0.6365298\ttotal: 23.5ms\tremaining: 25.5ms\n",
      "48:\tlearn: 0.6356857\ttotal: 24ms\tremaining: 25ms\n",
      "49:\tlearn: 0.6341330\ttotal: 24.5ms\tremaining: 24.5ms\n",
      "50:\tlearn: 0.6334021\ttotal: 24.8ms\tremaining: 23.9ms\n",
      "51:\tlearn: 0.6327249\ttotal: 25.3ms\tremaining: 23.4ms\n",
      "52:\tlearn: 0.6319412\ttotal: 25.9ms\tremaining: 22.9ms\n",
      "53:\tlearn: 0.6312219\ttotal: 26.4ms\tremaining: 22.5ms\n",
      "54:\tlearn: 0.6304799\ttotal: 26.7ms\tremaining: 21.8ms\n",
      "55:\tlearn: 0.6298122\ttotal: 27.2ms\tremaining: 21.4ms\n",
      "56:\tlearn: 0.6292985\ttotal: 27.7ms\tremaining: 20.9ms\n",
      "57:\tlearn: 0.6284958\ttotal: 28ms\tremaining: 20.3ms\n",
      "58:\tlearn: 0.6279797\ttotal: 28.4ms\tremaining: 19.7ms\n",
      "59:\tlearn: 0.6276236\ttotal: 28.9ms\tremaining: 19.2ms\n",
      "60:\tlearn: 0.6272318\ttotal: 29.4ms\tremaining: 18.8ms\n",
      "61:\tlearn: 0.6262698\ttotal: 29.7ms\tremaining: 18.2ms\n",
      "62:\tlearn: 0.6249902\ttotal: 30.2ms\tremaining: 17.7ms\n",
      "63:\tlearn: 0.6237614\ttotal: 30.6ms\tremaining: 17.2ms\n",
      "64:\tlearn: 0.6230591\ttotal: 31.1ms\tremaining: 16.7ms\n",
      "65:\tlearn: 0.6223281\ttotal: 31.5ms\tremaining: 16.2ms\n",
      "66:\tlearn: 0.6210772\ttotal: 31.9ms\tremaining: 15.7ms\n",
      "67:\tlearn: 0.6201699\ttotal: 33.4ms\tremaining: 15.7ms\n",
      "68:\tlearn: 0.6194989\ttotal: 33.9ms\tremaining: 15.2ms\n",
      "69:\tlearn: 0.6186256\ttotal: 34.2ms\tremaining: 14.7ms\n",
      "70:\tlearn: 0.6182262\ttotal: 34.7ms\tremaining: 14.2ms\n",
      "71:\tlearn: 0.6171353\ttotal: 35.1ms\tremaining: 13.7ms\n",
      "72:\tlearn: 0.6159681\ttotal: 35.5ms\tremaining: 13.1ms\n",
      "73:\tlearn: 0.6150783\ttotal: 36ms\tremaining: 12.7ms\n",
      "74:\tlearn: 0.6141984\ttotal: 36.5ms\tremaining: 12.2ms\n",
      "75:\tlearn: 0.6135153\ttotal: 37ms\tremaining: 11.7ms\n",
      "76:\tlearn: 0.6130145\ttotal: 37.4ms\tremaining: 11.2ms\n",
      "77:\tlearn: 0.6123260\ttotal: 37.9ms\tremaining: 10.7ms\n",
      "78:\tlearn: 0.6117116\ttotal: 38.4ms\tremaining: 10.2ms\n",
      "79:\tlearn: 0.6112718\ttotal: 38.8ms\tremaining: 9.69ms\n",
      "80:\tlearn: 0.6108745\ttotal: 39.2ms\tremaining: 9.19ms\n",
      "81:\tlearn: 0.6094331\ttotal: 39.6ms\tremaining: 8.69ms\n",
      "82:\tlearn: 0.6084370\ttotal: 40ms\tremaining: 8.18ms\n",
      "83:\tlearn: 0.6079291\ttotal: 40.3ms\tremaining: 7.68ms\n",
      "84:\tlearn: 0.6071487\ttotal: 40.8ms\tremaining: 7.21ms\n",
      "85:\tlearn: 0.6067359\ttotal: 41.1ms\tremaining: 6.69ms\n",
      "86:\tlearn: 0.6063491\ttotal: 41.4ms\tremaining: 6.18ms\n",
      "87:\tlearn: 0.6057083\ttotal: 41.8ms\tremaining: 5.7ms\n",
      "88:\tlearn: 0.6047740\ttotal: 42.3ms\tremaining: 5.22ms\n",
      "89:\tlearn: 0.6042183\ttotal: 42.6ms\tremaining: 4.73ms\n",
      "90:\tlearn: 0.6037908\ttotal: 43.1ms\tremaining: 4.26ms\n",
      "91:\tlearn: 0.6033102\ttotal: 43.6ms\tremaining: 3.79ms\n",
      "92:\tlearn: 0.6028511\ttotal: 44.1ms\tremaining: 3.32ms\n",
      "93:\tlearn: 0.6024094\ttotal: 44.3ms\tremaining: 2.83ms\n",
      "94:\tlearn: 0.6017547\ttotal: 44.8ms\tremaining: 2.36ms\n",
      "95:\tlearn: 0.6007546\ttotal: 45.4ms\tremaining: 1.89ms\n",
      "96:\tlearn: 0.5999483\ttotal: 46ms\tremaining: 1.42ms\n",
      "97:\tlearn: 0.5993728\ttotal: 46.5ms\tremaining: 949us\n",
      "98:\tlearn: 0.5982454\ttotal: 47ms\tremaining: 475us\n",
      "99:\tlearn: 0.5978764\ttotal: 47.5ms\tremaining: 0us\n",
      "Learning rate set to 0.017911\n",
      "0:\tlearn: 0.6910561\ttotal: 625us\tremaining: 61.9ms\n",
      "1:\tlearn: 0.6898982\ttotal: 1.13ms\tremaining: 55.2ms\n",
      "2:\tlearn: 0.6889588\ttotal: 1.63ms\tremaining: 52.8ms\n",
      "3:\tlearn: 0.6872815\ttotal: 2.13ms\tremaining: 51ms\n",
      "4:\tlearn: 0.6862558\ttotal: 2.62ms\tremaining: 49.8ms\n",
      "5:\tlearn: 0.6853035\ttotal: 2.9ms\tremaining: 45.4ms\n",
      "6:\tlearn: 0.6835309\ttotal: 3.4ms\tremaining: 45.2ms\n",
      "7:\tlearn: 0.6823843\ttotal: 3.69ms\tremaining: 42.4ms\n",
      "8:\tlearn: 0.6816772\ttotal: 4.16ms\tremaining: 42ms\n",
      "9:\tlearn: 0.6810119\ttotal: 4.65ms\tremaining: 41.9ms\n",
      "10:\tlearn: 0.6792522\ttotal: 5.07ms\tremaining: 41ms\n",
      "11:\tlearn: 0.6777725\ttotal: 5.78ms\tremaining: 42.4ms\n",
      "12:\tlearn: 0.6771920\ttotal: 6.3ms\tremaining: 42.2ms\n",
      "13:\tlearn: 0.6754544\ttotal: 6.81ms\tremaining: 41.8ms\n",
      "14:\tlearn: 0.6742043\ttotal: 7.31ms\tremaining: 41.4ms\n"
     ]
    },
    {
     "name": "stdout",
     "output_type": "stream",
     "text": [
      "15:\tlearn: 0.6726624\ttotal: 8.54ms\tremaining: 44.8ms\n",
      "16:\tlearn: 0.6713138\ttotal: 9.13ms\tremaining: 44.6ms\n",
      "17:\tlearn: 0.6700474\ttotal: 9.58ms\tremaining: 43.7ms\n",
      "18:\tlearn: 0.6684762\ttotal: 10.2ms\tremaining: 43.3ms\n",
      "19:\tlearn: 0.6678402\ttotal: 10.7ms\tremaining: 42.7ms\n",
      "20:\tlearn: 0.6671717\ttotal: 11.2ms\tremaining: 42.2ms\n",
      "21:\tlearn: 0.6654438\ttotal: 11.7ms\tremaining: 41.4ms\n",
      "22:\tlearn: 0.6645654\ttotal: 12.1ms\tremaining: 40.6ms\n",
      "23:\tlearn: 0.6632563\ttotal: 12.6ms\tremaining: 39.8ms\n",
      "24:\tlearn: 0.6619319\ttotal: 13ms\tremaining: 39ms\n",
      "25:\tlearn: 0.6607277\ttotal: 13.4ms\tremaining: 38.2ms\n",
      "26:\tlearn: 0.6595172\ttotal: 13.7ms\tremaining: 37ms\n",
      "27:\tlearn: 0.6583541\ttotal: 14.1ms\tremaining: 36.2ms\n",
      "28:\tlearn: 0.6569856\ttotal: 14.5ms\tremaining: 35.5ms\n",
      "29:\tlearn: 0.6561880\ttotal: 14.8ms\tremaining: 34.6ms\n",
      "30:\tlearn: 0.6552510\ttotal: 15.2ms\tremaining: 33.9ms\n",
      "31:\tlearn: 0.6542621\ttotal: 15.7ms\tremaining: 33.3ms\n",
      "32:\tlearn: 0.6532708\ttotal: 16.1ms\tremaining: 32.7ms\n",
      "33:\tlearn: 0.6521462\ttotal: 16.3ms\tremaining: 31.6ms\n",
      "34:\tlearn: 0.6500807\ttotal: 16.7ms\tremaining: 31.1ms\n",
      "35:\tlearn: 0.6492077\ttotal: 17.1ms\tremaining: 30.5ms\n",
      "36:\tlearn: 0.6480146\ttotal: 18ms\tremaining: 30.7ms\n",
      "37:\tlearn: 0.6470046\ttotal: 18.7ms\tremaining: 30.5ms\n",
      "38:\tlearn: 0.6458284\ttotal: 19.2ms\tremaining: 30.1ms\n",
      "39:\tlearn: 0.6443272\ttotal: 19.7ms\tremaining: 29.6ms\n",
      "40:\tlearn: 0.6435907\ttotal: 20.2ms\tremaining: 29.1ms\n",
      "41:\tlearn: 0.6425014\ttotal: 20.5ms\tremaining: 28.3ms\n",
      "42:\tlearn: 0.6412905\ttotal: 21ms\tremaining: 27.8ms\n",
      "43:\tlearn: 0.6404135\ttotal: 21.4ms\tremaining: 27.2ms\n",
      "44:\tlearn: 0.6394046\ttotal: 21.9ms\tremaining: 26.8ms\n",
      "45:\tlearn: 0.6386640\ttotal: 22.4ms\tremaining: 26.2ms\n",
      "46:\tlearn: 0.6378071\ttotal: 22.8ms\tremaining: 25.7ms\n",
      "47:\tlearn: 0.6367595\ttotal: 23.3ms\tremaining: 25.3ms\n",
      "48:\tlearn: 0.6359982\ttotal: 23.8ms\tremaining: 24.8ms\n",
      "49:\tlearn: 0.6355079\ttotal: 24.1ms\tremaining: 24.1ms\n",
      "50:\tlearn: 0.6347425\ttotal: 24.4ms\tremaining: 23.5ms\n",
      "51:\tlearn: 0.6341017\ttotal: 24.9ms\tremaining: 23ms\n",
      "52:\tlearn: 0.6332938\ttotal: 25.4ms\tremaining: 22.5ms\n",
      "53:\tlearn: 0.6325739\ttotal: 25.9ms\tremaining: 22.1ms\n",
      "54:\tlearn: 0.6317224\ttotal: 26.2ms\tremaining: 21.4ms\n",
      "55:\tlearn: 0.6313191\ttotal: 26.6ms\tremaining: 20.9ms\n",
      "56:\tlearn: 0.6304940\ttotal: 27.1ms\tremaining: 20.5ms\n",
      "57:\tlearn: 0.6295348\ttotal: 27.6ms\tremaining: 20ms\n",
      "58:\tlearn: 0.6284514\ttotal: 28.1ms\tremaining: 19.5ms\n",
      "59:\tlearn: 0.6275688\ttotal: 28.5ms\tremaining: 19ms\n",
      "60:\tlearn: 0.6266062\ttotal: 28.9ms\tremaining: 18.4ms\n",
      "61:\tlearn: 0.6259264\ttotal: 29.1ms\tremaining: 17.9ms\n",
      "62:\tlearn: 0.6245656\ttotal: 29.6ms\tremaining: 17.4ms\n",
      "63:\tlearn: 0.6238894\ttotal: 30.7ms\tremaining: 17.3ms\n",
      "64:\tlearn: 0.6228215\ttotal: 31.3ms\tremaining: 16.9ms\n",
      "65:\tlearn: 0.6219653\ttotal: 32ms\tremaining: 16.5ms\n",
      "66:\tlearn: 0.6210131\ttotal: 32.5ms\tremaining: 16ms\n",
      "67:\tlearn: 0.6204484\ttotal: 32.9ms\tremaining: 15.5ms\n",
      "68:\tlearn: 0.6198429\ttotal: 33.5ms\tremaining: 15ms\n",
      "69:\tlearn: 0.6195359\ttotal: 34ms\tremaining: 14.6ms\n",
      "70:\tlearn: 0.6177500\ttotal: 34.6ms\tremaining: 14.1ms\n",
      "71:\tlearn: 0.6162449\ttotal: 35.4ms\tremaining: 13.8ms\n",
      "72:\tlearn: 0.6153975\ttotal: 36.3ms\tremaining: 13.4ms\n",
      "73:\tlearn: 0.6136066\ttotal: 36.8ms\tremaining: 12.9ms\n",
      "74:\tlearn: 0.6128417\ttotal: 37.3ms\tremaining: 12.4ms\n",
      "75:\tlearn: 0.6120986\ttotal: 37.8ms\tremaining: 12ms\n",
      "76:\tlearn: 0.6111809\ttotal: 38.3ms\tremaining: 11.4ms\n",
      "77:\tlearn: 0.6107287\ttotal: 38.7ms\tremaining: 10.9ms\n",
      "78:\tlearn: 0.6104492\ttotal: 39.2ms\tremaining: 10.4ms\n",
      "79:\tlearn: 0.6098908\ttotal: 39.7ms\tremaining: 9.93ms\n",
      "80:\tlearn: 0.6088215\ttotal: 40.2ms\tremaining: 9.44ms\n",
      "81:\tlearn: 0.6079918\ttotal: 40.8ms\tremaining: 8.95ms\n",
      "82:\tlearn: 0.6070642\ttotal: 41.2ms\tremaining: 8.45ms\n",
      "83:\tlearn: 0.6064051\ttotal: 41.6ms\tremaining: 7.92ms\n",
      "84:\tlearn: 0.6059529\ttotal: 41.9ms\tremaining: 7.38ms\n",
      "85:\tlearn: 0.6054693\ttotal: 42.3ms\tremaining: 6.88ms\n",
      "86:\tlearn: 0.6045214\ttotal: 43.3ms\tremaining: 6.47ms\n",
      "87:\tlearn: 0.6039148\ttotal: 44.6ms\tremaining: 6.08ms\n",
      "88:\tlearn: 0.6033082\ttotal: 45.1ms\tremaining: 5.57ms\n",
      "89:\tlearn: 0.6027369\ttotal: 45.6ms\tremaining: 5.06ms\n",
      "90:\tlearn: 0.6014871\ttotal: 46.1ms\tremaining: 4.55ms\n",
      "91:\tlearn: 0.6006199\ttotal: 46.6ms\tremaining: 4.05ms\n",
      "92:\tlearn: 0.6001488\ttotal: 47ms\tremaining: 3.54ms\n",
      "93:\tlearn: 0.5992443\ttotal: 47.5ms\tremaining: 3.03ms\n",
      "94:\tlearn: 0.5986307\ttotal: 47.8ms\tremaining: 2.52ms\n",
      "95:\tlearn: 0.5978188\ttotal: 48.2ms\tremaining: 2.01ms\n",
      "96:\tlearn: 0.5975232\ttotal: 48.8ms\tremaining: 1.51ms\n",
      "97:\tlearn: 0.5968423\ttotal: 49.3ms\tremaining: 1ms\n",
      "98:\tlearn: 0.5962918\ttotal: 49.7ms\tremaining: 502us\n",
      "99:\tlearn: 0.5952890\ttotal: 50.3ms\tremaining: 0us\n",
      "Learning rate set to 0.017911\n",
      "0:\tlearn: 0.6909695\ttotal: 592us\tremaining: 58.7ms\n",
      "1:\tlearn: 0.6900529\ttotal: 1.11ms\tremaining: 54.3ms\n",
      "2:\tlearn: 0.6890877\ttotal: 1.62ms\tremaining: 52.5ms\n",
      "3:\tlearn: 0.6874169\ttotal: 2.13ms\tremaining: 51.1ms\n",
      "4:\tlearn: 0.6863910\ttotal: 2.73ms\tremaining: 51.9ms\n",
      "5:\tlearn: 0.6854410\ttotal: 2.99ms\tremaining: 46.9ms\n",
      "6:\tlearn: 0.6835934\ttotal: 3.5ms\tremaining: 46.6ms\n",
      "7:\tlearn: 0.6824506\ttotal: 3.79ms\tremaining: 43.6ms\n",
      "8:\tlearn: 0.6817457\ttotal: 4.25ms\tremaining: 43ms\n",
      "9:\tlearn: 0.6807878\ttotal: 4.73ms\tremaining: 42.5ms\n",
      "10:\tlearn: 0.6790234\ttotal: 5.08ms\tremaining: 41.1ms\n",
      "11:\tlearn: 0.6774536\ttotal: 5.46ms\tremaining: 40ms\n",
      "12:\tlearn: 0.6764901\ttotal: 5.88ms\tremaining: 39.4ms\n",
      "13:\tlearn: 0.6752876\ttotal: 6.19ms\tremaining: 38ms\n",
      "14:\tlearn: 0.6736442\ttotal: 6.64ms\tremaining: 37.6ms\n",
      "15:\tlearn: 0.6724030\ttotal: 6.9ms\tremaining: 36.2ms\n",
      "16:\tlearn: 0.6709050\ttotal: 7.33ms\tremaining: 35.8ms\n",
      "17:\tlearn: 0.6695773\ttotal: 7.72ms\tremaining: 35.2ms\n",
      "18:\tlearn: 0.6683211\ttotal: 8.23ms\tremaining: 35.1ms\n",
      "19:\tlearn: 0.6667592\ttotal: 8.71ms\tremaining: 34.9ms\n",
      "20:\tlearn: 0.6661355\ttotal: 9.11ms\tremaining: 34.3ms\n",
      "21:\tlearn: 0.6654729\ttotal: 9.61ms\tremaining: 34.1ms\n",
      "22:\tlearn: 0.6641098\ttotal: 10.1ms\tremaining: 33.8ms\n",
      "23:\tlearn: 0.6632512\ttotal: 10.6ms\tremaining: 33.6ms\n",
      "24:\tlearn: 0.6619490\ttotal: 11.1ms\tremaining: 33.2ms\n",
      "25:\tlearn: 0.6606339\ttotal: 11.6ms\tremaining: 32.9ms\n",
      "26:\tlearn: 0.6594381\ttotal: 12ms\tremaining: 32.6ms\n",
      "27:\tlearn: 0.6582341\ttotal: 12.3ms\tremaining: 31.7ms\n",
      "28:\tlearn: 0.6572659\ttotal: 12.8ms\tremaining: 31.4ms\n",
      "29:\tlearn: 0.6560500\ttotal: 13.2ms\tremaining: 30.8ms\n",
      "30:\tlearn: 0.6549144\ttotal: 13.5ms\tremaining: 30.1ms\n",
      "31:\tlearn: 0.6537860\ttotal: 14ms\tremaining: 29.8ms\n",
      "32:\tlearn: 0.6530648\ttotal: 14.5ms\tremaining: 29.5ms\n",
      "33:\tlearn: 0.6522833\ttotal: 14.9ms\tremaining: 28.8ms\n",
      "34:\tlearn: 0.6507789\ttotal: 15.4ms\tremaining: 28.7ms\n",
      "35:\tlearn: 0.6487181\ttotal: 15.9ms\tremaining: 28.3ms\n",
      "36:\tlearn: 0.6478583\ttotal: 16.4ms\tremaining: 27.9ms\n",
      "37:\tlearn: 0.6468737\ttotal: 16.8ms\tremaining: 27.4ms\n",
      "38:\tlearn: 0.6458806\ttotal: 17.2ms\tremaining: 26.8ms\n",
      "39:\tlearn: 0.6446988\ttotal: 17.4ms\tremaining: 26.1ms\n",
      "40:\tlearn: 0.6432377\ttotal: 17.9ms\tremaining: 25.7ms\n",
      "41:\tlearn: 0.6425126\ttotal: 18.3ms\tremaining: 25.3ms\n",
      "42:\tlearn: 0.6414423\ttotal: 18.6ms\tremaining: 24.6ms\n",
      "43:\tlearn: 0.6402441\ttotal: 19ms\tremaining: 24.2ms\n",
      "44:\tlearn: 0.6393692\ttotal: 19.4ms\tremaining: 23.7ms\n",
      "45:\tlearn: 0.6383744\ttotal: 19.8ms\tremaining: 23.2ms\n",
      "46:\tlearn: 0.6376321\ttotal: 20.3ms\tremaining: 22.8ms\n",
      "47:\tlearn: 0.6367752\ttotal: 20.7ms\tremaining: 22.4ms\n",
      "48:\tlearn: 0.6355428\ttotal: 21.2ms\tremaining: 22ms\n",
      "49:\tlearn: 0.6345755\ttotal: 21.6ms\tremaining: 21.6ms\n",
      "50:\tlearn: 0.6339774\ttotal: 22.1ms\tremaining: 21.2ms\n",
      "51:\tlearn: 0.6332945\ttotal: 22.4ms\tremaining: 20.6ms\n",
      "52:\tlearn: 0.6322967\ttotal: 22.7ms\tremaining: 20.1ms\n",
      "53:\tlearn: 0.6315214\ttotal: 23.2ms\tremaining: 19.8ms\n",
      "54:\tlearn: 0.6301209\ttotal: 23.7ms\tremaining: 19.4ms\n",
      "55:\tlearn: 0.6296853\ttotal: 24.2ms\tremaining: 19ms\n",
      "56:\tlearn: 0.6290414\ttotal: 24.7ms\tremaining: 18.6ms\n",
      "57:\tlearn: 0.6282983\ttotal: 25.3ms\tremaining: 18.3ms\n",
      "58:\tlearn: 0.6275523\ttotal: 25.8ms\tremaining: 17.9ms\n",
      "59:\tlearn: 0.6264460\ttotal: 26.3ms\tremaining: 17.5ms\n",
      "60:\tlearn: 0.6256231\ttotal: 26.6ms\tremaining: 17ms\n",
      "61:\tlearn: 0.6246277\ttotal: 27ms\tremaining: 16.5ms\n",
      "62:\tlearn: 0.6236038\ttotal: 28.1ms\tremaining: 16.5ms\n",
      "63:\tlearn: 0.6221847\ttotal: 28.7ms\tremaining: 16.1ms\n",
      "64:\tlearn: 0.6214033\ttotal: 29.2ms\tremaining: 15.7ms\n",
      "65:\tlearn: 0.6203487\ttotal: 29.7ms\tremaining: 15.3ms\n",
      "66:\tlearn: 0.6195085\ttotal: 30.3ms\tremaining: 14.9ms\n",
      "67:\tlearn: 0.6185765\ttotal: 30.7ms\tremaining: 14.4ms\n",
      "68:\tlearn: 0.6180116\ttotal: 31.1ms\tremaining: 14ms\n",
      "69:\tlearn: 0.6174573\ttotal: 31.6ms\tremaining: 13.5ms\n",
      "70:\tlearn: 0.6170475\ttotal: 32.1ms\tremaining: 13.1ms\n",
      "71:\tlearn: 0.6152708\ttotal: 32.6ms\tremaining: 12.7ms\n",
      "72:\tlearn: 0.6143077\ttotal: 33ms\tremaining: 12.2ms\n",
      "73:\tlearn: 0.6134880\ttotal: 33.3ms\tremaining: 11.7ms\n",
      "74:\tlearn: 0.6122721\ttotal: 33.8ms\tremaining: 11.3ms\n",
      "75:\tlearn: 0.6116106\ttotal: 34.3ms\tremaining: 10.8ms\n",
      "76:\tlearn: 0.6108640\ttotal: 34.8ms\tremaining: 10.4ms\n",
      "77:\tlearn: 0.6104800\ttotal: 35.3ms\tremaining: 9.95ms\n",
      "78:\tlearn: 0.6100268\ttotal: 35.7ms\tremaining: 9.49ms\n",
      "79:\tlearn: 0.6097586\ttotal: 36.2ms\tremaining: 9.05ms\n",
      "80:\tlearn: 0.6091316\ttotal: 36.5ms\tremaining: 8.55ms\n",
      "81:\tlearn: 0.6083536\ttotal: 36.9ms\tremaining: 8.11ms\n",
      "82:\tlearn: 0.6075700\ttotal: 37.5ms\tremaining: 7.67ms\n",
      "83:\tlearn: 0.6067715\ttotal: 37.8ms\tremaining: 7.2ms\n",
      "84:\tlearn: 0.6060418\ttotal: 38.5ms\tremaining: 6.8ms\n",
      "85:\tlearn: 0.6054014\ttotal: 38.8ms\tremaining: 6.32ms\n",
      "86:\tlearn: 0.6048259\ttotal: 39.1ms\tremaining: 5.85ms\n",
      "87:\tlearn: 0.6042613\ttotal: 39.5ms\tremaining: 5.39ms\n",
      "88:\tlearn: 0.6033662\ttotal: 40ms\tremaining: 4.95ms\n",
      "89:\tlearn: 0.6027561\ttotal: 40.9ms\tremaining: 4.54ms\n",
      "90:\tlearn: 0.6021611\ttotal: 41.5ms\tremaining: 4.11ms\n",
      "91:\tlearn: 0.6015894\ttotal: 42.2ms\tremaining: 3.67ms\n",
      "92:\tlearn: 0.6003840\ttotal: 42.7ms\tremaining: 3.21ms\n",
      "93:\tlearn: 0.5995440\ttotal: 43.2ms\tremaining: 2.76ms\n",
      "94:\tlearn: 0.5990989\ttotal: 43.7ms\tremaining: 2.3ms\n",
      "95:\tlearn: 0.5985006\ttotal: 44.2ms\tremaining: 1.84ms\n",
      "96:\tlearn: 0.5979219\ttotal: 44.4ms\tremaining: 1.37ms\n",
      "97:\tlearn: 0.5970574\ttotal: 44.8ms\tremaining: 914us\n",
      "98:\tlearn: 0.5967465\ttotal: 45.4ms\tremaining: 458us\n",
      "99:\tlearn: 0.5960815\ttotal: 46ms\tremaining: 0us\n",
      "Learning rate set to 0.017911\n",
      "0:\tlearn: 0.6922193\ttotal: 632us\tremaining: 62.6ms\n",
      "1:\tlearn: 0.6912390\ttotal: 1.72ms\tremaining: 84.5ms\n",
      "2:\tlearn: 0.6900154\ttotal: 2.33ms\tremaining: 75.5ms\n",
      "3:\tlearn: 0.6892785\ttotal: 2.79ms\tremaining: 67ms\n",
      "4:\tlearn: 0.6884983\ttotal: 3.22ms\tremaining: 61.3ms\n",
      "5:\tlearn: 0.6876650\ttotal: 3.88ms\tremaining: 60.8ms\n",
      "6:\tlearn: 0.6860590\ttotal: 4.32ms\tremaining: 57.3ms\n",
      "7:\tlearn: 0.6848017\ttotal: 4.8ms\tremaining: 55.2ms\n",
      "8:\tlearn: 0.6841394\ttotal: 5.28ms\tremaining: 53.4ms\n",
      "9:\tlearn: 0.6830426\ttotal: 5.74ms\tremaining: 51.6ms\n",
      "10:\tlearn: 0.6821785\ttotal: 6.07ms\tremaining: 49.1ms\n",
      "11:\tlearn: 0.6810061\ttotal: 6.5ms\tremaining: 47.7ms\n",
      "12:\tlearn: 0.6802846\ttotal: 6.97ms\tremaining: 46.7ms\n"
     ]
    },
    {
     "name": "stdout",
     "output_type": "stream",
     "text": [
      "13:\tlearn: 0.6793105\ttotal: 8.23ms\tremaining: 50.6ms\n",
      "14:\tlearn: 0.6784372\ttotal: 8.88ms\tremaining: 50.3ms\n",
      "15:\tlearn: 0.6771383\ttotal: 9.34ms\tremaining: 49ms\n",
      "16:\tlearn: 0.6761833\ttotal: 10.1ms\tremaining: 49.3ms\n",
      "17:\tlearn: 0.6745878\ttotal: 10.6ms\tremaining: 48.3ms\n",
      "18:\tlearn: 0.6737200\ttotal: 11.1ms\tremaining: 47.2ms\n",
      "19:\tlearn: 0.6727385\ttotal: 11.4ms\tremaining: 45.6ms\n",
      "20:\tlearn: 0.6713868\ttotal: 11.9ms\tremaining: 44.7ms\n",
      "21:\tlearn: 0.6702973\ttotal: 12.4ms\tremaining: 43.9ms\n",
      "22:\tlearn: 0.6694550\ttotal: 12.8ms\tremaining: 42.8ms\n",
      "23:\tlearn: 0.6682717\ttotal: 13.2ms\tremaining: 41.9ms\n",
      "24:\tlearn: 0.6670202\ttotal: 13.7ms\tremaining: 41.1ms\n",
      "25:\tlearn: 0.6656937\ttotal: 14.7ms\tremaining: 41.8ms\n",
      "26:\tlearn: 0.6644810\ttotal: 15.1ms\tremaining: 40.7ms\n",
      "27:\tlearn: 0.6634560\ttotal: 16ms\tremaining: 41.1ms\n",
      "28:\tlearn: 0.6625488\ttotal: 16.5ms\tremaining: 40.3ms\n",
      "29:\tlearn: 0.6614173\ttotal: 16.9ms\tremaining: 39.4ms\n",
      "30:\tlearn: 0.6601288\ttotal: 17.2ms\tremaining: 38.3ms\n",
      "31:\tlearn: 0.6595681\ttotal: 17.7ms\tremaining: 37.7ms\n",
      "32:\tlearn: 0.6588345\ttotal: 18.1ms\tremaining: 36.7ms\n",
      "33:\tlearn: 0.6582081\ttotal: 18.6ms\tremaining: 36.1ms\n",
      "34:\tlearn: 0.6574053\ttotal: 18.9ms\tremaining: 35.2ms\n",
      "35:\tlearn: 0.6562303\ttotal: 19.4ms\tremaining: 34.5ms\n",
      "36:\tlearn: 0.6554961\ttotal: 19.7ms\tremaining: 33.5ms\n",
      "37:\tlearn: 0.6546289\ttotal: 20.1ms\tremaining: 32.9ms\n",
      "38:\tlearn: 0.6530241\ttotal: 20.5ms\tremaining: 32.1ms\n",
      "39:\tlearn: 0.6519577\ttotal: 20.8ms\tremaining: 31.1ms\n",
      "40:\tlearn: 0.6510247\ttotal: 21.3ms\tremaining: 30.6ms\n",
      "41:\tlearn: 0.6500655\ttotal: 21.8ms\tremaining: 30.1ms\n",
      "42:\tlearn: 0.6486974\ttotal: 22ms\tremaining: 29.2ms\n",
      "43:\tlearn: 0.6476960\ttotal: 22.5ms\tremaining: 28.7ms\n",
      "44:\tlearn: 0.6471006\ttotal: 23.1ms\tremaining: 28.3ms\n",
      "45:\tlearn: 0.6460647\ttotal: 23.6ms\tremaining: 27.7ms\n",
      "46:\tlearn: 0.6452805\ttotal: 24.1ms\tremaining: 27.2ms\n",
      "47:\tlearn: 0.6445894\ttotal: 24.6ms\tremaining: 26.6ms\n",
      "48:\tlearn: 0.6436995\ttotal: 25ms\tremaining: 26ms\n",
      "49:\tlearn: 0.6430671\ttotal: 25.5ms\tremaining: 25.5ms\n",
      "50:\tlearn: 0.6418026\ttotal: 25.8ms\tremaining: 24.8ms\n",
      "51:\tlearn: 0.6413140\ttotal: 26.2ms\tremaining: 24.2ms\n",
      "52:\tlearn: 0.6404836\ttotal: 26.6ms\tremaining: 23.6ms\n",
      "53:\tlearn: 0.6393023\ttotal: 27ms\tremaining: 23ms\n",
      "54:\tlearn: 0.6382345\ttotal: 27.4ms\tremaining: 22.4ms\n",
      "55:\tlearn: 0.6377008\ttotal: 27.8ms\tremaining: 21.9ms\n",
      "56:\tlearn: 0.6361905\ttotal: 28.4ms\tremaining: 21.4ms\n",
      "57:\tlearn: 0.6349745\ttotal: 28.8ms\tremaining: 20.9ms\n",
      "58:\tlearn: 0.6342931\ttotal: 29.2ms\tremaining: 20.3ms\n",
      "59:\tlearn: 0.6330081\ttotal: 29.6ms\tremaining: 19.7ms\n",
      "60:\tlearn: 0.6325551\ttotal: 30.1ms\tremaining: 19.3ms\n",
      "61:\tlearn: 0.6318206\ttotal: 30.5ms\tremaining: 18.7ms\n",
      "62:\tlearn: 0.6309332\ttotal: 30.9ms\tremaining: 18.1ms\n",
      "63:\tlearn: 0.6300134\ttotal: 31.3ms\tremaining: 17.6ms\n",
      "64:\tlearn: 0.6295649\ttotal: 32ms\tremaining: 17.2ms\n",
      "65:\tlearn: 0.6288023\ttotal: 32.3ms\tremaining: 16.6ms\n",
      "66:\tlearn: 0.6282053\ttotal: 32.7ms\tremaining: 16.1ms\n",
      "67:\tlearn: 0.6275610\ttotal: 33.2ms\tremaining: 15.6ms\n",
      "68:\tlearn: 0.6269517\ttotal: 33.5ms\tremaining: 15.1ms\n",
      "69:\tlearn: 0.6262924\ttotal: 33.8ms\tremaining: 14.5ms\n",
      "70:\tlearn: 0.6258269\ttotal: 34.3ms\tremaining: 14ms\n",
      "71:\tlearn: 0.6253136\ttotal: 34.7ms\tremaining: 13.5ms\n",
      "72:\tlearn: 0.6242966\ttotal: 35.1ms\tremaining: 13ms\n",
      "73:\tlearn: 0.6235357\ttotal: 35.6ms\tremaining: 12.5ms\n",
      "74:\tlearn: 0.6228547\ttotal: 36.2ms\tremaining: 12.1ms\n",
      "75:\tlearn: 0.6220789\ttotal: 36.6ms\tremaining: 11.5ms\n",
      "76:\tlearn: 0.6208422\ttotal: 37.3ms\tremaining: 11.2ms\n",
      "77:\tlearn: 0.6197197\ttotal: 39.2ms\tremaining: 11.1ms\n",
      "78:\tlearn: 0.6183337\ttotal: 39.7ms\tremaining: 10.6ms\n",
      "79:\tlearn: 0.6179579\ttotal: 40.2ms\tremaining: 10ms\n",
      "80:\tlearn: 0.6173108\ttotal: 40.6ms\tremaining: 9.53ms\n",
      "81:\tlearn: 0.6168141\ttotal: 41ms\tremaining: 9.01ms\n",
      "82:\tlearn: 0.6163830\ttotal: 41.5ms\tremaining: 8.49ms\n",
      "83:\tlearn: 0.6151912\ttotal: 42ms\tremaining: 8ms\n",
      "84:\tlearn: 0.6144079\ttotal: 42.4ms\tremaining: 7.49ms\n",
      "85:\tlearn: 0.6136551\ttotal: 42.8ms\tremaining: 6.96ms\n",
      "86:\tlearn: 0.6131523\ttotal: 43.2ms\tremaining: 6.45ms\n",
      "87:\tlearn: 0.6122236\ttotal: 43.5ms\tremaining: 5.93ms\n",
      "88:\tlearn: 0.6116312\ttotal: 43.8ms\tremaining: 5.42ms\n",
      "89:\tlearn: 0.6111276\ttotal: 44.2ms\tremaining: 4.91ms\n",
      "90:\tlearn: 0.6105957\ttotal: 44.7ms\tremaining: 4.42ms\n",
      "91:\tlearn: 0.6100670\ttotal: 45.2ms\tremaining: 3.93ms\n",
      "92:\tlearn: 0.6095543\ttotal: 45.7ms\tremaining: 3.44ms\n",
      "93:\tlearn: 0.6085581\ttotal: 46.1ms\tremaining: 2.94ms\n",
      "94:\tlearn: 0.6075218\ttotal: 46.6ms\tremaining: 2.45ms\n",
      "95:\tlearn: 0.6063432\ttotal: 47.1ms\tremaining: 1.96ms\n",
      "96:\tlearn: 0.6056453\ttotal: 47.6ms\tremaining: 1.47ms\n",
      "97:\tlearn: 0.6045879\ttotal: 48.1ms\tremaining: 981us\n",
      "98:\tlearn: 0.6037683\ttotal: 48.3ms\tremaining: 488us\n",
      "99:\tlearn: 0.6029617\ttotal: 48.5ms\tremaining: 0us\n",
      "Learning rate set to 0.017911\n",
      "0:\tlearn: 0.6914042\ttotal: 593us\tremaining: 58.8ms\n",
      "1:\tlearn: 0.6906095\ttotal: 1.14ms\tremaining: 55.7ms\n",
      "2:\tlearn: 0.6898221\ttotal: 1.64ms\tremaining: 52.9ms\n",
      "3:\tlearn: 0.6890490\ttotal: 2.13ms\tremaining: 51ms\n",
      "4:\tlearn: 0.6880628\ttotal: 2.67ms\tremaining: 50.6ms\n",
      "5:\tlearn: 0.6871768\ttotal: 3.13ms\tremaining: 49.1ms\n",
      "6:\tlearn: 0.6857848\ttotal: 3.52ms\tremaining: 46.7ms\n",
      "7:\tlearn: 0.6850557\ttotal: 4ms\tremaining: 46ms\n",
      "8:\tlearn: 0.6844097\ttotal: 4.47ms\tremaining: 45.2ms\n",
      "9:\tlearn: 0.6831862\ttotal: 4.87ms\tremaining: 43.8ms\n",
      "10:\tlearn: 0.6823744\ttotal: 5.34ms\tremaining: 43.2ms\n",
      "11:\tlearn: 0.6818837\ttotal: 5.81ms\tremaining: 42.6ms\n",
      "12:\tlearn: 0.6802836\ttotal: 6.27ms\tremaining: 42ms\n",
      "13:\tlearn: 0.6794850\ttotal: 6.74ms\tremaining: 41.4ms\n",
      "14:\tlearn: 0.6787321\ttotal: 7.21ms\tremaining: 40.9ms\n",
      "15:\tlearn: 0.6778082\ttotal: 7.66ms\tremaining: 40.2ms\n",
      "16:\tlearn: 0.6766870\ttotal: 8.15ms\tremaining: 39.8ms\n",
      "17:\tlearn: 0.6756475\ttotal: 8.63ms\tremaining: 39.3ms\n",
      "18:\tlearn: 0.6750154\ttotal: 8.9ms\tremaining: 38ms\n",
      "19:\tlearn: 0.6743851\ttotal: 9.37ms\tremaining: 37.5ms\n",
      "20:\tlearn: 0.6736412\ttotal: 10.5ms\tremaining: 39.5ms\n",
      "21:\tlearn: 0.6730379\ttotal: 11ms\tremaining: 39.1ms\n",
      "22:\tlearn: 0.6718479\ttotal: 11.5ms\tremaining: 38.5ms\n",
      "23:\tlearn: 0.6703503\ttotal: 11.9ms\tremaining: 37.8ms\n",
      "24:\tlearn: 0.6698122\ttotal: 12.5ms\tremaining: 37.5ms\n",
      "25:\tlearn: 0.6686123\ttotal: 12.8ms\tremaining: 36.4ms\n",
      "26:\tlearn: 0.6678683\ttotal: 13.3ms\tremaining: 35.8ms\n",
      "27:\tlearn: 0.6664555\ttotal: 13.7ms\tremaining: 35.3ms\n",
      "28:\tlearn: 0.6655880\ttotal: 14ms\tremaining: 34.4ms\n",
      "29:\tlearn: 0.6646447\ttotal: 14.4ms\tremaining: 33.6ms\n",
      "30:\tlearn: 0.6641224\ttotal: 14.9ms\tremaining: 33.1ms\n",
      "31:\tlearn: 0.6634948\ttotal: 15.2ms\tremaining: 32.3ms\n",
      "32:\tlearn: 0.6623775\ttotal: 15.7ms\tremaining: 31.9ms\n",
      "33:\tlearn: 0.6615740\ttotal: 16ms\tremaining: 31.1ms\n",
      "34:\tlearn: 0.6604883\ttotal: 16.5ms\tremaining: 30.6ms\n",
      "35:\tlearn: 0.6597756\ttotal: 16.7ms\tremaining: 29.7ms\n",
      "36:\tlearn: 0.6590160\ttotal: 17.1ms\tremaining: 29.2ms\n",
      "37:\tlearn: 0.6579524\ttotal: 17.4ms\tremaining: 28.5ms\n",
      "38:\tlearn: 0.6568966\ttotal: 17.7ms\tremaining: 27.6ms\n",
      "39:\tlearn: 0.6560126\ttotal: 18.1ms\tremaining: 27.2ms\n",
      "40:\tlearn: 0.6554603\ttotal: 18.5ms\tremaining: 26.7ms\n",
      "41:\tlearn: 0.6544432\ttotal: 18.8ms\tremaining: 26ms\n",
      "42:\tlearn: 0.6539030\ttotal: 19.3ms\tremaining: 25.6ms\n",
      "43:\tlearn: 0.6533688\ttotal: 19.7ms\tremaining: 25.1ms\n",
      "44:\tlearn: 0.6525764\ttotal: 20.2ms\tremaining: 24.7ms\n",
      "45:\tlearn: 0.6516585\ttotal: 20.7ms\tremaining: 24.3ms\n",
      "46:\tlearn: 0.6506034\ttotal: 21ms\tremaining: 23.6ms\n",
      "47:\tlearn: 0.6498969\ttotal: 21.5ms\tremaining: 23.2ms\n",
      "48:\tlearn: 0.6491643\ttotal: 21.9ms\tremaining: 22.8ms\n",
      "49:\tlearn: 0.6483317\ttotal: 22.4ms\tremaining: 22.4ms\n",
      "50:\tlearn: 0.6478610\ttotal: 22.7ms\tremaining: 21.8ms\n",
      "51:\tlearn: 0.6471427\ttotal: 23ms\tremaining: 21.2ms\n",
      "52:\tlearn: 0.6462938\ttotal: 23.5ms\tremaining: 20.8ms\n",
      "53:\tlearn: 0.6456046\ttotal: 24ms\tremaining: 20.5ms\n",
      "54:\tlearn: 0.6450393\ttotal: 24.6ms\tremaining: 20.1ms\n",
      "55:\tlearn: 0.6446394\ttotal: 25.1ms\tremaining: 19.7ms\n",
      "56:\tlearn: 0.6443046\ttotal: 25.6ms\tremaining: 19.3ms\n",
      "57:\tlearn: 0.6436306\ttotal: 26ms\tremaining: 18.8ms\n",
      "58:\tlearn: 0.6429004\ttotal: 26.5ms\tremaining: 18.4ms\n",
      "59:\tlearn: 0.6422418\ttotal: 26.8ms\tremaining: 17.8ms\n",
      "60:\tlearn: 0.6418122\ttotal: 27.2ms\tremaining: 17.4ms\n",
      "61:\tlearn: 0.6413319\ttotal: 27.7ms\tremaining: 17ms\n",
      "62:\tlearn: 0.6409003\ttotal: 28.2ms\tremaining: 16.6ms\n",
      "63:\tlearn: 0.6403886\ttotal: 28.5ms\tremaining: 16.1ms\n",
      "64:\tlearn: 0.6397953\ttotal: 29ms\tremaining: 15.6ms\n",
      "65:\tlearn: 0.6392111\ttotal: 29.5ms\tremaining: 15.2ms\n",
      "66:\tlearn: 0.6387426\ttotal: 29.9ms\tremaining: 14.7ms\n",
      "67:\tlearn: 0.6379465\ttotal: 30.3ms\tremaining: 14.2ms\n",
      "68:\tlearn: 0.6372562\ttotal: 30.6ms\tremaining: 13.7ms\n",
      "69:\tlearn: 0.6366585\ttotal: 30.9ms\tremaining: 13.2ms\n",
      "70:\tlearn: 0.6358721\ttotal: 31.4ms\tremaining: 12.8ms\n",
      "71:\tlearn: 0.6355466\ttotal: 31.9ms\tremaining: 12.4ms\n",
      "72:\tlearn: 0.6349811\ttotal: 32.4ms\tremaining: 12ms\n",
      "73:\tlearn: 0.6343552\ttotal: 32.7ms\tremaining: 11.5ms\n",
      "74:\tlearn: 0.6336928\ttotal: 33.1ms\tremaining: 11ms\n",
      "75:\tlearn: 0.6331002\ttotal: 33.3ms\tremaining: 10.5ms\n",
      "76:\tlearn: 0.6323773\ttotal: 33.6ms\tremaining: 10ms\n",
      "77:\tlearn: 0.6318793\ttotal: 34.6ms\tremaining: 9.76ms\n",
      "78:\tlearn: 0.6312686\ttotal: 35ms\tremaining: 9.31ms\n",
      "79:\tlearn: 0.6308485\ttotal: 35.9ms\tremaining: 8.97ms\n",
      "80:\tlearn: 0.6303269\ttotal: 36.3ms\tremaining: 8.53ms\n",
      "81:\tlearn: 0.6300545\ttotal: 36.8ms\tremaining: 8.08ms\n",
      "82:\tlearn: 0.6298066\ttotal: 37.2ms\tremaining: 7.62ms\n",
      "83:\tlearn: 0.6292009\ttotal: 37.6ms\tremaining: 7.15ms\n",
      "84:\tlearn: 0.6285981\ttotal: 38ms\tremaining: 6.71ms\n",
      "85:\tlearn: 0.6282799\ttotal: 38.5ms\tremaining: 6.26ms\n",
      "86:\tlearn: 0.6277942\ttotal: 39ms\tremaining: 5.82ms\n",
      "87:\tlearn: 0.6273824\ttotal: 39.4ms\tremaining: 5.38ms\n",
      "88:\tlearn: 0.6269340\ttotal: 39.9ms\tremaining: 4.93ms\n",
      "89:\tlearn: 0.6264930\ttotal: 40.4ms\tremaining: 4.49ms\n",
      "90:\tlearn: 0.6261686\ttotal: 40.8ms\tremaining: 4.04ms\n",
      "91:\tlearn: 0.6257057\ttotal: 41.3ms\tremaining: 3.59ms\n",
      "92:\tlearn: 0.6252273\ttotal: 41.8ms\tremaining: 3.15ms\n",
      "93:\tlearn: 0.6249332\ttotal: 42.3ms\tremaining: 2.7ms\n",
      "94:\tlearn: 0.6245535\ttotal: 42.8ms\tremaining: 2.25ms\n",
      "95:\tlearn: 0.6241925\ttotal: 43.2ms\tremaining: 1.8ms\n",
      "96:\tlearn: 0.6235215\ttotal: 43.7ms\tremaining: 1.35ms\n",
      "97:\tlearn: 0.6229936\ttotal: 43.9ms\tremaining: 896us\n",
      "98:\tlearn: 0.6224791\ttotal: 44.1ms\tremaining: 445us\n",
      "99:\tlearn: 0.6221184\ttotal: 44.6ms\tremaining: 0us\n",
      "Learning rate set to 0.017911\n",
      "0:\tlearn: 0.6918351\ttotal: 635us\tremaining: 62.9ms\n",
      "1:\tlearn: 0.6909522\ttotal: 1.27ms\tremaining: 62.5ms\n",
      "2:\tlearn: 0.6900352\ttotal: 1.75ms\tremaining: 56.6ms\n",
      "3:\tlearn: 0.6893902\ttotal: 2.27ms\tremaining: 54.4ms\n",
      "4:\tlearn: 0.6886901\ttotal: 2.74ms\tremaining: 52.2ms\n",
      "5:\tlearn: 0.6874226\ttotal: 3.03ms\tremaining: 47.5ms\n",
      "6:\tlearn: 0.6859368\ttotal: 3.52ms\tremaining: 46.7ms\n",
      "7:\tlearn: 0.6848904\ttotal: 3.92ms\tremaining: 45.1ms\n",
      "8:\tlearn: 0.6834141\ttotal: 4.4ms\tremaining: 44.5ms\n",
      "9:\tlearn: 0.6824202\ttotal: 4.86ms\tremaining: 43.7ms\n",
      "10:\tlearn: 0.6811747\ttotal: 5.36ms\tremaining: 43.4ms\n",
      "11:\tlearn: 0.6803394\ttotal: 5.84ms\tremaining: 42.9ms\n",
      "12:\tlearn: 0.6798950\ttotal: 6.32ms\tremaining: 42.3ms\n",
      "13:\tlearn: 0.6791019\ttotal: 6.81ms\tremaining: 41.8ms\n",
      "14:\tlearn: 0.6780696\ttotal: 7.31ms\tremaining: 41.4ms\n",
      "15:\tlearn: 0.6770854\ttotal: 7.78ms\tremaining: 40.9ms\n",
      "16:\tlearn: 0.6762229\ttotal: 8.27ms\tremaining: 40.4ms\n",
      "17:\tlearn: 0.6746261\ttotal: 8.74ms\tremaining: 39.8ms\n",
      "18:\tlearn: 0.6737643\ttotal: 9.21ms\tremaining: 39.3ms\n"
     ]
    },
    {
     "name": "stdout",
     "output_type": "stream",
     "text": [
      "19:\tlearn: 0.6728807\ttotal: 11ms\tremaining: 43.9ms\n",
      "20:\tlearn: 0.6720347\ttotal: 11.7ms\tremaining: 43.8ms\n",
      "21:\tlearn: 0.6709818\ttotal: 12.1ms\tremaining: 42.9ms\n",
      "22:\tlearn: 0.6702653\ttotal: 12.7ms\tremaining: 42.7ms\n",
      "23:\tlearn: 0.6693534\ttotal: 13.9ms\tremaining: 44.1ms\n",
      "24:\tlearn: 0.6681741\ttotal: 15.1ms\tremaining: 45.3ms\n",
      "25:\tlearn: 0.6668833\ttotal: 15.7ms\tremaining: 44.6ms\n",
      "26:\tlearn: 0.6659936\ttotal: 15.9ms\tremaining: 43ms\n",
      "27:\tlearn: 0.6649576\ttotal: 16.4ms\tremaining: 42.1ms\n",
      "28:\tlearn: 0.6642341\ttotal: 16.9ms\tremaining: 41.3ms\n",
      "29:\tlearn: 0.6631666\ttotal: 17.2ms\tremaining: 40.1ms\n",
      "30:\tlearn: 0.6620194\ttotal: 17.5ms\tremaining: 39ms\n",
      "31:\tlearn: 0.6610090\ttotal: 17.9ms\tremaining: 37.9ms\n",
      "32:\tlearn: 0.6603474\ttotal: 18.3ms\tremaining: 37.2ms\n",
      "33:\tlearn: 0.6593276\ttotal: 18.7ms\tremaining: 36.2ms\n",
      "34:\tlearn: 0.6585492\ttotal: 19.2ms\tremaining: 35.6ms\n",
      "35:\tlearn: 0.6573788\ttotal: 19.6ms\tremaining: 34.8ms\n",
      "36:\tlearn: 0.6567831\ttotal: 19.8ms\tremaining: 33.8ms\n",
      "37:\tlearn: 0.6559778\ttotal: 20.3ms\tremaining: 33.1ms\n",
      "38:\tlearn: 0.6548811\ttotal: 20.6ms\tremaining: 32.2ms\n",
      "39:\tlearn: 0.6541118\ttotal: 20.8ms\tremaining: 31.2ms\n",
      "40:\tlearn: 0.6532647\ttotal: 21.4ms\tremaining: 30.7ms\n",
      "41:\tlearn: 0.6524580\ttotal: 21.9ms\tremaining: 30.3ms\n",
      "42:\tlearn: 0.6514687\ttotal: 22.2ms\tremaining: 29.4ms\n",
      "43:\tlearn: 0.6504392\ttotal: 22.6ms\tremaining: 28.8ms\n",
      "44:\tlearn: 0.6499116\ttotal: 23.1ms\tremaining: 28.2ms\n",
      "45:\tlearn: 0.6488282\ttotal: 23.6ms\tremaining: 27.7ms\n",
      "46:\tlearn: 0.6478946\ttotal: 24.1ms\tremaining: 27.2ms\n",
      "47:\tlearn: 0.6468895\ttotal: 24.6ms\tremaining: 26.7ms\n",
      "48:\tlearn: 0.6460257\ttotal: 24.9ms\tremaining: 25.9ms\n",
      "49:\tlearn: 0.6454508\ttotal: 25.4ms\tremaining: 25.4ms\n",
      "50:\tlearn: 0.6445856\ttotal: 25.7ms\tremaining: 24.7ms\n",
      "51:\tlearn: 0.6440598\ttotal: 26ms\tremaining: 24ms\n",
      "52:\tlearn: 0.6432912\ttotal: 26.4ms\tremaining: 23.4ms\n",
      "53:\tlearn: 0.6422923\ttotal: 27ms\tremaining: 23ms\n",
      "54:\tlearn: 0.6413471\ttotal: 27.4ms\tremaining: 22.4ms\n",
      "55:\tlearn: 0.6407393\ttotal: 27.9ms\tremaining: 21.9ms\n",
      "56:\tlearn: 0.6393129\ttotal: 28.4ms\tremaining: 21.4ms\n",
      "57:\tlearn: 0.6384946\ttotal: 28.9ms\tremaining: 20.9ms\n",
      "58:\tlearn: 0.6379737\ttotal: 29.2ms\tremaining: 20.3ms\n",
      "59:\tlearn: 0.6371052\ttotal: 29.5ms\tremaining: 19.7ms\n",
      "60:\tlearn: 0.6365896\ttotal: 29.9ms\tremaining: 19.1ms\n",
      "61:\tlearn: 0.6359293\ttotal: 30.3ms\tremaining: 18.6ms\n",
      "62:\tlearn: 0.6355601\ttotal: 30.7ms\tremaining: 18ms\n",
      "63:\tlearn: 0.6347611\ttotal: 31.1ms\tremaining: 17.5ms\n",
      "64:\tlearn: 0.6335504\ttotal: 31.7ms\tremaining: 17ms\n",
      "65:\tlearn: 0.6325591\ttotal: 32.1ms\tremaining: 16.6ms\n",
      "66:\tlearn: 0.6320862\ttotal: 32.6ms\tremaining: 16.1ms\n",
      "67:\tlearn: 0.6315189\ttotal: 33.1ms\tremaining: 15.6ms\n",
      "68:\tlearn: 0.6309056\ttotal: 33.4ms\tremaining: 15ms\n",
      "69:\tlearn: 0.6296497\ttotal: 33.8ms\tremaining: 14.5ms\n",
      "70:\tlearn: 0.6291895\ttotal: 34.3ms\tremaining: 14ms\n",
      "71:\tlearn: 0.6286945\ttotal: 34.8ms\tremaining: 13.5ms\n",
      "72:\tlearn: 0.6279221\ttotal: 35.3ms\tremaining: 13ms\n",
      "73:\tlearn: 0.6274388\ttotal: 35.8ms\tremaining: 12.6ms\n",
      "74:\tlearn: 0.6267551\ttotal: 36.2ms\tremaining: 12.1ms\n",
      "75:\tlearn: 0.6260810\ttotal: 36.7ms\tremaining: 11.6ms\n",
      "76:\tlearn: 0.6253911\ttotal: 37ms\tremaining: 11.1ms\n",
      "77:\tlearn: 0.6245228\ttotal: 37.5ms\tremaining: 10.6ms\n",
      "78:\tlearn: 0.6238516\ttotal: 37.8ms\tremaining: 10ms\n",
      "79:\tlearn: 0.6234563\ttotal: 38.7ms\tremaining: 9.69ms\n",
      "80:\tlearn: 0.6228726\ttotal: 39.4ms\tremaining: 9.24ms\n",
      "81:\tlearn: 0.6225167\ttotal: 39.8ms\tremaining: 8.75ms\n",
      "82:\tlearn: 0.6221040\ttotal: 40.2ms\tremaining: 8.24ms\n",
      "83:\tlearn: 0.6207894\ttotal: 40.7ms\tremaining: 7.75ms\n",
      "84:\tlearn: 0.6195953\ttotal: 41.2ms\tremaining: 7.27ms\n",
      "85:\tlearn: 0.6191086\ttotal: 41.5ms\tremaining: 6.76ms\n",
      "86:\tlearn: 0.6187279\ttotal: 42ms\tremaining: 6.27ms\n",
      "87:\tlearn: 0.6183028\ttotal: 42.3ms\tremaining: 5.76ms\n",
      "88:\tlearn: 0.6179098\ttotal: 42.5ms\tremaining: 5.26ms\n",
      "89:\tlearn: 0.6175607\ttotal: 42.9ms\tremaining: 4.77ms\n",
      "90:\tlearn: 0.6168395\ttotal: 43.4ms\tremaining: 4.29ms\n",
      "91:\tlearn: 0.6162719\ttotal: 43.7ms\tremaining: 3.8ms\n",
      "92:\tlearn: 0.6156647\ttotal: 44.2ms\tremaining: 3.33ms\n",
      "93:\tlearn: 0.6150319\ttotal: 44.8ms\tremaining: 2.86ms\n",
      "94:\tlearn: 0.6142826\ttotal: 45.3ms\tremaining: 2.38ms\n",
      "95:\tlearn: 0.6138568\ttotal: 45.5ms\tremaining: 1.9ms\n",
      "96:\tlearn: 0.6129013\ttotal: 46ms\tremaining: 1.42ms\n",
      "97:\tlearn: 0.6121776\ttotal: 46.4ms\tremaining: 947us\n",
      "98:\tlearn: 0.6112531\ttotal: 46.9ms\tremaining: 473us\n",
      "99:\tlearn: 0.6102386\ttotal: 47.3ms\tremaining: 0us\n",
      "Learning rate set to 0.018202\n",
      "0:\tlearn: 0.6909773\ttotal: 1.14ms\tremaining: 113ms\n",
      "1:\tlearn: 0.6896509\ttotal: 1.76ms\tremaining: 86.5ms\n",
      "2:\tlearn: 0.6887195\ttotal: 2.25ms\tremaining: 72.9ms\n",
      "3:\tlearn: 0.6869979\ttotal: 2.73ms\tremaining: 65.4ms\n",
      "4:\tlearn: 0.6857291\ttotal: 3.2ms\tremaining: 60.7ms\n",
      "5:\tlearn: 0.6840783\ttotal: 3.47ms\tremaining: 54.4ms\n",
      "6:\tlearn: 0.6826257\ttotal: 3.9ms\tremaining: 51.8ms\n",
      "7:\tlearn: 0.6812087\ttotal: 4.15ms\tremaining: 47.8ms\n",
      "8:\tlearn: 0.6801582\ttotal: 4.57ms\tremaining: 46.2ms\n",
      "9:\tlearn: 0.6790730\ttotal: 5.01ms\tremaining: 45.1ms\n",
      "10:\tlearn: 0.6772405\ttotal: 5.33ms\tremaining: 43.1ms\n",
      "11:\tlearn: 0.6754984\ttotal: 5.8ms\tremaining: 42.5ms\n",
      "12:\tlearn: 0.6745565\ttotal: 6.43ms\tremaining: 43.1ms\n",
      "13:\tlearn: 0.6726701\ttotal: 6.91ms\tremaining: 42.4ms\n",
      "14:\tlearn: 0.6711279\ttotal: 7.34ms\tremaining: 41.6ms\n",
      "15:\tlearn: 0.6695775\ttotal: 7.76ms\tremaining: 40.7ms\n",
      "16:\tlearn: 0.6680752\ttotal: 8.12ms\tremaining: 39.7ms\n",
      "17:\tlearn: 0.6665632\ttotal: 8.54ms\tremaining: 38.9ms\n",
      "18:\tlearn: 0.6646397\ttotal: 9.12ms\tremaining: 38.9ms\n",
      "19:\tlearn: 0.6635826\ttotal: 9.52ms\tremaining: 38.1ms\n",
      "20:\tlearn: 0.6629339\ttotal: 9.99ms\tremaining: 37.6ms\n",
      "21:\tlearn: 0.6618275\ttotal: 10.5ms\tremaining: 37.1ms\n",
      "22:\tlearn: 0.6606332\ttotal: 10.7ms\tremaining: 36ms\n",
      "23:\tlearn: 0.6595395\ttotal: 11.2ms\tremaining: 35.3ms\n",
      "24:\tlearn: 0.6579736\ttotal: 11.6ms\tremaining: 34.8ms\n",
      "25:\tlearn: 0.6569630\ttotal: 12.5ms\tremaining: 35.6ms\n",
      "26:\tlearn: 0.6560928\ttotal: 13ms\tremaining: 35.1ms\n",
      "27:\tlearn: 0.6547388\ttotal: 13.4ms\tremaining: 34.4ms\n",
      "28:\tlearn: 0.6532196\ttotal: 13.8ms\tremaining: 33.9ms\n",
      "29:\tlearn: 0.6517833\ttotal: 14.3ms\tremaining: 33.3ms\n",
      "30:\tlearn: 0.6505839\ttotal: 14.7ms\tremaining: 32.7ms\n",
      "31:\tlearn: 0.6492864\ttotal: 15ms\tremaining: 31.8ms\n",
      "32:\tlearn: 0.6486264\ttotal: 15.4ms\tremaining: 31.3ms\n",
      "33:\tlearn: 0.6471002\ttotal: 15.8ms\tremaining: 30.7ms\n",
      "34:\tlearn: 0.6450049\ttotal: 16.3ms\tremaining: 30.3ms\n",
      "35:\tlearn: 0.6437223\ttotal: 16.8ms\tremaining: 29.9ms\n",
      "36:\tlearn: 0.6423723\ttotal: 17.3ms\tremaining: 29.4ms\n",
      "37:\tlearn: 0.6411837\ttotal: 17.7ms\tremaining: 28.8ms\n",
      "38:\tlearn: 0.6398972\ttotal: 18ms\tremaining: 28.2ms\n",
      "39:\tlearn: 0.6389273\ttotal: 18.5ms\tremaining: 27.7ms\n",
      "40:\tlearn: 0.6379428\ttotal: 19ms\tremaining: 27.3ms\n",
      "41:\tlearn: 0.6368925\ttotal: 19.5ms\tremaining: 26.9ms\n",
      "42:\tlearn: 0.6360942\ttotal: 19.9ms\tremaining: 26.4ms\n",
      "43:\tlearn: 0.6352043\ttotal: 20.4ms\tremaining: 26ms\n",
      "44:\tlearn: 0.6339909\ttotal: 20.8ms\tremaining: 25.4ms\n",
      "45:\tlearn: 0.6331675\ttotal: 21.3ms\tremaining: 25ms\n",
      "46:\tlearn: 0.6318852\ttotal: 21.8ms\tremaining: 24.5ms\n",
      "47:\tlearn: 0.6309349\ttotal: 22.1ms\tremaining: 23.9ms\n",
      "48:\tlearn: 0.6293646\ttotal: 22.6ms\tremaining: 23.5ms\n",
      "49:\tlearn: 0.6286783\ttotal: 23ms\tremaining: 23ms\n",
      "50:\tlearn: 0.6276050\ttotal: 23.3ms\tremaining: 22.3ms\n",
      "51:\tlearn: 0.6265623\ttotal: 23.8ms\tremaining: 22ms\n",
      "52:\tlearn: 0.6252052\ttotal: 24.3ms\tremaining: 21.5ms\n",
      "53:\tlearn: 0.6246987\ttotal: 26ms\tremaining: 22.2ms\n",
      "54:\tlearn: 0.6236894\ttotal: 26.5ms\tremaining: 21.7ms\n",
      "55:\tlearn: 0.6229530\ttotal: 27.1ms\tremaining: 21.3ms\n",
      "56:\tlearn: 0.6221645\ttotal: 27.7ms\tremaining: 20.9ms\n",
      "57:\tlearn: 0.6210348\ttotal: 28.2ms\tremaining: 20.4ms\n",
      "58:\tlearn: 0.6203178\ttotal: 28.6ms\tremaining: 19.9ms\n",
      "59:\tlearn: 0.6193626\ttotal: 29ms\tremaining: 19.3ms\n",
      "60:\tlearn: 0.6183318\ttotal: 29.5ms\tremaining: 18.9ms\n",
      "61:\tlearn: 0.6168483\ttotal: 30ms\tremaining: 18.4ms\n",
      "62:\tlearn: 0.6159973\ttotal: 30.4ms\tremaining: 17.9ms\n",
      "63:\tlearn: 0.6151059\ttotal: 30.9ms\tremaining: 17.4ms\n",
      "64:\tlearn: 0.6142732\ttotal: 31.5ms\tremaining: 16.9ms\n",
      "65:\tlearn: 0.6132137\ttotal: 31.9ms\tremaining: 16.4ms\n",
      "66:\tlearn: 0.6123391\ttotal: 32.4ms\tremaining: 15.9ms\n",
      "67:\tlearn: 0.6115511\ttotal: 32.9ms\tremaining: 15.5ms\n",
      "68:\tlearn: 0.6110881\ttotal: 33.3ms\tremaining: 15ms\n",
      "69:\tlearn: 0.6098294\ttotal: 33.8ms\tremaining: 14.5ms\n",
      "70:\tlearn: 0.6091588\ttotal: 34.3ms\tremaining: 14ms\n",
      "71:\tlearn: 0.6082723\ttotal: 34.8ms\tremaining: 13.5ms\n",
      "72:\tlearn: 0.6076220\ttotal: 35.1ms\tremaining: 13ms\n",
      "73:\tlearn: 0.6070934\ttotal: 35.6ms\tremaining: 12.5ms\n",
      "74:\tlearn: 0.6061449\ttotal: 36.2ms\tremaining: 12.1ms\n",
      "75:\tlearn: 0.6052094\ttotal: 36.7ms\tremaining: 11.6ms\n",
      "76:\tlearn: 0.6045049\ttotal: 37.2ms\tremaining: 11.1ms\n",
      "77:\tlearn: 0.6038942\ttotal: 37.6ms\tremaining: 10.6ms\n",
      "78:\tlearn: 0.6030257\ttotal: 38.8ms\tremaining: 10.3ms\n",
      "79:\tlearn: 0.6023669\ttotal: 39.5ms\tremaining: 9.88ms\n",
      "80:\tlearn: 0.6014616\ttotal: 40ms\tremaining: 9.39ms\n",
      "81:\tlearn: 0.6008470\ttotal: 40.5ms\tremaining: 8.89ms\n",
      "82:\tlearn: 0.6003553\ttotal: 40.7ms\tremaining: 8.34ms\n",
      "83:\tlearn: 0.5994488\ttotal: 41.1ms\tremaining: 7.83ms\n",
      "84:\tlearn: 0.5988092\ttotal: 41.5ms\tremaining: 7.32ms\n",
      "85:\tlearn: 0.5980870\ttotal: 42.1ms\tremaining: 6.86ms\n",
      "86:\tlearn: 0.5974413\ttotal: 42.7ms\tremaining: 6.38ms\n",
      "87:\tlearn: 0.5970115\ttotal: 43ms\tremaining: 5.86ms\n",
      "88:\tlearn: 0.5964996\ttotal: 43.5ms\tremaining: 5.37ms\n",
      "89:\tlearn: 0.5954275\ttotal: 44ms\tremaining: 4.88ms\n",
      "90:\tlearn: 0.5946575\ttotal: 44.4ms\tremaining: 4.39ms\n",
      "91:\tlearn: 0.5941962\ttotal: 44.9ms\tremaining: 3.91ms\n",
      "92:\tlearn: 0.5935687\ttotal: 45.4ms\tremaining: 3.42ms\n",
      "93:\tlearn: 0.5931334\ttotal: 45.6ms\tremaining: 2.91ms\n",
      "94:\tlearn: 0.5921674\ttotal: 46ms\tremaining: 2.42ms\n",
      "95:\tlearn: 0.5918122\ttotal: 46.5ms\tremaining: 1.94ms\n",
      "96:\tlearn: 0.5911355\ttotal: 47ms\tremaining: 1.45ms\n",
      "97:\tlearn: 0.5908227\ttotal: 47.5ms\tremaining: 970us\n",
      "98:\tlearn: 0.5901396\ttotal: 48.1ms\tremaining: 486us\n",
      "99:\tlearn: 0.5894642\ttotal: 48.6ms\tremaining: 0us\n",
      "0.5333333333333333\n"
     ]
    }
   ],
   "source": [
    "catboost_CV = cross_val_score(catboost, x_test, y_test, cv=10) \n",
    "print(catboost_CV.mean()) "
   ]
  },
  {
   "cell_type": "code",
   "execution_count": 90,
   "metadata": {},
   "outputs": [
    {
     "name": "stdout",
     "output_type": "stream",
     "text": [
      "Learning rate set to 0.031973\n",
      "0:\tlearn: 0.6920522\ttotal: 654us\tremaining: 64.8ms\n",
      "1:\tlearn: 0.6906717\ttotal: 1.6ms\tremaining: 78.2ms\n",
      "2:\tlearn: 0.6894154\ttotal: 2.38ms\tremaining: 76.9ms\n",
      "3:\tlearn: 0.6881936\ttotal: 3.15ms\tremaining: 75.6ms\n",
      "4:\tlearn: 0.6872989\ttotal: 3.74ms\tremaining: 71.1ms\n",
      "5:\tlearn: 0.6863930\ttotal: 4.33ms\tremaining: 67.8ms\n",
      "6:\tlearn: 0.6849838\ttotal: 4.88ms\tremaining: 64.9ms\n",
      "7:\tlearn: 0.6844382\ttotal: 5.42ms\tremaining: 62.4ms\n",
      "8:\tlearn: 0.6832706\ttotal: 5.99ms\tremaining: 60.5ms\n",
      "9:\tlearn: 0.6826683\ttotal: 6.53ms\tremaining: 58.8ms\n",
      "10:\tlearn: 0.6819884\ttotal: 7.09ms\tremaining: 57.4ms\n",
      "11:\tlearn: 0.6809728\ttotal: 7.71ms\tremaining: 56.5ms\n",
      "12:\tlearn: 0.6808691\ttotal: 8.09ms\tremaining: 54.1ms\n",
      "13:\tlearn: 0.6804760\ttotal: 8.45ms\tremaining: 51.9ms\n",
      "14:\tlearn: 0.6792646\ttotal: 8.99ms\tremaining: 51ms\n",
      "15:\tlearn: 0.6784573\ttotal: 9.55ms\tremaining: 50.1ms\n",
      "16:\tlearn: 0.6772921\ttotal: 10.1ms\tremaining: 49.5ms\n",
      "17:\tlearn: 0.6761464\ttotal: 10.7ms\tremaining: 48.6ms\n",
      "18:\tlearn: 0.6750290\ttotal: 11.2ms\tremaining: 47.9ms\n",
      "19:\tlearn: 0.6741966\ttotal: 11.8ms\tremaining: 47.1ms\n",
      "20:\tlearn: 0.6732544\ttotal: 12.3ms\tremaining: 46.4ms\n",
      "21:\tlearn: 0.6721898\ttotal: 12.9ms\tremaining: 45.7ms\n",
      "22:\tlearn: 0.6716296\ttotal: 13.5ms\tremaining: 45ms\n",
      "23:\tlearn: 0.6709196\ttotal: 14ms\tremaining: 44.3ms\n",
      "24:\tlearn: 0.6706841\ttotal: 14.9ms\tremaining: 44.7ms\n",
      "25:\tlearn: 0.6699476\ttotal: 15.7ms\tremaining: 44.7ms\n",
      "26:\tlearn: 0.6687751\ttotal: 16.6ms\tremaining: 44.9ms\n",
      "27:\tlearn: 0.6679195\ttotal: 17.2ms\tremaining: 44.2ms\n",
      "28:\tlearn: 0.6674603\ttotal: 17.7ms\tremaining: 43.3ms\n",
      "29:\tlearn: 0.6667448\ttotal: 18.3ms\tremaining: 42.7ms\n",
      "30:\tlearn: 0.6665415\ttotal: 18.9ms\tremaining: 42.1ms\n",
      "31:\tlearn: 0.6655817\ttotal: 19.6ms\tremaining: 41.6ms\n",
      "32:\tlearn: 0.6652176\ttotal: 20.2ms\tremaining: 40.9ms\n",
      "33:\tlearn: 0.6646883\ttotal: 20.8ms\tremaining: 40.3ms\n",
      "34:\tlearn: 0.6634172\ttotal: 21.4ms\tremaining: 39.7ms\n",
      "35:\tlearn: 0.6631708\ttotal: 22ms\tremaining: 39ms\n",
      "36:\tlearn: 0.6628367\ttotal: 22.6ms\tremaining: 38.4ms\n",
      "37:\tlearn: 0.6619723\ttotal: 23.2ms\tremaining: 37.8ms\n",
      "38:\tlearn: 0.6613529\ttotal: 23.8ms\tremaining: 37.2ms\n",
      "39:\tlearn: 0.6604941\ttotal: 24.4ms\tremaining: 36.5ms\n",
      "40:\tlearn: 0.6598987\ttotal: 24.9ms\tremaining: 35.9ms\n",
      "41:\tlearn: 0.6587605\ttotal: 25.5ms\tremaining: 35.2ms\n",
      "42:\tlearn: 0.6579744\ttotal: 26.2ms\tremaining: 34.7ms\n",
      "43:\tlearn: 0.6575602\ttotal: 26.8ms\tremaining: 34.1ms\n",
      "44:\tlearn: 0.6566866\ttotal: 27.3ms\tremaining: 33.4ms\n",
      "45:\tlearn: 0.6560880\ttotal: 28.3ms\tremaining: 33.3ms\n",
      "46:\tlearn: 0.6559028\ttotal: 28.8ms\tremaining: 32.5ms\n",
      "47:\tlearn: 0.6555158\ttotal: 29.5ms\tremaining: 31.9ms\n",
      "48:\tlearn: 0.6545934\ttotal: 30ms\tremaining: 31.3ms\n",
      "49:\tlearn: 0.6539075\ttotal: 30.6ms\tremaining: 30.6ms\n",
      "50:\tlearn: 0.6531305\ttotal: 31.1ms\tremaining: 29.9ms\n",
      "51:\tlearn: 0.6524246\ttotal: 31.7ms\tremaining: 29.3ms\n",
      "52:\tlearn: 0.6514962\ttotal: 32.2ms\tremaining: 28.5ms\n",
      "53:\tlearn: 0.6510560\ttotal: 32.7ms\tremaining: 27.9ms\n",
      "54:\tlearn: 0.6505784\ttotal: 33.3ms\tremaining: 27.2ms\n",
      "55:\tlearn: 0.6498734\ttotal: 33.9ms\tremaining: 26.6ms\n",
      "56:\tlearn: 0.6489160\ttotal: 34.5ms\tremaining: 26ms\n",
      "57:\tlearn: 0.6482181\ttotal: 35ms\tremaining: 25.4ms\n",
      "58:\tlearn: 0.6478440\ttotal: 35.6ms\tremaining: 24.7ms\n",
      "59:\tlearn: 0.6472318\ttotal: 36.1ms\tremaining: 24.1ms\n",
      "60:\tlearn: 0.6466668\ttotal: 36.7ms\tremaining: 23.4ms\n",
      "61:\tlearn: 0.6462547\ttotal: 37.3ms\tremaining: 22.8ms\n",
      "62:\tlearn: 0.6461240\ttotal: 37.5ms\tremaining: 22ms\n",
      "63:\tlearn: 0.6456599\ttotal: 38.4ms\tremaining: 21.6ms\n",
      "64:\tlearn: 0.6454650\ttotal: 39ms\tremaining: 21ms\n",
      "65:\tlearn: 0.6448612\ttotal: 39.9ms\tremaining: 20.6ms\n",
      "66:\tlearn: 0.6445482\ttotal: 43ms\tremaining: 21.2ms\n",
      "67:\tlearn: 0.6441107\ttotal: 43.8ms\tremaining: 20.6ms\n",
      "68:\tlearn: 0.6432298\ttotal: 44.4ms\tremaining: 19.9ms\n",
      "69:\tlearn: 0.6426256\ttotal: 45ms\tremaining: 19.3ms\n",
      "70:\tlearn: 0.6419876\ttotal: 45.6ms\tremaining: 18.6ms\n",
      "71:\tlearn: 0.6411167\ttotal: 46.2ms\tremaining: 18ms\n",
      "72:\tlearn: 0.6409228\ttotal: 46.8ms\tremaining: 17.3ms\n",
      "73:\tlearn: 0.6401810\ttotal: 47.4ms\tremaining: 16.7ms\n",
      "74:\tlearn: 0.6399607\ttotal: 48ms\tremaining: 16ms\n",
      "75:\tlearn: 0.6398396\ttotal: 48.3ms\tremaining: 15.2ms\n",
      "76:\tlearn: 0.6387193\ttotal: 48.9ms\tremaining: 14.6ms\n",
      "77:\tlearn: 0.6381230\ttotal: 49.5ms\tremaining: 14ms\n",
      "78:\tlearn: 0.6378918\ttotal: 50.1ms\tremaining: 13.3ms\n",
      "79:\tlearn: 0.6375401\ttotal: 50.7ms\tremaining: 12.7ms\n",
      "80:\tlearn: 0.6373629\ttotal: 51.3ms\tremaining: 12ms\n",
      "81:\tlearn: 0.6370037\ttotal: 51.9ms\tremaining: 11.4ms\n",
      "82:\tlearn: 0.6364685\ttotal: 52.4ms\tremaining: 10.7ms\n",
      "83:\tlearn: 0.6357237\ttotal: 53.1ms\tremaining: 10.1ms\n",
      "84:\tlearn: 0.6355055\ttotal: 53.6ms\tremaining: 9.46ms\n",
      "85:\tlearn: 0.6352895\ttotal: 54.8ms\tremaining: 8.92ms\n",
      "86:\tlearn: 0.6349598\ttotal: 56.3ms\tremaining: 8.41ms\n",
      "87:\tlearn: 0.6348829\ttotal: 56.9ms\tremaining: 7.76ms\n",
      "88:\tlearn: 0.6344898\ttotal: 57.5ms\tremaining: 7.1ms\n",
      "89:\tlearn: 0.6341114\ttotal: 58ms\tremaining: 6.45ms\n",
      "90:\tlearn: 0.6338077\ttotal: 58.6ms\tremaining: 5.79ms\n",
      "91:\tlearn: 0.6335322\ttotal: 59.1ms\tremaining: 5.14ms\n",
      "92:\tlearn: 0.6333613\ttotal: 59.8ms\tremaining: 4.5ms\n",
      "93:\tlearn: 0.6331940\ttotal: 60.3ms\tremaining: 3.85ms\n",
      "94:\tlearn: 0.6330185\ttotal: 60.8ms\tremaining: 3.2ms\n",
      "95:\tlearn: 0.6319641\ttotal: 61.4ms\tremaining: 2.56ms\n",
      "96:\tlearn: 0.6317606\ttotal: 62ms\tremaining: 1.92ms\n",
      "97:\tlearn: 0.6315708\ttotal: 62.4ms\tremaining: 1.27ms\n",
      "98:\tlearn: 0.6309249\ttotal: 63ms\tremaining: 636us\n",
      "99:\tlearn: 0.6305811\ttotal: 64.3ms\tremaining: 0us\n",
      "Learning rate set to 0.031973\n",
      "0:\tlearn: 0.6913034\ttotal: 635us\tremaining: 62.9ms\n",
      "1:\tlearn: 0.6892245\ttotal: 1.21ms\tremaining: 59.5ms\n",
      "2:\tlearn: 0.6878955\ttotal: 1.75ms\tremaining: 56.6ms\n",
      "3:\tlearn: 0.6861986\ttotal: 2.28ms\tremaining: 54.7ms\n",
      "4:\tlearn: 0.6844568\ttotal: 2.82ms\tremaining: 53.5ms\n",
      "5:\tlearn: 0.6836387\ttotal: 3.35ms\tremaining: 52.4ms\n",
      "6:\tlearn: 0.6828627\ttotal: 3.87ms\tremaining: 51.4ms\n",
      "7:\tlearn: 0.6811664\ttotal: 4.37ms\tremaining: 50.3ms\n",
      "8:\tlearn: 0.6794902\ttotal: 4.9ms\tremaining: 49.6ms\n",
      "9:\tlearn: 0.6784330\ttotal: 5.42ms\tremaining: 48.8ms\n",
      "10:\tlearn: 0.6772957\ttotal: 5.97ms\tremaining: 48.3ms\n",
      "11:\tlearn: 0.6763239\ttotal: 6.49ms\tremaining: 47.6ms\n",
      "12:\tlearn: 0.6752208\ttotal: 6.8ms\tremaining: 45.5ms\n",
      "13:\tlearn: 0.6739101\ttotal: 7.34ms\tremaining: 45.1ms\n",
      "14:\tlearn: 0.6728890\ttotal: 7.87ms\tremaining: 44.6ms\n",
      "15:\tlearn: 0.6718257\ttotal: 8.36ms\tremaining: 43.9ms\n",
      "16:\tlearn: 0.6707706\ttotal: 8.92ms\tremaining: 43.5ms\n",
      "17:\tlearn: 0.6701759\ttotal: 9.18ms\tremaining: 41.8ms\n",
      "18:\tlearn: 0.6692162\ttotal: 10ms\tremaining: 42.8ms\n",
      "19:\tlearn: 0.6685198\ttotal: 10.6ms\tremaining: 42.6ms\n",
      "20:\tlearn: 0.6675509\ttotal: 11ms\tremaining: 41.3ms\n",
      "21:\tlearn: 0.6665079\ttotal: 11.6ms\tremaining: 41ms\n",
      "22:\tlearn: 0.6657500\ttotal: 12.1ms\tremaining: 40.6ms\n",
      "23:\tlearn: 0.6648572\ttotal: 12.7ms\tremaining: 40.2ms\n",
      "24:\tlearn: 0.6630872\ttotal: 13.3ms\tremaining: 39.8ms\n",
      "25:\tlearn: 0.6625759\ttotal: 13.8ms\tremaining: 39.3ms\n",
      "26:\tlearn: 0.6617191\ttotal: 14.3ms\tremaining: 38.7ms\n",
      "27:\tlearn: 0.6611518\ttotal: 14.9ms\tremaining: 38.3ms\n",
      "28:\tlearn: 0.6608336\ttotal: 15.2ms\tremaining: 37.2ms\n",
      "29:\tlearn: 0.6597101\ttotal: 15.8ms\tremaining: 36.8ms\n",
      "30:\tlearn: 0.6591253\ttotal: 16.3ms\tremaining: 36.3ms\n",
      "31:\tlearn: 0.6580209\ttotal: 16.9ms\tremaining: 35.9ms\n",
      "32:\tlearn: 0.6575054\ttotal: 17.4ms\tremaining: 35.4ms\n",
      "33:\tlearn: 0.6574880\ttotal: 17.7ms\tremaining: 34.3ms\n",
      "34:\tlearn: 0.6571318\ttotal: 17.9ms\tremaining: 33.3ms\n",
      "35:\tlearn: 0.6564404\ttotal: 18.5ms\tremaining: 32.9ms\n",
      "36:\tlearn: 0.6563312\ttotal: 18.8ms\tremaining: 32ms\n",
      "37:\tlearn: 0.6557756\ttotal: 19.3ms\tremaining: 31.6ms\n",
      "38:\tlearn: 0.6555445\ttotal: 19.9ms\tremaining: 31.1ms\n",
      "39:\tlearn: 0.6549179\ttotal: 20.3ms\tremaining: 30.4ms\n",
      "40:\tlearn: 0.6543465\ttotal: 20.9ms\tremaining: 30ms\n",
      "41:\tlearn: 0.6530607\ttotal: 21.3ms\tremaining: 29.4ms\n",
      "42:\tlearn: 0.6517597\ttotal: 21.9ms\tremaining: 29ms\n",
      "43:\tlearn: 0.6510879\ttotal: 22.4ms\tremaining: 28.5ms\n",
      "44:\tlearn: 0.6506770\ttotal: 23ms\tremaining: 28.1ms\n",
      "45:\tlearn: 0.6498896\ttotal: 23.6ms\tremaining: 27.7ms\n",
      "46:\tlearn: 0.6494624\ttotal: 24.6ms\tremaining: 27.7ms\n",
      "47:\tlearn: 0.6490264\ttotal: 25.3ms\tremaining: 27.4ms\n",
      "48:\tlearn: 0.6488545\ttotal: 25.9ms\tremaining: 26.9ms\n",
      "49:\tlearn: 0.6480220\ttotal: 26.4ms\tremaining: 26.4ms\n",
      "50:\tlearn: 0.6473419\ttotal: 27ms\tremaining: 25.9ms\n",
      "51:\tlearn: 0.6467592\ttotal: 27.6ms\tremaining: 25.4ms\n",
      "52:\tlearn: 0.6463736\ttotal: 28.1ms\tremaining: 24.9ms\n",
      "53:\tlearn: 0.6459504\ttotal: 28.7ms\tremaining: 24.4ms\n",
      "54:\tlearn: 0.6456573\ttotal: 29.2ms\tremaining: 23.9ms\n",
      "55:\tlearn: 0.6448911\ttotal: 29.8ms\tremaining: 23.4ms\n",
      "56:\tlearn: 0.6442788\ttotal: 30.3ms\tremaining: 22.9ms\n",
      "57:\tlearn: 0.6436734\ttotal: 30.7ms\tremaining: 22.3ms\n",
      "58:\tlearn: 0.6427656\ttotal: 31.3ms\tremaining: 21.8ms\n",
      "59:\tlearn: 0.6419387\ttotal: 31.9ms\tremaining: 21.3ms\n",
      "60:\tlearn: 0.6416727\ttotal: 32.4ms\tremaining: 20.7ms\n",
      "61:\tlearn: 0.6412372\ttotal: 33ms\tremaining: 20.2ms\n",
      "62:\tlearn: 0.6408538\ttotal: 33.5ms\tremaining: 19.7ms\n",
      "63:\tlearn: 0.6403122\ttotal: 34.1ms\tremaining: 19.2ms\n",
      "64:\tlearn: 0.6402244\ttotal: 34.6ms\tremaining: 18.7ms\n",
      "65:\tlearn: 0.6397254\ttotal: 35.2ms\tremaining: 18.1ms\n",
      "66:\tlearn: 0.6388296\ttotal: 35.8ms\tremaining: 17.6ms\n",
      "67:\tlearn: 0.6377584\ttotal: 36.3ms\tremaining: 17.1ms\n",
      "68:\tlearn: 0.6376646\ttotal: 37ms\tremaining: 16.6ms\n",
      "69:\tlearn: 0.6373778\ttotal: 37.5ms\tremaining: 16.1ms\n",
      "70:\tlearn: 0.6366972\ttotal: 38ms\tremaining: 15.5ms\n",
      "71:\tlearn: 0.6356440\ttotal: 38.6ms\tremaining: 15ms\n",
      "72:\tlearn: 0.6348498\ttotal: 39.1ms\tremaining: 14.5ms\n",
      "73:\tlearn: 0.6342459\ttotal: 39.6ms\tremaining: 13.9ms\n",
      "74:\tlearn: 0.6334286\ttotal: 40.1ms\tremaining: 13.4ms\n",
      "75:\tlearn: 0.6329823\ttotal: 40.7ms\tremaining: 12.8ms\n",
      "76:\tlearn: 0.6327474\ttotal: 41.3ms\tremaining: 12.3ms\n",
      "77:\tlearn: 0.6319924\ttotal: 41.8ms\tremaining: 11.8ms\n",
      "78:\tlearn: 0.6319630\ttotal: 42.1ms\tremaining: 11.2ms\n",
      "79:\tlearn: 0.6309763\ttotal: 42.6ms\tremaining: 10.7ms\n",
      "80:\tlearn: 0.6305753\ttotal: 43.2ms\tremaining: 10.1ms\n",
      "81:\tlearn: 0.6302753\ttotal: 43.7ms\tremaining: 9.6ms\n",
      "82:\tlearn: 0.6299143\ttotal: 44.2ms\tremaining: 9.06ms\n",
      "83:\tlearn: 0.6292950\ttotal: 44.8ms\tremaining: 8.53ms\n",
      "84:\tlearn: 0.6289947\ttotal: 45.3ms\tremaining: 8ms\n",
      "85:\tlearn: 0.6286675\ttotal: 45.8ms\tremaining: 7.46ms\n",
      "86:\tlearn: 0.6278984\ttotal: 46.4ms\tremaining: 6.93ms\n",
      "87:\tlearn: 0.6270660\ttotal: 46.9ms\tremaining: 6.4ms\n",
      "88:\tlearn: 0.6268713\ttotal: 47.4ms\tremaining: 5.86ms\n",
      "89:\tlearn: 0.6266627\ttotal: 48ms\tremaining: 5.33ms\n",
      "90:\tlearn: 0.6265441\ttotal: 48.6ms\tremaining: 4.8ms\n",
      "91:\tlearn: 0.6257479\ttotal: 49.4ms\tremaining: 4.29ms\n",
      "92:\tlearn: 0.6248375\ttotal: 50.3ms\tremaining: 3.79ms\n",
      "93:\tlearn: 0.6242367\ttotal: 50.8ms\tremaining: 3.24ms\n",
      "94:\tlearn: 0.6236701\ttotal: 51.2ms\tremaining: 2.7ms\n",
      "95:\tlearn: 0.6226882\ttotal: 51.7ms\tremaining: 2.15ms\n",
      "96:\tlearn: 0.6225000\ttotal: 52.3ms\tremaining: 1.62ms\n",
      "97:\tlearn: 0.6221021\ttotal: 52.8ms\tremaining: 1.08ms\n",
      "98:\tlearn: 0.6220912\ttotal: 53.1ms\tremaining: 535us\n",
      "99:\tlearn: 0.6214971\ttotal: 53.6ms\tremaining: 0us\n"
     ]
    },
    {
     "name": "stdout",
     "output_type": "stream",
     "text": [
      "Learning rate set to 0.031973\n",
      "0:\tlearn: 0.6924601\ttotal: 812us\tremaining: 80.4ms\n",
      "1:\tlearn: 0.6911853\ttotal: 1.59ms\tremaining: 78.2ms\n",
      "2:\tlearn: 0.6893806\ttotal: 2.3ms\tremaining: 74.5ms\n",
      "3:\tlearn: 0.6880828\ttotal: 2.9ms\tremaining: 69.7ms\n",
      "4:\tlearn: 0.6866305\ttotal: 3.65ms\tremaining: 69.4ms\n",
      "5:\tlearn: 0.6857864\ttotal: 4.26ms\tremaining: 66.7ms\n",
      "6:\tlearn: 0.6848482\ttotal: 4.81ms\tremaining: 63.9ms\n",
      "7:\tlearn: 0.6837998\ttotal: 5.49ms\tremaining: 63.1ms\n",
      "8:\tlearn: 0.6829489\ttotal: 6.17ms\tremaining: 62.3ms\n",
      "9:\tlearn: 0.6820410\ttotal: 6.83ms\tremaining: 61.5ms\n",
      "10:\tlearn: 0.6810660\ttotal: 7.58ms\tremaining: 61.3ms\n",
      "11:\tlearn: 0.6800904\ttotal: 8.26ms\tremaining: 60.6ms\n",
      "12:\tlearn: 0.6788392\ttotal: 9.79ms\tremaining: 65.5ms\n",
      "13:\tlearn: 0.6777851\ttotal: 10.5ms\tremaining: 64.3ms\n",
      "14:\tlearn: 0.6772575\ttotal: 11ms\tremaining: 62.5ms\n",
      "15:\tlearn: 0.6758482\ttotal: 11.6ms\tremaining: 60.8ms\n",
      "16:\tlearn: 0.6739885\ttotal: 12.2ms\tremaining: 59.4ms\n",
      "17:\tlearn: 0.6734162\ttotal: 12.9ms\tremaining: 58.7ms\n",
      "18:\tlearn: 0.6723822\ttotal: 13.5ms\tremaining: 57.7ms\n",
      "19:\tlearn: 0.6715643\ttotal: 14.5ms\tremaining: 58.2ms\n",
      "20:\tlearn: 0.6704591\ttotal: 15.2ms\tremaining: 57.2ms\n",
      "21:\tlearn: 0.6698459\ttotal: 15.8ms\tremaining: 55.9ms\n",
      "22:\tlearn: 0.6689729\ttotal: 16.3ms\tremaining: 54.7ms\n",
      "23:\tlearn: 0.6682428\ttotal: 16.9ms\tremaining: 53.5ms\n",
      "24:\tlearn: 0.6673840\ttotal: 17.4ms\tremaining: 52.3ms\n",
      "25:\tlearn: 0.6669391\ttotal: 17.8ms\tremaining: 50.7ms\n",
      "26:\tlearn: 0.6661825\ttotal: 18.4ms\tremaining: 49.7ms\n",
      "27:\tlearn: 0.6652445\ttotal: 18.9ms\tremaining: 48.7ms\n",
      "28:\tlearn: 0.6645268\ttotal: 19.4ms\tremaining: 47.6ms\n",
      "29:\tlearn: 0.6639162\ttotal: 20ms\tremaining: 46.6ms\n",
      "30:\tlearn: 0.6634500\ttotal: 20.6ms\tremaining: 45.9ms\n",
      "31:\tlearn: 0.6629712\ttotal: 21.2ms\tremaining: 45ms\n",
      "32:\tlearn: 0.6624294\ttotal: 21.6ms\tremaining: 43.8ms\n",
      "33:\tlearn: 0.6619332\ttotal: 22.1ms\tremaining: 43ms\n",
      "34:\tlearn: 0.6613064\ttotal: 22.8ms\tremaining: 42.3ms\n",
      "35:\tlearn: 0.6608772\ttotal: 23.4ms\tremaining: 41.6ms\n",
      "36:\tlearn: 0.6603155\ttotal: 24ms\tremaining: 40.8ms\n",
      "37:\tlearn: 0.6599740\ttotal: 24.4ms\tremaining: 39.7ms\n",
      "38:\tlearn: 0.6593206\ttotal: 24.9ms\tremaining: 39ms\n",
      "39:\tlearn: 0.6585283\ttotal: 26.2ms\tremaining: 39.3ms\n",
      "40:\tlearn: 0.6577903\ttotal: 27.3ms\tremaining: 39.3ms\n",
      "41:\tlearn: 0.6570380\ttotal: 27.9ms\tremaining: 38.5ms\n",
      "42:\tlearn: 0.6566118\ttotal: 28.5ms\tremaining: 37.8ms\n",
      "43:\tlearn: 0.6558159\ttotal: 29.1ms\tremaining: 37ms\n",
      "44:\tlearn: 0.6549545\ttotal: 29.6ms\tremaining: 36.2ms\n",
      "45:\tlearn: 0.6536171\ttotal: 30.2ms\tremaining: 35.4ms\n",
      "46:\tlearn: 0.6529912\ttotal: 30.7ms\tremaining: 34.7ms\n",
      "47:\tlearn: 0.6523312\ttotal: 31.3ms\tremaining: 33.9ms\n",
      "48:\tlearn: 0.6515572\ttotal: 31.9ms\tremaining: 33.2ms\n",
      "49:\tlearn: 0.6508726\ttotal: 32.4ms\tremaining: 32.4ms\n",
      "50:\tlearn: 0.6505418\ttotal: 33ms\tremaining: 31.7ms\n",
      "51:\tlearn: 0.6497571\ttotal: 33.5ms\tremaining: 31ms\n",
      "52:\tlearn: 0.6489918\ttotal: 34.1ms\tremaining: 30.3ms\n",
      "53:\tlearn: 0.6484064\ttotal: 34.7ms\tremaining: 29.5ms\n",
      "54:\tlearn: 0.6481704\ttotal: 35.3ms\tremaining: 28.8ms\n",
      "55:\tlearn: 0.6473764\ttotal: 35.8ms\tremaining: 28.2ms\n",
      "56:\tlearn: 0.6466232\ttotal: 36.4ms\tremaining: 27.5ms\n",
      "57:\tlearn: 0.6463095\ttotal: 36.7ms\tremaining: 26.6ms\n",
      "58:\tlearn: 0.6457843\ttotal: 37.3ms\tremaining: 25.9ms\n",
      "59:\tlearn: 0.6453465\ttotal: 37.8ms\tremaining: 25.2ms\n",
      "60:\tlearn: 0.6445992\ttotal: 38.4ms\tremaining: 24.5ms\n",
      "61:\tlearn: 0.6442988\ttotal: 39.5ms\tremaining: 24.2ms\n",
      "62:\tlearn: 0.6436357\ttotal: 40.2ms\tremaining: 23.6ms\n",
      "63:\tlearn: 0.6428158\ttotal: 40.8ms\tremaining: 23ms\n",
      "64:\tlearn: 0.6422798\ttotal: 55.5ms\tremaining: 29.9ms\n",
      "65:\tlearn: 0.6415825\ttotal: 56ms\tremaining: 28.9ms\n",
      "66:\tlearn: 0.6412197\ttotal: 56.7ms\tremaining: 27.9ms\n",
      "67:\tlearn: 0.6407003\ttotal: 57.3ms\tremaining: 27ms\n",
      "68:\tlearn: 0.6401219\ttotal: 58.7ms\tremaining: 26.4ms\n",
      "69:\tlearn: 0.6396019\ttotal: 59.7ms\tremaining: 25.6ms\n",
      "70:\tlearn: 0.6390856\ttotal: 60.3ms\tremaining: 24.6ms\n",
      "71:\tlearn: 0.6386538\ttotal: 61ms\tremaining: 23.7ms\n",
      "72:\tlearn: 0.6386257\ttotal: 61.3ms\tremaining: 22.7ms\n",
      "73:\tlearn: 0.6381514\ttotal: 61.9ms\tremaining: 21.7ms\n",
      "74:\tlearn: 0.6378383\ttotal: 62.5ms\tremaining: 20.8ms\n",
      "75:\tlearn: 0.6366855\ttotal: 63.1ms\tremaining: 19.9ms\n",
      "76:\tlearn: 0.6361363\ttotal: 63.8ms\tremaining: 19.1ms\n",
      "77:\tlearn: 0.6355705\ttotal: 64.4ms\tremaining: 18.2ms\n",
      "78:\tlearn: 0.6350141\ttotal: 65.1ms\tremaining: 17.3ms\n",
      "79:\tlearn: 0.6346091\ttotal: 65.5ms\tremaining: 16.4ms\n",
      "80:\tlearn: 0.6342395\ttotal: 66.1ms\tremaining: 15.5ms\n",
      "81:\tlearn: 0.6341432\ttotal: 68.1ms\tremaining: 14.9ms\n",
      "82:\tlearn: 0.6339622\ttotal: 68.6ms\tremaining: 14.1ms\n",
      "83:\tlearn: 0.6335882\ttotal: 69.2ms\tremaining: 13.2ms\n",
      "84:\tlearn: 0.6332995\ttotal: 69.8ms\tremaining: 12.3ms\n",
      "85:\tlearn: 0.6330424\ttotal: 70.2ms\tremaining: 11.4ms\n",
      "86:\tlearn: 0.6327089\ttotal: 70.8ms\tremaining: 10.6ms\n",
      "87:\tlearn: 0.6321944\ttotal: 71.3ms\tremaining: 9.73ms\n",
      "88:\tlearn: 0.6318217\ttotal: 71.9ms\tremaining: 8.89ms\n",
      "89:\tlearn: 0.6312810\ttotal: 72.5ms\tremaining: 8.05ms\n",
      "90:\tlearn: 0.6305284\ttotal: 73ms\tremaining: 7.22ms\n",
      "91:\tlearn: 0.6298995\ttotal: 73.6ms\tremaining: 6.4ms\n",
      "92:\tlearn: 0.6294222\ttotal: 74.2ms\tremaining: 5.58ms\n",
      "93:\tlearn: 0.6292541\ttotal: 74.7ms\tremaining: 4.77ms\n",
      "94:\tlearn: 0.6282829\ttotal: 75.3ms\tremaining: 3.96ms\n",
      "95:\tlearn: 0.6277475\ttotal: 75.9ms\tremaining: 3.16ms\n",
      "96:\tlearn: 0.6274391\ttotal: 76.5ms\tremaining: 2.37ms\n",
      "97:\tlearn: 0.6270854\ttotal: 77.1ms\tremaining: 1.57ms\n",
      "98:\tlearn: 0.6268352\ttotal: 77.7ms\tremaining: 784us\n",
      "99:\tlearn: 0.6267392\ttotal: 78.3ms\tremaining: 0us\n",
      "Learning rate set to 0.032107\n",
      "0:\tlearn: 0.6917728\ttotal: 706us\tremaining: 70ms\n",
      "1:\tlearn: 0.6899814\ttotal: 1.29ms\tremaining: 63.4ms\n",
      "2:\tlearn: 0.6878821\ttotal: 1.87ms\tremaining: 60.5ms\n",
      "3:\tlearn: 0.6862933\ttotal: 2.44ms\tremaining: 58.7ms\n",
      "4:\tlearn: 0.6852030\ttotal: 3.01ms\tremaining: 57.2ms\n",
      "5:\tlearn: 0.6841062\ttotal: 3.58ms\tremaining: 56.1ms\n",
      "6:\tlearn: 0.6828971\ttotal: 4.22ms\tremaining: 56ms\n",
      "7:\tlearn: 0.6816291\ttotal: 4.81ms\tremaining: 55.4ms\n",
      "8:\tlearn: 0.6800810\ttotal: 5.38ms\tremaining: 54.4ms\n",
      "9:\tlearn: 0.6789760\ttotal: 5.96ms\tremaining: 53.7ms\n",
      "10:\tlearn: 0.6769222\ttotal: 6.53ms\tremaining: 52.9ms\n",
      "11:\tlearn: 0.6750059\ttotal: 7.11ms\tremaining: 52.1ms\n",
      "12:\tlearn: 0.6731602\ttotal: 7.68ms\tremaining: 51.4ms\n",
      "13:\tlearn: 0.6714568\ttotal: 8.28ms\tremaining: 50.8ms\n",
      "14:\tlearn: 0.6705619\ttotal: 8.64ms\tremaining: 48.9ms\n",
      "15:\tlearn: 0.6690663\ttotal: 9.21ms\tremaining: 48.4ms\n",
      "16:\tlearn: 0.6678945\ttotal: 9.57ms\tremaining: 46.7ms\n",
      "17:\tlearn: 0.6665551\ttotal: 10.1ms\tremaining: 46.2ms\n",
      "18:\tlearn: 0.6657157\ttotal: 10.7ms\tremaining: 45.7ms\n",
      "19:\tlearn: 0.6649922\ttotal: 11.3ms\tremaining: 45.1ms\n",
      "20:\tlearn: 0.6637790\ttotal: 12ms\tremaining: 45ms\n",
      "21:\tlearn: 0.6629605\ttotal: 13ms\tremaining: 46ms\n",
      "22:\tlearn: 0.6622179\ttotal: 13.6ms\tremaining: 45.4ms\n",
      "23:\tlearn: 0.6612865\ttotal: 14.2ms\tremaining: 44.8ms\n",
      "24:\tlearn: 0.6607564\ttotal: 14.7ms\tremaining: 44.2ms\n",
      "25:\tlearn: 0.6600974\ttotal: 15.2ms\tremaining: 43.2ms\n",
      "26:\tlearn: 0.6593166\ttotal: 15.7ms\tremaining: 42.5ms\n",
      "27:\tlearn: 0.6586380\ttotal: 16.1ms\tremaining: 41.5ms\n",
      "28:\tlearn: 0.6577293\ttotal: 16.7ms\tremaining: 40.9ms\n",
      "29:\tlearn: 0.6561096\ttotal: 17.3ms\tremaining: 40.4ms\n",
      "30:\tlearn: 0.6558393\ttotal: 17.9ms\tremaining: 39.8ms\n",
      "31:\tlearn: 0.6553310\ttotal: 18.4ms\tremaining: 39.2ms\n",
      "32:\tlearn: 0.6544196\ttotal: 19ms\tremaining: 38.6ms\n",
      "33:\tlearn: 0.6538238\ttotal: 19.6ms\tremaining: 38ms\n",
      "34:\tlearn: 0.6527180\ttotal: 20.2ms\tremaining: 37.4ms\n",
      "35:\tlearn: 0.6517412\ttotal: 20.7ms\tremaining: 36.8ms\n",
      "36:\tlearn: 0.6512445\ttotal: 21.3ms\tremaining: 36.2ms\n",
      "37:\tlearn: 0.6506540\ttotal: 21.7ms\tremaining: 35.4ms\n",
      "38:\tlearn: 0.6500212\ttotal: 22.3ms\tremaining: 34.8ms\n",
      "39:\tlearn: 0.6493008\ttotal: 22.8ms\tremaining: 34.3ms\n",
      "40:\tlearn: 0.6484846\ttotal: 23.4ms\tremaining: 33.7ms\n",
      "41:\tlearn: 0.6476048\ttotal: 24ms\tremaining: 33.1ms\n",
      "42:\tlearn: 0.6469434\ttotal: 24.6ms\tremaining: 32.6ms\n",
      "43:\tlearn: 0.6457532\ttotal: 26.2ms\tremaining: 33.4ms\n",
      "44:\tlearn: 0.6447428\ttotal: 26.8ms\tremaining: 32.7ms\n",
      "45:\tlearn: 0.6440409\ttotal: 27.4ms\tremaining: 32.1ms\n",
      "46:\tlearn: 0.6436623\ttotal: 27.9ms\tremaining: 31.5ms\n",
      "47:\tlearn: 0.6428848\ttotal: 28.5ms\tremaining: 30.9ms\n",
      "48:\tlearn: 0.6423755\ttotal: 29.2ms\tremaining: 30.4ms\n",
      "49:\tlearn: 0.6414353\ttotal: 29.7ms\tremaining: 29.7ms\n",
      "50:\tlearn: 0.6410172\ttotal: 30.4ms\tremaining: 29.2ms\n",
      "51:\tlearn: 0.6403565\ttotal: 31ms\tremaining: 28.6ms\n",
      "52:\tlearn: 0.6397091\ttotal: 31.6ms\tremaining: 28ms\n",
      "53:\tlearn: 0.6391020\ttotal: 32.1ms\tremaining: 27.4ms\n",
      "54:\tlearn: 0.6387599\ttotal: 32.7ms\tremaining: 26.8ms\n",
      "55:\tlearn: 0.6379820\ttotal: 33.3ms\tremaining: 26.2ms\n",
      "56:\tlearn: 0.6372301\ttotal: 33.9ms\tremaining: 25.6ms\n",
      "57:\tlearn: 0.6369985\ttotal: 34.2ms\tremaining: 24.7ms\n",
      "58:\tlearn: 0.6364280\ttotal: 34.7ms\tremaining: 24.1ms\n",
      "59:\tlearn: 0.6360837\ttotal: 35.1ms\tremaining: 23.4ms\n",
      "60:\tlearn: 0.6353493\ttotal: 35.7ms\tremaining: 22.8ms\n",
      "61:\tlearn: 0.6351371\ttotal: 36.2ms\tremaining: 22.2ms\n",
      "62:\tlearn: 0.6342681\ttotal: 36.8ms\tremaining: 21.6ms\n",
      "63:\tlearn: 0.6334209\ttotal: 37.4ms\tremaining: 21.1ms\n",
      "64:\tlearn: 0.6333681\ttotal: 37.7ms\tremaining: 20.3ms\n",
      "65:\tlearn: 0.6329470\ttotal: 38.3ms\tremaining: 19.7ms\n",
      "66:\tlearn: 0.6328951\ttotal: 38.6ms\tremaining: 19ms\n",
      "67:\tlearn: 0.6322796\ttotal: 39.3ms\tremaining: 18.5ms\n",
      "68:\tlearn: 0.6320291\ttotal: 40.2ms\tremaining: 18.1ms\n",
      "69:\tlearn: 0.6314530\ttotal: 40.8ms\tremaining: 17.5ms\n"
     ]
    },
    {
     "name": "stdout",
     "output_type": "stream",
     "text": [
      "70:\tlearn: 0.6306898\ttotal: 42.1ms\tremaining: 17.2ms\n",
      "71:\tlearn: 0.6300001\ttotal: 42.8ms\tremaining: 16.7ms\n",
      "72:\tlearn: 0.6299049\ttotal: 43.8ms\tremaining: 16.2ms\n",
      "73:\tlearn: 0.6294841\ttotal: 44.7ms\tremaining: 15.7ms\n",
      "74:\tlearn: 0.6283832\ttotal: 45.4ms\tremaining: 15.1ms\n",
      "75:\tlearn: 0.6277907\ttotal: 46ms\tremaining: 14.5ms\n",
      "76:\tlearn: 0.6268426\ttotal: 46.6ms\tremaining: 13.9ms\n",
      "77:\tlearn: 0.6263797\ttotal: 47.2ms\tremaining: 13.3ms\n",
      "78:\tlearn: 0.6263022\ttotal: 47.5ms\tremaining: 12.6ms\n",
      "79:\tlearn: 0.6257351\ttotal: 48.1ms\tremaining: 12ms\n",
      "80:\tlearn: 0.6256257\ttotal: 48.4ms\tremaining: 11.4ms\n",
      "81:\tlearn: 0.6243069\ttotal: 49ms\tremaining: 10.8ms\n",
      "82:\tlearn: 0.6236599\ttotal: 49.6ms\tremaining: 10.2ms\n",
      "83:\tlearn: 0.6234099\ttotal: 50.2ms\tremaining: 9.56ms\n",
      "84:\tlearn: 0.6232910\ttotal: 50.8ms\tremaining: 8.96ms\n",
      "85:\tlearn: 0.6230132\ttotal: 51.1ms\tremaining: 8.31ms\n",
      "86:\tlearn: 0.6227204\ttotal: 51.7ms\tremaining: 7.72ms\n",
      "87:\tlearn: 0.6222411\ttotal: 52.3ms\tremaining: 7.14ms\n",
      "88:\tlearn: 0.6219562\ttotal: 53ms\tremaining: 6.55ms\n",
      "89:\tlearn: 0.6217695\ttotal: 53.6ms\tremaining: 5.96ms\n",
      "90:\tlearn: 0.6215689\ttotal: 54.2ms\tremaining: 5.36ms\n",
      "91:\tlearn: 0.6211049\ttotal: 54.8ms\tremaining: 4.77ms\n",
      "92:\tlearn: 0.6210183\ttotal: 55.4ms\tremaining: 4.17ms\n",
      "93:\tlearn: 0.6206050\ttotal: 56ms\tremaining: 3.57ms\n",
      "94:\tlearn: 0.6197237\ttotal: 56.5ms\tremaining: 2.98ms\n",
      "95:\tlearn: 0.6184838\ttotal: 57.2ms\tremaining: 2.38ms\n",
      "96:\tlearn: 0.6181682\ttotal: 57.8ms\tremaining: 1.79ms\n",
      "97:\tlearn: 0.6178916\ttotal: 58.4ms\tremaining: 1.19ms\n",
      "98:\tlearn: 0.6175943\ttotal: 59.1ms\tremaining: 597us\n",
      "99:\tlearn: 0.6168989\ttotal: 59.7ms\tremaining: 0us\n",
      "Learning rate set to 0.032107\n",
      "0:\tlearn: 0.6914576\ttotal: 700us\tremaining: 69.4ms\n",
      "1:\tlearn: 0.6900248\ttotal: 1.8ms\tremaining: 88.1ms\n",
      "2:\tlearn: 0.6876904\ttotal: 2.4ms\tremaining: 77.6ms\n",
      "3:\tlearn: 0.6865985\ttotal: 2.96ms\tremaining: 71.1ms\n",
      "4:\tlearn: 0.6851769\ttotal: 3.53ms\tremaining: 67ms\n",
      "5:\tlearn: 0.6835594\ttotal: 4.17ms\tremaining: 65.4ms\n",
      "6:\tlearn: 0.6822477\ttotal: 4.75ms\tremaining: 63.2ms\n",
      "7:\tlearn: 0.6815163\ttotal: 5.34ms\tremaining: 61.4ms\n",
      "8:\tlearn: 0.6803364\ttotal: 5.91ms\tremaining: 59.8ms\n",
      "9:\tlearn: 0.6791785\ttotal: 6.48ms\tremaining: 58.4ms\n",
      "10:\tlearn: 0.6777846\ttotal: 7.06ms\tremaining: 57.1ms\n",
      "11:\tlearn: 0.6765803\ttotal: 7.63ms\tremaining: 55.9ms\n",
      "12:\tlearn: 0.6754970\ttotal: 7.98ms\tremaining: 53.4ms\n",
      "13:\tlearn: 0.6745081\ttotal: 8.55ms\tremaining: 52.5ms\n",
      "14:\tlearn: 0.6735044\ttotal: 8.99ms\tremaining: 50.9ms\n",
      "15:\tlearn: 0.6729901\ttotal: 9.56ms\tremaining: 50.2ms\n",
      "16:\tlearn: 0.6724406\ttotal: 10.2ms\tremaining: 49.6ms\n",
      "17:\tlearn: 0.6713221\ttotal: 10.7ms\tremaining: 48.9ms\n",
      "18:\tlearn: 0.6698201\ttotal: 11.3ms\tremaining: 48.1ms\n",
      "19:\tlearn: 0.6685740\ttotal: 11.9ms\tremaining: 47.4ms\n",
      "20:\tlearn: 0.6672540\ttotal: 12.4ms\tremaining: 46.8ms\n",
      "21:\tlearn: 0.6665463\ttotal: 13ms\tremaining: 46.1ms\n",
      "22:\tlearn: 0.6652392\ttotal: 13.6ms\tremaining: 45.4ms\n",
      "23:\tlearn: 0.6642186\ttotal: 14.2ms\tremaining: 44.8ms\n",
      "24:\tlearn: 0.6631935\ttotal: 14.8ms\tremaining: 44.4ms\n",
      "25:\tlearn: 0.6622095\ttotal: 15.5ms\tremaining: 44.1ms\n",
      "26:\tlearn: 0.6613668\ttotal: 16.5ms\tremaining: 44.7ms\n",
      "27:\tlearn: 0.6605492\ttotal: 17.1ms\tremaining: 44ms\n",
      "28:\tlearn: 0.6595605\ttotal: 17.7ms\tremaining: 43.3ms\n",
      "29:\tlearn: 0.6587517\ttotal: 18.3ms\tremaining: 42.6ms\n",
      "30:\tlearn: 0.6583820\ttotal: 18.8ms\tremaining: 41.7ms\n",
      "31:\tlearn: 0.6574936\ttotal: 19.3ms\tremaining: 41.1ms\n",
      "32:\tlearn: 0.6568310\ttotal: 19.9ms\tremaining: 40.4ms\n",
      "33:\tlearn: 0.6562274\ttotal: 20.4ms\tremaining: 39.7ms\n",
      "34:\tlearn: 0.6558898\ttotal: 21ms\tremaining: 39ms\n",
      "35:\tlearn: 0.6552856\ttotal: 21.6ms\tremaining: 38.4ms\n",
      "36:\tlearn: 0.6546221\ttotal: 22.2ms\tremaining: 37.7ms\n",
      "37:\tlearn: 0.6528554\ttotal: 22.8ms\tremaining: 37.1ms\n",
      "38:\tlearn: 0.6524335\ttotal: 23.3ms\tremaining: 36.5ms\n",
      "39:\tlearn: 0.6518763\ttotal: 23.9ms\tremaining: 35.9ms\n",
      "40:\tlearn: 0.6514792\ttotal: 24.5ms\tremaining: 35.3ms\n",
      "41:\tlearn: 0.6506534\ttotal: 25.1ms\tremaining: 34.7ms\n",
      "42:\tlearn: 0.6498641\ttotal: 25.7ms\tremaining: 34ms\n",
      "43:\tlearn: 0.6491504\ttotal: 26.2ms\tremaining: 33.4ms\n",
      "44:\tlearn: 0.6484511\ttotal: 27ms\tremaining: 33ms\n",
      "45:\tlearn: 0.6480519\ttotal: 27.6ms\tremaining: 32.4ms\n",
      "46:\tlearn: 0.6473016\ttotal: 28.2ms\tremaining: 31.8ms\n",
      "47:\tlearn: 0.6467166\ttotal: 28.9ms\tremaining: 31.3ms\n",
      "48:\tlearn: 0.6460123\ttotal: 29.5ms\tremaining: 30.7ms\n",
      "49:\tlearn: 0.6450849\ttotal: 30.1ms\tremaining: 30.1ms\n",
      "50:\tlearn: 0.6447620\ttotal: 30.6ms\tremaining: 29.4ms\n",
      "51:\tlearn: 0.6434897\ttotal: 31.2ms\tremaining: 28.8ms\n",
      "52:\tlearn: 0.6428484\ttotal: 31.8ms\tremaining: 28.2ms\n",
      "53:\tlearn: 0.6427195\ttotal: 32.4ms\tremaining: 27.6ms\n",
      "54:\tlearn: 0.6417920\ttotal: 32.9ms\tremaining: 27ms\n",
      "55:\tlearn: 0.6415232\ttotal: 33.4ms\tremaining: 26.3ms\n",
      "56:\tlearn: 0.6408012\ttotal: 34ms\tremaining: 25.6ms\n",
      "57:\tlearn: 0.6405791\ttotal: 34.6ms\tremaining: 25ms\n",
      "58:\tlearn: 0.6402840\ttotal: 35.1ms\tremaining: 24.4ms\n",
      "59:\tlearn: 0.6397964\ttotal: 35.8ms\tremaining: 23.8ms\n",
      "60:\tlearn: 0.6387865\ttotal: 36.4ms\tremaining: 23.3ms\n",
      "61:\tlearn: 0.6377959\ttotal: 37ms\tremaining: 22.7ms\n",
      "62:\tlearn: 0.6374340\ttotal: 37.5ms\tremaining: 22ms\n",
      "63:\tlearn: 0.6364529\ttotal: 38.1ms\tremaining: 21.4ms\n",
      "64:\tlearn: 0.6357202\ttotal: 38.7ms\tremaining: 20.8ms\n",
      "65:\tlearn: 0.6348040\ttotal: 39.1ms\tremaining: 20.2ms\n",
      "66:\tlearn: 0.6345843\ttotal: 39.7ms\tremaining: 19.6ms\n",
      "67:\tlearn: 0.6341780\ttotal: 40.3ms\tremaining: 18.9ms\n",
      "68:\tlearn: 0.6339428\ttotal: 40.8ms\tremaining: 18.3ms\n",
      "69:\tlearn: 0.6331744\ttotal: 41.4ms\tremaining: 17.7ms\n",
      "70:\tlearn: 0.6324868\ttotal: 41.9ms\tremaining: 17.1ms\n",
      "71:\tlearn: 0.6318658\ttotal: 45.9ms\tremaining: 17.8ms\n",
      "72:\tlearn: 0.6310649\ttotal: 46.5ms\tremaining: 17.2ms\n",
      "73:\tlearn: 0.6299764\ttotal: 47.1ms\tremaining: 16.5ms\n",
      "74:\tlearn: 0.6291931\ttotal: 47.6ms\tremaining: 15.9ms\n",
      "75:\tlearn: 0.6285434\ttotal: 48.2ms\tremaining: 15.2ms\n",
      "76:\tlearn: 0.6284261\ttotal: 48.8ms\tremaining: 14.6ms\n",
      "77:\tlearn: 0.6280003\ttotal: 49.4ms\tremaining: 13.9ms\n",
      "78:\tlearn: 0.6273881\ttotal: 50ms\tremaining: 13.3ms\n",
      "79:\tlearn: 0.6267884\ttotal: 50.5ms\tremaining: 12.6ms\n",
      "80:\tlearn: 0.6264716\ttotal: 51.1ms\tremaining: 12ms\n",
      "81:\tlearn: 0.6258626\ttotal: 51.7ms\tremaining: 11.3ms\n",
      "82:\tlearn: 0.6256652\ttotal: 52.1ms\tremaining: 10.7ms\n",
      "83:\tlearn: 0.6253574\ttotal: 52.6ms\tremaining: 10ms\n",
      "84:\tlearn: 0.6246523\ttotal: 53.3ms\tremaining: 9.41ms\n",
      "85:\tlearn: 0.6240146\ttotal: 53.9ms\tremaining: 8.77ms\n",
      "86:\tlearn: 0.6237933\ttotal: 54.5ms\tremaining: 8.14ms\n",
      "87:\tlearn: 0.6231439\ttotal: 55ms\tremaining: 7.5ms\n",
      "88:\tlearn: 0.6228989\ttotal: 55.6ms\tremaining: 6.87ms\n",
      "89:\tlearn: 0.6221870\ttotal: 56.2ms\tremaining: 6.24ms\n",
      "90:\tlearn: 0.6211382\ttotal: 56.9ms\tremaining: 5.62ms\n",
      "91:\tlearn: 0.6207813\ttotal: 57.4ms\tremaining: 4.99ms\n",
      "92:\tlearn: 0.6204688\ttotal: 58.4ms\tremaining: 4.39ms\n",
      "93:\tlearn: 0.6201819\ttotal: 58.9ms\tremaining: 3.76ms\n",
      "94:\tlearn: 0.6199291\ttotal: 59.5ms\tremaining: 3.13ms\n",
      "95:\tlearn: 0.6197867\ttotal: 59.9ms\tremaining: 2.5ms\n",
      "96:\tlearn: 0.6195433\ttotal: 60.5ms\tremaining: 1.87ms\n",
      "97:\tlearn: 0.6191725\ttotal: 61.1ms\tremaining: 1.25ms\n",
      "98:\tlearn: 0.6189766\ttotal: 61.7ms\tremaining: 623us\n",
      "99:\tlearn: 0.6182223\ttotal: 62.3ms\tremaining: 0us\n",
      "Learning rate set to 0.032107\n",
      "0:\tlearn: 0.6925952\ttotal: 757us\tremaining: 75ms\n",
      "1:\tlearn: 0.6917307\ttotal: 1.37ms\tremaining: 67ms\n",
      "2:\tlearn: 0.6903792\ttotal: 1.96ms\tremaining: 63.4ms\n",
      "3:\tlearn: 0.6891837\ttotal: 2.55ms\tremaining: 61.3ms\n",
      "4:\tlearn: 0.6885979\ttotal: 3.15ms\tremaining: 59.8ms\n",
      "5:\tlearn: 0.6877810\ttotal: 3.73ms\tremaining: 58.5ms\n",
      "6:\tlearn: 0.6867408\ttotal: 4.32ms\tremaining: 57.4ms\n",
      "7:\tlearn: 0.6860429\ttotal: 4.91ms\tremaining: 56.5ms\n",
      "8:\tlearn: 0.6854979\ttotal: 5.61ms\tremaining: 56.7ms\n",
      "9:\tlearn: 0.6851054\ttotal: 6ms\tremaining: 54ms\n",
      "10:\tlearn: 0.6838820\ttotal: 6.59ms\tremaining: 53.3ms\n",
      "11:\tlearn: 0.6831593\ttotal: 7.17ms\tremaining: 52.6ms\n",
      "12:\tlearn: 0.6819772\ttotal: 7.75ms\tremaining: 51.9ms\n",
      "13:\tlearn: 0.6812009\ttotal: 8.34ms\tremaining: 51.2ms\n",
      "14:\tlearn: 0.6803275\ttotal: 8.8ms\tremaining: 49.9ms\n",
      "15:\tlearn: 0.6796246\ttotal: 9.44ms\tremaining: 49.6ms\n",
      "16:\tlearn: 0.6790182\ttotal: 10ms\tremaining: 49.1ms\n",
      "17:\tlearn: 0.6780690\ttotal: 10.6ms\tremaining: 48.5ms\n",
      "18:\tlearn: 0.6774575\ttotal: 11.2ms\tremaining: 47.9ms\n",
      "19:\tlearn: 0.6766685\ttotal: 11.8ms\tremaining: 47.3ms\n",
      "20:\tlearn: 0.6749776\ttotal: 12.5ms\tremaining: 47ms\n",
      "21:\tlearn: 0.6744378\ttotal: 13.2ms\tremaining: 46.7ms\n",
      "22:\tlearn: 0.6729261\ttotal: 13.8ms\tremaining: 46.1ms\n",
      "23:\tlearn: 0.6718033\ttotal: 14.4ms\tremaining: 45.5ms\n",
      "24:\tlearn: 0.6716069\ttotal: 14.8ms\tremaining: 44.4ms\n",
      "25:\tlearn: 0.6703704\ttotal: 15.4ms\tremaining: 43.9ms\n",
      "26:\tlearn: 0.6693105\ttotal: 16.2ms\tremaining: 43.8ms\n",
      "27:\tlearn: 0.6691477\ttotal: 16.5ms\tremaining: 42.5ms\n",
      "28:\tlearn: 0.6683313\ttotal: 17.1ms\tremaining: 41.9ms\n",
      "29:\tlearn: 0.6679547\ttotal: 17.8ms\tremaining: 41.4ms\n",
      "30:\tlearn: 0.6668182\ttotal: 18.4ms\tremaining: 40.9ms\n",
      "31:\tlearn: 0.6658825\ttotal: 19.2ms\tremaining: 40.8ms\n",
      "32:\tlearn: 0.6643057\ttotal: 19.8ms\tremaining: 40.2ms\n",
      "33:\tlearn: 0.6634023\ttotal: 20.4ms\tremaining: 39.6ms\n",
      "34:\tlearn: 0.6628434\ttotal: 21ms\tremaining: 39ms\n",
      "35:\tlearn: 0.6625583\ttotal: 21.6ms\tremaining: 38.4ms\n",
      "36:\tlearn: 0.6615752\ttotal: 22.2ms\tremaining: 37.8ms\n",
      "37:\tlearn: 0.6602692\ttotal: 22.8ms\tremaining: 37.1ms\n",
      "38:\tlearn: 0.6590535\ttotal: 23.4ms\tremaining: 36.5ms\n",
      "39:\tlearn: 0.6580505\ttotal: 23.9ms\tremaining: 35.9ms\n",
      "40:\tlearn: 0.6575439\ttotal: 24.5ms\tremaining: 35.3ms\n"
     ]
    },
    {
     "name": "stdout",
     "output_type": "stream",
     "text": [
      "41:\tlearn: 0.6573259\ttotal: 25.8ms\tremaining: 35.7ms\n",
      "42:\tlearn: 0.6569963\ttotal: 26.6ms\tremaining: 35.3ms\n",
      "43:\tlearn: 0.6566426\ttotal: 27.2ms\tremaining: 34.6ms\n",
      "44:\tlearn: 0.6560639\ttotal: 28ms\tremaining: 34.2ms\n",
      "45:\tlearn: 0.6557323\ttotal: 28.6ms\tremaining: 33.6ms\n",
      "46:\tlearn: 0.6552977\ttotal: 29.2ms\tremaining: 33ms\n",
      "47:\tlearn: 0.6549334\ttotal: 29.8ms\tremaining: 32.3ms\n",
      "48:\tlearn: 0.6539175\ttotal: 30.3ms\tremaining: 31.5ms\n",
      "49:\tlearn: 0.6532234\ttotal: 30.8ms\tremaining: 30.8ms\n",
      "50:\tlearn: 0.6521073\ttotal: 31.4ms\tremaining: 30.1ms\n",
      "51:\tlearn: 0.6515331\ttotal: 31.9ms\tremaining: 29.4ms\n",
      "52:\tlearn: 0.6512865\ttotal: 32.9ms\tremaining: 29.2ms\n",
      "53:\tlearn: 0.6509036\ttotal: 33.7ms\tremaining: 28.7ms\n",
      "54:\tlearn: 0.6500648\ttotal: 34.3ms\tremaining: 28.1ms\n",
      "55:\tlearn: 0.6493881\ttotal: 34.8ms\tremaining: 27.4ms\n",
      "56:\tlearn: 0.6487765\ttotal: 35.4ms\tremaining: 26.7ms\n",
      "57:\tlearn: 0.6483443\ttotal: 35.9ms\tremaining: 26ms\n",
      "58:\tlearn: 0.6469724\ttotal: 36.4ms\tremaining: 25.3ms\n",
      "59:\tlearn: 0.6464679\ttotal: 36.9ms\tremaining: 24.6ms\n",
      "60:\tlearn: 0.6457680\ttotal: 37.5ms\tremaining: 24ms\n",
      "61:\tlearn: 0.6454675\ttotal: 38ms\tremaining: 23.3ms\n",
      "62:\tlearn: 0.6450699\ttotal: 38.5ms\tremaining: 22.6ms\n",
      "63:\tlearn: 0.6448196\ttotal: 39.1ms\tremaining: 22ms\n",
      "64:\tlearn: 0.6444143\ttotal: 39.6ms\tremaining: 21.3ms\n",
      "65:\tlearn: 0.6442878\ttotal: 40ms\tremaining: 20.6ms\n",
      "66:\tlearn: 0.6431995\ttotal: 40.5ms\tremaining: 20ms\n",
      "67:\tlearn: 0.6425763\ttotal: 41.1ms\tremaining: 19.3ms\n",
      "68:\tlearn: 0.6420346\ttotal: 41.6ms\tremaining: 18.7ms\n",
      "69:\tlearn: 0.6415790\ttotal: 42.1ms\tremaining: 18ms\n",
      "70:\tlearn: 0.6412948\ttotal: 42.7ms\tremaining: 17.4ms\n",
      "71:\tlearn: 0.6409116\ttotal: 43.3ms\tremaining: 16.8ms\n",
      "72:\tlearn: 0.6405001\ttotal: 43.8ms\tremaining: 16.2ms\n",
      "73:\tlearn: 0.6401882\ttotal: 44.4ms\tremaining: 15.6ms\n",
      "74:\tlearn: 0.6397965\ttotal: 44.9ms\tremaining: 15ms\n",
      "75:\tlearn: 0.6395635\ttotal: 45.9ms\tremaining: 14.5ms\n",
      "76:\tlearn: 0.6387743\ttotal: 46.6ms\tremaining: 13.9ms\n",
      "77:\tlearn: 0.6385199\ttotal: 47.3ms\tremaining: 13.3ms\n",
      "78:\tlearn: 0.6379286\ttotal: 48.1ms\tremaining: 12.8ms\n",
      "79:\tlearn: 0.6377345\ttotal: 49.1ms\tremaining: 12.3ms\n",
      "80:\tlearn: 0.6370685\ttotal: 49.6ms\tremaining: 11.6ms\n",
      "81:\tlearn: 0.6363347\ttotal: 50.2ms\tremaining: 11ms\n",
      "82:\tlearn: 0.6360443\ttotal: 50.8ms\tremaining: 10.4ms\n",
      "83:\tlearn: 0.6350093\ttotal: 51.3ms\tremaining: 9.78ms\n",
      "84:\tlearn: 0.6346314\ttotal: 51.9ms\tremaining: 9.16ms\n",
      "85:\tlearn: 0.6343578\ttotal: 52.5ms\tremaining: 8.55ms\n",
      "86:\tlearn: 0.6340683\ttotal: 53.1ms\tremaining: 7.93ms\n",
      "87:\tlearn: 0.6335727\ttotal: 53.7ms\tremaining: 7.32ms\n",
      "88:\tlearn: 0.6330103\ttotal: 54.3ms\tremaining: 6.71ms\n",
      "89:\tlearn: 0.6324626\ttotal: 54.8ms\tremaining: 6.09ms\n",
      "90:\tlearn: 0.6319763\ttotal: 55.4ms\tremaining: 5.48ms\n",
      "91:\tlearn: 0.6314784\ttotal: 56ms\tremaining: 4.87ms\n",
      "92:\tlearn: 0.6306075\ttotal: 56.6ms\tremaining: 4.26ms\n",
      "93:\tlearn: 0.6298564\ttotal: 57.2ms\tremaining: 3.65ms\n",
      "94:\tlearn: 0.6294016\ttotal: 57.7ms\tremaining: 3.04ms\n",
      "95:\tlearn: 0.6293126\ttotal: 58.4ms\tremaining: 2.43ms\n",
      "96:\tlearn: 0.6292301\ttotal: 59.7ms\tremaining: 1.84ms\n",
      "97:\tlearn: 0.6289735\ttotal: 60.8ms\tremaining: 1.24ms\n",
      "98:\tlearn: 0.6283461\ttotal: 61.4ms\tremaining: 620us\n",
      "99:\tlearn: 0.6278839\ttotal: 62ms\tremaining: 0us\n",
      "Learning rate set to 0.032107\n",
      "0:\tlearn: 0.6910865\ttotal: 714us\tremaining: 70.8ms\n",
      "1:\tlearn: 0.6898524\ttotal: 1.34ms\tremaining: 65.9ms\n",
      "2:\tlearn: 0.6888589\ttotal: 1.93ms\tremaining: 62.5ms\n",
      "3:\tlearn: 0.6869971\ttotal: 2.51ms\tremaining: 60.2ms\n",
      "4:\tlearn: 0.6861404\ttotal: 3.06ms\tremaining: 58ms\n",
      "5:\tlearn: 0.6838449\ttotal: 3.59ms\tremaining: 56.2ms\n",
      "6:\tlearn: 0.6830928\ttotal: 4.15ms\tremaining: 55.1ms\n",
      "7:\tlearn: 0.6823446\ttotal: 4.69ms\tremaining: 54ms\n",
      "8:\tlearn: 0.6812437\ttotal: 5.32ms\tremaining: 53.8ms\n",
      "9:\tlearn: 0.6803432\ttotal: 6ms\tremaining: 54ms\n",
      "10:\tlearn: 0.6794028\ttotal: 7.06ms\tremaining: 57.1ms\n",
      "11:\tlearn: 0.6784571\ttotal: 7.66ms\tremaining: 56.2ms\n",
      "12:\tlearn: 0.6777525\ttotal: 8.03ms\tremaining: 53.7ms\n",
      "13:\tlearn: 0.6770217\ttotal: 8.6ms\tremaining: 52.8ms\n",
      "14:\tlearn: 0.6755072\ttotal: 9.18ms\tremaining: 52ms\n",
      "15:\tlearn: 0.6743160\ttotal: 9.71ms\tremaining: 51ms\n",
      "16:\tlearn: 0.6741247\ttotal: 10.2ms\tremaining: 49.7ms\n",
      "17:\tlearn: 0.6729892\ttotal: 10.7ms\tremaining: 48.7ms\n",
      "18:\tlearn: 0.6720574\ttotal: 11.3ms\tremaining: 48ms\n",
      "19:\tlearn: 0.6707712\ttotal: 12.1ms\tremaining: 48.4ms\n",
      "20:\tlearn: 0.6690446\ttotal: 12.7ms\tremaining: 47.7ms\n",
      "21:\tlearn: 0.6677271\ttotal: 13.2ms\tremaining: 46.9ms\n",
      "22:\tlearn: 0.6663926\ttotal: 13.8ms\tremaining: 46.2ms\n",
      "23:\tlearn: 0.6652238\ttotal: 14.3ms\tremaining: 45.4ms\n",
      "24:\tlearn: 0.6643990\ttotal: 14.9ms\tremaining: 44.6ms\n",
      "25:\tlearn: 0.6639224\ttotal: 15.3ms\tremaining: 43.5ms\n",
      "26:\tlearn: 0.6634637\ttotal: 15.8ms\tremaining: 42.7ms\n",
      "27:\tlearn: 0.6629720\ttotal: 16.1ms\tremaining: 41.5ms\n",
      "28:\tlearn: 0.6620594\ttotal: 16.7ms\tremaining: 40.8ms\n",
      "29:\tlearn: 0.6609075\ttotal: 17.1ms\tremaining: 40ms\n",
      "30:\tlearn: 0.6601740\ttotal: 17.5ms\tremaining: 39.1ms\n",
      "31:\tlearn: 0.6597063\ttotal: 17.8ms\tremaining: 37.8ms\n",
      "32:\tlearn: 0.6583626\ttotal: 18.5ms\tremaining: 37.5ms\n",
      "33:\tlearn: 0.6578003\ttotal: 19.1ms\tremaining: 37.1ms\n",
      "34:\tlearn: 0.6568054\ttotal: 19.6ms\tremaining: 36.4ms\n",
      "35:\tlearn: 0.6557832\ttotal: 20.2ms\tremaining: 35.8ms\n",
      "36:\tlearn: 0.6553543\ttotal: 20.7ms\tremaining: 35.3ms\n",
      "37:\tlearn: 0.6547909\ttotal: 21.3ms\tremaining: 34.7ms\n",
      "38:\tlearn: 0.6532341\ttotal: 21.9ms\tremaining: 34.2ms\n",
      "39:\tlearn: 0.6520579\ttotal: 22.5ms\tremaining: 33.7ms\n",
      "40:\tlearn: 0.6510169\ttotal: 23ms\tremaining: 33.1ms\n",
      "41:\tlearn: 0.6503356\ttotal: 23.6ms\tremaining: 32.6ms\n",
      "42:\tlearn: 0.6499831\ttotal: 24.2ms\tremaining: 32ms\n",
      "43:\tlearn: 0.6494115\ttotal: 24.6ms\tremaining: 31.4ms\n",
      "44:\tlearn: 0.6487195\ttotal: 25.2ms\tremaining: 30.8ms\n",
      "45:\tlearn: 0.6481798\ttotal: 25.8ms\tremaining: 30.3ms\n",
      "46:\tlearn: 0.6475233\ttotal: 26.4ms\tremaining: 29.7ms\n",
      "47:\tlearn: 0.6468244\ttotal: 26.9ms\tremaining: 29.2ms\n",
      "48:\tlearn: 0.6456312\ttotal: 27.5ms\tremaining: 28.6ms\n",
      "49:\tlearn: 0.6437789\ttotal: 28ms\tremaining: 28ms\n",
      "50:\tlearn: 0.6427596\ttotal: 28.7ms\tremaining: 27.5ms\n",
      "51:\tlearn: 0.6416531\ttotal: 29ms\tremaining: 26.8ms\n",
      "52:\tlearn: 0.6411694\ttotal: 29.6ms\tremaining: 26.3ms\n",
      "53:\tlearn: 0.6405121\ttotal: 30.2ms\tremaining: 25.7ms\n",
      "54:\tlearn: 0.6398776\ttotal: 30.8ms\tremaining: 25.2ms\n",
      "55:\tlearn: 0.6395707\ttotal: 31.4ms\tremaining: 24.7ms\n",
      "56:\tlearn: 0.6392095\ttotal: 32.1ms\tremaining: 24.2ms\n",
      "57:\tlearn: 0.6385866\ttotal: 32.9ms\tremaining: 23.8ms\n",
      "58:\tlearn: 0.6378204\ttotal: 33.8ms\tremaining: 23.5ms\n",
      "59:\tlearn: 0.6370226\ttotal: 34.4ms\tremaining: 22.9ms\n",
      "60:\tlearn: 0.6366219\ttotal: 35ms\tremaining: 22.4ms\n",
      "61:\tlearn: 0.6354842\ttotal: 35.9ms\tremaining: 22ms\n",
      "62:\tlearn: 0.6349913\ttotal: 36.5ms\tremaining: 21.4ms\n",
      "63:\tlearn: 0.6337600\ttotal: 37.1ms\tremaining: 20.9ms\n",
      "64:\tlearn: 0.6329716\ttotal: 37.7ms\tremaining: 20.3ms\n",
      "65:\tlearn: 0.6326576\ttotal: 38.2ms\tremaining: 19.7ms\n",
      "66:\tlearn: 0.6320076\ttotal: 38.8ms\tremaining: 19.1ms\n",
      "67:\tlearn: 0.6315215\ttotal: 39.4ms\tremaining: 18.5ms\n",
      "68:\tlearn: 0.6307025\ttotal: 40ms\tremaining: 18ms\n",
      "69:\tlearn: 0.6302296\ttotal: 40.5ms\tremaining: 17.4ms\n",
      "70:\tlearn: 0.6300788\ttotal: 41.1ms\tremaining: 16.8ms\n",
      "71:\tlearn: 0.6290698\ttotal: 41.7ms\tremaining: 16.2ms\n",
      "72:\tlearn: 0.6285415\ttotal: 42.2ms\tremaining: 15.6ms\n",
      "73:\tlearn: 0.6278639\ttotal: 42.8ms\tremaining: 15ms\n",
      "74:\tlearn: 0.6269759\ttotal: 43.4ms\tremaining: 14.5ms\n",
      "75:\tlearn: 0.6263882\ttotal: 44.1ms\tremaining: 13.9ms\n",
      "76:\tlearn: 0.6253628\ttotal: 44.7ms\tremaining: 13.4ms\n",
      "77:\tlearn: 0.6252211\ttotal: 45.5ms\tremaining: 12.8ms\n",
      "78:\tlearn: 0.6245732\ttotal: 46.3ms\tremaining: 12.3ms\n",
      "79:\tlearn: 0.6238479\ttotal: 46.8ms\tremaining: 11.7ms\n",
      "80:\tlearn: 0.6228473\ttotal: 47.4ms\tremaining: 11.1ms\n",
      "81:\tlearn: 0.6218832\ttotal: 48ms\tremaining: 10.5ms\n",
      "82:\tlearn: 0.6216326\ttotal: 48.5ms\tremaining: 9.93ms\n",
      "83:\tlearn: 0.6208261\ttotal: 49ms\tremaining: 9.34ms\n",
      "84:\tlearn: 0.6205833\ttotal: 49.6ms\tremaining: 8.75ms\n",
      "85:\tlearn: 0.6192260\ttotal: 50.2ms\tremaining: 8.17ms\n",
      "86:\tlearn: 0.6184147\ttotal: 50.7ms\tremaining: 7.58ms\n",
      "87:\tlearn: 0.6179977\ttotal: 51.4ms\tremaining: 7.01ms\n",
      "88:\tlearn: 0.6176221\ttotal: 52ms\tremaining: 6.43ms\n",
      "89:\tlearn: 0.6168408\ttotal: 52.6ms\tremaining: 5.84ms\n",
      "90:\tlearn: 0.6161659\ttotal: 53.2ms\tremaining: 5.26ms\n",
      "91:\tlearn: 0.6152091\ttotal: 53.8ms\tremaining: 4.67ms\n",
      "92:\tlearn: 0.6141200\ttotal: 54.3ms\tremaining: 4.09ms\n",
      "93:\tlearn: 0.6138894\ttotal: 54.9ms\tremaining: 3.5ms\n",
      "94:\tlearn: 0.6135014\ttotal: 55.5ms\tremaining: 2.92ms\n",
      "95:\tlearn: 0.6127928\ttotal: 56.1ms\tremaining: 2.34ms\n",
      "96:\tlearn: 0.6124986\ttotal: 56.7ms\tremaining: 1.75ms\n",
      "97:\tlearn: 0.6113840\ttotal: 57.2ms\tremaining: 1.17ms\n",
      "98:\tlearn: 0.6110959\ttotal: 57.8ms\tremaining: 583us\n",
      "99:\tlearn: 0.6105231\ttotal: 58.4ms\tremaining: 0us\n",
      "Learning rate set to 0.032107\n",
      "0:\tlearn: 0.6926143\ttotal: 706us\tremaining: 69.9ms\n",
      "1:\tlearn: 0.6912360\ttotal: 1.33ms\tremaining: 65.4ms\n",
      "2:\tlearn: 0.6902730\ttotal: 1.92ms\tremaining: 62.2ms\n",
      "3:\tlearn: 0.6895757\ttotal: 2.53ms\tremaining: 60.7ms\n",
      "4:\tlearn: 0.6892343\ttotal: 3.11ms\tremaining: 59.1ms\n",
      "5:\tlearn: 0.6885452\ttotal: 3.71ms\tremaining: 58.2ms\n"
     ]
    },
    {
     "name": "stdout",
     "output_type": "stream",
     "text": [
      "6:\tlearn: 0.6879577\ttotal: 4.7ms\tremaining: 62.4ms\n",
      "7:\tlearn: 0.6864287\ttotal: 5.7ms\tremaining: 65.5ms\n",
      "8:\tlearn: 0.6858091\ttotal: 6.29ms\tremaining: 63.6ms\n",
      "9:\tlearn: 0.6852900\ttotal: 6.95ms\tremaining: 62.5ms\n",
      "10:\tlearn: 0.6843819\ttotal: 7.54ms\tremaining: 61ms\n",
      "11:\tlearn: 0.6830125\ttotal: 8.17ms\tremaining: 59.9ms\n",
      "12:\tlearn: 0.6828661\ttotal: 8.53ms\tremaining: 57.1ms\n",
      "13:\tlearn: 0.6827025\ttotal: 8.89ms\tremaining: 54.6ms\n",
      "14:\tlearn: 0.6821587\ttotal: 10.1ms\tremaining: 57ms\n",
      "15:\tlearn: 0.6816252\ttotal: 10.9ms\tremaining: 57.2ms\n",
      "16:\tlearn: 0.6799497\ttotal: 11.5ms\tremaining: 56.2ms\n",
      "17:\tlearn: 0.6789930\ttotal: 12.1ms\tremaining: 54.9ms\n",
      "18:\tlearn: 0.6782344\ttotal: 12.6ms\tremaining: 53.7ms\n",
      "19:\tlearn: 0.6773066\ttotal: 13.1ms\tremaining: 52.4ms\n",
      "20:\tlearn: 0.6765851\ttotal: 13.7ms\tremaining: 51.5ms\n",
      "21:\tlearn: 0.6762819\ttotal: 14.3ms\tremaining: 50.5ms\n",
      "22:\tlearn: 0.6756262\ttotal: 14.8ms\tremaining: 49.5ms\n",
      "23:\tlearn: 0.6747293\ttotal: 15.3ms\tremaining: 48.5ms\n",
      "24:\tlearn: 0.6739227\ttotal: 15.9ms\tremaining: 47.6ms\n",
      "25:\tlearn: 0.6733196\ttotal: 16.4ms\tremaining: 46.7ms\n",
      "26:\tlearn: 0.6729941\ttotal: 16.8ms\tremaining: 45.5ms\n",
      "27:\tlearn: 0.6719298\ttotal: 17.3ms\tremaining: 44.6ms\n",
      "28:\tlearn: 0.6716512\ttotal: 17.9ms\tremaining: 43.8ms\n",
      "29:\tlearn: 0.6713332\ttotal: 18.4ms\tremaining: 43ms\n",
      "30:\tlearn: 0.6707033\ttotal: 19ms\tremaining: 42.3ms\n",
      "31:\tlearn: 0.6701657\ttotal: 19.5ms\tremaining: 41.5ms\n",
      "32:\tlearn: 0.6692950\ttotal: 20.1ms\tremaining: 40.8ms\n",
      "33:\tlearn: 0.6682843\ttotal: 20.7ms\tremaining: 40.1ms\n",
      "34:\tlearn: 0.6676056\ttotal: 21.2ms\tremaining: 39.5ms\n",
      "35:\tlearn: 0.6673465\ttotal: 21.9ms\tremaining: 38.9ms\n",
      "36:\tlearn: 0.6671027\ttotal: 22.9ms\tremaining: 39ms\n",
      "37:\tlearn: 0.6665714\ttotal: 23.4ms\tremaining: 38.2ms\n",
      "38:\tlearn: 0.6654637\ttotal: 23.9ms\tremaining: 37.5ms\n",
      "39:\tlearn: 0.6650747\ttotal: 24.5ms\tremaining: 36.7ms\n",
      "40:\tlearn: 0.6646868\ttotal: 25.2ms\tremaining: 36.3ms\n",
      "41:\tlearn: 0.6640651\ttotal: 25.8ms\tremaining: 35.6ms\n",
      "42:\tlearn: 0.6639398\ttotal: 26.3ms\tremaining: 34.9ms\n",
      "43:\tlearn: 0.6632980\ttotal: 26.9ms\tremaining: 34.2ms\n",
      "44:\tlearn: 0.6630494\ttotal: 27.4ms\tremaining: 33.5ms\n",
      "45:\tlearn: 0.6629667\ttotal: 28ms\tremaining: 32.9ms\n",
      "46:\tlearn: 0.6626966\ttotal: 28.7ms\tremaining: 32.3ms\n",
      "47:\tlearn: 0.6620899\ttotal: 29.3ms\tremaining: 31.7ms\n",
      "48:\tlearn: 0.6620032\ttotal: 30.6ms\tremaining: 31.8ms\n",
      "49:\tlearn: 0.6617023\ttotal: 31.3ms\tremaining: 31.3ms\n",
      "50:\tlearn: 0.6614763\ttotal: 31.9ms\tremaining: 30.7ms\n",
      "51:\tlearn: 0.6610766\ttotal: 32.5ms\tremaining: 30ms\n",
      "52:\tlearn: 0.6607187\ttotal: 33.1ms\tremaining: 29.3ms\n",
      "53:\tlearn: 0.6603722\ttotal: 33.6ms\tremaining: 28.6ms\n",
      "54:\tlearn: 0.6600692\ttotal: 34.2ms\tremaining: 28ms\n",
      "55:\tlearn: 0.6598173\ttotal: 34.8ms\tremaining: 27.4ms\n",
      "56:\tlearn: 0.6596112\ttotal: 35.3ms\tremaining: 26.7ms\n",
      "57:\tlearn: 0.6591508\ttotal: 36.1ms\tremaining: 26.1ms\n",
      "58:\tlearn: 0.6591118\ttotal: 36.6ms\tremaining: 25.4ms\n",
      "59:\tlearn: 0.6590634\ttotal: 36.9ms\tremaining: 24.6ms\n",
      "60:\tlearn: 0.6585945\ttotal: 37.6ms\tremaining: 24ms\n",
      "61:\tlearn: 0.6584290\ttotal: 38.2ms\tremaining: 23.4ms\n",
      "62:\tlearn: 0.6579006\ttotal: 38.8ms\tremaining: 22.8ms\n",
      "63:\tlearn: 0.6568736\ttotal: 39.3ms\tremaining: 22.1ms\n",
      "64:\tlearn: 0.6560842\ttotal: 40ms\tremaining: 21.5ms\n",
      "65:\tlearn: 0.6552150\ttotal: 40.5ms\tremaining: 20.9ms\n",
      "66:\tlearn: 0.6543886\ttotal: 41.1ms\tremaining: 20.2ms\n",
      "67:\tlearn: 0.6541349\ttotal: 41.7ms\tremaining: 19.6ms\n",
      "68:\tlearn: 0.6528377\ttotal: 42.3ms\tremaining: 19ms\n",
      "69:\tlearn: 0.6526671\ttotal: 42.9ms\tremaining: 18.4ms\n",
      "70:\tlearn: 0.6523539\ttotal: 43.4ms\tremaining: 17.7ms\n",
      "71:\tlearn: 0.6519294\ttotal: 44ms\tremaining: 17.1ms\n",
      "72:\tlearn: 0.6510871\ttotal: 44.6ms\tremaining: 16.5ms\n",
      "73:\tlearn: 0.6507850\ttotal: 45.1ms\tremaining: 15.9ms\n",
      "74:\tlearn: 0.6501808\ttotal: 45.7ms\tremaining: 15.2ms\n",
      "75:\tlearn: 0.6493357\ttotal: 46.3ms\tremaining: 14.6ms\n",
      "76:\tlearn: 0.6490085\ttotal: 47.6ms\tremaining: 14.2ms\n",
      "77:\tlearn: 0.6485295\ttotal: 48.7ms\tremaining: 13.7ms\n",
      "78:\tlearn: 0.6482523\ttotal: 49.5ms\tremaining: 13.2ms\n",
      "79:\tlearn: 0.6479567\ttotal: 50.1ms\tremaining: 12.5ms\n",
      "80:\tlearn: 0.6474793\ttotal: 50.7ms\tremaining: 11.9ms\n",
      "81:\tlearn: 0.6469431\ttotal: 51.3ms\tremaining: 11.3ms\n",
      "82:\tlearn: 0.6467077\ttotal: 51.8ms\tremaining: 10.6ms\n",
      "83:\tlearn: 0.6461256\ttotal: 52.4ms\tremaining: 9.99ms\n",
      "84:\tlearn: 0.6454658\ttotal: 53.1ms\tremaining: 9.37ms\n",
      "85:\tlearn: 0.6448936\ttotal: 53.7ms\tremaining: 8.74ms\n",
      "86:\tlearn: 0.6446992\ttotal: 54.2ms\tremaining: 8.1ms\n",
      "87:\tlearn: 0.6439638\ttotal: 54.8ms\tremaining: 7.47ms\n",
      "88:\tlearn: 0.6431565\ttotal: 55.4ms\tremaining: 6.84ms\n",
      "89:\tlearn: 0.6422024\ttotal: 55.9ms\tremaining: 6.21ms\n",
      "90:\tlearn: 0.6417896\ttotal: 56.5ms\tremaining: 5.59ms\n",
      "91:\tlearn: 0.6409287\ttotal: 57.2ms\tremaining: 4.97ms\n",
      "92:\tlearn: 0.6405488\ttotal: 57.8ms\tremaining: 4.35ms\n",
      "93:\tlearn: 0.6398327\ttotal: 58.3ms\tremaining: 3.72ms\n",
      "94:\tlearn: 0.6394957\ttotal: 58.9ms\tremaining: 3.1ms\n",
      "95:\tlearn: 0.6393928\ttotal: 59.4ms\tremaining: 2.47ms\n",
      "96:\tlearn: 0.6389701\ttotal: 59.9ms\tremaining: 1.85ms\n",
      "97:\tlearn: 0.6381949\ttotal: 62.7ms\tremaining: 1.28ms\n",
      "98:\tlearn: 0.6375514\ttotal: 63.3ms\tremaining: 639us\n",
      "99:\tlearn: 0.6370450\ttotal: 64ms\tremaining: 0us\n",
      "Learning rate set to 0.032107\n",
      "0:\tlearn: 0.6922783\ttotal: 694us\tremaining: 68.8ms\n",
      "1:\tlearn: 0.6911214\ttotal: 1.25ms\tremaining: 61.3ms\n",
      "2:\tlearn: 0.6902660\ttotal: 1.8ms\tremaining: 58.3ms\n",
      "3:\tlearn: 0.6890425\ttotal: 2.35ms\tremaining: 56.3ms\n",
      "4:\tlearn: 0.6882525\ttotal: 2.9ms\tremaining: 55.1ms\n",
      "5:\tlearn: 0.6874552\ttotal: 3.44ms\tremaining: 53.9ms\n",
      "6:\tlearn: 0.6860305\ttotal: 3.98ms\tremaining: 52.9ms\n",
      "7:\tlearn: 0.6856606\ttotal: 4.52ms\tremaining: 52ms\n",
      "8:\tlearn: 0.6850457\ttotal: 5.07ms\tremaining: 51.2ms\n",
      "9:\tlearn: 0.6841857\ttotal: 5.6ms\tremaining: 50.4ms\n",
      "10:\tlearn: 0.6831981\ttotal: 6.12ms\tremaining: 49.5ms\n",
      "11:\tlearn: 0.6815801\ttotal: 6.65ms\tremaining: 48.8ms\n",
      "12:\tlearn: 0.6809721\ttotal: 6.98ms\tremaining: 46.7ms\n",
      "13:\tlearn: 0.6802371\ttotal: 7.53ms\tremaining: 46.3ms\n",
      "14:\tlearn: 0.6798134\ttotal: 8.3ms\tremaining: 47.1ms\n",
      "15:\tlearn: 0.6786960\ttotal: 8.83ms\tremaining: 46.4ms\n",
      "16:\tlearn: 0.6781227\ttotal: 9.4ms\tremaining: 45.9ms\n",
      "17:\tlearn: 0.6768395\ttotal: 9.96ms\tremaining: 45.4ms\n",
      "18:\tlearn: 0.6762030\ttotal: 10.5ms\tremaining: 44.8ms\n",
      "19:\tlearn: 0.6757805\ttotal: 11ms\tremaining: 44.2ms\n",
      "20:\tlearn: 0.6743613\ttotal: 11.6ms\tremaining: 43.5ms\n",
      "21:\tlearn: 0.6740150\ttotal: 12.1ms\tremaining: 43ms\n",
      "22:\tlearn: 0.6725724\ttotal: 12.7ms\tremaining: 42.4ms\n",
      "23:\tlearn: 0.6713376\ttotal: 13.2ms\tremaining: 41.7ms\n",
      "24:\tlearn: 0.6707951\ttotal: 13.6ms\tremaining: 40.9ms\n",
      "25:\tlearn: 0.6700149\ttotal: 14ms\tremaining: 39.9ms\n",
      "26:\tlearn: 0.6688631\ttotal: 14.5ms\tremaining: 39.3ms\n",
      "27:\tlearn: 0.6685630\ttotal: 14.8ms\tremaining: 38.1ms\n",
      "28:\tlearn: 0.6680849\ttotal: 15.3ms\tremaining: 37.5ms\n",
      "29:\tlearn: 0.6672403\ttotal: 15.8ms\tremaining: 36.9ms\n",
      "30:\tlearn: 0.6663511\ttotal: 16.3ms\tremaining: 36.3ms\n",
      "31:\tlearn: 0.6659298\ttotal: 16.8ms\tremaining: 35.7ms\n",
      "32:\tlearn: 0.6649179\ttotal: 17.3ms\tremaining: 35.1ms\n",
      "33:\tlearn: 0.6637148\ttotal: 17.8ms\tremaining: 34.5ms\n",
      "34:\tlearn: 0.6634551\ttotal: 18.2ms\tremaining: 33.9ms\n",
      "35:\tlearn: 0.6631114\ttotal: 18.7ms\tremaining: 33.3ms\n",
      "36:\tlearn: 0.6620133\ttotal: 19.2ms\tremaining: 32.7ms\n",
      "37:\tlearn: 0.6602828\ttotal: 19.7ms\tremaining: 32.1ms\n",
      "38:\tlearn: 0.6590632\ttotal: 20.2ms\tremaining: 31.6ms\n",
      "39:\tlearn: 0.6584392\ttotal: 21.2ms\tremaining: 31.8ms\n",
      "40:\tlearn: 0.6580739\ttotal: 21.9ms\tremaining: 31.5ms\n",
      "41:\tlearn: 0.6575034\ttotal: 22.7ms\tremaining: 31.3ms\n",
      "42:\tlearn: 0.6570827\ttotal: 23.2ms\tremaining: 30.8ms\n",
      "43:\tlearn: 0.6565397\ttotal: 23.8ms\tremaining: 30.3ms\n",
      "44:\tlearn: 0.6559007\ttotal: 24.3ms\tremaining: 29.7ms\n",
      "45:\tlearn: 0.6552966\ttotal: 24.9ms\tremaining: 29.2ms\n",
      "46:\tlearn: 0.6541186\ttotal: 25.4ms\tremaining: 28.6ms\n",
      "47:\tlearn: 0.6532157\ttotal: 26ms\tremaining: 28.1ms\n",
      "48:\tlearn: 0.6521702\ttotal: 26.5ms\tremaining: 27.6ms\n",
      "49:\tlearn: 0.6511857\ttotal: 27.1ms\tremaining: 27.1ms\n",
      "50:\tlearn: 0.6499406\ttotal: 27.7ms\tremaining: 26.6ms\n",
      "51:\tlearn: 0.6491937\ttotal: 28.3ms\tremaining: 26.1ms\n",
      "52:\tlearn: 0.6488143\ttotal: 28.9ms\tremaining: 25.6ms\n",
      "53:\tlearn: 0.6484713\ttotal: 29.4ms\tremaining: 25.1ms\n",
      "54:\tlearn: 0.6472334\ttotal: 30ms\tremaining: 24.5ms\n",
      "55:\tlearn: 0.6466332\ttotal: 30.5ms\tremaining: 24ms\n",
      "56:\tlearn: 0.6457325\ttotal: 31.1ms\tremaining: 23.4ms\n",
      "57:\tlearn: 0.6454414\ttotal: 31.6ms\tremaining: 22.9ms\n",
      "58:\tlearn: 0.6442741\ttotal: 32.2ms\tremaining: 22.4ms\n",
      "59:\tlearn: 0.6441031\ttotal: 32.6ms\tremaining: 21.8ms\n",
      "60:\tlearn: 0.6438784\ttotal: 33.2ms\tremaining: 21.2ms\n",
      "61:\tlearn: 0.6435993\ttotal: 33.8ms\tremaining: 20.7ms\n",
      "62:\tlearn: 0.6431536\ttotal: 34.6ms\tremaining: 20.3ms\n",
      "63:\tlearn: 0.6425302\ttotal: 35.2ms\tremaining: 19.8ms\n",
      "64:\tlearn: 0.6423205\ttotal: 35.7ms\tremaining: 19.2ms\n",
      "65:\tlearn: 0.6415379\ttotal: 36.3ms\tremaining: 18.7ms\n",
      "66:\tlearn: 0.6408460\ttotal: 36.8ms\tremaining: 18.1ms\n",
      "67:\tlearn: 0.6401526\ttotal: 37.3ms\tremaining: 17.6ms\n",
      "68:\tlearn: 0.6398257\ttotal: 37.9ms\tremaining: 17ms\n",
      "69:\tlearn: 0.6389356\ttotal: 38.4ms\tremaining: 16.5ms\n",
      "70:\tlearn: 0.6386190\ttotal: 39ms\tremaining: 15.9ms\n",
      "71:\tlearn: 0.6378213\ttotal: 39.6ms\tremaining: 15.4ms\n",
      "72:\tlearn: 0.6374189\ttotal: 40.1ms\tremaining: 14.8ms\n",
      "73:\tlearn: 0.6371023\ttotal: 40.7ms\tremaining: 14.3ms\n",
      "74:\tlearn: 0.6363311\ttotal: 41.2ms\tremaining: 13.7ms\n",
      "75:\tlearn: 0.6361399\ttotal: 41.8ms\tremaining: 13.2ms\n",
      "76:\tlearn: 0.6354910\ttotal: 42.3ms\tremaining: 12.6ms\n",
      "77:\tlearn: 0.6347945\ttotal: 42.8ms\tremaining: 12.1ms\n",
      "78:\tlearn: 0.6343785\ttotal: 43.4ms\tremaining: 11.5ms\n",
      "79:\tlearn: 0.6339608\ttotal: 43.9ms\tremaining: 11ms\n",
      "80:\tlearn: 0.6337145\ttotal: 44.3ms\tremaining: 10.4ms\n",
      "81:\tlearn: 0.6334348\ttotal: 44.8ms\tremaining: 9.82ms\n",
      "82:\tlearn: 0.6331200\ttotal: 45.3ms\tremaining: 9.28ms\n",
      "83:\tlearn: 0.6327226\ttotal: 46.2ms\tremaining: 8.79ms\n",
      "84:\tlearn: 0.6320270\ttotal: 46.8ms\tremaining: 8.26ms\n",
      "85:\tlearn: 0.6314587\ttotal: 47.7ms\tremaining: 7.77ms\n",
      "86:\tlearn: 0.6310611\ttotal: 48.3ms\tremaining: 7.22ms\n",
      "87:\tlearn: 0.6305876\ttotal: 48.9ms\tremaining: 6.67ms\n",
      "88:\tlearn: 0.6299138\ttotal: 49.5ms\tremaining: 6.12ms\n",
      "89:\tlearn: 0.6295625\ttotal: 50.1ms\tremaining: 5.56ms\n",
      "90:\tlearn: 0.6286743\ttotal: 50.7ms\tremaining: 5.01ms\n",
      "91:\tlearn: 0.6284482\ttotal: 51.3ms\tremaining: 4.46ms\n",
      "92:\tlearn: 0.6276476\ttotal: 51.8ms\tremaining: 3.9ms\n",
      "93:\tlearn: 0.6270152\ttotal: 52.4ms\tremaining: 3.34ms\n",
      "94:\tlearn: 0.6265863\ttotal: 53ms\tremaining: 2.79ms\n",
      "95:\tlearn: 0.6262325\ttotal: 53.5ms\tremaining: 2.23ms\n",
      "96:\tlearn: 0.6259901\ttotal: 54.1ms\tremaining: 1.67ms\n",
      "97:\tlearn: 0.6252915\ttotal: 54.7ms\tremaining: 1.11ms\n",
      "98:\tlearn: 0.6248071\ttotal: 55.2ms\tremaining: 557us\n",
      "99:\tlearn: 0.6242321\ttotal: 55.7ms\tremaining: 0us\n"
     ]
    },
    {
     "name": "stdout",
     "output_type": "stream",
     "text": [
      "Learning rate set to 0.032107\n",
      "0:\tlearn: 0.6922013\ttotal: 624us\tremaining: 61.8ms\n",
      "1:\tlearn: 0.6910905\ttotal: 1.26ms\tremaining: 61.8ms\n",
      "2:\tlearn: 0.6895698\ttotal: 1.88ms\tremaining: 60.6ms\n",
      "3:\tlearn: 0.6885310\ttotal: 2.41ms\tremaining: 57.8ms\n",
      "4:\tlearn: 0.6878839\ttotal: 2.95ms\tremaining: 56ms\n",
      "5:\tlearn: 0.6864240\ttotal: 3.47ms\tremaining: 54.4ms\n",
      "6:\tlearn: 0.6856878\ttotal: 4.01ms\tremaining: 53.3ms\n",
      "7:\tlearn: 0.6844250\ttotal: 4.57ms\tremaining: 52.5ms\n",
      "8:\tlearn: 0.6838095\ttotal: 5.42ms\tremaining: 54.9ms\n",
      "9:\tlearn: 0.6832565\ttotal: 6.13ms\tremaining: 55.2ms\n",
      "10:\tlearn: 0.6822499\ttotal: 7.14ms\tremaining: 57.8ms\n",
      "11:\tlearn: 0.6811802\ttotal: 7.68ms\tremaining: 56.3ms\n",
      "12:\tlearn: 0.6804999\ttotal: 8.2ms\tremaining: 54.9ms\n",
      "13:\tlearn: 0.6795499\ttotal: 8.73ms\tremaining: 53.6ms\n",
      "14:\tlearn: 0.6793675\ttotal: 9.08ms\tremaining: 51.4ms\n",
      "15:\tlearn: 0.6776926\ttotal: 9.71ms\tremaining: 51ms\n",
      "16:\tlearn: 0.6771774\ttotal: 10.4ms\tremaining: 50.9ms\n",
      "17:\tlearn: 0.6758187\ttotal: 11ms\tremaining: 50.2ms\n",
      "18:\tlearn: 0.6745866\ttotal: 11.5ms\tremaining: 49.1ms\n",
      "19:\tlearn: 0.6738798\ttotal: 12.7ms\tremaining: 50.7ms\n",
      "20:\tlearn: 0.6725502\ttotal: 13.8ms\tremaining: 52ms\n",
      "21:\tlearn: 0.6711290\ttotal: 14.4ms\tremaining: 51ms\n",
      "22:\tlearn: 0.6702473\ttotal: 14.9ms\tremaining: 49.8ms\n",
      "23:\tlearn: 0.6687848\ttotal: 15.4ms\tremaining: 48.7ms\n",
      "24:\tlearn: 0.6680915\ttotal: 15.9ms\tremaining: 47.7ms\n",
      "25:\tlearn: 0.6672987\ttotal: 16.3ms\tremaining: 46.5ms\n",
      "26:\tlearn: 0.6670359\ttotal: 17.6ms\tremaining: 47.6ms\n",
      "27:\tlearn: 0.6656667\ttotal: 18.1ms\tremaining: 46.6ms\n",
      "28:\tlearn: 0.6643862\ttotal: 19ms\tremaining: 46.5ms\n",
      "29:\tlearn: 0.6631630\ttotal: 19.7ms\tremaining: 46ms\n",
      "30:\tlearn: 0.6619610\ttotal: 20.3ms\tremaining: 45.1ms\n",
      "31:\tlearn: 0.6611034\ttotal: 20.8ms\tremaining: 44.2ms\n",
      "32:\tlearn: 0.6590239\ttotal: 21.4ms\tremaining: 43.4ms\n",
      "33:\tlearn: 0.6581915\ttotal: 21.9ms\tremaining: 42.5ms\n",
      "34:\tlearn: 0.6569846\ttotal: 22.4ms\tremaining: 41.5ms\n",
      "35:\tlearn: 0.6565815\ttotal: 22.9ms\tremaining: 40.8ms\n",
      "36:\tlearn: 0.6557427\ttotal: 23.4ms\tremaining: 39.9ms\n",
      "37:\tlearn: 0.6544588\ttotal: 24ms\tremaining: 39.2ms\n",
      "38:\tlearn: 0.6530767\ttotal: 24.5ms\tremaining: 38.4ms\n",
      "39:\tlearn: 0.6518554\ttotal: 25.1ms\tremaining: 37.6ms\n",
      "40:\tlearn: 0.6516811\ttotal: 25.6ms\tremaining: 36.9ms\n",
      "41:\tlearn: 0.6509199\ttotal: 26.2ms\tremaining: 36.1ms\n",
      "42:\tlearn: 0.6505240\ttotal: 26.8ms\tremaining: 35.5ms\n",
      "43:\tlearn: 0.6502591\ttotal: 27.3ms\tremaining: 34.8ms\n",
      "44:\tlearn: 0.6496040\ttotal: 27.9ms\tremaining: 34.1ms\n",
      "45:\tlearn: 0.6493165\ttotal: 28.5ms\tremaining: 33.4ms\n",
      "46:\tlearn: 0.6484123\ttotal: 29ms\tremaining: 32.7ms\n",
      "47:\tlearn: 0.6475894\ttotal: 29.7ms\tremaining: 32.2ms\n",
      "48:\tlearn: 0.6470609\ttotal: 31.3ms\tremaining: 32.6ms\n",
      "49:\tlearn: 0.6462486\ttotal: 31.9ms\tremaining: 31.9ms\n",
      "50:\tlearn: 0.6457675\ttotal: 32.3ms\tremaining: 31ms\n",
      "51:\tlearn: 0.6448963\ttotal: 32.8ms\tremaining: 30.3ms\n",
      "52:\tlearn: 0.6439353\ttotal: 33.3ms\tremaining: 29.6ms\n",
      "53:\tlearn: 0.6436261\ttotal: 34ms\tremaining: 29ms\n",
      "54:\tlearn: 0.6426610\ttotal: 34.6ms\tremaining: 28.3ms\n",
      "55:\tlearn: 0.6422683\ttotal: 35.2ms\tremaining: 27.6ms\n",
      "56:\tlearn: 0.6414394\ttotal: 35.7ms\tremaining: 27ms\n",
      "57:\tlearn: 0.6409764\ttotal: 36.3ms\tremaining: 26.3ms\n",
      "58:\tlearn: 0.6407128\ttotal: 36.9ms\tremaining: 25.6ms\n",
      "59:\tlearn: 0.6399319\ttotal: 37.6ms\tremaining: 25ms\n",
      "60:\tlearn: 0.6393713\ttotal: 38ms\tremaining: 24.3ms\n",
      "61:\tlearn: 0.6388598\ttotal: 38.5ms\tremaining: 23.6ms\n",
      "62:\tlearn: 0.6381389\ttotal: 39ms\tremaining: 22.9ms\n",
      "63:\tlearn: 0.6378757\ttotal: 39.5ms\tremaining: 22.2ms\n",
      "64:\tlearn: 0.6375485\ttotal: 39.9ms\tremaining: 21.5ms\n",
      "65:\tlearn: 0.6370881\ttotal: 40.5ms\tremaining: 20.9ms\n",
      "66:\tlearn: 0.6364116\ttotal: 41.1ms\tremaining: 20.2ms\n",
      "67:\tlearn: 0.6360681\ttotal: 41.7ms\tremaining: 19.6ms\n",
      "68:\tlearn: 0.6355741\ttotal: 42.3ms\tremaining: 19ms\n",
      "69:\tlearn: 0.6346881\ttotal: 42.9ms\tremaining: 18.4ms\n",
      "70:\tlearn: 0.6342689\ttotal: 44.2ms\tremaining: 18.1ms\n",
      "71:\tlearn: 0.6335505\ttotal: 45.2ms\tremaining: 17.6ms\n",
      "72:\tlearn: 0.6322309\ttotal: 46ms\tremaining: 17ms\n",
      "73:\tlearn: 0.6319955\ttotal: 46.6ms\tremaining: 16.4ms\n",
      "74:\tlearn: 0.6315385\ttotal: 47.1ms\tremaining: 15.7ms\n",
      "75:\tlearn: 0.6310813\ttotal: 47.9ms\tremaining: 15.1ms\n",
      "76:\tlearn: 0.6309474\ttotal: 48.3ms\tremaining: 14.4ms\n",
      "77:\tlearn: 0.6302867\ttotal: 48.9ms\tremaining: 13.8ms\n",
      "78:\tlearn: 0.6296205\ttotal: 49.4ms\tremaining: 13.1ms\n",
      "79:\tlearn: 0.6294712\ttotal: 50ms\tremaining: 12.5ms\n",
      "80:\tlearn: 0.6289715\ttotal: 50.5ms\tremaining: 11.9ms\n",
      "81:\tlearn: 0.6281402\ttotal: 51.1ms\tremaining: 11.2ms\n",
      "82:\tlearn: 0.6278312\ttotal: 51.7ms\tremaining: 10.6ms\n",
      "83:\tlearn: 0.6275707\ttotal: 52.3ms\tremaining: 9.96ms\n",
      "84:\tlearn: 0.6269797\ttotal: 53ms\tremaining: 9.35ms\n",
      "85:\tlearn: 0.6264855\ttotal: 53.5ms\tremaining: 8.71ms\n",
      "86:\tlearn: 0.6261749\ttotal: 54.1ms\tremaining: 8.09ms\n",
      "87:\tlearn: 0.6253990\ttotal: 54.7ms\tremaining: 7.45ms\n",
      "88:\tlearn: 0.6246957\ttotal: 55.2ms\tremaining: 6.83ms\n",
      "89:\tlearn: 0.6244304\ttotal: 55.7ms\tremaining: 6.19ms\n",
      "90:\tlearn: 0.6241740\ttotal: 56.5ms\tremaining: 5.59ms\n",
      "91:\tlearn: 0.6239614\ttotal: 56.9ms\tremaining: 4.95ms\n",
      "92:\tlearn: 0.6237005\ttotal: 57.4ms\tremaining: 4.32ms\n",
      "93:\tlearn: 0.6226178\ttotal: 57.9ms\tremaining: 3.69ms\n",
      "94:\tlearn: 0.6223267\ttotal: 58.5ms\tremaining: 3.08ms\n",
      "95:\tlearn: 0.6217426\ttotal: 59.1ms\tremaining: 2.46ms\n",
      "96:\tlearn: 0.6213599\ttotal: 59.8ms\tremaining: 1.85ms\n",
      "97:\tlearn: 0.6210341\ttotal: 60.3ms\tremaining: 1.23ms\n",
      "98:\tlearn: 0.6205099\ttotal: 60.8ms\tremaining: 614us\n",
      "99:\tlearn: 0.6199280\ttotal: 61.4ms\tremaining: 0us\n",
      "0.4772727272727272\n"
     ]
    }
   ],
   "source": [
    "catboost_CV = cross_val_score(catboost, x_train, y_train, cv=10) \n",
    "print(catboost_CV.mean()) "
   ]
  },
  {
   "cell_type": "code",
   "execution_count": 146,
   "metadata": {},
   "outputs": [],
   "source": [
    "from sklearn.preprocessing import LabelEncoder, OneHotEncoder\n",
    "\n",
    "# Codificarea etichetelor\n",
    "label_encoder = LabelEncoder()\n",
    "y_train = label_encoder.fit_transform(y_train)\n",
    "y_test = label_encoder.fit_transform(y_test)\n"
   ]
  },
  {
   "cell_type": "code",
   "execution_count": 117,
   "metadata": {},
   "outputs": [
    {
     "data": {
      "text/plain": [
       "array([1, 0, 0, 1, 1, 1, 0, 1, 1, 0, 1, 0, 0, 1, 1, 1, 1, 0, 0, 1, 0, 1,\n",
       "       1, 0, 0, 0, 1, 0, 1, 0, 0, 0, 1, 0, 0, 0, 1, 0, 1, 0, 0, 0, 1, 1,\n",
       "       0, 0, 0, 1, 1, 0, 1, 0, 1, 1, 1, 0, 0, 1, 1, 0, 1, 1, 1, 0, 1, 1,\n",
       "       0, 0, 0, 0, 1, 1, 0, 1, 0, 1, 1, 1, 0, 0, 0, 0, 0, 0, 1, 0, 0, 1,\n",
       "       1, 1, 0, 0, 1, 0, 0, 0, 0, 0, 1, 1, 0, 1, 1, 1, 0, 1, 1, 0, 1, 1,\n",
       "       1, 1, 0])"
      ]
     },
     "execution_count": 117,
     "metadata": {},
     "output_type": "execute_result"
    }
   ],
   "source": [
    "y_train"
   ]
  },
  {
   "cell_type": "code",
   "execution_count": 148,
   "metadata": {},
   "outputs": [
    {
     "name": "stdout",
     "output_type": "stream",
     "text": [
      "Epoch 1/10\n",
      "4/4 [==============================] - 3s 184ms/step - loss: 0.6927 - accuracy: 0.5398 - val_loss: 0.6970 - val_accuracy: 0.3448\n",
      "Epoch 2/10\n",
      "4/4 [==============================] - 0s 20ms/step - loss: 0.6924 - accuracy: 0.5487 - val_loss: 0.6974 - val_accuracy: 0.3448\n",
      "Epoch 3/10\n",
      "4/4 [==============================] - 0s 19ms/step - loss: 0.6924 - accuracy: 0.5398 - val_loss: 0.6981 - val_accuracy: 0.3448\n",
      "Epoch 4/10\n",
      "4/4 [==============================] - 0s 19ms/step - loss: 0.6923 - accuracy: 0.5398 - val_loss: 0.6986 - val_accuracy: 0.3448\n",
      "Epoch 5/10\n",
      "4/4 [==============================] - 0s 18ms/step - loss: 0.6923 - accuracy: 0.5398 - val_loss: 0.6992 - val_accuracy: 0.3448\n",
      "Epoch 6/10\n",
      "4/4 [==============================] - 0s 19ms/step - loss: 0.6922 - accuracy: 0.5398 - val_loss: 0.6993 - val_accuracy: 0.3448\n",
      "Epoch 7/10\n",
      "4/4 [==============================] - 0s 19ms/step - loss: 0.6922 - accuracy: 0.5398 - val_loss: 0.6992 - val_accuracy: 0.3448\n",
      "Epoch 8/10\n",
      "4/4 [==============================] - 0s 18ms/step - loss: 0.6922 - accuracy: 0.5398 - val_loss: 0.6990 - val_accuracy: 0.3448\n",
      "Epoch 9/10\n",
      "4/4 [==============================] - 0s 18ms/step - loss: 0.6921 - accuracy: 0.5487 - val_loss: 0.6994 - val_accuracy: 0.3448\n",
      "Epoch 10/10\n",
      "4/4 [==============================] - 0s 20ms/step - loss: 0.6920 - accuracy: 0.5487 - val_loss: 0.6995 - val_accuracy: 0.3448\n"
     ]
    },
    {
     "data": {
      "text/plain": [
       "<keras.callbacks.History at 0x22d30088310>"
      ]
     },
     "execution_count": 148,
     "metadata": {},
     "output_type": "execute_result"
    }
   ],
   "source": [
    "from tensorflow import keras\n",
    "from tensorflow.keras.models import Sequential\n",
    "from tensorflow.keras.layers import LSTM, Dense\n",
    "\n",
    "# Definiți dimensiunea seriei de timp (numărul de caracteristici de intrare)\n",
    "input_dim = x_train.shape[1]\n",
    "\n",
    "# Inițializați modelul LSTM\n",
    "model = Sequential()\n",
    "\n",
    "# Adăugați stratul LSTM\n",
    "model.add(LSTM(64, input_shape=(None, input_dim)))  # Numărul de unități LSTM poate fi ajustat în funcție de cerințele dvs.\n",
    "\n",
    "# Adăugați un strat de ieșire\n",
    "model.add(Dense(1, activation='sigmoid'))  # Stratul de ieșire pentru clasificarea binară\n",
    "\n",
    "# Compilați modelul\n",
    "model.compile(loss='binary_crossentropy', optimizer='adam', metrics=['accuracy'])\n",
    "\n",
    "# Antrenați modelul\n",
    "model.fit(x_train, y_train, batch_size=32, epochs=10, validation_data=(x_test, y_test))"
   ]
  },
  {
   "cell_type": "code",
   "execution_count": 149,
   "metadata": {},
   "outputs": [
    {
     "name": "stdout",
     "output_type": "stream",
     "text": [
      "1/1 [==============================] - 0s 31ms/step - loss: 0.6995 - accuracy: 0.3448\n",
      "Acuratețe: 0.3448275923728943\n"
     ]
    }
   ],
   "source": [
    "# Evaluarea modelului pe datele de testare\n",
    "loss, accuracy = model.evaluate(x_test, y_test)\n",
    "\n",
    "# Afișarea valorii de acuratețe\n",
    "print('Acuratețe:', accuracy)\n"
   ]
  },
  {
   "cell_type": "code",
   "execution_count": 150,
   "metadata": {},
   "outputs": [
    {
     "name": "stdout",
     "output_type": "stream",
     "text": [
      "4/4 [==============================] - 0s 4ms/step - loss: 0.6920 - accuracy: 0.5487\n",
      "Acuratețe: 0.5486725568771362\n"
     ]
    }
   ],
   "source": [
    "# Evaluarea modelului pe datele de testare\n",
    "loss, accuracy = model.evaluate(x_train, y_train)\n",
    "\n",
    "# Afișarea valorii de acuratețe\n",
    "print('Acuratețe:', accuracy)"
   ]
  },
  {
   "cell_type": "code",
   "execution_count": 152,
   "metadata": {},
   "outputs": [
    {
     "data": {
      "text/plain": [
       "array(['s', 's', 's', 'c', 's', 's', 'c', 'c', 'c', 's', 'c', 's', 'c',\n",
       "       'c', 's', 's', 'c', 's', 's', 'c', 's', 's', 'c', 's', 's', 'c',\n",
       "       's', 'c', 's'], dtype=object)"
      ]
     },
     "execution_count": 152,
     "metadata": {},
     "output_type": "execute_result"
    }
   ],
   "source": [
    "y_pred"
   ]
  },
  {
   "cell_type": "code",
   "execution_count": null,
   "metadata": {},
   "outputs": [],
   "source": [
    "from sklearn.preprocessing import LabelEncoder\n",
    "\n",
    "# Inițializați obiectul LabelEncoder\n",
    "label_encoder = LabelEncoder()\n",
    "\n",
    "# Transformați etichetele în valori numerice\n",
    "y_test = label_encoder.fit_transform(y_test)\n"
   ]
  },
  {
   "cell_type": "code",
   "execution_count": 138,
   "metadata": {},
   "outputs": [
    {
     "data": {
      "text/plain": [
       "['c', 's']"
      ]
     },
     "execution_count": 138,
     "metadata": {},
     "output_type": "execute_result"
    }
   ],
   "source": [
    "labels = ['c','s']\n",
    "labels"
   ]
  },
  {
   "cell_type": "code",
   "execution_count": 153,
   "metadata": {},
   "outputs": [
    {
     "data": {
      "image/png": "[encoded data removed]",
      "text/plain": [
       "<Figure size 800x600 with 2 Axes>"
      ]
     },
     "metadata": {},
     "output_type": "display_data"
    }
   ],
   "source": [
    "plot_confusion_matrix(y_test, y_pred, labels)"
   ]
  },
  {
   "cell_type": "code",
   "execution_count": 75,
   "metadata": {},
   "outputs": [
    {
     "name": "stdout",
     "output_type": "stream",
     "text": [
      "KNN: \t\t\t 0.47727272727272724\n",
      "Logistic Regression: \t 0.5022727272727273\n",
      "SVM linear: \t\t 0.65\n",
      "Naive Bayes: \t\t 0.5045454545454545\n",
      "Decision Tree: \t\t 0.5553030303030303\n",
      "Random Forest: \t\t 0.546969696969697\n"
     ]
    }
   ],
   "source": [
    "print(\"KNN: \\t\\t\\t\", neigh_cv.mean())\n",
    "print(\"Logistic Regression: \\t\", logreg_cv.mean())\n",
    "print(\"SVM linear: \\t\\t\", svm_linear_cv.mean())\n",
    "print(\"Naive Bayes: \\t\\t\", mnb_cv.mean())\n",
    "print(\"Decision Tree: \\t\\t\", dtc_cv.mean())\n",
    "print(\"Random Forest: \\t\\t\", forest_reg_cv.mean())"
   ]
  },
  {
   "cell_type": "code",
   "execution_count": 76,
   "metadata": {},
   "outputs": [],
   "source": [
    "results = []\n",
    "cv = [neigh_cv.mean(), logreg_cv.mean(), svm_linear_cv.mean(),mnb_cv.mean(),dtc_cv.mean(), forest_reg_cv.mean()]\n",
    "results.append(cv)"
   ]
  },
  {
   "cell_type": "code",
   "execution_count": 77,
   "metadata": {},
   "outputs": [],
   "source": [
    "results = {'0': ['KNN', 'LogReg', 'SVM linear', 'Naive Bayes', 'Decision Tree', 'Random Forest'],\n",
    "          '1':[neigh_cv.mean(), logreg_cv.mean(), svm_linear_cv.mean(), mnb_cv.mean(),dtc_cv.mean(),forest_reg_cv.mean()]}"
   ]
  },
  {
   "cell_type": "code",
   "execution_count": 78,
   "metadata": {},
   "outputs": [],
   "source": [
    "summary = pd.DataFrame.from_dict(results)\n",
    "summary = summary.transpose()\n",
    "summary = summary.rename(index = {'0':'Model', '1':'AAL'}) "
   ]
  },
  {
   "cell_type": "code",
   "execution_count": 79,
   "metadata": {},
   "outputs": [
    {
     "data": {
      "text/html": [
       "<div>\n",
       "<style scoped>\n",
       "    .dataframe tbody tr th:only-of-type {\n",
       "        vertical-align: middle;\n",
       "    }\n",
       "\n",
       "    .dataframe tbody tr th {\n",
       "        vertical-align: top;\n",
       "    }\n",
       "\n",
       "    .dataframe thead th {\n",
       "        text-align: right;\n",
       "    }\n",
       "</style>\n",
       "<table border=\"1\" class=\"dataframe\">\n",
       "  <thead>\n",
       "    <tr style=\"text-align: right;\">\n",
       "      <th></th>\n",
       "      <th>0</th>\n",
       "      <th>1</th>\n",
       "      <th>2</th>\n",
       "      <th>3</th>\n",
       "      <th>4</th>\n",
       "      <th>5</th>\n",
       "    </tr>\n",
       "  </thead>\n",
       "  <tbody>\n",
       "    <tr>\n",
       "      <th>Model</th>\n",
       "      <td>KNN</td>\n",
       "      <td>LogReg</td>\n",
       "      <td>SVM linear</td>\n",
       "      <td>Naive Bayes</td>\n",
       "      <td>Decision Tree</td>\n",
       "      <td>Random Forest</td>\n",
       "    </tr>\n",
       "    <tr>\n",
       "      <th>AAL</th>\n",
       "      <td>0.477273</td>\n",
       "      <td>0.502273</td>\n",
       "      <td>0.65</td>\n",
       "      <td>0.504545</td>\n",
       "      <td>0.555303</td>\n",
       "      <td>0.54697</td>\n",
       "    </tr>\n",
       "  </tbody>\n",
       "</table>\n",
       "</div>"
      ],
      "text/plain": [
       "              0         1           2            3              4  \\\n",
       "Model       KNN    LogReg  SVM linear  Naive Bayes  Decision Tree   \n",
       "AAL    0.477273  0.502273        0.65     0.504545       0.555303   \n",
       "\n",
       "                   5  \n",
       "Model  Random Forest  \n",
       "AAL          0.54697  "
      ]
     },
     "execution_count": 79,
     "metadata": {},
     "output_type": "execute_result"
    }
   ],
   "source": [
    "summary"
   ]
  },
  {
   "cell_type": "markdown",
   "metadata": {},
   "source": [
    "PENTRU MODELE CU LAG"
   ]
  },
  {
   "cell_type": "code",
   "execution_count": 157,
   "metadata": {},
   "outputs": [],
   "source": [
    "lag = 1\n",
    "df['compound_lag'] = df['compound'].shift(lag)\n",
    "df = df.dropna()"
   ]
  },
  {
   "cell_type": "code",
   "execution_count": 219,
   "metadata": {},
   "outputs": [],
   "source": [
    "x = np.array(df[['compound_lag']])  # Variabila independentă cu lag\n",
    "y = np.array(df['Directie'])  # Variabila dependentă\n",
    "\n",
    "\n",
    "x_train, x_test, y_train, y_test = train_test_split(x, y, test_size=0.2, random_state=42)\n"
   ]
  },
  {
   "cell_type": "code",
   "execution_count": 220,
   "metadata": {},
   "outputs": [
    {
     "data": {
      "text/plain": [
       "['c', 's']"
      ]
     },
     "execution_count": 220,
     "metadata": {},
     "output_type": "execute_result"
    }
   ],
   "source": [
    "labels"
   ]
  },
  {
   "cell_type": "code",
   "execution_count": 159,
   "metadata": {},
   "outputs": [
    {
     "name": "stderr",
     "output_type": "stream",
     "text": [
      "C:\\Users\\Zoe\\anaconda3\\lib\\site-packages\\sklearn\\neighbors\\_classification.py:228: FutureWarning: Unlike other reduction functions (e.g. `skew`, `kurtosis`), the default behavior of `mode` typically preserves the axis it acts along. In SciPy 1.11.0, this behavior will change: the default value of `keepdims` will become False, the `axis` over which the statistic is taken will be eliminated, and the value None will no longer be accepted. Set `keepdims` to True or False to avoid this warning.\n",
      "  mode, _ = stats.mode(_y[neigh_ind, k], axis=1)\n"
     ]
    },
    {
     "data": {
      "text/plain": [
       "0.3793103448275862"
      ]
     },
     "execution_count": 159,
     "metadata": {},
     "output_type": "execute_result"
    }
   ],
   "source": [
    "from sklearn.neighbors import KNeighborsClassifier\n",
    "from sklearn.model_selection import cross_val_score\n",
    "\n",
    "neigh = KNeighborsClassifier(n_neighbors=5)\n",
    "neigh.fit(x_train, y_train) \n",
    "neigh.score( x_test, y_test)"
   ]
  },
  {
   "cell_type": "code",
   "execution_count": 160,
   "metadata": {},
   "outputs": [
    {
     "name": "stderr",
     "output_type": "stream",
     "text": [
      "C:\\Users\\Zoe\\anaconda3\\lib\\site-packages\\sklearn\\neighbors\\_classification.py:228: FutureWarning: Unlike other reduction functions (e.g. `skew`, `kurtosis`), the default behavior of `mode` typically preserves the axis it acts along. In SciPy 1.11.0, this behavior will change: the default value of `keepdims` will become False, the `axis` over which the statistic is taken will be eliminated, and the value None will no longer be accepted. Set `keepdims` to True or False to avoid this warning.\n",
      "  mode, _ = stats.mode(_y[neigh_ind, k], axis=1)\n"
     ]
    },
    {
     "data": {
      "text/plain": [
       "0.6696428571428571"
      ]
     },
     "execution_count": 160,
     "metadata": {},
     "output_type": "execute_result"
    }
   ],
   "source": [
    "neigh.score(x_train, y_train)"
   ]
  },
  {
   "cell_type": "code",
   "execution_count": 161,
   "metadata": {},
   "outputs": [
    {
     "name": "stderr",
     "output_type": "stream",
     "text": [
      "C:\\Users\\Zoe\\anaconda3\\lib\\site-packages\\sklearn\\neighbors\\_classification.py:228: FutureWarning: Unlike other reduction functions (e.g. `skew`, `kurtosis`), the default behavior of `mode` typically preserves the axis it acts along. In SciPy 1.11.0, this behavior will change: the default value of `keepdims` will become False, the `axis` over which the statistic is taken will be eliminated, and the value None will no longer be accepted. Set `keepdims` to True or False to avoid this warning.\n",
      "  mode, _ = stats.mode(_y[neigh_ind, k], axis=1)\n"
     ]
    },
    {
     "data": {
      "text/plain": [
       "array(['c', 'c', 's', 's', 'c', 'c', 's', 'c', 'c', 'c', 's', 's', 'c',\n",
       "       'c', 'c', 's', 's', 's', 's', 's', 's', 'c', 's', 's', 'c', 'c',\n",
       "       's', 'c', 'c', 'c', 's', 's', 'c', 's', 'c', 'c', 's', 'c', 's',\n",
       "       's', 's', 'c', 's', 's', 'c', 's', 's', 's', 's', 'c', 's', 'c',\n",
       "       's', 'c', 'c', 's', 'c', 'c', 'c', 's', 's', 'c', 's', 'c', 'c',\n",
       "       's', 's', 's', 'c', 's', 's', 'c', 's', 'c', 's', 'c', 's', 'c',\n",
       "       'c', 'c', 's', 'c', 'c', 'c', 'c', 'c', 's', 'c', 's', 'c', 'c',\n",
       "       's', 'c', 'c', 'c', 'c', 's', 's', 's', 's', 'c', 's', 'c', 's',\n",
       "       'c', 'c', 'c', 's', 'c', 'c', 'c', 'c'], dtype=object)"
      ]
     },
     "execution_count": 161,
     "metadata": {},
     "output_type": "execute_result"
    }
   ],
   "source": [
    "y_pred = neigh.predict(x_train)\n",
    "y_pred"
   ]
  },
  {
   "cell_type": "code",
   "execution_count": 162,
   "metadata": {},
   "outputs": [
    {
     "data": {
      "image/png": "[encoded data removed]",
      "text/plain": [
       "<Figure size 800x600 with 2 Axes>"
      ]
     },
     "metadata": {},
     "output_type": "display_data"
    }
   ],
   "source": [
    "plot_confusion_matrix(y_train, y_pred, labels)"
   ]
  },
  {
   "cell_type": "code",
   "execution_count": 163,
   "metadata": {},
   "outputs": [
    {
     "name": "stderr",
     "output_type": "stream",
     "text": [
      "C:\\Users\\Zoe\\anaconda3\\lib\\site-packages\\sklearn\\neighbors\\_classification.py:228: FutureWarning: Unlike other reduction functions (e.g. `skew`, `kurtosis`), the default behavior of `mode` typically preserves the axis it acts along. In SciPy 1.11.0, this behavior will change: the default value of `keepdims` will become False, the `axis` over which the statistic is taken will be eliminated, and the value None will no longer be accepted. Set `keepdims` to True or False to avoid this warning.\n",
      "  mode, _ = stats.mode(_y[neigh_ind, k], axis=1)\n"
     ]
    },
    {
     "data": {
      "text/plain": [
       "array(['c', 'c', 'c', 's', 's', 'c', 'c', 's', 'c', 'c', 'c', 'c', 'c',\n",
       "       'c', 's', 's', 's', 's', 'c', 'c', 's', 'c', 'c', 's', 'c', 'c',\n",
       "       'c', 'c', 'c'], dtype=object)"
      ]
     },
     "execution_count": 163,
     "metadata": {},
     "output_type": "execute_result"
    }
   ],
   "source": [
    "y_pred_test = neigh.predict(x_test)\n",
    "y_pred_test"
   ]
  },
  {
   "cell_type": "code",
   "execution_count": 164,
   "metadata": {},
   "outputs": [
    {
     "data": {
      "image/png": "[encoded data removed]",
      "text/plain": [
       "<Figure size 800x600 with 2 Axes>"
      ]
     },
     "metadata": {},
     "output_type": "display_data"
    }
   ],
   "source": [
    "plot_confusion_matrix(y_test, y_pred_test, labels)"
   ]
  },
  {
   "cell_type": "code",
   "execution_count": 165,
   "metadata": {},
   "outputs": [
    {
     "name": "stdout",
     "output_type": "stream",
     "text": [
      "0.4833333333333332\n"
     ]
    },
    {
     "name": "stderr",
     "output_type": "stream",
     "text": [
      "C:\\Users\\Zoe\\anaconda3\\lib\\site-packages\\sklearn\\neighbors\\_classification.py:228: FutureWarning: Unlike other reduction functions (e.g. `skew`, `kurtosis`), the default behavior of `mode` typically preserves the axis it acts along. In SciPy 1.11.0, this behavior will change: the default value of `keepdims` will become False, the `axis` over which the statistic is taken will be eliminated, and the value None will no longer be accepted. Set `keepdims` to True or False to avoid this warning.\n",
      "  mode, _ = stats.mode(_y[neigh_ind, k], axis=1)\n",
      "C:\\Users\\Zoe\\anaconda3\\lib\\site-packages\\sklearn\\neighbors\\_classification.py:228: FutureWarning: Unlike other reduction functions (e.g. `skew`, `kurtosis`), the default behavior of `mode` typically preserves the axis it acts along. In SciPy 1.11.0, this behavior will change: the default value of `keepdims` will become False, the `axis` over which the statistic is taken will be eliminated, and the value None will no longer be accepted. Set `keepdims` to True or False to avoid this warning.\n",
      "  mode, _ = stats.mode(_y[neigh_ind, k], axis=1)\n",
      "C:\\Users\\Zoe\\anaconda3\\lib\\site-packages\\sklearn\\neighbors\\_classification.py:228: FutureWarning: Unlike other reduction functions (e.g. `skew`, `kurtosis`), the default behavior of `mode` typically preserves the axis it acts along. In SciPy 1.11.0, this behavior will change: the default value of `keepdims` will become False, the `axis` over which the statistic is taken will be eliminated, and the value None will no longer be accepted. Set `keepdims` to True or False to avoid this warning.\n",
      "  mode, _ = stats.mode(_y[neigh_ind, k], axis=1)\n",
      "C:\\Users\\Zoe\\anaconda3\\lib\\site-packages\\sklearn\\neighbors\\_classification.py:228: FutureWarning: Unlike other reduction functions (e.g. `skew`, `kurtosis`), the default behavior of `mode` typically preserves the axis it acts along. In SciPy 1.11.0, this behavior will change: the default value of `keepdims` will become False, the `axis` over which the statistic is taken will be eliminated, and the value None will no longer be accepted. Set `keepdims` to True or False to avoid this warning.\n",
      "  mode, _ = stats.mode(_y[neigh_ind, k], axis=1)\n",
      "C:\\Users\\Zoe\\anaconda3\\lib\\site-packages\\sklearn\\neighbors\\_classification.py:228: FutureWarning: Unlike other reduction functions (e.g. `skew`, `kurtosis`), the default behavior of `mode` typically preserves the axis it acts along. In SciPy 1.11.0, this behavior will change: the default value of `keepdims` will become False, the `axis` over which the statistic is taken will be eliminated, and the value None will no longer be accepted. Set `keepdims` to True or False to avoid this warning.\n",
      "  mode, _ = stats.mode(_y[neigh_ind, k], axis=1)\n",
      "C:\\Users\\Zoe\\anaconda3\\lib\\site-packages\\sklearn\\neighbors\\_classification.py:228: FutureWarning: Unlike other reduction functions (e.g. `skew`, `kurtosis`), the default behavior of `mode` typically preserves the axis it acts along. In SciPy 1.11.0, this behavior will change: the default value of `keepdims` will become False, the `axis` over which the statistic is taken will be eliminated, and the value None will no longer be accepted. Set `keepdims` to True or False to avoid this warning.\n",
      "  mode, _ = stats.mode(_y[neigh_ind, k], axis=1)\n",
      "C:\\Users\\Zoe\\anaconda3\\lib\\site-packages\\sklearn\\neighbors\\_classification.py:228: FutureWarning: Unlike other reduction functions (e.g. `skew`, `kurtosis`), the default behavior of `mode` typically preserves the axis it acts along. In SciPy 1.11.0, this behavior will change: the default value of `keepdims` will become False, the `axis` over which the statistic is taken will be eliminated, and the value None will no longer be accepted. Set `keepdims` to True or False to avoid this warning.\n",
      "  mode, _ = stats.mode(_y[neigh_ind, k], axis=1)\n",
      "C:\\Users\\Zoe\\anaconda3\\lib\\site-packages\\sklearn\\neighbors\\_classification.py:228: FutureWarning: Unlike other reduction functions (e.g. `skew`, `kurtosis`), the default behavior of `mode` typically preserves the axis it acts along. In SciPy 1.11.0, this behavior will change: the default value of `keepdims` will become False, the `axis` over which the statistic is taken will be eliminated, and the value None will no longer be accepted. Set `keepdims` to True or False to avoid this warning.\n",
      "  mode, _ = stats.mode(_y[neigh_ind, k], axis=1)\n",
      "C:\\Users\\Zoe\\anaconda3\\lib\\site-packages\\sklearn\\neighbors\\_classification.py:228: FutureWarning: Unlike other reduction functions (e.g. `skew`, `kurtosis`), the default behavior of `mode` typically preserves the axis it acts along. In SciPy 1.11.0, this behavior will change: the default value of `keepdims` will become False, the `axis` over which the statistic is taken will be eliminated, and the value None will no longer be accepted. Set `keepdims` to True or False to avoid this warning.\n",
      "  mode, _ = stats.mode(_y[neigh_ind, k], axis=1)\n",
      "C:\\Users\\Zoe\\anaconda3\\lib\\site-packages\\sklearn\\neighbors\\_classification.py:228: FutureWarning: Unlike other reduction functions (e.g. `skew`, `kurtosis`), the default behavior of `mode` typically preserves the axis it acts along. In SciPy 1.11.0, this behavior will change: the default value of `keepdims` will become False, the `axis` over which the statistic is taken will be eliminated, and the value None will no longer be accepted. Set `keepdims` to True or False to avoid this warning.\n",
      "  mode, _ = stats.mode(_y[neigh_ind, k], axis=1)\n"
     ]
    }
   ],
   "source": [
    "neigh_cv = cross_val_score(neigh, x_train, y_train, cv=10) \n",
    "print(neigh_cv.mean()) "
   ]
  },
  {
   "cell_type": "code",
   "execution_count": 166,
   "metadata": {},
   "outputs": [
    {
     "name": "stdout",
     "output_type": "stream",
     "text": [
      "0.7166666666666666\n"
     ]
    },
    {
     "name": "stderr",
     "output_type": "stream",
     "text": [
      "C:\\Users\\Zoe\\anaconda3\\lib\\site-packages\\sklearn\\neighbors\\_classification.py:228: FutureWarning: Unlike other reduction functions (e.g. `skew`, `kurtosis`), the default behavior of `mode` typically preserves the axis it acts along. In SciPy 1.11.0, this behavior will change: the default value of `keepdims` will become False, the `axis` over which the statistic is taken will be eliminated, and the value None will no longer be accepted. Set `keepdims` to True or False to avoid this warning.\n",
      "  mode, _ = stats.mode(_y[neigh_ind, k], axis=1)\n",
      "C:\\Users\\Zoe\\anaconda3\\lib\\site-packages\\sklearn\\neighbors\\_classification.py:228: FutureWarning: Unlike other reduction functions (e.g. `skew`, `kurtosis`), the default behavior of `mode` typically preserves the axis it acts along. In SciPy 1.11.0, this behavior will change: the default value of `keepdims` will become False, the `axis` over which the statistic is taken will be eliminated, and the value None will no longer be accepted. Set `keepdims` to True or False to avoid this warning.\n",
      "  mode, _ = stats.mode(_y[neigh_ind, k], axis=1)\n",
      "C:\\Users\\Zoe\\anaconda3\\lib\\site-packages\\sklearn\\neighbors\\_classification.py:228: FutureWarning: Unlike other reduction functions (e.g. `skew`, `kurtosis`), the default behavior of `mode` typically preserves the axis it acts along. In SciPy 1.11.0, this behavior will change: the default value of `keepdims` will become False, the `axis` over which the statistic is taken will be eliminated, and the value None will no longer be accepted. Set `keepdims` to True or False to avoid this warning.\n",
      "  mode, _ = stats.mode(_y[neigh_ind, k], axis=1)\n",
      "C:\\Users\\Zoe\\anaconda3\\lib\\site-packages\\sklearn\\neighbors\\_classification.py:228: FutureWarning: Unlike other reduction functions (e.g. `skew`, `kurtosis`), the default behavior of `mode` typically preserves the axis it acts along. In SciPy 1.11.0, this behavior will change: the default value of `keepdims` will become False, the `axis` over which the statistic is taken will be eliminated, and the value None will no longer be accepted. Set `keepdims` to True or False to avoid this warning.\n",
      "  mode, _ = stats.mode(_y[neigh_ind, k], axis=1)\n",
      "C:\\Users\\Zoe\\anaconda3\\lib\\site-packages\\sklearn\\neighbors\\_classification.py:228: FutureWarning: Unlike other reduction functions (e.g. `skew`, `kurtosis`), the default behavior of `mode` typically preserves the axis it acts along. In SciPy 1.11.0, this behavior will change: the default value of `keepdims` will become False, the `axis` over which the statistic is taken will be eliminated, and the value None will no longer be accepted. Set `keepdims` to True or False to avoid this warning.\n",
      "  mode, _ = stats.mode(_y[neigh_ind, k], axis=1)\n",
      "C:\\Users\\Zoe\\anaconda3\\lib\\site-packages\\sklearn\\neighbors\\_classification.py:228: FutureWarning: Unlike other reduction functions (e.g. `skew`, `kurtosis`), the default behavior of `mode` typically preserves the axis it acts along. In SciPy 1.11.0, this behavior will change: the default value of `keepdims` will become False, the `axis` over which the statistic is taken will be eliminated, and the value None will no longer be accepted. Set `keepdims` to True or False to avoid this warning.\n",
      "  mode, _ = stats.mode(_y[neigh_ind, k], axis=1)\n",
      "C:\\Users\\Zoe\\anaconda3\\lib\\site-packages\\sklearn\\neighbors\\_classification.py:228: FutureWarning: Unlike other reduction functions (e.g. `skew`, `kurtosis`), the default behavior of `mode` typically preserves the axis it acts along. In SciPy 1.11.0, this behavior will change: the default value of `keepdims` will become False, the `axis` over which the statistic is taken will be eliminated, and the value None will no longer be accepted. Set `keepdims` to True or False to avoid this warning.\n",
      "  mode, _ = stats.mode(_y[neigh_ind, k], axis=1)\n",
      "C:\\Users\\Zoe\\anaconda3\\lib\\site-packages\\sklearn\\neighbors\\_classification.py:228: FutureWarning: Unlike other reduction functions (e.g. `skew`, `kurtosis`), the default behavior of `mode` typically preserves the axis it acts along. In SciPy 1.11.0, this behavior will change: the default value of `keepdims` will become False, the `axis` over which the statistic is taken will be eliminated, and the value None will no longer be accepted. Set `keepdims` to True or False to avoid this warning.\n",
      "  mode, _ = stats.mode(_y[neigh_ind, k], axis=1)\n",
      "C:\\Users\\Zoe\\anaconda3\\lib\\site-packages\\sklearn\\neighbors\\_classification.py:228: FutureWarning: Unlike other reduction functions (e.g. `skew`, `kurtosis`), the default behavior of `mode` typically preserves the axis it acts along. In SciPy 1.11.0, this behavior will change: the default value of `keepdims` will become False, the `axis` over which the statistic is taken will be eliminated, and the value None will no longer be accepted. Set `keepdims` to True or False to avoid this warning.\n",
      "  mode, _ = stats.mode(_y[neigh_ind, k], axis=1)\n",
      "C:\\Users\\Zoe\\anaconda3\\lib\\site-packages\\sklearn\\neighbors\\_classification.py:228: FutureWarning: Unlike other reduction functions (e.g. `skew`, `kurtosis`), the default behavior of `mode` typically preserves the axis it acts along. In SciPy 1.11.0, this behavior will change: the default value of `keepdims` will become False, the `axis` over which the statistic is taken will be eliminated, and the value None will no longer be accepted. Set `keepdims` to True or False to avoid this warning.\n",
      "  mode, _ = stats.mode(_y[neigh_ind, k], axis=1)\n"
     ]
    }
   ],
   "source": [
    "neigh_cv = cross_val_score(neigh, x_test, y_test, cv=10) \n",
    "print(neigh_cv.mean()) "
   ]
  },
  {
   "cell_type": "markdown",
   "metadata": {},
   "source": [
    "Logistic Regression"
   ]
  },
  {
   "cell_type": "code",
   "execution_count": 167,
   "metadata": {},
   "outputs": [
    {
     "data": {
      "text/plain": [
       "0.4482758620689655"
      ]
     },
     "execution_count": 167,
     "metadata": {},
     "output_type": "execute_result"
    }
   ],
   "source": [
    "from sklearn.linear_model import LogisticRegression\n",
    "\n",
    "logreg = LogisticRegression(random_state=42)\n",
    "logreg.fit(x_train, y_train)\n",
    "logreg.score( x_test, y_test)"
   ]
  },
  {
   "cell_type": "code",
   "execution_count": 168,
   "metadata": {},
   "outputs": [
    {
     "data": {
      "text/plain": [
       "0.5357142857142857"
      ]
     },
     "execution_count": 168,
     "metadata": {},
     "output_type": "execute_result"
    }
   ],
   "source": [
    "logreg.score(x_train, y_train)"
   ]
  },
  {
   "cell_type": "code",
   "execution_count": 169,
   "metadata": {},
   "outputs": [],
   "source": [
    "y_pred_train = logreg.predict(x_train)\n",
    "y_pred_test = logreg.predict(x_test)"
   ]
  },
  {
   "cell_type": "code",
   "execution_count": 170,
   "metadata": {},
   "outputs": [
    {
     "data": {
      "image/png": "[encoded data removed]",
      "text/plain": [
       "<Figure size 800x600 with 2 Axes>"
      ]
     },
     "metadata": {},
     "output_type": "display_data"
    }
   ],
   "source": [
    "plot_confusion_matrix(y_train, y_pred_train, labels)"
   ]
  },
  {
   "cell_type": "code",
   "execution_count": 171,
   "metadata": {},
   "outputs": [
    {
     "data": {
      "image/png": "[encoded data removed]",
      "text/plain": [
       "<Figure size 800x600 with 2 Axes>"
      ]
     },
     "metadata": {},
     "output_type": "display_data"
    }
   ],
   "source": [
    "plot_confusion_matrix(y_test, y_pred_test, labels)"
   ]
  },
  {
   "cell_type": "code",
   "execution_count": 172,
   "metadata": {},
   "outputs": [
    {
     "name": "stdout",
     "output_type": "stream",
     "text": [
      "0.49090909090909085\n"
     ]
    }
   ],
   "source": [
    "logreg_cv = cross_val_score(logreg, x_train, y_train, cv=10)\n",
    "print(logreg_cv.mean())"
   ]
  },
  {
   "cell_type": "code",
   "execution_count": 173,
   "metadata": {},
   "outputs": [
    {
     "name": "stdout",
     "output_type": "stream",
     "text": [
      "0.6166666666666666\n"
     ]
    }
   ],
   "source": [
    "logreg_cv = cross_val_score(logreg, x_test, y_test, cv=10)\n",
    "print(logreg_cv.mean())"
   ]
  },
  {
   "cell_type": "markdown",
   "metadata": {},
   "source": [
    "Support Vector Machines (SVM) with linear kernel"
   ]
  },
  {
   "cell_type": "code",
   "execution_count": 174,
   "metadata": {},
   "outputs": [
    {
     "data": {
      "text/plain": [
       "0.5862068965517241"
      ]
     },
     "execution_count": 174,
     "metadata": {},
     "output_type": "execute_result"
    }
   ],
   "source": [
    "from sklearn.svm import SVC\n",
    "\n",
    "svm_linear = SVC( kernel = 'linear')\n",
    "svm_linear.fit(x_train, y_train)\n",
    "svm_linear.score(x_test, y_test)"
   ]
  },
  {
   "cell_type": "code",
   "execution_count": 175,
   "metadata": {},
   "outputs": [
    {
     "data": {
      "text/plain": [
       "0.5089285714285714"
      ]
     },
     "execution_count": 175,
     "metadata": {},
     "output_type": "execute_result"
    }
   ],
   "source": [
    "svm_linear.score(x_train, y_train)"
   ]
  },
  {
   "cell_type": "code",
   "execution_count": 176,
   "metadata": {},
   "outputs": [],
   "source": [
    "y_pred_train = svm_linear.predict(x_train)\n",
    "y_pred_test = svm_linear.predict(x_test)"
   ]
  },
  {
   "cell_type": "code",
   "execution_count": 177,
   "metadata": {},
   "outputs": [
    {
     "data": {
      "image/png": "[encoded data removed]",
      "text/plain": [
       "<Figure size 800x600 with 2 Axes>"
      ]
     },
     "metadata": {},
     "output_type": "display_data"
    }
   ],
   "source": [
    "plot_confusion_matrix(y_train, y_pred_train, labels)"
   ]
  },
  {
   "cell_type": "code",
   "execution_count": 178,
   "metadata": {},
   "outputs": [
    {
     "data": {
      "image/png": "[encoded data removed]",
      "text/plain": [
       "<Figure size 800x600 with 2 Axes>"
      ]
     },
     "metadata": {},
     "output_type": "display_data"
    }
   ],
   "source": [
    "plot_confusion_matrix(y_test, y_pred_test, labels)"
   ]
  },
  {
   "cell_type": "code",
   "execution_count": 179,
   "metadata": {},
   "outputs": [
    {
     "name": "stdout",
     "output_type": "stream",
     "text": [
      "0.7166666666666666\n"
     ]
    }
   ],
   "source": [
    "svm_linear_cv = cross_val_score(svm_linear, x_test, y_test, cv=10)\n",
    "print(svm_linear_cv.mean())"
   ]
  },
  {
   "cell_type": "code",
   "execution_count": 180,
   "metadata": {},
   "outputs": [
    {
     "name": "stdout",
     "output_type": "stream",
     "text": [
      "0.4545454545454546\n"
     ]
    }
   ],
   "source": [
    "svm_linear_cv = cross_val_score(svm_linear, x_train, y_train, cv=10)\n",
    "print(svm_linear_cv.mean())"
   ]
  },
  {
   "cell_type": "markdown",
   "metadata": {},
   "source": [
    "Naive Bayes"
   ]
  },
  {
   "cell_type": "code",
   "execution_count": 181,
   "metadata": {},
   "outputs": [
    {
     "data": {
      "text/plain": [
       "MultinomialNB()"
      ]
     },
     "execution_count": 181,
     "metadata": {},
     "output_type": "execute_result"
    }
   ],
   "source": [
    "from sklearn.naive_bayes import MultinomialNB\n",
    "\n",
    "from sklearn.preprocessing import MinMaxScaler\n",
    "scaler = MinMaxScaler() \n",
    "X_minmax = scaler.fit_transform(x_train)\n",
    "X_minmax_test = scaler.fit_transform(x_test)\n",
    "mnb = MultinomialNB()\n",
    "mnb.fit(X_minmax, y_train)"
   ]
  },
  {
   "cell_type": "code",
   "execution_count": 182,
   "metadata": {},
   "outputs": [
    {
     "data": {
      "text/plain": [
       "0.5862068965517241"
      ]
     },
     "execution_count": 182,
     "metadata": {},
     "output_type": "execute_result"
    }
   ],
   "source": [
    "mnb.score(X_minmax_test, y_test)"
   ]
  },
  {
   "cell_type": "code",
   "execution_count": 183,
   "metadata": {},
   "outputs": [],
   "source": [
    "y_pred_train = mnb.predict(X_minmax)\n",
    "y_pred_test = mnb.predict(X_minmax_test)"
   ]
  },
  {
   "cell_type": "code",
   "execution_count": 184,
   "metadata": {},
   "outputs": [
    {
     "data": {
      "image/png": "[encoded data removed]",
      "text/plain": [
       "<Figure size 800x600 with 2 Axes>"
      ]
     },
     "metadata": {},
     "output_type": "display_data"
    }
   ],
   "source": [
    "plot_confusion_matrix(y_train, y_pred_train, labels)"
   ]
  },
  {
   "cell_type": "code",
   "execution_count": 185,
   "metadata": {},
   "outputs": [
    {
     "data": {
      "image/png": "[encoded data removed]",
      "text/plain": [
       "<Figure size 800x600 with 2 Axes>"
      ]
     },
     "metadata": {},
     "output_type": "display_data"
    }
   ],
   "source": [
    "plot_confusion_matrix(y_test, y_pred_test, labels)"
   ]
  },
  {
   "cell_type": "code",
   "execution_count": 186,
   "metadata": {},
   "outputs": [
    {
     "name": "stdout",
     "output_type": "stream",
     "text": [
      "0.509090909090909\n"
     ]
    }
   ],
   "source": [
    "mnb_cv = cross_val_score(mnb, X_minmax, y_train, cv=10) \n",
    "print(mnb_cv.mean())"
   ]
  },
  {
   "cell_type": "code",
   "execution_count": 187,
   "metadata": {},
   "outputs": [
    {
     "name": "stdout",
     "output_type": "stream",
     "text": [
      "0.5833333333333333\n"
     ]
    }
   ],
   "source": [
    "mnb_cv = cross_val_score(mnb, X_minmax_test, y_test, cv=10) \n",
    "print(mnb_cv.mean())"
   ]
  },
  {
   "cell_type": "markdown",
   "metadata": {},
   "source": [
    "Decision Tree"
   ]
  },
  {
   "cell_type": "code",
   "execution_count": 188,
   "metadata": {},
   "outputs": [
    {
     "data": {
      "text/plain": [
       "0.41379310344827586"
      ]
     },
     "execution_count": 188,
     "metadata": {},
     "output_type": "execute_result"
    }
   ],
   "source": [
    "from sklearn import tree\n",
    "dtc = tree.DecisionTreeClassifier(random_state=42)\n",
    "dtc.fit(x_train, y_train) \n",
    "dtc.score(x_test, y_test)"
   ]
  },
  {
   "cell_type": "code",
   "execution_count": 189,
   "metadata": {},
   "outputs": [
    {
     "data": {
      "text/plain": [
       "0.8125"
      ]
     },
     "execution_count": 189,
     "metadata": {},
     "output_type": "execute_result"
    }
   ],
   "source": [
    "dtc.score(x_train, y_train)"
   ]
  },
  {
   "cell_type": "code",
   "execution_count": 190,
   "metadata": {},
   "outputs": [],
   "source": [
    "y_pred_train = dtc.predict(x_train)\n",
    "y_pred_test = dtc.predict(x_test)"
   ]
  },
  {
   "cell_type": "code",
   "execution_count": 191,
   "metadata": {},
   "outputs": [
    {
     "data": {
      "image/png": "[encoded data removed]",
      "text/plain": [
       "<Figure size 800x600 with 2 Axes>"
      ]
     },
     "metadata": {},
     "output_type": "display_data"
    }
   ],
   "source": [
    "plot_confusion_matrix(y_train, y_pred_train, labels)"
   ]
  },
  {
   "cell_type": "code",
   "execution_count": 192,
   "metadata": {},
   "outputs": [
    {
     "data": {
      "image/png": "[encoded data removed]",
      "text/plain": [
       "<Figure size 800x600 with 2 Axes>"
      ]
     },
     "metadata": {},
     "output_type": "display_data"
    }
   ],
   "source": [
    "plot_confusion_matrix(y_test, y_pred_test, labels)"
   ]
  },
  {
   "cell_type": "code",
   "execution_count": 193,
   "metadata": {},
   "outputs": [
    {
     "name": "stdout",
     "output_type": "stream",
     "text": [
      "0.6416666666666666\n"
     ]
    }
   ],
   "source": [
    "dtc_cv = cross_val_score(dtc, x_train, y_train, cv=10) \n",
    "print(dtc_cv.mean())"
   ]
  },
  {
   "cell_type": "code",
   "execution_count": 194,
   "metadata": {},
   "outputs": [
    {
     "name": "stdout",
     "output_type": "stream",
     "text": [
      "0.6499999999999999\n"
     ]
    }
   ],
   "source": [
    "dtc_cv = cross_val_score(dtc, x_test, y_test, cv=10) \n",
    "print(dtc_cv.mean())"
   ]
  },
  {
   "cell_type": "markdown",
   "metadata": {},
   "source": [
    "Random Forest"
   ]
  },
  {
   "cell_type": "code",
   "execution_count": 195,
   "metadata": {},
   "outputs": [
    {
     "data": {
      "text/plain": [
       "0.4482758620689655"
      ]
     },
     "execution_count": 195,
     "metadata": {},
     "output_type": "execute_result"
    }
   ],
   "source": [
    "forest_reg = RandomForestClassifier(random_state=42)\n",
    "forest_reg.fit(x_train, y_train)\n",
    "forest_reg.score(x_test, y_test)"
   ]
  },
  {
   "cell_type": "code",
   "execution_count": 196,
   "metadata": {},
   "outputs": [
    {
     "data": {
      "text/plain": [
       "0.8125"
      ]
     },
     "execution_count": 196,
     "metadata": {},
     "output_type": "execute_result"
    }
   ],
   "source": [
    "forest_reg.score(x_train, y_train)"
   ]
  },
  {
   "cell_type": "code",
   "execution_count": 197,
   "metadata": {},
   "outputs": [],
   "source": [
    "y_pred_train = dtc.predict(x_train)\n",
    "y_pred_test = dtc.predict(x_test)"
   ]
  },
  {
   "cell_type": "code",
   "execution_count": 198,
   "metadata": {},
   "outputs": [
    {
     "data": {
      "image/png": "[encoded data removed]",
      "text/plain": [
       "<Figure size 800x600 with 2 Axes>"
      ]
     },
     "metadata": {},
     "output_type": "display_data"
    }
   ],
   "source": [
    "plot_confusion_matrix(y_train, y_pred_train, labels)"
   ]
  },
  {
   "cell_type": "code",
   "execution_count": 199,
   "metadata": {},
   "outputs": [
    {
     "data": {
      "image/png": "[encoded data removed]",
      "text/plain": [
       "<Figure size 800x600 with 2 Axes>"
      ]
     },
     "metadata": {},
     "output_type": "display_data"
    }
   ],
   "source": [
    "plot_confusion_matrix(y_test, y_pred_test, labels)"
   ]
  },
  {
   "cell_type": "code",
   "execution_count": 200,
   "metadata": {},
   "outputs": [
    {
     "name": "stdout",
     "output_type": "stream",
     "text": [
      "0.5696969696969696\n"
     ]
    }
   ],
   "source": [
    "forest_reg_cv = cross_val_score(forest_reg, x_train, y_train, cv=10) \n",
    "print(forest_reg_cv.mean())  "
   ]
  },
  {
   "cell_type": "code",
   "execution_count": 201,
   "metadata": {},
   "outputs": [
    {
     "name": "stdout",
     "output_type": "stream",
     "text": [
      "0.6499999999999999\n"
     ]
    }
   ],
   "source": [
    "forest_reg_cv = cross_val_score(forest_reg, x_test, y_test, cv=10) \n",
    "print(forest_reg_cv.mean())  "
   ]
  },
  {
   "cell_type": "code",
   "execution_count": 120,
   "metadata": {},
   "outputs": [
    {
     "name": "stdout",
     "output_type": "stream",
     "text": [
      "KNN: \t\t\t 0.4833333333333332\n",
      "Logistic Regression: \t 0.49090909090909085\n",
      "SVM linear: \t\t 0.7166666666666666\n",
      "Naive Bayes: \t\t 0.509090909090909\n",
      "Decision Tree: \t\t 0.6416666666666666\n",
      "Random Forest: \t\t 0.5696969696969696\n"
     ]
    }
   ],
   "source": [
    "print(\"KNN: \\t\\t\\t\", neigh_cv.mean())\n",
    "print(\"Logistic Regression: \\t\", logreg_cv.mean())\n",
    "print(\"SVM linear: \\t\\t\", svm_linear_cv.mean())\n",
    "print(\"Naive Bayes: \\t\\t\", mnb_cv.mean())\n",
    "print(\"Decision Tree: \\t\\t\", dtc_cv.mean())\n",
    "print(\"Random Forest: \\t\\t\", forest_reg_cv.mean())"
   ]
  },
  {
   "cell_type": "code",
   "execution_count": 121,
   "metadata": {},
   "outputs": [],
   "source": [
    "results = []\n",
    "cv = [neigh_cv.mean(), logreg_cv.mean(), svm_linear_cv.mean(),mnb_cv.mean(),dtc_cv.mean(), forest_reg_cv.mean()]\n",
    "results.append(cv)"
   ]
  },
  {
   "cell_type": "code",
   "execution_count": 122,
   "metadata": {},
   "outputs": [],
   "source": [
    "results = {'0': ['KNN', 'LogReg', 'SVM linear', 'Naive Bayes', 'Decision Tree', 'Random Forest'],\n",
    "          '1':[neigh_cv.mean(), logreg_cv.mean(), svm_linear_cv.mean(), mnb_cv.mean(),dtc_cv.mean(),forest_reg_cv.mean()]}"
   ]
  },
  {
   "cell_type": "code",
   "execution_count": 123,
   "metadata": {},
   "outputs": [],
   "source": [
    "summary = pd.DataFrame.from_dict(results)\n",
    "summary = summary.transpose()\n",
    "summary = summary.rename(index = {'0':'Model', '1':'AAL'}) "
   ]
  },
  {
   "cell_type": "code",
   "execution_count": 124,
   "metadata": {},
   "outputs": [
    {
     "data": {
      "text/html": [
       "<div>\n",
       "<style scoped>\n",
       "    .dataframe tbody tr th:only-of-type {\n",
       "        vertical-align: middle;\n",
       "    }\n",
       "\n",
       "    .dataframe tbody tr th {\n",
       "        vertical-align: top;\n",
       "    }\n",
       "\n",
       "    .dataframe thead th {\n",
       "        text-align: right;\n",
       "    }\n",
       "</style>\n",
       "<table border=\"1\" class=\"dataframe\">\n",
       "  <thead>\n",
       "    <tr style=\"text-align: right;\">\n",
       "      <th></th>\n",
       "      <th>0</th>\n",
       "      <th>1</th>\n",
       "      <th>2</th>\n",
       "      <th>3</th>\n",
       "      <th>4</th>\n",
       "      <th>5</th>\n",
       "    </tr>\n",
       "  </thead>\n",
       "  <tbody>\n",
       "    <tr>\n",
       "      <th>Model</th>\n",
       "      <td>KNN</td>\n",
       "      <td>LogReg</td>\n",
       "      <td>SVM linear</td>\n",
       "      <td>Naive Bayes</td>\n",
       "      <td>Decision Tree</td>\n",
       "      <td>Random Forest</td>\n",
       "    </tr>\n",
       "    <tr>\n",
       "      <th>AAL</th>\n",
       "      <td>0.483333</td>\n",
       "      <td>0.490909</td>\n",
       "      <td>0.716667</td>\n",
       "      <td>0.509091</td>\n",
       "      <td>0.641667</td>\n",
       "      <td>0.569697</td>\n",
       "    </tr>\n",
       "  </tbody>\n",
       "</table>\n",
       "</div>"
      ],
      "text/plain": [
       "              0         1           2            3              4  \\\n",
       "Model       KNN    LogReg  SVM linear  Naive Bayes  Decision Tree   \n",
       "AAL    0.483333  0.490909    0.716667     0.509091       0.641667   \n",
       "\n",
       "                   5  \n",
       "Model  Random Forest  \n",
       "AAL         0.569697  "
      ]
     },
     "execution_count": 124,
     "metadata": {},
     "output_type": "execute_result"
    }
   ],
   "source": [
    "summary"
   ]
  },
  {
   "cell_type": "markdown",
   "metadata": {},
   "source": [
    "Adaptative boosting"
   ]
  },
  {
   "cell_type": "code",
   "execution_count": 202,
   "metadata": {},
   "outputs": [
    {
     "name": "stdout",
     "output_type": "stream",
     "text": [
      "Accuracy: 0.41379310344827586\n"
     ]
    }
   ],
   "source": [
    "from sklearn.ensemble import AdaBoostClassifier\n",
    "from sklearn.datasets import make_classification\n",
    "from sklearn.model_selection import train_test_split\n",
    "from sklearn.metrics import accuracy_score\n",
    "\n",
    "\n",
    "# Create an AdaBoost classifier\n",
    "adaboost = AdaBoostClassifier(n_estimators=50, random_state=42)\n",
    "\n",
    "# Train the classifier\n",
    "adaboost.fit(x_train, y_train)\n",
    "\n",
    "# Predict on the test set\n",
    "y_pred = adaboost.predict(x_test)\n",
    "\n",
    "# Calculate the accuracy of the classifier\n",
    "accuracy = accuracy_score(y_test, y_pred)\n",
    "print(\"Accuracy:\", accuracy)\n"
   ]
  },
  {
   "cell_type": "code",
   "execution_count": 203,
   "metadata": {},
   "outputs": [
    {
     "name": "stdout",
     "output_type": "stream",
     "text": [
      "Accuracy: 0.7767857142857143\n"
     ]
    }
   ],
   "source": [
    "# Predict on the test set\n",
    "y_pred = adaboost.predict(x_train)\n",
    "\n",
    "# Calculate the accuracy of the classifier\n",
    "accuracy = accuracy_score(y_train, y_pred)\n",
    "print(\"Accuracy:\", accuracy)"
   ]
  },
  {
   "cell_type": "code",
   "execution_count": 204,
   "metadata": {},
   "outputs": [
    {
     "name": "stdout",
     "output_type": "stream",
     "text": [
      "0.6833333333333333\n"
     ]
    }
   ],
   "source": [
    "adaboost_cv = cross_val_score(adaboost, x_test, y_test, cv=10) \n",
    "print(adaboost_cv.mean())  "
   ]
  },
  {
   "cell_type": "code",
   "execution_count": 205,
   "metadata": {},
   "outputs": [
    {
     "name": "stdout",
     "output_type": "stream",
     "text": [
      "0.5628787878787878\n"
     ]
    }
   ],
   "source": [
    "adaboost_cv = cross_val_score(adaboost, x_train, y_train, cv=10) \n",
    "print(adaboost_cv.mean())  "
   ]
  },
  {
   "cell_type": "markdown",
   "metadata": {},
   "source": [
    "eXtrem Gradient Boosting"
   ]
  },
  {
   "cell_type": "code",
   "execution_count": 126,
   "metadata": {},
   "outputs": [
    {
     "name": "stdout",
     "output_type": "stream",
     "text": [
      "Requirement already satisfied: xgboost in c:\\users\\zoe\\anaconda3\\lib\\site-packages (1.7.5)\n",
      "Requirement already satisfied: scipy in c:\\users\\zoe\\anaconda3\\lib\\site-packages (from xgboost) (1.9.1)\n",
      "Requirement already satisfied: numpy in c:\\users\\zoe\\anaconda3\\lib\\site-packages (from xgboost) (1.21.5)\n"
     ]
    }
   ],
   "source": [
    "!pip install xgboost"
   ]
  },
  {
   "cell_type": "code",
   "execution_count": 206,
   "metadata": {},
   "outputs": [
    {
     "name": "stdout",
     "output_type": "stream",
     "text": [
      "Accuracy: 0.4827586206896552\n"
     ]
    }
   ],
   "source": [
    "import xgboost as xgb\n",
    "from sklearn.datasets import make_classification\n",
    "from sklearn.model_selection import train_test_split\n",
    "from sklearn.metrics import accuracy_score\n",
    "from sklearn.preprocessing import LabelEncoder\n",
    "\n",
    "# Convert class labels to numeric values\n",
    "label_encoder = LabelEncoder()\n",
    "y = label_encoder.fit_transform(y)\n",
    "y_train = label_encoder.fit_transform(y_train)\n",
    "y_test = label_encoder.fit_transform(y_test)\n",
    "\n",
    "# Create an XGBoost classifier\n",
    "xgb_classifier = xgb.XGBClassifier(n_estimators=100, random_state=52)\n",
    "\n",
    "# Train the classifier\n",
    "xgb_classifier.fit(x_train, y_train)\n",
    "\n",
    "# Predict on the test set\n",
    "y_pred = xgb_classifier.predict(x_test)\n",
    "\n",
    "# Calculate the accuracy of the classifier\n",
    "accuracy = accuracy_score(y_test, y_pred)\n",
    "print(\"Accuracy:\", accuracy)\n",
    "\n"
   ]
  },
  {
   "cell_type": "code",
   "execution_count": 128,
   "metadata": {},
   "outputs": [
    {
     "name": "stdout",
     "output_type": "stream",
     "text": [
      "Accuracy: 0.7767857142857143\n"
     ]
    }
   ],
   "source": [
    "y_pred = xgb_classifier.predict(x_train)\n",
    "accuracy = accuracy_score(y_train, y_pred)\n",
    "print(\"Accuracy:\", accuracy)"
   ]
  },
  {
   "cell_type": "code",
   "execution_count": 207,
   "metadata": {},
   "outputs": [
    {
     "name": "stdout",
     "output_type": "stream",
     "text": [
      "0.5795454545454545\n"
     ]
    }
   ],
   "source": [
    "xgb_classifier_cv = cross_val_score(xgb_classifier, x_train, y_train, cv=10) \n",
    "print(xgb_classifier_cv.mean())  "
   ]
  },
  {
   "cell_type": "code",
   "execution_count": 208,
   "metadata": {},
   "outputs": [
    {
     "name": "stdout",
     "output_type": "stream",
     "text": [
      "0.75\n"
     ]
    }
   ],
   "source": [
    "xgb_classifier_cv = cross_val_score(xgb_classifier, x_test, y_test, cv=10) \n",
    "print(xgb_classifier_cv.mean())  "
   ]
  },
  {
   "cell_type": "markdown",
   "metadata": {},
   "source": [
    "Catboost"
   ]
  },
  {
   "cell_type": "code",
   "execution_count": 129,
   "metadata": {},
   "outputs": [
    {
     "name": "stdout",
     "output_type": "stream",
     "text": [
      "Requirement already satisfied: catboost in c:\\users\\zoe\\anaconda3\\lib\\site-packages (1.2)\n",
      "Requirement already satisfied: matplotlib in c:\\users\\zoe\\anaconda3\\lib\\site-packages (from catboost) (3.5.2)\n",
      "Requirement already satisfied: numpy>=1.16.0 in c:\\users\\zoe\\anaconda3\\lib\\site-packages (from catboost) (1.21.5)\n",
      "Requirement already satisfied: plotly in c:\\users\\zoe\\anaconda3\\lib\\site-packages (from catboost) (5.9.0)\n",
      "Requirement already satisfied: pandas>=0.24 in c:\\users\\zoe\\anaconda3\\lib\\site-packages (from catboost) (1.4.4)\n",
      "Requirement already satisfied: six in c:\\users\\zoe\\anaconda3\\lib\\site-packages (from catboost) (1.16.0)\n",
      "Requirement already satisfied: scipy in c:\\users\\zoe\\anaconda3\\lib\\site-packages (from catboost) (1.9.1)\n",
      "Requirement already satisfied: graphviz in c:\\users\\zoe\\anaconda3\\lib\\site-packages (from catboost) (0.20.1)\n",
      "Requirement already satisfied: pytz>=2020.1 in c:\\users\\zoe\\anaconda3\\lib\\site-packages (from pandas>=0.24->catboost) (2022.7.1)\n",
      "Requirement already satisfied: python-dateutil>=2.8.1 in c:\\users\\zoe\\anaconda3\\lib\\site-packages (from pandas>=0.24->catboost) (2.8.2)\n",
      "Requirement already satisfied: kiwisolver>=1.0.1 in c:\\users\\zoe\\anaconda3\\lib\\site-packages (from matplotlib->catboost) (1.4.2)\n",
      "Requirement already satisfied: pyparsing>=2.2.1 in c:\\users\\zoe\\anaconda3\\lib\\site-packages (from matplotlib->catboost) (3.0.9)\n",
      "Requirement already satisfied: cycler>=0.10 in c:\\users\\zoe\\anaconda3\\lib\\site-packages (from matplotlib->catboost) (0.11.0)\n",
      "Requirement already satisfied: pillow>=6.2.0 in c:\\users\\zoe\\anaconda3\\lib\\site-packages (from matplotlib->catboost) (9.2.0)\n",
      "Requirement already satisfied: fonttools>=4.22.0 in c:\\users\\zoe\\anaconda3\\lib\\site-packages (from matplotlib->catboost) (4.25.0)\n",
      "Requirement already satisfied: packaging>=20.0 in c:\\users\\zoe\\anaconda3\\lib\\site-packages (from matplotlib->catboost) (21.3)\n",
      "Requirement already satisfied: tenacity>=6.2.0 in c:\\users\\zoe\\anaconda3\\lib\\site-packages (from plotly->catboost) (8.0.1)\n"
     ]
    }
   ],
   "source": [
    "!pip install catboost"
   ]
  },
  {
   "cell_type": "code",
   "execution_count": 217,
   "metadata": {},
   "outputs": [
    {
     "name": "stdout",
     "output_type": "stream",
     "text": [
      "Learning rate set to 0.033416\n",
      "0:\tlearn: 0.6920463\ttotal: 11.2ms\tremaining: 1.11s\n",
      "1:\tlearn: 0.6912379\ttotal: 12ms\tremaining: 587ms\n",
      "2:\tlearn: 0.6898069\ttotal: 12.6ms\tremaining: 409ms\n",
      "3:\tlearn: 0.6894702\ttotal: 13.3ms\tremaining: 318ms\n",
      "4:\tlearn: 0.6886170\ttotal: 14.7ms\tremaining: 279ms\n",
      "5:\tlearn: 0.6879574\ttotal: 15.4ms\tremaining: 242ms\n",
      "6:\tlearn: 0.6863209\ttotal: 15.9ms\tremaining: 211ms\n",
      "7:\tlearn: 0.6849713\ttotal: 16.5ms\tremaining: 190ms\n",
      "8:\tlearn: 0.6848594\ttotal: 17.1ms\tremaining: 173ms\n",
      "9:\tlearn: 0.6833318\ttotal: 17.7ms\tremaining: 159ms\n",
      "10:\tlearn: 0.6823935\ttotal: 18.3ms\tremaining: 148ms\n",
      "11:\tlearn: 0.6820346\ttotal: 18.8ms\tremaining: 138ms\n",
      "12:\tlearn: 0.6811218\ttotal: 19.1ms\tremaining: 128ms\n",
      "13:\tlearn: 0.6802795\ttotal: 19.7ms\tremaining: 121ms\n",
      "14:\tlearn: 0.6797308\ttotal: 20.4ms\tremaining: 116ms\n",
      "15:\tlearn: 0.6786314\ttotal: 21.1ms\tremaining: 111ms\n",
      "16:\tlearn: 0.6781597\ttotal: 21.4ms\tremaining: 105ms\n",
      "17:\tlearn: 0.6775259\ttotal: 22ms\tremaining: 100ms\n",
      "18:\tlearn: 0.6771226\ttotal: 22.6ms\tremaining: 96.4ms\n",
      "19:\tlearn: 0.6765006\ttotal: 23.2ms\tremaining: 93ms\n",
      "20:\tlearn: 0.6753363\ttotal: 23.8ms\tremaining: 89.6ms\n",
      "21:\tlearn: 0.6740866\ttotal: 24.4ms\tremaining: 86.5ms\n",
      "22:\tlearn: 0.6734984\ttotal: 25ms\tremaining: 83.6ms\n",
      "23:\tlearn: 0.6727448\ttotal: 25.6ms\tremaining: 81ms\n",
      "24:\tlearn: 0.6723501\ttotal: 26.1ms\tremaining: 78.4ms\n",
      "25:\tlearn: 0.6713510\ttotal: 26.9ms\tremaining: 76.4ms\n",
      "26:\tlearn: 0.6703112\ttotal: 27.8ms\tremaining: 75.2ms\n",
      "27:\tlearn: 0.6697904\ttotal: 28.4ms\tremaining: 73ms\n",
      "28:\tlearn: 0.6681481\ttotal: 29ms\tremaining: 71ms\n",
      "29:\tlearn: 0.6672485\ttotal: 29.6ms\tremaining: 69ms\n",
      "30:\tlearn: 0.6667433\ttotal: 30.3ms\tremaining: 67.4ms\n",
      "31:\tlearn: 0.6658952\ttotal: 30.9ms\tremaining: 65.6ms\n",
      "32:\tlearn: 0.6650402\ttotal: 31.6ms\tremaining: 64.1ms\n",
      "33:\tlearn: 0.6643525\ttotal: 31.8ms\tremaining: 61.8ms\n",
      "34:\tlearn: 0.6638671\ttotal: 32.5ms\tremaining: 60.4ms\n",
      "35:\tlearn: 0.6634404\ttotal: 33.1ms\tremaining: 58.8ms\n",
      "36:\tlearn: 0.6632427\ttotal: 33.6ms\tremaining: 57.3ms\n",
      "37:\tlearn: 0.6619271\ttotal: 34.2ms\tremaining: 55.8ms\n",
      "38:\tlearn: 0.6609043\ttotal: 34.8ms\tremaining: 54.4ms\n",
      "39:\tlearn: 0.6604027\ttotal: 35.4ms\tremaining: 53ms\n",
      "40:\tlearn: 0.6597064\ttotal: 35.9ms\tremaining: 51.7ms\n",
      "41:\tlearn: 0.6590441\ttotal: 36.5ms\tremaining: 50.4ms\n",
      "42:\tlearn: 0.6582925\ttotal: 37.1ms\tremaining: 49.2ms\n",
      "43:\tlearn: 0.6579469\ttotal: 37.7ms\tremaining: 47.9ms\n",
      "44:\tlearn: 0.6573716\ttotal: 38.3ms\tremaining: 46.8ms\n",
      "45:\tlearn: 0.6569860\ttotal: 38.9ms\tremaining: 45.7ms\n",
      "46:\tlearn: 0.6569183\ttotal: 39.6ms\tremaining: 44.7ms\n",
      "47:\tlearn: 0.6566798\ttotal: 40.4ms\tremaining: 43.7ms\n",
      "48:\tlearn: 0.6559844\ttotal: 41ms\tremaining: 42.7ms\n",
      "49:\tlearn: 0.6553628\ttotal: 41.6ms\tremaining: 41.6ms\n",
      "50:\tlearn: 0.6544838\ttotal: 42.1ms\tremaining: 40.5ms\n",
      "51:\tlearn: 0.6539501\ttotal: 42.7ms\tremaining: 39.4ms\n",
      "52:\tlearn: 0.6536608\ttotal: 43.3ms\tremaining: 38.4ms\n",
      "53:\tlearn: 0.6531154\ttotal: 43.9ms\tremaining: 37.4ms\n",
      "54:\tlearn: 0.6524940\ttotal: 44.5ms\tremaining: 36.4ms\n",
      "55:\tlearn: 0.6516602\ttotal: 45ms\tremaining: 35.4ms\n",
      "56:\tlearn: 0.6514702\ttotal: 45.6ms\tremaining: 34.4ms\n",
      "57:\tlearn: 0.6511671\ttotal: 46.3ms\tremaining: 33.5ms\n",
      "58:\tlearn: 0.6505535\ttotal: 47ms\tremaining: 32.7ms\n",
      "59:\tlearn: 0.6499119\ttotal: 47.6ms\tremaining: 31.8ms\n",
      "60:\tlearn: 0.6496538\ttotal: 48.2ms\tremaining: 30.8ms\n",
      "61:\tlearn: 0.6492434\ttotal: 48.8ms\tremaining: 29.9ms\n",
      "62:\tlearn: 0.6484203\ttotal: 49.4ms\tremaining: 29ms\n",
      "63:\tlearn: 0.6481927\ttotal: 50ms\tremaining: 28.1ms\n",
      "64:\tlearn: 0.6478919\ttotal: 51ms\tremaining: 27.5ms\n",
      "65:\tlearn: 0.6471660\ttotal: 51.5ms\tremaining: 26.5ms\n",
      "66:\tlearn: 0.6469751\ttotal: 52ms\tremaining: 25.6ms\n",
      "67:\tlearn: 0.6464938\ttotal: 52.6ms\tremaining: 24.8ms\n",
      "68:\tlearn: 0.6464325\ttotal: 53.2ms\tremaining: 23.9ms\n",
      "69:\tlearn: 0.6458837\ttotal: 53.9ms\tremaining: 23.1ms\n",
      "70:\tlearn: 0.6455566\ttotal: 54.6ms\tremaining: 22.3ms\n",
      "71:\tlearn: 0.6451627\ttotal: 55.2ms\tremaining: 21.4ms\n",
      "72:\tlearn: 0.6444465\ttotal: 55.7ms\tremaining: 20.6ms\n",
      "73:\tlearn: 0.6441295\ttotal: 56.3ms\tremaining: 19.8ms\n",
      "74:\tlearn: 0.6440550\ttotal: 56.7ms\tremaining: 18.9ms\n",
      "75:\tlearn: 0.6438172\ttotal: 57.3ms\tremaining: 18.1ms\n",
      "76:\tlearn: 0.6431065\ttotal: 57.9ms\tremaining: 17.3ms\n",
      "77:\tlearn: 0.6423521\ttotal: 58.4ms\tremaining: 16.5ms\n",
      "78:\tlearn: 0.6423392\ttotal: 58.7ms\tremaining: 15.6ms\n",
      "79:\tlearn: 0.6417445\ttotal: 59.2ms\tremaining: 14.8ms\n",
      "80:\tlearn: 0.6414499\ttotal: 59.8ms\tremaining: 14ms\n",
      "81:\tlearn: 0.6409824\ttotal: 60.4ms\tremaining: 13.3ms\n",
      "82:\tlearn: 0.6407648\ttotal: 60.9ms\tremaining: 12.5ms\n",
      "83:\tlearn: 0.6401973\ttotal: 61.5ms\tremaining: 11.7ms\n",
      "84:\tlearn: 0.6395969\ttotal: 62ms\tremaining: 10.9ms\n",
      "85:\tlearn: 0.6392010\ttotal: 62.6ms\tremaining: 10.2ms\n",
      "86:\tlearn: 0.6385786\ttotal: 63.2ms\tremaining: 9.44ms\n",
      "87:\tlearn: 0.6380732\ttotal: 63.6ms\tremaining: 8.68ms\n",
      "88:\tlearn: 0.6375965\ttotal: 64.2ms\tremaining: 7.94ms\n",
      "89:\tlearn: 0.6374742\ttotal: 64.8ms\tremaining: 7.19ms\n",
      "90:\tlearn: 0.6368628\ttotal: 65.3ms\tremaining: 6.46ms\n",
      "91:\tlearn: 0.6363766\ttotal: 65.9ms\tremaining: 5.73ms\n",
      "92:\tlearn: 0.6359648\ttotal: 66.7ms\tremaining: 5.02ms\n",
      "93:\tlearn: 0.6356249\ttotal: 67.3ms\tremaining: 4.29ms\n",
      "94:\tlearn: 0.6354989\ttotal: 67.8ms\tremaining: 3.56ms\n",
      "95:\tlearn: 0.6353014\ttotal: 68.3ms\tremaining: 2.85ms\n",
      "96:\tlearn: 0.6346002\ttotal: 68.9ms\tremaining: 2.13ms\n",
      "97:\tlearn: 0.6340933\ttotal: 69.5ms\tremaining: 1.42ms\n",
      "98:\tlearn: 0.6338360\ttotal: 70.1ms\tremaining: 707us\n",
      "99:\tlearn: 0.6334780\ttotal: 70.7ms\tremaining: 0us\n",
      "Accuracy: 0.3793103448275862\n"
     ]
    }
   ],
   "source": [
    "from catboost import CatBoostClassifier\n",
    "from sklearn.datasets import make_classification\n",
    "from sklearn.model_selection import train_test_split\n",
    "from sklearn.metrics import accuracy_score\n",
    "\n",
    "# Create a CatBoost classifier\n",
    "catboost = CatBoostClassifier(iterations=100, random_state=42)\n",
    "\n",
    "# Train the classifier\n",
    "catboost.fit(x_train, y_train)\n",
    "\n",
    "# Predict on the test set\n",
    "y_pred = catboost.predict(x_test)\n",
    "\n",
    "# Calculate the accuracy of the classifier\n",
    "accuracy = accuracy_score(y_test, y_pred)\n",
    "print(\"Accuracy:\", accuracy)"
   ]
  },
  {
   "cell_type": "code",
   "execution_count": 213,
   "metadata": {},
   "outputs": [
    {
     "name": "stdout",
     "output_type": "stream",
     "text": [
      "Accuracy: 0.6517857142857143\n"
     ]
    }
   ],
   "source": [
    "# Predict on the test set\n",
    "y_pred = catboost.predict(x_train)\n",
    "\n",
    "# Calculate the accuracy of the classifier\n",
    "accuracy = accuracy_score(y_train, y_pred)\n",
    "print(\"Accuracy:\", accuracy)"
   ]
  },
  {
   "cell_type": "code",
   "execution_count": 211,
   "metadata": {},
   "outputs": [
    {
     "name": "stdout",
     "output_type": "stream",
     "text": [
      "Learning rate set to 0.017911\n",
      "0:\tlearn: 0.6920861\ttotal: 609us\tremaining: 60.3ms\n",
      "1:\tlearn: 0.6895246\ttotal: 1.11ms\tremaining: 54.5ms\n",
      "2:\tlearn: 0.6872077\ttotal: 1.67ms\tremaining: 53.9ms\n",
      "3:\tlearn: 0.6854005\ttotal: 2.19ms\tremaining: 52.6ms\n",
      "4:\tlearn: 0.6831120\ttotal: 2.63ms\tremaining: 50ms\n",
      "5:\tlearn: 0.6799258\ttotal: 3.29ms\tremaining: 51.5ms\n",
      "6:\tlearn: 0.6779132\ttotal: 3.78ms\tremaining: 50.2ms\n",
      "7:\tlearn: 0.6766305\ttotal: 4.24ms\tremaining: 48.8ms\n",
      "8:\tlearn: 0.6745763\ttotal: 4.7ms\tremaining: 47.6ms\n",
      "9:\tlearn: 0.6731520\ttotal: 5.13ms\tremaining: 46.2ms\n",
      "10:\tlearn: 0.6718943\ttotal: 5.57ms\tremaining: 45ms\n",
      "11:\tlearn: 0.6709472\ttotal: 6.01ms\tremaining: 44.1ms\n",
      "12:\tlearn: 0.6696462\ttotal: 6.46ms\tremaining: 43.2ms\n",
      "13:\tlearn: 0.6683248\ttotal: 6.93ms\tremaining: 42.6ms\n",
      "14:\tlearn: 0.6667717\ttotal: 7.39ms\tremaining: 41.9ms\n",
      "15:\tlearn: 0.6651406\ttotal: 7.88ms\tremaining: 41.4ms\n",
      "16:\tlearn: 0.6643452\ttotal: 8.36ms\tremaining: 40.8ms\n",
      "17:\tlearn: 0.6628785\ttotal: 8.84ms\tremaining: 40.3ms\n",
      "18:\tlearn: 0.6608434\ttotal: 9.38ms\tremaining: 40ms\n",
      "19:\tlearn: 0.6583075\ttotal: 9.83ms\tremaining: 39.3ms\n",
      "20:\tlearn: 0.6561695\ttotal: 10.8ms\tremaining: 40.7ms\n",
      "21:\tlearn: 0.6543116\ttotal: 11.3ms\tremaining: 40.1ms\n",
      "22:\tlearn: 0.6526732\ttotal: 11.7ms\tremaining: 39.3ms\n",
      "23:\tlearn: 0.6517762\ttotal: 12.2ms\tremaining: 38.6ms\n",
      "24:\tlearn: 0.6499260\ttotal: 12.5ms\tremaining: 37.6ms\n",
      "25:\tlearn: 0.6481242\ttotal: 13ms\tremaining: 36.9ms\n",
      "26:\tlearn: 0.6460130\ttotal: 13.1ms\tremaining: 35.5ms\n",
      "27:\tlearn: 0.6451553\ttotal: 13.5ms\tremaining: 34.7ms\n",
      "28:\tlearn: 0.6436334\ttotal: 13.8ms\tremaining: 33.8ms\n",
      "29:\tlearn: 0.6426377\ttotal: 14ms\tremaining: 32.6ms\n",
      "30:\tlearn: 0.6414359\ttotal: 14.2ms\tremaining: 31.7ms\n",
      "31:\tlearn: 0.6400304\ttotal: 14.9ms\tremaining: 31.7ms\n",
      "32:\tlearn: 0.6387126\ttotal: 15.5ms\tremaining: 31.4ms\n",
      "33:\tlearn: 0.6371630\ttotal: 16ms\tremaining: 31.1ms\n",
      "34:\tlearn: 0.6366525\ttotal: 16.5ms\tremaining: 30.6ms\n",
      "35:\tlearn: 0.6359569\ttotal: 16.8ms\tremaining: 29.9ms\n",
      "36:\tlearn: 0.6347674\ttotal: 17.3ms\tremaining: 29.4ms\n",
      "37:\tlearn: 0.6336251\ttotal: 17.7ms\tremaining: 28.9ms\n",
      "38:\tlearn: 0.6325447\ttotal: 17.9ms\tremaining: 28.1ms\n",
      "39:\tlearn: 0.6309222\ttotal: 18.3ms\tremaining: 27.5ms\n",
      "40:\tlearn: 0.6289482\ttotal: 18.8ms\tremaining: 27ms\n",
      "41:\tlearn: 0.6274015\ttotal: 19.2ms\tremaining: 26.5ms\n",
      "42:\tlearn: 0.6255082\ttotal: 19.6ms\tremaining: 26ms\n",
      "43:\tlearn: 0.6242595\ttotal: 20ms\tremaining: 25.5ms\n",
      "44:\tlearn: 0.6234396\ttotal: 20.5ms\tremaining: 25ms\n",
      "45:\tlearn: 0.6219580\ttotal: 20.9ms\tremaining: 24.5ms\n",
      "46:\tlearn: 0.6206031\ttotal: 21.8ms\tremaining: 24.5ms\n",
      "47:\tlearn: 0.6193657\ttotal: 22.2ms\tremaining: 24.1ms\n",
      "48:\tlearn: 0.6183334\ttotal: 22.7ms\tremaining: 23.6ms\n",
      "49:\tlearn: 0.6171935\ttotal: 23ms\tremaining: 23ms\n",
      "50:\tlearn: 0.6158649\ttotal: 23.4ms\tremaining: 22.5ms\n",
      "51:\tlearn: 0.6146812\ttotal: 23.9ms\tremaining: 22.1ms\n",
      "52:\tlearn: 0.6135880\ttotal: 24.4ms\tremaining: 21.6ms\n",
      "53:\tlearn: 0.6121018\ttotal: 24.6ms\tremaining: 21ms\n",
      "54:\tlearn: 0.6115194\ttotal: 25.1ms\tremaining: 20.5ms\n",
      "55:\tlearn: 0.6109867\ttotal: 25.5ms\tremaining: 20ms\n",
      "56:\tlearn: 0.6086714\ttotal: 26ms\tremaining: 19.6ms\n",
      "57:\tlearn: 0.6076432\ttotal: 26.4ms\tremaining: 19.2ms\n",
      "58:\tlearn: 0.6066262\ttotal: 26.9ms\tremaining: 18.7ms\n",
      "59:\tlearn: 0.6055670\ttotal: 27.6ms\tremaining: 18.4ms\n",
      "60:\tlearn: 0.6049159\ttotal: 28.1ms\tremaining: 17.9ms\n",
      "61:\tlearn: 0.6035035\ttotal: 28.5ms\tremaining: 17.5ms\n",
      "62:\tlearn: 0.6027150\ttotal: 28.9ms\tremaining: 17ms\n",
      "63:\tlearn: 0.6007568\ttotal: 29.4ms\tremaining: 16.5ms\n",
      "64:\tlearn: 0.5996527\ttotal: 29.8ms\tremaining: 16ms\n",
      "65:\tlearn: 0.5984734\ttotal: 30.3ms\tremaining: 15.6ms\n",
      "66:\tlearn: 0.5972040\ttotal: 30.5ms\tremaining: 15ms\n",
      "67:\tlearn: 0.5964927\ttotal: 30.9ms\tremaining: 14.5ms\n",
      "68:\tlearn: 0.5957256\ttotal: 31.3ms\tremaining: 14.1ms\n",
      "69:\tlearn: 0.5953360\ttotal: 31.8ms\tremaining: 13.6ms\n",
      "70:\tlearn: 0.5938280\ttotal: 32.2ms\tremaining: 13.2ms\n",
      "71:\tlearn: 0.5925747\ttotal: 32.5ms\tremaining: 12.6ms\n",
      "72:\tlearn: 0.5915980\ttotal: 32.8ms\tremaining: 12.1ms\n",
      "73:\tlearn: 0.5911686\ttotal: 33.2ms\tremaining: 11.7ms\n",
      "74:\tlearn: 0.5905132\ttotal: 33.7ms\tremaining: 11.2ms\n",
      "75:\tlearn: 0.5890808\ttotal: 34.1ms\tremaining: 10.8ms\n",
      "76:\tlearn: 0.5885937\ttotal: 34.4ms\tremaining: 10.3ms\n",
      "77:\tlearn: 0.5879469\ttotal: 34.9ms\tremaining: 9.83ms\n",
      "78:\tlearn: 0.5866303\ttotal: 35.3ms\tremaining: 9.38ms\n",
      "79:\tlearn: 0.5859192\ttotal: 35.6ms\tremaining: 8.89ms\n",
      "80:\tlearn: 0.5848169\ttotal: 36ms\tremaining: 8.45ms\n",
      "81:\tlearn: 0.5839026\ttotal: 36.4ms\tremaining: 8ms\n",
      "82:\tlearn: 0.5830332\ttotal: 36.8ms\tremaining: 7.53ms\n",
      "83:\tlearn: 0.5818896\ttotal: 37.2ms\tremaining: 7.08ms\n",
      "84:\tlearn: 0.5807552\ttotal: 37.6ms\tremaining: 6.64ms\n",
      "85:\tlearn: 0.5795246\ttotal: 37.8ms\tremaining: 6.16ms\n",
      "86:\tlearn: 0.5783676\ttotal: 38.3ms\tremaining: 5.72ms\n",
      "87:\tlearn: 0.5773888\ttotal: 38.8ms\tremaining: 5.29ms\n",
      "88:\tlearn: 0.5765000\ttotal: 39.8ms\tremaining: 4.92ms\n",
      "89:\tlearn: 0.5755769\ttotal: 40.8ms\tremaining: 4.53ms\n",
      "90:\tlearn: 0.5740691\ttotal: 41.3ms\tremaining: 4.08ms\n",
      "91:\tlearn: 0.5727591\ttotal: 41.7ms\tremaining: 3.63ms\n",
      "92:\tlearn: 0.5721755\ttotal: 42ms\tremaining: 3.16ms\n",
      "93:\tlearn: 0.5713682\ttotal: 42.3ms\tremaining: 2.7ms\n",
      "94:\tlearn: 0.5703832\ttotal: 42.7ms\tremaining: 2.25ms\n",
      "95:\tlearn: 0.5692999\ttotal: 43.2ms\tremaining: 1.8ms\n",
      "96:\tlearn: 0.5684715\ttotal: 43.6ms\tremaining: 1.35ms\n",
      "97:\tlearn: 0.5673745\ttotal: 44ms\tremaining: 898us\n",
      "98:\tlearn: 0.5663566\ttotal: 44.4ms\tremaining: 448us\n",
      "99:\tlearn: 0.5656197\ttotal: 44.9ms\tremaining: 0us\n",
      "Learning rate set to 0.017911\n",
      "0:\tlearn: 0.6913902\ttotal: 635us\tremaining: 62.9ms\n",
      "1:\tlearn: 0.6896100\ttotal: 1.18ms\tremaining: 57.9ms\n",
      "2:\tlearn: 0.6882907\ttotal: 1.67ms\tremaining: 54.1ms\n",
      "3:\tlearn: 0.6864920\ttotal: 2.15ms\tremaining: 51.7ms\n",
      "4:\tlearn: 0.6843883\ttotal: 2.63ms\tremaining: 50.1ms\n",
      "5:\tlearn: 0.6830038\ttotal: 3.09ms\tremaining: 48.4ms\n",
      "6:\tlearn: 0.6805021\ttotal: 3.54ms\tremaining: 47ms\n",
      "7:\tlearn: 0.6787141\ttotal: 3.91ms\tremaining: 45ms\n",
      "8:\tlearn: 0.6760540\ttotal: 4.39ms\tremaining: 44.4ms\n",
      "9:\tlearn: 0.6746317\ttotal: 4.88ms\tremaining: 43.9ms\n",
      "10:\tlearn: 0.6722223\ttotal: 5.19ms\tremaining: 42ms\n",
      "11:\tlearn: 0.6702384\ttotal: 5.67ms\tremaining: 41.6ms\n",
      "12:\tlearn: 0.6678722\ttotal: 6.15ms\tremaining: 41.2ms\n",
      "13:\tlearn: 0.6666564\ttotal: 6.63ms\tremaining: 40.7ms\n",
      "14:\tlearn: 0.6646295\ttotal: 7.67ms\tremaining: 43.5ms\n",
      "15:\tlearn: 0.6629544\ttotal: 8.75ms\tremaining: 45.9ms\n",
      "16:\tlearn: 0.6611685\ttotal: 9.22ms\tremaining: 45ms\n",
      "17:\tlearn: 0.6607585\ttotal: 9.54ms\tremaining: 43.5ms\n",
      "18:\tlearn: 0.6596375\ttotal: 10ms\tremaining: 42.7ms\n",
      "19:\tlearn: 0.6576520\ttotal: 10.5ms\tremaining: 41.9ms\n",
      "20:\tlearn: 0.6562815\ttotal: 11ms\tremaining: 41.2ms\n",
      "21:\tlearn: 0.6544203\ttotal: 11.2ms\tremaining: 39.8ms\n",
      "22:\tlearn: 0.6522741\ttotal: 11.7ms\tremaining: 39.1ms\n",
      "23:\tlearn: 0.6504239\ttotal: 12.1ms\tremaining: 38.5ms\n",
      "24:\tlearn: 0.6495606\ttotal: 12.7ms\tremaining: 38.1ms\n",
      "25:\tlearn: 0.6482805\ttotal: 13.2ms\tremaining: 37.5ms\n",
      "26:\tlearn: 0.6471350\ttotal: 13.6ms\tremaining: 36.7ms\n",
      "27:\tlearn: 0.6454506\ttotal: 13.9ms\tremaining: 35.8ms\n",
      "28:\tlearn: 0.6437658\ttotal: 14.4ms\tremaining: 35.2ms\n",
      "29:\tlearn: 0.6420183\ttotal: 14.7ms\tremaining: 34.2ms\n",
      "30:\tlearn: 0.6405451\ttotal: 15ms\tremaining: 33.3ms\n",
      "31:\tlearn: 0.6385587\ttotal: 15.2ms\tremaining: 32.2ms\n",
      "32:\tlearn: 0.6379306\ttotal: 15.5ms\tremaining: 31.4ms\n",
      "33:\tlearn: 0.6361122\ttotal: 15.9ms\tremaining: 30.9ms\n",
      "34:\tlearn: 0.6341491\ttotal: 16.4ms\tremaining: 30.5ms\n",
      "35:\tlearn: 0.6323661\ttotal: 16.7ms\tremaining: 29.7ms\n",
      "36:\tlearn: 0.6308095\ttotal: 17.2ms\tremaining: 29.3ms\n",
      "37:\tlearn: 0.6293902\ttotal: 17.6ms\tremaining: 28.7ms\n",
      "38:\tlearn: 0.6281031\ttotal: 18ms\tremaining: 28.2ms\n",
      "39:\tlearn: 0.6268957\ttotal: 18.5ms\tremaining: 27.8ms\n",
      "40:\tlearn: 0.6253961\ttotal: 18.9ms\tremaining: 27.2ms\n",
      "41:\tlearn: 0.6243025\ttotal: 19.3ms\tremaining: 26.7ms\n",
      "42:\tlearn: 0.6235293\ttotal: 20.3ms\tremaining: 26.9ms\n",
      "43:\tlearn: 0.6225923\ttotal: 21.2ms\tremaining: 27ms\n",
      "44:\tlearn: 0.6212923\ttotal: 21.7ms\tremaining: 26.6ms\n",
      "45:\tlearn: 0.6201703\ttotal: 22.2ms\tremaining: 26.1ms\n",
      "46:\tlearn: 0.6190943\ttotal: 22.7ms\tremaining: 25.6ms\n",
      "47:\tlearn: 0.6179239\ttotal: 23.1ms\tremaining: 25ms\n",
      "48:\tlearn: 0.6168411\ttotal: 23.5ms\tremaining: 24.5ms\n",
      "49:\tlearn: 0.6151749\ttotal: 23.8ms\tremaining: 23.8ms\n",
      "50:\tlearn: 0.6135387\ttotal: 24ms\tremaining: 23.1ms\n",
      "51:\tlearn: 0.6119187\ttotal: 24.5ms\tremaining: 22.6ms\n",
      "52:\tlearn: 0.6108742\ttotal: 24.8ms\tremaining: 22ms\n",
      "53:\tlearn: 0.6096508\ttotal: 25.3ms\tremaining: 21.5ms\n",
      "54:\tlearn: 0.6086325\ttotal: 25.7ms\tremaining: 21ms\n",
      "55:\tlearn: 0.6074059\ttotal: 26.2ms\tremaining: 20.6ms\n",
      "56:\tlearn: 0.6066717\ttotal: 26.6ms\tremaining: 20.1ms\n",
      "57:\tlearn: 0.6050527\ttotal: 27.1ms\tremaining: 19.6ms\n",
      "58:\tlearn: 0.6034439\ttotal: 27.3ms\tremaining: 19ms\n",
      "59:\tlearn: 0.6015118\ttotal: 27.8ms\tremaining: 18.5ms\n",
      "60:\tlearn: 0.6007254\ttotal: 28.3ms\tremaining: 18.1ms\n",
      "61:\tlearn: 0.5994762\ttotal: 28.5ms\tremaining: 17.5ms\n",
      "62:\tlearn: 0.5985026\ttotal: 29ms\tremaining: 17ms\n",
      "63:\tlearn: 0.5975353\ttotal: 29.4ms\tremaining: 16.6ms\n",
      "64:\tlearn: 0.5964471\ttotal: 29.8ms\tremaining: 16.1ms\n",
      "65:\tlearn: 0.5957512\ttotal: 30.3ms\tremaining: 15.6ms\n",
      "66:\tlearn: 0.5949636\ttotal: 30.7ms\tremaining: 15.1ms\n",
      "67:\tlearn: 0.5939914\ttotal: 31.2ms\tremaining: 14.7ms\n",
      "68:\tlearn: 0.5928437\ttotal: 31.7ms\tremaining: 14.2ms\n",
      "69:\tlearn: 0.5921620\ttotal: 32.2ms\tremaining: 13.8ms\n",
      "70:\tlearn: 0.5907044\ttotal: 32.9ms\tremaining: 13.5ms\n",
      "71:\tlearn: 0.5893806\ttotal: 33.5ms\tremaining: 13ms\n",
      "72:\tlearn: 0.5882127\ttotal: 34ms\tremaining: 12.6ms\n",
      "73:\tlearn: 0.5870650\ttotal: 34.3ms\tremaining: 12ms\n",
      "74:\tlearn: 0.5862062\ttotal: 34.5ms\tremaining: 11.5ms\n",
      "75:\tlearn: 0.5855106\ttotal: 34.8ms\tremaining: 11ms\n",
      "76:\tlearn: 0.5843422\ttotal: 35.2ms\tremaining: 10.5ms\n",
      "77:\tlearn: 0.5831849\ttotal: 35.5ms\tremaining: 10ms\n",
      "78:\tlearn: 0.5819196\ttotal: 35.9ms\tremaining: 9.53ms\n",
      "79:\tlearn: 0.5803662\ttotal: 36.3ms\tremaining: 9.08ms\n",
      "80:\tlearn: 0.5790739\ttotal: 36.8ms\tremaining: 8.63ms\n",
      "81:\tlearn: 0.5782203\ttotal: 37.1ms\tremaining: 8.14ms\n",
      "82:\tlearn: 0.5774255\ttotal: 37.5ms\tremaining: 7.68ms\n",
      "83:\tlearn: 0.5760703\ttotal: 37.9ms\tremaining: 7.21ms\n",
      "84:\tlearn: 0.5753752\ttotal: 38.2ms\tremaining: 6.75ms\n",
      "85:\tlearn: 0.5733282\ttotal: 38.7ms\tremaining: 6.3ms\n",
      "86:\tlearn: 0.5725083\ttotal: 38.9ms\tremaining: 5.82ms\n",
      "87:\tlearn: 0.5717603\ttotal: 39.2ms\tremaining: 5.34ms\n",
      "88:\tlearn: 0.5709219\ttotal: 39.6ms\tremaining: 4.89ms\n",
      "89:\tlearn: 0.5698205\ttotal: 40.1ms\tremaining: 4.45ms\n",
      "90:\tlearn: 0.5687865\ttotal: 40.3ms\tremaining: 3.99ms\n",
      "91:\tlearn: 0.5675614\ttotal: 40.8ms\tremaining: 3.54ms\n",
      "92:\tlearn: 0.5660067\ttotal: 41.2ms\tremaining: 3.1ms\n",
      "93:\tlearn: 0.5649204\ttotal: 41.7ms\tremaining: 2.66ms\n",
      "94:\tlearn: 0.5645076\ttotal: 41.9ms\tremaining: 2.21ms\n",
      "95:\tlearn: 0.5636856\ttotal: 42.2ms\tremaining: 1.76ms\n",
      "96:\tlearn: 0.5632008\ttotal: 42.7ms\tremaining: 1.32ms\n",
      "97:\tlearn: 0.5620533\ttotal: 43.1ms\tremaining: 880us\n",
      "98:\tlearn: 0.5608993\ttotal: 43.6ms\tremaining: 440us\n",
      "99:\tlearn: 0.5595225\ttotal: 44ms\tremaining: 0us\n"
     ]
    },
    {
     "name": "stdout",
     "output_type": "stream",
     "text": [
      "Learning rate set to 0.017911\n",
      "0:\tlearn: 0.6916545\ttotal: 583us\tremaining: 57.8ms\n",
      "1:\tlearn: 0.6894828\ttotal: 1.03ms\tremaining: 50.7ms\n",
      "2:\tlearn: 0.6867941\ttotal: 1.49ms\tremaining: 48.3ms\n",
      "3:\tlearn: 0.6845022\ttotal: 1.92ms\tremaining: 46.1ms\n",
      "4:\tlearn: 0.6820675\ttotal: 2.34ms\tremaining: 44.5ms\n",
      "5:\tlearn: 0.6791342\ttotal: 2.74ms\tremaining: 43ms\n",
      "6:\tlearn: 0.6766399\ttotal: 3.08ms\tremaining: 40.9ms\n",
      "7:\tlearn: 0.6739085\ttotal: 3.49ms\tremaining: 40.1ms\n",
      "8:\tlearn: 0.6726121\ttotal: 3.91ms\tremaining: 39.5ms\n",
      "9:\tlearn: 0.6708161\ttotal: 4.32ms\tremaining: 38.9ms\n",
      "10:\tlearn: 0.6693408\ttotal: 4.6ms\tremaining: 37.2ms\n",
      "11:\tlearn: 0.6667071\ttotal: 5.02ms\tremaining: 36.8ms\n",
      "12:\tlearn: 0.6647792\ttotal: 5.42ms\tremaining: 36.3ms\n",
      "13:\tlearn: 0.6629063\ttotal: 5.83ms\tremaining: 35.8ms\n",
      "14:\tlearn: 0.6600813\ttotal: 6.06ms\tremaining: 34.4ms\n",
      "15:\tlearn: 0.6582536\ttotal: 6.51ms\tremaining: 34.2ms\n",
      "16:\tlearn: 0.6555088\ttotal: 6.85ms\tremaining: 33.5ms\n",
      "17:\tlearn: 0.6534829\ttotal: 7.66ms\tremaining: 34.9ms\n",
      "18:\tlearn: 0.6510560\ttotal: 8.5ms\tremaining: 36.2ms\n",
      "19:\tlearn: 0.6503812\ttotal: 8.95ms\tremaining: 35.8ms\n",
      "20:\tlearn: 0.6476731\ttotal: 9.39ms\tremaining: 35.3ms\n",
      "21:\tlearn: 0.6454254\ttotal: 9.69ms\tremaining: 34.4ms\n",
      "22:\tlearn: 0.6437513\ttotal: 10.1ms\tremaining: 33.9ms\n",
      "23:\tlearn: 0.6413850\ttotal: 10.5ms\tremaining: 33.3ms\n",
      "24:\tlearn: 0.6393681\ttotal: 10.9ms\tremaining: 32.9ms\n",
      "25:\tlearn: 0.6374859\ttotal: 11.4ms\tremaining: 32.4ms\n",
      "26:\tlearn: 0.6354049\ttotal: 11.7ms\tremaining: 31.7ms\n",
      "27:\tlearn: 0.6335894\ttotal: 12.1ms\tremaining: 31.2ms\n",
      "28:\tlearn: 0.6317705\ttotal: 12.5ms\tremaining: 30.7ms\n",
      "29:\tlearn: 0.6307133\ttotal: 12.8ms\tremaining: 29.9ms\n",
      "30:\tlearn: 0.6291840\ttotal: 13.1ms\tremaining: 29.2ms\n",
      "31:\tlearn: 0.6275794\ttotal: 13.4ms\tremaining: 28.4ms\n",
      "32:\tlearn: 0.6252372\ttotal: 13.8ms\tremaining: 28.1ms\n",
      "33:\tlearn: 0.6236142\ttotal: 14.3ms\tremaining: 27.8ms\n",
      "34:\tlearn: 0.6221743\ttotal: 14.8ms\tremaining: 27.5ms\n",
      "35:\tlearn: 0.6202014\ttotal: 15.3ms\tremaining: 27.3ms\n",
      "36:\tlearn: 0.6182524\ttotal: 15.8ms\tremaining: 26.9ms\n",
      "37:\tlearn: 0.6165395\ttotal: 16.3ms\tremaining: 26.6ms\n",
      "38:\tlearn: 0.6152843\ttotal: 16.6ms\tremaining: 26ms\n",
      "39:\tlearn: 0.6127790\ttotal: 17ms\tremaining: 25.5ms\n",
      "40:\tlearn: 0.6111742\ttotal: 17.5ms\tremaining: 25.1ms\n",
      "41:\tlearn: 0.6088745\ttotal: 17.9ms\tremaining: 24.8ms\n",
      "42:\tlearn: 0.6070356\ttotal: 18.4ms\tremaining: 24.3ms\n",
      "43:\tlearn: 0.6048439\ttotal: 18.9ms\tremaining: 24ms\n",
      "44:\tlearn: 0.6036646\ttotal: 24.8ms\tremaining: 30.4ms\n",
      "45:\tlearn: 0.6019857\ttotal: 25.6ms\tremaining: 30ms\n",
      "46:\tlearn: 0.6003722\ttotal: 26.4ms\tremaining: 29.8ms\n",
      "47:\tlearn: 0.5985208\ttotal: 27.9ms\tremaining: 30.2ms\n",
      "48:\tlearn: 0.5973960\ttotal: 28.4ms\tremaining: 29.5ms\n",
      "49:\tlearn: 0.5958602\ttotal: 28.7ms\tremaining: 28.7ms\n",
      "50:\tlearn: 0.5945226\ttotal: 28.9ms\tremaining: 27.8ms\n",
      "51:\tlearn: 0.5926419\ttotal: 29.4ms\tremaining: 27.2ms\n",
      "52:\tlearn: 0.5912934\ttotal: 29.7ms\tremaining: 26.4ms\n",
      "53:\tlearn: 0.5898410\ttotal: 30.1ms\tremaining: 25.6ms\n",
      "54:\tlearn: 0.5880715\ttotal: 30.4ms\tremaining: 24.8ms\n",
      "55:\tlearn: 0.5875099\ttotal: 30.8ms\tremaining: 24.2ms\n",
      "56:\tlearn: 0.5862563\ttotal: 31.3ms\tremaining: 23.6ms\n",
      "57:\tlearn: 0.5846690\ttotal: 31.6ms\tremaining: 22.9ms\n",
      "58:\tlearn: 0.5836651\ttotal: 32ms\tremaining: 22.3ms\n",
      "59:\tlearn: 0.5822323\ttotal: 32.4ms\tremaining: 21.6ms\n",
      "60:\tlearn: 0.5810845\ttotal: 32.8ms\tremaining: 21ms\n",
      "61:\tlearn: 0.5799607\ttotal: 34.1ms\tremaining: 20.9ms\n",
      "62:\tlearn: 0.5784008\ttotal: 35.7ms\tremaining: 21ms\n",
      "63:\tlearn: 0.5773986\ttotal: 36.2ms\tremaining: 20.4ms\n",
      "64:\tlearn: 0.5760708\ttotal: 36.8ms\tremaining: 19.8ms\n",
      "65:\tlearn: 0.5752855\ttotal: 37ms\tremaining: 19.1ms\n",
      "66:\tlearn: 0.5747894\ttotal: 37.4ms\tremaining: 18.4ms\n",
      "67:\tlearn: 0.5738105\ttotal: 37.7ms\tremaining: 17.7ms\n",
      "68:\tlearn: 0.5723039\ttotal: 38ms\tremaining: 17.1ms\n",
      "69:\tlearn: 0.5705771\ttotal: 38.5ms\tremaining: 16.5ms\n",
      "70:\tlearn: 0.5692815\ttotal: 38.9ms\tremaining: 15.9ms\n",
      "71:\tlearn: 0.5677095\ttotal: 39.3ms\tremaining: 15.3ms\n",
      "72:\tlearn: 0.5670366\ttotal: 39.7ms\tremaining: 14.7ms\n",
      "73:\tlearn: 0.5657132\ttotal: 40ms\tremaining: 14ms\n",
      "74:\tlearn: 0.5639526\ttotal: 40.2ms\tremaining: 13.4ms\n",
      "75:\tlearn: 0.5627651\ttotal: 40.6ms\tremaining: 12.8ms\n",
      "76:\tlearn: 0.5613386\ttotal: 41ms\tremaining: 12.3ms\n",
      "77:\tlearn: 0.5606970\ttotal: 41.4ms\tremaining: 11.7ms\n",
      "78:\tlearn: 0.5591424\ttotal: 41.9ms\tremaining: 11.1ms\n",
      "79:\tlearn: 0.5576933\ttotal: 42.3ms\tremaining: 10.6ms\n",
      "80:\tlearn: 0.5564381\ttotal: 42.9ms\tremaining: 10.1ms\n",
      "81:\tlearn: 0.5551174\ttotal: 43.4ms\tremaining: 9.52ms\n",
      "82:\tlearn: 0.5542431\ttotal: 43.8ms\tremaining: 8.97ms\n",
      "83:\tlearn: 0.5532436\ttotal: 44.2ms\tremaining: 8.42ms\n",
      "84:\tlearn: 0.5520322\ttotal: 44.6ms\tremaining: 7.87ms\n",
      "85:\tlearn: 0.5507469\ttotal: 45ms\tremaining: 7.32ms\n",
      "86:\tlearn: 0.5493785\ttotal: 46.1ms\tremaining: 6.89ms\n",
      "87:\tlearn: 0.5476708\ttotal: 46.7ms\tremaining: 6.37ms\n",
      "88:\tlearn: 0.5464595\ttotal: 47ms\tremaining: 5.82ms\n",
      "89:\tlearn: 0.5451329\ttotal: 47.6ms\tremaining: 5.29ms\n",
      "90:\tlearn: 0.5443495\ttotal: 48ms\tremaining: 4.75ms\n",
      "91:\tlearn: 0.5437139\ttotal: 48.5ms\tremaining: 4.22ms\n",
      "92:\tlearn: 0.5426058\ttotal: 49ms\tremaining: 3.69ms\n",
      "93:\tlearn: 0.5419118\ttotal: 49.5ms\tremaining: 3.16ms\n",
      "94:\tlearn: 0.5404488\ttotal: 49.9ms\tremaining: 2.63ms\n",
      "95:\tlearn: 0.5396666\ttotal: 50.2ms\tremaining: 2.09ms\n",
      "96:\tlearn: 0.5385794\ttotal: 50.9ms\tremaining: 1.57ms\n",
      "97:\tlearn: 0.5374816\ttotal: 51.3ms\tremaining: 1.05ms\n",
      "98:\tlearn: 0.5362501\ttotal: 51.8ms\tremaining: 522us\n",
      "99:\tlearn: 0.5354180\ttotal: 52.3ms\tremaining: 0us\n",
      "Learning rate set to 0.017911\n",
      "0:\tlearn: 0.6912111\ttotal: 599us\tremaining: 59.3ms\n",
      "1:\tlearn: 0.6884048\ttotal: 1.1ms\tremaining: 53.7ms\n",
      "2:\tlearn: 0.6852711\ttotal: 1.6ms\tremaining: 51.6ms\n",
      "3:\tlearn: 0.6827119\ttotal: 2.4ms\tremaining: 57.7ms\n",
      "4:\tlearn: 0.6801923\ttotal: 2.93ms\tremaining: 55.7ms\n",
      "5:\tlearn: 0.6780351\ttotal: 3.34ms\tremaining: 52.3ms\n",
      "6:\tlearn: 0.6755294\ttotal: 3.86ms\tremaining: 51.3ms\n",
      "7:\tlearn: 0.6718522\ttotal: 4.27ms\tremaining: 49.1ms\n",
      "8:\tlearn: 0.6705595\ttotal: 4.75ms\tremaining: 48ms\n",
      "9:\tlearn: 0.6673807\ttotal: 5.23ms\tremaining: 47.1ms\n",
      "10:\tlearn: 0.6651861\ttotal: 5.56ms\tremaining: 45ms\n",
      "11:\tlearn: 0.6630544\ttotal: 6.03ms\tremaining: 44.2ms\n",
      "12:\tlearn: 0.6619369\ttotal: 6.49ms\tremaining: 43.4ms\n",
      "13:\tlearn: 0.6601209\ttotal: 6.94ms\tremaining: 42.6ms\n",
      "14:\tlearn: 0.6582796\ttotal: 7.42ms\tremaining: 42ms\n",
      "15:\tlearn: 0.6559329\ttotal: 7.81ms\tremaining: 41ms\n",
      "16:\tlearn: 0.6544991\ttotal: 8.28ms\tremaining: 40.4ms\n",
      "17:\tlearn: 0.6521408\ttotal: 8.73ms\tremaining: 39.8ms\n",
      "18:\tlearn: 0.6500821\ttotal: 9.12ms\tremaining: 38.9ms\n",
      "19:\tlearn: 0.6481025\ttotal: 9.6ms\tremaining: 38.4ms\n",
      "20:\tlearn: 0.6458751\ttotal: 10.1ms\tremaining: 37.9ms\n",
      "21:\tlearn: 0.6432717\ttotal: 10.5ms\tremaining: 37.3ms\n",
      "22:\tlearn: 0.6411660\ttotal: 10.9ms\tremaining: 36.7ms\n",
      "23:\tlearn: 0.6397807\ttotal: 11.5ms\tremaining: 36.3ms\n",
      "24:\tlearn: 0.6380502\ttotal: 12ms\tremaining: 35.9ms\n",
      "25:\tlearn: 0.6355110\ttotal: 12.4ms\tremaining: 35.4ms\n",
      "26:\tlearn: 0.6348076\ttotal: 12.6ms\tremaining: 34.2ms\n",
      "27:\tlearn: 0.6333241\ttotal: 13.1ms\tremaining: 33.7ms\n",
      "28:\tlearn: 0.6313673\ttotal: 13.6ms\tremaining: 33.2ms\n",
      "29:\tlearn: 0.6303376\ttotal: 13.9ms\tremaining: 32.4ms\n",
      "30:\tlearn: 0.6284175\ttotal: 14.2ms\tremaining: 31.6ms\n",
      "31:\tlearn: 0.6268389\ttotal: 14.5ms\tremaining: 30.7ms\n",
      "32:\tlearn: 0.6254993\ttotal: 15.1ms\tremaining: 30.6ms\n",
      "33:\tlearn: 0.6237365\ttotal: 16ms\tremaining: 31.1ms\n",
      "34:\tlearn: 0.6221720\ttotal: 16.3ms\tremaining: 30.3ms\n",
      "35:\tlearn: 0.6214862\ttotal: 16.8ms\tremaining: 29.9ms\n",
      "36:\tlearn: 0.6204151\ttotal: 17.1ms\tremaining: 29.2ms\n",
      "37:\tlearn: 0.6189287\ttotal: 17.6ms\tremaining: 28.7ms\n",
      "38:\tlearn: 0.6173060\ttotal: 18.1ms\tremaining: 28.3ms\n",
      "39:\tlearn: 0.6158416\ttotal: 18.4ms\tremaining: 27.6ms\n",
      "40:\tlearn: 0.6138706\ttotal: 18.8ms\tremaining: 27ms\n",
      "41:\tlearn: 0.6118773\ttotal: 19.2ms\tremaining: 26.6ms\n",
      "42:\tlearn: 0.6091319\ttotal: 19.7ms\tremaining: 26.1ms\n",
      "43:\tlearn: 0.6070013\ttotal: 20.1ms\tremaining: 25.6ms\n",
      "44:\tlearn: 0.6049356\ttotal: 20.6ms\tremaining: 25.2ms\n",
      "45:\tlearn: 0.6041433\ttotal: 21ms\tremaining: 24.7ms\n",
      "46:\tlearn: 0.6023197\ttotal: 21.5ms\tremaining: 24.2ms\n",
      "47:\tlearn: 0.6004727\ttotal: 21.8ms\tremaining: 23.6ms\n",
      "48:\tlearn: 0.5988813\ttotal: 22.3ms\tremaining: 23.2ms\n",
      "49:\tlearn: 0.5973103\ttotal: 22.7ms\tremaining: 22.7ms\n",
      "50:\tlearn: 0.5958080\ttotal: 23.1ms\tremaining: 22.2ms\n",
      "51:\tlearn: 0.5937242\ttotal: 23.5ms\tremaining: 21.7ms\n",
      "52:\tlearn: 0.5917214\ttotal: 24ms\tremaining: 21.2ms\n",
      "53:\tlearn: 0.5905146\ttotal: 24.4ms\tremaining: 20.8ms\n",
      "54:\tlearn: 0.5891974\ttotal: 24.8ms\tremaining: 20.3ms\n",
      "55:\tlearn: 0.5886599\ttotal: 25.2ms\tremaining: 19.8ms\n",
      "56:\tlearn: 0.5875790\ttotal: 25.7ms\tremaining: 19.4ms\n",
      "57:\tlearn: 0.5859805\ttotal: 26ms\tremaining: 18.8ms\n",
      "58:\tlearn: 0.5846252\ttotal: 26.5ms\tremaining: 18.4ms\n",
      "59:\tlearn: 0.5829704\ttotal: 26.9ms\tremaining: 17.9ms\n",
      "60:\tlearn: 0.5820569\ttotal: 28.9ms\tremaining: 18.5ms\n",
      "61:\tlearn: 0.5809642\ttotal: 29.4ms\tremaining: 18ms\n",
      "62:\tlearn: 0.5792453\ttotal: 29.8ms\tremaining: 17.5ms\n",
      "63:\tlearn: 0.5780558\ttotal: 30.3ms\tremaining: 17.1ms\n",
      "64:\tlearn: 0.5768944\ttotal: 30.9ms\tremaining: 16.6ms\n",
      "65:\tlearn: 0.5754606\ttotal: 31.3ms\tremaining: 16.1ms\n",
      "66:\tlearn: 0.5740263\ttotal: 31.7ms\tremaining: 15.6ms\n",
      "67:\tlearn: 0.5726698\ttotal: 32.1ms\tremaining: 15.1ms\n",
      "68:\tlearn: 0.5708723\ttotal: 32.3ms\tremaining: 14.5ms\n",
      "69:\tlearn: 0.5688478\ttotal: 32.8ms\tremaining: 14ms\n",
      "70:\tlearn: 0.5668865\ttotal: 33.2ms\tremaining: 13.6ms\n",
      "71:\tlearn: 0.5660441\ttotal: 33.7ms\tremaining: 13.1ms\n",
      "72:\tlearn: 0.5644384\ttotal: 34.2ms\tremaining: 12.6ms\n",
      "73:\tlearn: 0.5627350\ttotal: 34.4ms\tremaining: 12.1ms\n",
      "74:\tlearn: 0.5612414\ttotal: 34.8ms\tremaining: 11.6ms\n",
      "75:\tlearn: 0.5600499\ttotal: 35.3ms\tremaining: 11.1ms\n",
      "76:\tlearn: 0.5591067\ttotal: 35.6ms\tremaining: 10.6ms\n",
      "77:\tlearn: 0.5575350\ttotal: 36.1ms\tremaining: 10.2ms\n",
      "78:\tlearn: 0.5561045\ttotal: 36.6ms\tremaining: 9.72ms\n",
      "79:\tlearn: 0.5546850\ttotal: 37ms\tremaining: 9.25ms\n",
      "80:\tlearn: 0.5527323\ttotal: 37.5ms\tremaining: 8.79ms\n",
      "81:\tlearn: 0.5520985\ttotal: 37.9ms\tremaining: 8.32ms\n",
      "82:\tlearn: 0.5511420\ttotal: 38.3ms\tremaining: 7.84ms\n",
      "83:\tlearn: 0.5499613\ttotal: 38.8ms\tremaining: 7.38ms\n",
      "84:\tlearn: 0.5485258\ttotal: 39ms\tremaining: 6.88ms\n",
      "85:\tlearn: 0.5472099\ttotal: 39.3ms\tremaining: 6.39ms\n",
      "86:\tlearn: 0.5462172\ttotal: 39.7ms\tremaining: 5.92ms\n",
      "87:\tlearn: 0.5449774\ttotal: 40.1ms\tremaining: 5.47ms\n",
      "88:\tlearn: 0.5437732\ttotal: 40.8ms\tremaining: 5.04ms\n",
      "89:\tlearn: 0.5430396\ttotal: 41.6ms\tremaining: 4.63ms\n",
      "90:\tlearn: 0.5421436\ttotal: 42.1ms\tremaining: 4.17ms\n",
      "91:\tlearn: 0.5411691\ttotal: 42.6ms\tremaining: 3.7ms\n",
      "92:\tlearn: 0.5403619\ttotal: 42.9ms\tremaining: 3.23ms\n",
      "93:\tlearn: 0.5391688\ttotal: 43.2ms\tremaining: 2.76ms\n",
      "94:\tlearn: 0.5383027\ttotal: 43.6ms\tremaining: 2.29ms\n",
      "95:\tlearn: 0.5370759\ttotal: 43.8ms\tremaining: 1.83ms\n",
      "96:\tlearn: 0.5363616\ttotal: 44.2ms\tremaining: 1.37ms\n",
      "97:\tlearn: 0.5353128\ttotal: 44.6ms\tremaining: 910us\n",
      "98:\tlearn: 0.5345442\ttotal: 45.1ms\tremaining: 455us\n",
      "99:\tlearn: 0.5335531\ttotal: 45.6ms\tremaining: 0us\n"
     ]
    },
    {
     "name": "stdout",
     "output_type": "stream",
     "text": [
      "Learning rate set to 0.017911\n",
      "0:\tlearn: 0.6917647\ttotal: 560us\tremaining: 55.5ms\n",
      "1:\tlearn: 0.6891899\ttotal: 1.03ms\tremaining: 50.6ms\n",
      "2:\tlearn: 0.6870344\ttotal: 1.45ms\tremaining: 47ms\n",
      "3:\tlearn: 0.6852883\ttotal: 1.87ms\tremaining: 44.9ms\n",
      "4:\tlearn: 0.6830908\ttotal: 2.72ms\tremaining: 51.7ms\n",
      "5:\tlearn: 0.6799456\ttotal: 3.44ms\tremaining: 53.8ms\n",
      "6:\tlearn: 0.6781569\ttotal: 3.96ms\tremaining: 52.6ms\n",
      "7:\tlearn: 0.6768798\ttotal: 4.41ms\tremaining: 50.8ms\n",
      "8:\tlearn: 0.6749776\ttotal: 4.83ms\tremaining: 48.9ms\n",
      "9:\tlearn: 0.6736395\ttotal: 5.25ms\tremaining: 47.3ms\n",
      "10:\tlearn: 0.6723894\ttotal: 5.66ms\tremaining: 45.8ms\n",
      "11:\tlearn: 0.6713555\ttotal: 6.09ms\tremaining: 44.7ms\n",
      "12:\tlearn: 0.6700539\ttotal: 6.52ms\tremaining: 43.6ms\n",
      "13:\tlearn: 0.6687419\ttotal: 7.14ms\tremaining: 43.8ms\n",
      "14:\tlearn: 0.6674367\ttotal: 7.69ms\tremaining: 43.6ms\n",
      "15:\tlearn: 0.6663215\ttotal: 8.11ms\tremaining: 42.6ms\n",
      "16:\tlearn: 0.6652387\ttotal: 8.39ms\tremaining: 41ms\n",
      "17:\tlearn: 0.6643580\ttotal: 8.85ms\tremaining: 40.3ms\n",
      "18:\tlearn: 0.6638863\ttotal: 9.16ms\tremaining: 39ms\n",
      "19:\tlearn: 0.6623231\ttotal: 9.62ms\tremaining: 38.5ms\n",
      "20:\tlearn: 0.6598015\ttotal: 9.96ms\tremaining: 37.5ms\n",
      "21:\tlearn: 0.6575843\ttotal: 10.4ms\tremaining: 36.9ms\n",
      "22:\tlearn: 0.6558585\ttotal: 10.8ms\tremaining: 36.2ms\n",
      "23:\tlearn: 0.6545276\ttotal: 11.3ms\tremaining: 35.9ms\n",
      "24:\tlearn: 0.6535132\ttotal: 11.8ms\tremaining: 35.5ms\n",
      "25:\tlearn: 0.6518512\ttotal: 12.2ms\tremaining: 34.8ms\n",
      "26:\tlearn: 0.6502518\ttotal: 12.6ms\tremaining: 34ms\n",
      "27:\tlearn: 0.6486534\ttotal: 12.9ms\tremaining: 33.1ms\n",
      "28:\tlearn: 0.6474276\ttotal: 13.3ms\tremaining: 32.7ms\n",
      "29:\tlearn: 0.6461651\ttotal: 13.9ms\tremaining: 32.3ms\n",
      "30:\tlearn: 0.6450284\ttotal: 14.3ms\tremaining: 31.9ms\n",
      "31:\tlearn: 0.6436615\ttotal: 14.8ms\tremaining: 31.4ms\n",
      "32:\tlearn: 0.6420989\ttotal: 15.5ms\tremaining: 31.4ms\n",
      "33:\tlearn: 0.6414674\ttotal: 16.1ms\tremaining: 31.3ms\n",
      "34:\tlearn: 0.6407693\ttotal: 16.5ms\tremaining: 30.7ms\n",
      "35:\tlearn: 0.6394959\ttotal: 17.1ms\tremaining: 30.3ms\n",
      "36:\tlearn: 0.6383285\ttotal: 17.6ms\tremaining: 29.9ms\n",
      "37:\tlearn: 0.6368685\ttotal: 18.1ms\tremaining: 29.5ms\n",
      "38:\tlearn: 0.6357827\ttotal: 18.6ms\tremaining: 29ms\n",
      "39:\tlearn: 0.6339633\ttotal: 19.1ms\tremaining: 28.7ms\n",
      "40:\tlearn: 0.6325719\ttotal: 19.6ms\tremaining: 28.2ms\n",
      "41:\tlearn: 0.6305267\ttotal: 20.3ms\tremaining: 28ms\n",
      "42:\tlearn: 0.6290484\ttotal: 21ms\tremaining: 27.9ms\n",
      "43:\tlearn: 0.6279356\ttotal: 21.6ms\tremaining: 27.5ms\n",
      "44:\tlearn: 0.6267619\ttotal: 23ms\tremaining: 28.1ms\n",
      "45:\tlearn: 0.6255738\ttotal: 23.6ms\tremaining: 27.7ms\n",
      "46:\tlearn: 0.6245083\ttotal: 24.8ms\tremaining: 27.9ms\n",
      "47:\tlearn: 0.6232950\ttotal: 26.2ms\tremaining: 28.4ms\n",
      "48:\tlearn: 0.6222449\ttotal: 26.5ms\tremaining: 27.6ms\n",
      "49:\tlearn: 0.6210343\ttotal: 27ms\tremaining: 27ms\n",
      "50:\tlearn: 0.6198901\ttotal: 27.2ms\tremaining: 26.2ms\n",
      "51:\tlearn: 0.6186477\ttotal: 27.6ms\tremaining: 25.4ms\n",
      "52:\tlearn: 0.6176901\ttotal: 28.1ms\tremaining: 24.9ms\n",
      "53:\tlearn: 0.6163288\ttotal: 28.5ms\tremaining: 24.3ms\n",
      "54:\tlearn: 0.6156709\ttotal: 28.8ms\tremaining: 23.6ms\n",
      "55:\tlearn: 0.6140768\ttotal: 29.3ms\tremaining: 23ms\n",
      "56:\tlearn: 0.6132876\ttotal: 29.8ms\tremaining: 22.5ms\n",
      "57:\tlearn: 0.6122114\ttotal: 30.3ms\tremaining: 21.9ms\n",
      "58:\tlearn: 0.6111880\ttotal: 30.8ms\tremaining: 21.4ms\n",
      "59:\tlearn: 0.6105414\ttotal: 31.3ms\tremaining: 20.9ms\n",
      "60:\tlearn: 0.6091348\ttotal: 31.8ms\tremaining: 20.4ms\n",
      "61:\tlearn: 0.6084805\ttotal: 32.3ms\tremaining: 19.8ms\n",
      "62:\tlearn: 0.6066200\ttotal: 32.8ms\tremaining: 19.3ms\n",
      "63:\tlearn: 0.6057035\ttotal: 33.3ms\tremaining: 18.7ms\n",
      "64:\tlearn: 0.6051418\ttotal: 33.8ms\tremaining: 18.2ms\n",
      "65:\tlearn: 0.6038998\ttotal: 34ms\tremaining: 17.5ms\n",
      "66:\tlearn: 0.6031556\ttotal: 34.4ms\tremaining: 16.9ms\n",
      "67:\tlearn: 0.6025388\ttotal: 34.9ms\tremaining: 16.4ms\n",
      "68:\tlearn: 0.6021167\ttotal: 35.8ms\tremaining: 16.1ms\n",
      "69:\tlearn: 0.6005762\ttotal: 36.3ms\tremaining: 15.6ms\n",
      "70:\tlearn: 0.5993174\ttotal: 36.6ms\tremaining: 15ms\n",
      "71:\tlearn: 0.5983894\ttotal: 37.3ms\tremaining: 14.5ms\n",
      "72:\tlearn: 0.5977782\ttotal: 37.6ms\tremaining: 13.9ms\n",
      "73:\tlearn: 0.5964114\ttotal: 38.1ms\tremaining: 13.4ms\n",
      "74:\tlearn: 0.5952711\ttotal: 38.4ms\tremaining: 12.8ms\n",
      "75:\tlearn: 0.5942626\ttotal: 38.8ms\tremaining: 12.3ms\n",
      "76:\tlearn: 0.5927375\ttotal: 39.3ms\tremaining: 11.7ms\n",
      "77:\tlearn: 0.5914460\ttotal: 39.8ms\tremaining: 11.2ms\n",
      "78:\tlearn: 0.5904957\ttotal: 40.3ms\tremaining: 10.7ms\n",
      "79:\tlearn: 0.5895443\ttotal: 40.7ms\tremaining: 10.2ms\n",
      "80:\tlearn: 0.5888793\ttotal: 41ms\tremaining: 9.62ms\n",
      "81:\tlearn: 0.5879118\ttotal: 41.5ms\tremaining: 9.1ms\n",
      "82:\tlearn: 0.5868255\ttotal: 41.7ms\tremaining: 8.54ms\n",
      "83:\tlearn: 0.5857323\ttotal: 42ms\tremaining: 8ms\n",
      "84:\tlearn: 0.5847464\ttotal: 42.3ms\tremaining: 7.47ms\n",
      "85:\tlearn: 0.5838014\ttotal: 42.6ms\tremaining: 6.94ms\n",
      "86:\tlearn: 0.5827750\ttotal: 43.1ms\tremaining: 6.45ms\n",
      "87:\tlearn: 0.5818242\ttotal: 43.6ms\tremaining: 5.95ms\n",
      "88:\tlearn: 0.5807339\ttotal: 44.1ms\tremaining: 5.44ms\n",
      "89:\tlearn: 0.5798727\ttotal: 44.5ms\tremaining: 4.95ms\n",
      "90:\tlearn: 0.5794250\ttotal: 44.8ms\tremaining: 4.43ms\n",
      "91:\tlearn: 0.5785253\ttotal: 45.1ms\tremaining: 3.92ms\n",
      "92:\tlearn: 0.5775119\ttotal: 45.5ms\tremaining: 3.43ms\n",
      "93:\tlearn: 0.5765232\ttotal: 46ms\tremaining: 2.94ms\n",
      "94:\tlearn: 0.5761138\ttotal: 46.2ms\tremaining: 2.43ms\n",
      "95:\tlearn: 0.5751532\ttotal: 46.6ms\tremaining: 1.94ms\n",
      "96:\tlearn: 0.5739217\ttotal: 47ms\tremaining: 1.45ms\n",
      "97:\tlearn: 0.5732799\ttotal: 47.5ms\tremaining: 968us\n",
      "98:\tlearn: 0.5724723\ttotal: 47.9ms\tremaining: 484us\n",
      "99:\tlearn: 0.5713802\ttotal: 48.4ms\tremaining: 0us\n",
      "Learning rate set to 0.017911\n",
      "0:\tlearn: 0.6911941\ttotal: 632us\tremaining: 62.6ms\n",
      "1:\tlearn: 0.6894149\ttotal: 1.13ms\tremaining: 55.2ms\n",
      "2:\tlearn: 0.6877823\ttotal: 1.59ms\tremaining: 51.4ms\n",
      "3:\tlearn: 0.6861560\ttotal: 2.06ms\tremaining: 49.6ms\n",
      "4:\tlearn: 0.6843103\ttotal: 2.56ms\tremaining: 48.7ms\n",
      "5:\tlearn: 0.6826166\ttotal: 3.06ms\tremaining: 47.9ms\n",
      "6:\tlearn: 0.6803147\ttotal: 3.86ms\tremaining: 51.2ms\n",
      "7:\tlearn: 0.6785307\ttotal: 4.49ms\tremaining: 51.6ms\n",
      "8:\tlearn: 0.6762939\ttotal: 5.23ms\tremaining: 52.9ms\n",
      "9:\tlearn: 0.6749464\ttotal: 5.67ms\tremaining: 51ms\n",
      "10:\tlearn: 0.6725441\ttotal: 5.96ms\tremaining: 48.3ms\n",
      "11:\tlearn: 0.6705689\ttotal: 6.61ms\tremaining: 48.5ms\n",
      "12:\tlearn: 0.6685444\ttotal: 7.1ms\tremaining: 47.5ms\n",
      "13:\tlearn: 0.6678852\ttotal: 7.58ms\tremaining: 46.6ms\n",
      "14:\tlearn: 0.6659537\ttotal: 8.06ms\tremaining: 45.7ms\n",
      "15:\tlearn: 0.6645711\ttotal: 8.53ms\tremaining: 44.8ms\n",
      "16:\tlearn: 0.6627874\ttotal: 8.84ms\tremaining: 43.2ms\n",
      "17:\tlearn: 0.6623830\ttotal: 9.1ms\tremaining: 41.4ms\n",
      "18:\tlearn: 0.6613160\ttotal: 9.57ms\tremaining: 40.8ms\n",
      "19:\tlearn: 0.6591707\ttotal: 10ms\tremaining: 40.2ms\n",
      "20:\tlearn: 0.6578723\ttotal: 10.5ms\tremaining: 39.5ms\n",
      "21:\tlearn: 0.6560187\ttotal: 10.8ms\tremaining: 38.2ms\n",
      "22:\tlearn: 0.6538669\ttotal: 11.2ms\tremaining: 37.6ms\n",
      "23:\tlearn: 0.6524384\ttotal: 11.7ms\tremaining: 37ms\n",
      "24:\tlearn: 0.6516532\ttotal: 12.2ms\tremaining: 36.5ms\n",
      "25:\tlearn: 0.6505332\ttotal: 12.7ms\tremaining: 36.1ms\n",
      "26:\tlearn: 0.6489931\ttotal: 13.1ms\tremaining: 35.4ms\n",
      "27:\tlearn: 0.6473144\ttotal: 13.4ms\tremaining: 34.4ms\n",
      "28:\tlearn: 0.6456252\ttotal: 13.9ms\tremaining: 34ms\n",
      "29:\tlearn: 0.6438842\ttotal: 14.1ms\tremaining: 33ms\n",
      "30:\tlearn: 0.6424145\ttotal: 14.4ms\tremaining: 32.1ms\n",
      "31:\tlearn: 0.6404372\ttotal: 14.7ms\tremaining: 31.2ms\n",
      "32:\tlearn: 0.6398066\ttotal: 15.1ms\tremaining: 30.6ms\n",
      "33:\tlearn: 0.6379833\ttotal: 16.1ms\tremaining: 31.3ms\n",
      "34:\tlearn: 0.6364868\ttotal: 16.9ms\tremaining: 31.4ms\n",
      "35:\tlearn: 0.6346907\ttotal: 17.3ms\tremaining: 30.8ms\n",
      "36:\tlearn: 0.6331243\ttotal: 17.8ms\tremaining: 30.3ms\n",
      "37:\tlearn: 0.6311523\ttotal: 18.4ms\tremaining: 29.9ms\n",
      "38:\tlearn: 0.6292421\ttotal: 18.9ms\tremaining: 29.6ms\n",
      "39:\tlearn: 0.6281609\ttotal: 19.4ms\tremaining: 29ms\n",
      "40:\tlearn: 0.6267675\ttotal: 19.7ms\tremaining: 28.4ms\n",
      "41:\tlearn: 0.6254680\ttotal: 20.1ms\tremaining: 27.8ms\n",
      "42:\tlearn: 0.6248459\ttotal: 20.3ms\tremaining: 26.9ms\n",
      "43:\tlearn: 0.6240058\ttotal: 20.9ms\tremaining: 26.5ms\n",
      "44:\tlearn: 0.6232783\ttotal: 21.4ms\tremaining: 26.1ms\n",
      "45:\tlearn: 0.6219715\ttotal: 21.7ms\tremaining: 25.5ms\n",
      "46:\tlearn: 0.6199342\ttotal: 22.2ms\tremaining: 25ms\n",
      "47:\tlearn: 0.6188306\ttotal: 22.7ms\tremaining: 24.6ms\n",
      "48:\tlearn: 0.6174183\ttotal: 23ms\tremaining: 23.9ms\n",
      "49:\tlearn: 0.6163554\ttotal: 23.4ms\tremaining: 23.4ms\n",
      "50:\tlearn: 0.6147296\ttotal: 23.6ms\tremaining: 22.7ms\n",
      "51:\tlearn: 0.6131309\ttotal: 23.8ms\tremaining: 22ms\n",
      "52:\tlearn: 0.6115286\ttotal: 24.3ms\tremaining: 21.6ms\n",
      "53:\tlearn: 0.6105045\ttotal: 24.9ms\tremaining: 21.2ms\n",
      "54:\tlearn: 0.6093025\ttotal: 25.2ms\tremaining: 20.6ms\n",
      "55:\tlearn: 0.6083467\ttotal: 25.7ms\tremaining: 20.2ms\n",
      "56:\tlearn: 0.6069655\ttotal: 26.1ms\tremaining: 19.7ms\n",
      "57:\tlearn: 0.6058836\ttotal: 27.7ms\tremaining: 20ms\n",
      "58:\tlearn: 0.6046347\ttotal: 28.6ms\tremaining: 19.9ms\n",
      "59:\tlearn: 0.6030506\ttotal: 28.9ms\tremaining: 19.2ms\n",
      "60:\tlearn: 0.6015480\ttotal: 29.5ms\tremaining: 18.9ms\n",
      "61:\tlearn: 0.6007760\ttotal: 30ms\tremaining: 18.4ms\n",
      "62:\tlearn: 0.5995578\ttotal: 30.2ms\tremaining: 17.8ms\n",
      "63:\tlearn: 0.5984305\ttotal: 30.7ms\tremaining: 17.3ms\n",
      "64:\tlearn: 0.5974719\ttotal: 31.2ms\tremaining: 16.8ms\n",
      "65:\tlearn: 0.5960585\ttotal: 31.6ms\tremaining: 16.3ms\n",
      "66:\tlearn: 0.5953703\ttotal: 32.1ms\tremaining: 15.8ms\n",
      "67:\tlearn: 0.5941753\ttotal: 32.5ms\tremaining: 15.3ms\n",
      "68:\tlearn: 0.5932233\ttotal: 33ms\tremaining: 14.8ms\n",
      "69:\tlearn: 0.5920978\ttotal: 33.4ms\tremaining: 14.3ms\n",
      "70:\tlearn: 0.5913947\ttotal: 33.9ms\tremaining: 13.8ms\n",
      "71:\tlearn: 0.5899693\ttotal: 34.4ms\tremaining: 13.4ms\n",
      "72:\tlearn: 0.5886629\ttotal: 34.8ms\tremaining: 12.9ms\n",
      "73:\tlearn: 0.5875082\ttotal: 35.3ms\tremaining: 12.4ms\n",
      "74:\tlearn: 0.5865228\ttotal: 35.6ms\tremaining: 11.9ms\n",
      "75:\tlearn: 0.5859782\ttotal: 35.9ms\tremaining: 11.3ms\n",
      "76:\tlearn: 0.5855026\ttotal: 36.3ms\tremaining: 10.8ms\n",
      "77:\tlearn: 0.5843506\ttotal: 36.8ms\tremaining: 10.4ms\n",
      "78:\tlearn: 0.5833092\ttotal: 37.1ms\tremaining: 9.86ms\n",
      "79:\tlearn: 0.5822532\ttotal: 37.5ms\tremaining: 9.37ms\n",
      "80:\tlearn: 0.5809023\ttotal: 37.9ms\tremaining: 8.9ms\n",
      "81:\tlearn: 0.5796973\ttotal: 38.4ms\tremaining: 8.43ms\n",
      "82:\tlearn: 0.5791780\ttotal: 38.7ms\tremaining: 7.93ms\n",
      "83:\tlearn: 0.5783897\ttotal: 39.6ms\tremaining: 7.54ms\n",
      "84:\tlearn: 0.5770427\ttotal: 40ms\tremaining: 7.05ms\n",
      "85:\tlearn: 0.5763666\ttotal: 40.6ms\tremaining: 6.6ms\n",
      "86:\tlearn: 0.5747971\ttotal: 41.1ms\tremaining: 6.14ms\n",
      "87:\tlearn: 0.5742570\ttotal: 41.3ms\tremaining: 5.63ms\n",
      "88:\tlearn: 0.5738006\ttotal: 41.6ms\tremaining: 5.14ms\n",
      "89:\tlearn: 0.5728736\ttotal: 41.9ms\tremaining: 4.66ms\n",
      "90:\tlearn: 0.5718567\ttotal: 42.4ms\tremaining: 4.19ms\n",
      "91:\tlearn: 0.5709303\ttotal: 42.8ms\tremaining: 3.72ms\n",
      "92:\tlearn: 0.5697027\ttotal: 43.3ms\tremaining: 3.26ms\n",
      "93:\tlearn: 0.5689585\ttotal: 43.8ms\tremaining: 2.79ms\n",
      "94:\tlearn: 0.5679445\ttotal: 44.3ms\tremaining: 2.33ms\n",
      "95:\tlearn: 0.5675401\ttotal: 44.5ms\tremaining: 1.86ms\n",
      "96:\tlearn: 0.5667303\ttotal: 44.9ms\tremaining: 1.39ms\n",
      "97:\tlearn: 0.5662415\ttotal: 45.4ms\tremaining: 927us\n",
      "98:\tlearn: 0.5654055\ttotal: 45.9ms\tremaining: 463us\n",
      "99:\tlearn: 0.5650708\ttotal: 46.1ms\tremaining: 0us\n"
     ]
    },
    {
     "name": "stdout",
     "output_type": "stream",
     "text": [
      "Learning rate set to 0.017911\n",
      "0:\tlearn: 0.6912112\ttotal: 700us\tremaining: 69.3ms\n",
      "1:\tlearn: 0.6883149\ttotal: 1.79ms\tremaining: 87.7ms\n",
      "2:\tlearn: 0.6857853\ttotal: 2.41ms\tremaining: 78ms\n",
      "3:\tlearn: 0.6836770\ttotal: 2.93ms\tremaining: 70.3ms\n",
      "4:\tlearn: 0.6797176\ttotal: 4.62ms\tremaining: 87.7ms\n",
      "5:\tlearn: 0.6771011\ttotal: 5.16ms\tremaining: 80.8ms\n",
      "6:\tlearn: 0.6741740\ttotal: 5.97ms\tremaining: 79.4ms\n",
      "7:\tlearn: 0.6726722\ttotal: 6.57ms\tremaining: 75.5ms\n",
      "8:\tlearn: 0.6700820\ttotal: 7.28ms\tremaining: 73.6ms\n",
      "9:\tlearn: 0.6676814\ttotal: 7.93ms\tremaining: 71.4ms\n",
      "10:\tlearn: 0.6657488\ttotal: 8.58ms\tremaining: 69.4ms\n",
      "11:\tlearn: 0.6637232\ttotal: 9.08ms\tremaining: 66.6ms\n",
      "12:\tlearn: 0.6618847\ttotal: 9.64ms\tremaining: 64.5ms\n",
      "13:\tlearn: 0.6599970\ttotal: 12.9ms\tremaining: 79ms\n",
      "14:\tlearn: 0.6576076\ttotal: 13.3ms\tremaining: 75.2ms\n",
      "15:\tlearn: 0.6561986\ttotal: 13.8ms\tremaining: 72.3ms\n",
      "16:\tlearn: 0.6538776\ttotal: 14.2ms\tremaining: 69.3ms\n",
      "17:\tlearn: 0.6512989\ttotal: 14.8ms\tremaining: 67.3ms\n",
      "18:\tlearn: 0.6490682\ttotal: 15.3ms\tremaining: 65.2ms\n",
      "19:\tlearn: 0.6466824\ttotal: 15.7ms\tremaining: 62.8ms\n",
      "20:\tlearn: 0.6443065\ttotal: 16.2ms\tremaining: 61ms\n",
      "21:\tlearn: 0.6415616\ttotal: 16.7ms\tremaining: 59.1ms\n",
      "22:\tlearn: 0.6387215\ttotal: 17.2ms\tremaining: 57.4ms\n",
      "23:\tlearn: 0.6375522\ttotal: 17.7ms\tremaining: 55.9ms\n",
      "24:\tlearn: 0.6352216\ttotal: 18.1ms\tremaining: 54.4ms\n",
      "25:\tlearn: 0.6334732\ttotal: 18.4ms\tremaining: 52.5ms\n",
      "26:\tlearn: 0.6316736\ttotal: 18.9ms\tremaining: 51.1ms\n",
      "27:\tlearn: 0.6301390\ttotal: 19.4ms\tremaining: 49.9ms\n",
      "28:\tlearn: 0.6283052\ttotal: 19.8ms\tremaining: 48.4ms\n",
      "29:\tlearn: 0.6266797\ttotal: 20ms\tremaining: 46.8ms\n",
      "30:\tlearn: 0.6248062\ttotal: 20.5ms\tremaining: 45.6ms\n",
      "31:\tlearn: 0.6232973\ttotal: 21ms\tremaining: 44.6ms\n",
      "32:\tlearn: 0.6218763\ttotal: 21.4ms\tremaining: 43.5ms\n",
      "33:\tlearn: 0.6196816\ttotal: 21.9ms\tremaining: 42.5ms\n",
      "34:\tlearn: 0.6175378\ttotal: 22.4ms\tremaining: 41.6ms\n",
      "35:\tlearn: 0.6160654\ttotal: 22.8ms\tremaining: 40.6ms\n",
      "36:\tlearn: 0.6145666\ttotal: 25.4ms\tremaining: 43.3ms\n",
      "37:\tlearn: 0.6129161\ttotal: 25.9ms\tremaining: 42.2ms\n",
      "38:\tlearn: 0.6110141\ttotal: 26.4ms\tremaining: 41.2ms\n",
      "39:\tlearn: 0.6088735\ttotal: 26.9ms\tremaining: 40.4ms\n",
      "40:\tlearn: 0.6071465\ttotal: 27.5ms\tremaining: 39.5ms\n",
      "41:\tlearn: 0.6050243\ttotal: 27.9ms\tremaining: 38.5ms\n",
      "42:\tlearn: 0.6034033\ttotal: 28.5ms\tremaining: 37.7ms\n",
      "43:\tlearn: 0.6022787\ttotal: 29ms\tremaining: 36.9ms\n",
      "44:\tlearn: 0.6006643\ttotal: 29.5ms\tremaining: 36ms\n",
      "45:\tlearn: 0.5993976\ttotal: 29.9ms\tremaining: 35.1ms\n",
      "46:\tlearn: 0.5981803\ttotal: 30.4ms\tremaining: 34.3ms\n",
      "47:\tlearn: 0.5960843\ttotal: 30.7ms\tremaining: 33.3ms\n",
      "48:\tlearn: 0.5947218\ttotal: 31ms\tremaining: 32.3ms\n",
      "49:\tlearn: 0.5934982\ttotal: 31.5ms\tremaining: 31.5ms\n",
      "50:\tlearn: 0.5918355\ttotal: 31.8ms\tremaining: 30.6ms\n",
      "51:\tlearn: 0.5896773\ttotal: 32.1ms\tremaining: 29.6ms\n",
      "52:\tlearn: 0.5882070\ttotal: 32.6ms\tremaining: 28.9ms\n",
      "53:\tlearn: 0.5866945\ttotal: 33.1ms\tremaining: 28.2ms\n",
      "54:\tlearn: 0.5850589\ttotal: 33.4ms\tremaining: 27.4ms\n",
      "55:\tlearn: 0.5835718\ttotal: 33.9ms\tremaining: 26.7ms\n",
      "56:\tlearn: 0.5821340\ttotal: 34.3ms\tremaining: 25.9ms\n",
      "57:\tlearn: 0.5811842\ttotal: 34.7ms\tremaining: 25.1ms\n",
      "58:\tlearn: 0.5800667\ttotal: 35.1ms\tremaining: 24.4ms\n",
      "59:\tlearn: 0.5786330\ttotal: 35.6ms\tremaining: 23.7ms\n",
      "60:\tlearn: 0.5770424\ttotal: 36ms\tremaining: 23ms\n",
      "61:\tlearn: 0.5753489\ttotal: 37.1ms\tremaining: 22.7ms\n",
      "62:\tlearn: 0.5745714\ttotal: 38.6ms\tremaining: 22.7ms\n",
      "63:\tlearn: 0.5732298\ttotal: 39ms\tremaining: 21.9ms\n",
      "64:\tlearn: 0.5719226\ttotal: 39.5ms\tremaining: 21.3ms\n",
      "65:\tlearn: 0.5696603\ttotal: 40ms\tremaining: 20.6ms\n",
      "66:\tlearn: 0.5682481\ttotal: 40.5ms\tremaining: 20ms\n",
      "67:\tlearn: 0.5666891\ttotal: 40.8ms\tremaining: 19.2ms\n",
      "68:\tlearn: 0.5659454\ttotal: 41.3ms\tremaining: 18.6ms\n",
      "69:\tlearn: 0.5643558\ttotal: 41.7ms\tremaining: 17.9ms\n",
      "70:\tlearn: 0.5625917\ttotal: 41.9ms\tremaining: 17.1ms\n",
      "71:\tlearn: 0.5613000\ttotal: 42.2ms\tremaining: 16.4ms\n",
      "72:\tlearn: 0.5605739\ttotal: 42.7ms\tremaining: 15.8ms\n",
      "73:\tlearn: 0.5589118\ttotal: 43ms\tremaining: 15.1ms\n",
      "74:\tlearn: 0.5574447\ttotal: 43.5ms\tremaining: 14.5ms\n",
      "75:\tlearn: 0.5559702\ttotal: 44ms\tremaining: 13.9ms\n",
      "76:\tlearn: 0.5547790\ttotal: 44.4ms\tremaining: 13.3ms\n",
      "77:\tlearn: 0.5528618\ttotal: 44.9ms\tremaining: 12.7ms\n",
      "78:\tlearn: 0.5519237\ttotal: 45.4ms\tremaining: 12.1ms\n",
      "79:\tlearn: 0.5509172\ttotal: 45.8ms\tremaining: 11.4ms\n",
      "80:\tlearn: 0.5495332\ttotal: 46.3ms\tremaining: 10.8ms\n",
      "81:\tlearn: 0.5485175\ttotal: 46.6ms\tremaining: 10.2ms\n",
      "82:\tlearn: 0.5469441\ttotal: 46.9ms\tremaining: 9.61ms\n",
      "83:\tlearn: 0.5458966\ttotal: 47.3ms\tremaining: 9.01ms\n",
      "84:\tlearn: 0.5440276\ttotal: 47.7ms\tremaining: 8.43ms\n",
      "85:\tlearn: 0.5427032\ttotal: 48.2ms\tremaining: 7.85ms\n",
      "86:\tlearn: 0.5407798\ttotal: 48.7ms\tremaining: 7.28ms\n",
      "87:\tlearn: 0.5394245\ttotal: 49ms\tremaining: 6.69ms\n",
      "88:\tlearn: 0.5379485\ttotal: 49.6ms\tremaining: 6.13ms\n",
      "89:\tlearn: 0.5366462\ttotal: 50.1ms\tremaining: 5.57ms\n",
      "90:\tlearn: 0.5355302\ttotal: 50.6ms\tremaining: 5.01ms\n",
      "91:\tlearn: 0.5342472\ttotal: 50.9ms\tremaining: 4.42ms\n",
      "92:\tlearn: 0.5332870\ttotal: 51.2ms\tremaining: 3.85ms\n",
      "93:\tlearn: 0.5322224\ttotal: 51.7ms\tremaining: 3.3ms\n",
      "94:\tlearn: 0.5303748\ttotal: 52.1ms\tremaining: 2.74ms\n",
      "95:\tlearn: 0.5289228\ttotal: 52.6ms\tremaining: 2.19ms\n",
      "96:\tlearn: 0.5274291\ttotal: 53ms\tremaining: 1.64ms\n",
      "97:\tlearn: 0.5261007\ttotal: 53.5ms\tremaining: 1.09ms\n",
      "98:\tlearn: 0.5251913\ttotal: 54ms\tremaining: 544us\n",
      "99:\tlearn: 0.5243738\ttotal: 54.4ms\tremaining: 0us\n",
      "Learning rate set to 0.017911\n",
      "0:\tlearn: 0.6910863\ttotal: 567us\tremaining: 56.2ms\n",
      "1:\tlearn: 0.6888099\ttotal: 1.08ms\tremaining: 53ms\n",
      "2:\tlearn: 0.6866004\ttotal: 1.56ms\tremaining: 50.6ms\n",
      "3:\tlearn: 0.6845138\ttotal: 2.06ms\tremaining: 49.4ms\n",
      "4:\tlearn: 0.6813723\ttotal: 2.54ms\tremaining: 48.3ms\n",
      "5:\tlearn: 0.6787765\ttotal: 3ms\tremaining: 47ms\n",
      "6:\tlearn: 0.6764663\ttotal: 3.48ms\tremaining: 46.3ms\n",
      "7:\tlearn: 0.6745755\ttotal: 4.05ms\tremaining: 46.5ms\n",
      "8:\tlearn: 0.6728969\ttotal: 4.53ms\tremaining: 45.8ms\n",
      "9:\tlearn: 0.6701608\ttotal: 4.92ms\tremaining: 44.3ms\n",
      "10:\tlearn: 0.6680264\ttotal: 5.4ms\tremaining: 43.7ms\n",
      "11:\tlearn: 0.6662682\ttotal: 5.89ms\tremaining: 43.2ms\n",
      "12:\tlearn: 0.6645404\ttotal: 6.37ms\tremaining: 42.6ms\n",
      "13:\tlearn: 0.6627763\ttotal: 6.87ms\tremaining: 42.2ms\n",
      "14:\tlearn: 0.6611272\ttotal: 7.33ms\tremaining: 41.5ms\n",
      "15:\tlearn: 0.6592037\ttotal: 7.82ms\tremaining: 41.1ms\n",
      "16:\tlearn: 0.6571829\ttotal: 8.31ms\tremaining: 40.6ms\n",
      "17:\tlearn: 0.6551692\ttotal: 8.76ms\tremaining: 39.9ms\n",
      "18:\tlearn: 0.6534461\ttotal: 9.23ms\tremaining: 39.3ms\n",
      "19:\tlearn: 0.6514170\ttotal: 9.68ms\tremaining: 38.7ms\n",
      "20:\tlearn: 0.6490878\ttotal: 10.1ms\tremaining: 38.2ms\n",
      "21:\tlearn: 0.6468963\ttotal: 10.6ms\tremaining: 37.7ms\n",
      "22:\tlearn: 0.6451595\ttotal: 10.9ms\tremaining: 36.5ms\n",
      "23:\tlearn: 0.6435006\ttotal: 11.4ms\tremaining: 36.1ms\n",
      "24:\tlearn: 0.6421464\ttotal: 11.9ms\tremaining: 35.6ms\n",
      "25:\tlearn: 0.6401921\ttotal: 12.3ms\tremaining: 34.9ms\n",
      "26:\tlearn: 0.6384692\ttotal: 12.6ms\tremaining: 34ms\n",
      "27:\tlearn: 0.6368139\ttotal: 13.1ms\tremaining: 33.6ms\n",
      "28:\tlearn: 0.6352423\ttotal: 13.5ms\tremaining: 33.1ms\n",
      "29:\tlearn: 0.6333402\ttotal: 13.8ms\tremaining: 32.3ms\n",
      "30:\tlearn: 0.6317901\ttotal: 14.1ms\tremaining: 31.4ms\n",
      "31:\tlearn: 0.6299443\ttotal: 14.6ms\tremaining: 31ms\n",
      "32:\tlearn: 0.6287304\ttotal: 15.1ms\tremaining: 30.6ms\n",
      "33:\tlearn: 0.6272868\ttotal: 15.6ms\tremaining: 30.2ms\n",
      "34:\tlearn: 0.6253768\ttotal: 16.1ms\tremaining: 29.8ms\n",
      "35:\tlearn: 0.6239499\ttotal: 16.6ms\tremaining: 29.5ms\n",
      "36:\tlearn: 0.6226054\ttotal: 17.5ms\tremaining: 29.8ms\n",
      "37:\tlearn: 0.6210862\ttotal: 17.9ms\tremaining: 29.2ms\n",
      "38:\tlearn: 0.6192411\ttotal: 18.3ms\tremaining: 28.5ms\n",
      "39:\tlearn: 0.6183094\ttotal: 18.8ms\tremaining: 28.1ms\n",
      "40:\tlearn: 0.6166664\ttotal: 19.2ms\tremaining: 27.7ms\n",
      "41:\tlearn: 0.6150447\ttotal: 19.7ms\tremaining: 27.2ms\n",
      "42:\tlearn: 0.6138321\ttotal: 20.2ms\tremaining: 26.7ms\n",
      "43:\tlearn: 0.6129571\ttotal: 20.6ms\tremaining: 26.3ms\n",
      "44:\tlearn: 0.6111176\ttotal: 21.1ms\tremaining: 25.8ms\n",
      "45:\tlearn: 0.6096299\ttotal: 21.5ms\tremaining: 25.2ms\n",
      "46:\tlearn: 0.6081098\ttotal: 21.9ms\tremaining: 24.8ms\n",
      "47:\tlearn: 0.6069753\ttotal: 22.4ms\tremaining: 24.3ms\n",
      "48:\tlearn: 0.6054018\ttotal: 22.7ms\tremaining: 23.7ms\n",
      "49:\tlearn: 0.6043883\ttotal: 23.2ms\tremaining: 23.2ms\n",
      "50:\tlearn: 0.6031070\ttotal: 23.5ms\tremaining: 22.6ms\n",
      "51:\tlearn: 0.6017998\ttotal: 23.8ms\tremaining: 21.9ms\n",
      "52:\tlearn: 0.6003730\ttotal: 24.1ms\tremaining: 21.4ms\n",
      "53:\tlearn: 0.5982767\ttotal: 24.4ms\tremaining: 20.8ms\n",
      "54:\tlearn: 0.5978495\ttotal: 24.9ms\tremaining: 20.3ms\n",
      "55:\tlearn: 0.5964090\ttotal: 25.3ms\tremaining: 19.9ms\n",
      "56:\tlearn: 0.5948666\ttotal: 25.7ms\tremaining: 19.4ms\n",
      "57:\tlearn: 0.5935422\ttotal: 26.2ms\tremaining: 19ms\n",
      "58:\tlearn: 0.5922293\ttotal: 26.6ms\tremaining: 18.5ms\n",
      "59:\tlearn: 0.5912144\ttotal: 27ms\tremaining: 18ms\n",
      "60:\tlearn: 0.5901639\ttotal: 27.5ms\tremaining: 17.6ms\n",
      "61:\tlearn: 0.5889094\ttotal: 27.9ms\tremaining: 17.1ms\n",
      "62:\tlearn: 0.5877309\ttotal: 28.4ms\tremaining: 16.7ms\n",
      "63:\tlearn: 0.5866464\ttotal: 28.9ms\tremaining: 16.3ms\n",
      "64:\tlearn: 0.5855463\ttotal: 29.5ms\tremaining: 15.9ms\n",
      "65:\tlearn: 0.5842150\ttotal: 29.9ms\tremaining: 15.4ms\n",
      "66:\tlearn: 0.5833953\ttotal: 30.4ms\tremaining: 15ms\n",
      "67:\tlearn: 0.5818207\ttotal: 30.9ms\tremaining: 14.5ms\n",
      "68:\tlearn: 0.5809051\ttotal: 31.4ms\tremaining: 14.1ms\n",
      "69:\tlearn: 0.5794428\ttotal: 31.6ms\tremaining: 13.5ms\n",
      "70:\tlearn: 0.5785220\ttotal: 32.1ms\tremaining: 13.1ms\n",
      "71:\tlearn: 0.5770854\ttotal: 32.4ms\tremaining: 12.6ms\n",
      "72:\tlearn: 0.5753935\ttotal: 32.7ms\tremaining: 12.1ms\n",
      "73:\tlearn: 0.5741417\ttotal: 33ms\tremaining: 11.6ms\n",
      "74:\tlearn: 0.5733128\ttotal: 33.5ms\tremaining: 11.2ms\n",
      "75:\tlearn: 0.5721314\ttotal: 33.9ms\tremaining: 10.7ms\n",
      "76:\tlearn: 0.5709533\ttotal: 34.4ms\tremaining: 10.3ms\n",
      "77:\tlearn: 0.5695711\ttotal: 34.8ms\tremaining: 9.81ms\n",
      "78:\tlearn: 0.5685243\ttotal: 35.2ms\tremaining: 9.37ms\n",
      "79:\tlearn: 0.5672712\ttotal: 35.7ms\tremaining: 8.93ms\n",
      "80:\tlearn: 0.5663657\ttotal: 36ms\tremaining: 8.44ms\n",
      "81:\tlearn: 0.5653453\ttotal: 36.2ms\tremaining: 7.95ms\n",
      "82:\tlearn: 0.5643824\ttotal: 36.6ms\tremaining: 7.5ms\n",
      "83:\tlearn: 0.5629455\ttotal: 37.1ms\tremaining: 7.07ms\n",
      "84:\tlearn: 0.5615298\ttotal: 37.4ms\tremaining: 6.59ms\n",
      "85:\tlearn: 0.5602980\ttotal: 37.6ms\tremaining: 6.12ms\n",
      "86:\tlearn: 0.5593144\ttotal: 38ms\tremaining: 5.68ms\n",
      "87:\tlearn: 0.5580993\ttotal: 38.3ms\tremaining: 5.22ms\n",
      "88:\tlearn: 0.5568762\ttotal: 38.8ms\tremaining: 4.79ms\n",
      "89:\tlearn: 0.5561371\ttotal: 39.2ms\tremaining: 4.36ms\n",
      "90:\tlearn: 0.5551020\ttotal: 39.7ms\tremaining: 3.93ms\n",
      "91:\tlearn: 0.5542610\ttotal: 40.2ms\tremaining: 3.5ms\n",
      "92:\tlearn: 0.5538695\ttotal: 40.5ms\tremaining: 3.05ms\n",
      "93:\tlearn: 0.5527551\ttotal: 40.8ms\tremaining: 2.6ms\n",
      "94:\tlearn: 0.5517524\ttotal: 41.2ms\tremaining: 2.17ms\n",
      "95:\tlearn: 0.5507894\ttotal: 41.5ms\tremaining: 1.73ms\n",
      "96:\tlearn: 0.5498990\ttotal: 42.2ms\tremaining: 1.3ms\n",
      "97:\tlearn: 0.5490171\ttotal: 42.8ms\tremaining: 873us\n",
      "98:\tlearn: 0.5481416\ttotal: 43.4ms\tremaining: 438us\n",
      "99:\tlearn: 0.5475689\ttotal: 44ms\tremaining: 0us\n"
     ]
    },
    {
     "name": "stdout",
     "output_type": "stream",
     "text": [
      "Learning rate set to 0.017911\n",
      "0:\tlearn: 0.6910862\ttotal: 587us\tremaining: 58.1ms\n",
      "1:\tlearn: 0.6881379\ttotal: 1.17ms\tremaining: 57.5ms\n",
      "2:\tlearn: 0.6847039\ttotal: 1.66ms\tremaining: 53.7ms\n",
      "3:\tlearn: 0.6822872\ttotal: 2.11ms\tremaining: 50.7ms\n",
      "4:\tlearn: 0.6797713\ttotal: 2.52ms\tremaining: 47.8ms\n",
      "5:\tlearn: 0.6764818\ttotal: 3.01ms\tremaining: 47.2ms\n",
      "6:\tlearn: 0.6741862\ttotal: 3.45ms\tremaining: 45.8ms\n",
      "7:\tlearn: 0.6716157\ttotal: 3.9ms\tremaining: 44.8ms\n",
      "8:\tlearn: 0.6702225\ttotal: 4.43ms\tremaining: 44.8ms\n",
      "9:\tlearn: 0.6679565\ttotal: 4.89ms\tremaining: 44ms\n",
      "10:\tlearn: 0.6663093\ttotal: 5.16ms\tremaining: 41.8ms\n",
      "11:\tlearn: 0.6635985\ttotal: 5.63ms\tremaining: 41.3ms\n",
      "12:\tlearn: 0.6615386\ttotal: 6.07ms\tremaining: 40.6ms\n",
      "13:\tlearn: 0.6598119\ttotal: 6.54ms\tremaining: 40.2ms\n",
      "14:\tlearn: 0.6562228\ttotal: 6.84ms\tremaining: 38.8ms\n",
      "15:\tlearn: 0.6546192\ttotal: 7.34ms\tremaining: 38.5ms\n",
      "16:\tlearn: 0.6525738\ttotal: 7.82ms\tremaining: 38.2ms\n",
      "17:\tlearn: 0.6504741\ttotal: 8.27ms\tremaining: 37.7ms\n",
      "18:\tlearn: 0.6485082\ttotal: 8.93ms\tremaining: 38.1ms\n",
      "19:\tlearn: 0.6466801\ttotal: 9.45ms\tremaining: 37.8ms\n",
      "20:\tlearn: 0.6442548\ttotal: 9.97ms\tremaining: 37.5ms\n",
      "21:\tlearn: 0.6420859\ttotal: 10.5ms\tremaining: 37.2ms\n",
      "22:\tlearn: 0.6400021\ttotal: 11ms\tremaining: 36.7ms\n",
      "23:\tlearn: 0.6383178\ttotal: 11.2ms\tremaining: 35.5ms\n",
      "24:\tlearn: 0.6363305\ttotal: 11.8ms\tremaining: 35.3ms\n",
      "25:\tlearn: 0.6345313\ttotal: 12.2ms\tremaining: 34.7ms\n",
      "26:\tlearn: 0.6320871\ttotal: 12.7ms\tremaining: 34.2ms\n",
      "27:\tlearn: 0.6304363\ttotal: 13ms\tremaining: 33.4ms\n",
      "28:\tlearn: 0.6288475\ttotal: 13.5ms\tremaining: 33ms\n",
      "29:\tlearn: 0.6273419\ttotal: 14ms\tremaining: 32.6ms\n",
      "30:\tlearn: 0.6254902\ttotal: 14.3ms\tremaining: 31.8ms\n",
      "31:\tlearn: 0.6239954\ttotal: 14.6ms\tremaining: 31ms\n",
      "32:\tlearn: 0.6226448\ttotal: 15.1ms\tremaining: 30.6ms\n",
      "33:\tlearn: 0.6209072\ttotal: 15.5ms\tremaining: 30.2ms\n",
      "34:\tlearn: 0.6193948\ttotal: 16ms\tremaining: 29.7ms\n",
      "35:\tlearn: 0.6181670\ttotal: 16.4ms\tremaining: 29.2ms\n",
      "36:\tlearn: 0.6167742\ttotal: 16.8ms\tremaining: 28.6ms\n",
      "37:\tlearn: 0.6155565\ttotal: 17.2ms\tremaining: 28ms\n",
      "38:\tlearn: 0.6141921\ttotal: 17.7ms\tremaining: 27.6ms\n",
      "39:\tlearn: 0.6127858\ttotal: 17.9ms\tremaining: 26.9ms\n",
      "40:\tlearn: 0.6109791\ttotal: 18.3ms\tremaining: 26.3ms\n",
      "41:\tlearn: 0.6098490\ttotal: 20.2ms\tremaining: 27.9ms\n",
      "42:\tlearn: 0.6078556\ttotal: 21.1ms\tremaining: 27.9ms\n",
      "43:\tlearn: 0.6062907\ttotal: 21.8ms\tremaining: 27.7ms\n",
      "44:\tlearn: 0.6049622\ttotal: 22.3ms\tremaining: 27.3ms\n",
      "45:\tlearn: 0.6041306\ttotal: 23.3ms\tremaining: 27.4ms\n",
      "46:\tlearn: 0.6020697\ttotal: 23.9ms\tremaining: 27ms\n",
      "47:\tlearn: 0.6003071\ttotal: 24.3ms\tremaining: 26.4ms\n",
      "48:\tlearn: 0.5988401\ttotal: 24.8ms\tremaining: 25.8ms\n",
      "49:\tlearn: 0.5972529\ttotal: 25.3ms\tremaining: 25.3ms\n",
      "50:\tlearn: 0.5957518\ttotal: 25.6ms\tremaining: 24.6ms\n",
      "51:\tlearn: 0.5939391\ttotal: 26ms\tremaining: 24ms\n",
      "52:\tlearn: 0.5921308\ttotal: 26.5ms\tremaining: 23.5ms\n",
      "53:\tlearn: 0.5907299\ttotal: 27ms\tremaining: 23ms\n",
      "54:\tlearn: 0.5894333\ttotal: 27.3ms\tremaining: 22.4ms\n",
      "55:\tlearn: 0.5890247\ttotal: 27.8ms\tremaining: 21.8ms\n",
      "56:\tlearn: 0.5879010\ttotal: 28.2ms\tremaining: 21.3ms\n",
      "57:\tlearn: 0.5859700\ttotal: 28.6ms\tremaining: 20.7ms\n",
      "58:\tlearn: 0.5847738\ttotal: 29.1ms\tremaining: 20.2ms\n",
      "59:\tlearn: 0.5832014\ttotal: 29.4ms\tremaining: 19.6ms\n",
      "60:\tlearn: 0.5817117\ttotal: 29.8ms\tremaining: 19.1ms\n",
      "61:\tlearn: 0.5807054\ttotal: 30.3ms\tremaining: 18.6ms\n",
      "62:\tlearn: 0.5790803\ttotal: 30.8ms\tremaining: 18.1ms\n",
      "63:\tlearn: 0.5779537\ttotal: 31.3ms\tremaining: 17.6ms\n",
      "64:\tlearn: 0.5766560\ttotal: 32.3ms\tremaining: 17.4ms\n",
      "65:\tlearn: 0.5754086\ttotal: 32.9ms\tremaining: 16.9ms\n",
      "66:\tlearn: 0.5741388\ttotal: 33.4ms\tremaining: 16.5ms\n",
      "67:\tlearn: 0.5729512\ttotal: 33.9ms\tremaining: 15.9ms\n",
      "68:\tlearn: 0.5715674\ttotal: 34.4ms\tremaining: 15.5ms\n",
      "69:\tlearn: 0.5704716\ttotal: 34.9ms\tremaining: 15ms\n",
      "70:\tlearn: 0.5692081\ttotal: 35.5ms\tremaining: 14.5ms\n",
      "71:\tlearn: 0.5678498\ttotal: 36ms\tremaining: 14ms\n",
      "72:\tlearn: 0.5661628\ttotal: 36.3ms\tremaining: 13.4ms\n",
      "73:\tlearn: 0.5645966\ttotal: 36.7ms\tremaining: 12.9ms\n",
      "74:\tlearn: 0.5637636\ttotal: 37.2ms\tremaining: 12.4ms\n",
      "75:\tlearn: 0.5622805\ttotal: 37.5ms\tremaining: 11.8ms\n",
      "76:\tlearn: 0.5609826\ttotal: 37.9ms\tremaining: 11.3ms\n",
      "77:\tlearn: 0.5600007\ttotal: 38.4ms\tremaining: 10.8ms\n",
      "78:\tlearn: 0.5589626\ttotal: 38.9ms\tremaining: 10.3ms\n",
      "79:\tlearn: 0.5577371\ttotal: 39.4ms\tremaining: 9.84ms\n",
      "80:\tlearn: 0.5564954\ttotal: 39.8ms\tremaining: 9.35ms\n",
      "81:\tlearn: 0.5559527\ttotal: 40.3ms\tremaining: 8.85ms\n",
      "82:\tlearn: 0.5550895\ttotal: 40.6ms\tremaining: 8.32ms\n",
      "83:\tlearn: 0.5539393\ttotal: 41.1ms\tremaining: 7.83ms\n",
      "84:\tlearn: 0.5525733\ttotal: 41.4ms\tremaining: 7.3ms\n",
      "85:\tlearn: 0.5513619\ttotal: 41.7ms\tremaining: 6.78ms\n",
      "86:\tlearn: 0.5503888\ttotal: 42.1ms\tremaining: 6.28ms\n",
      "87:\tlearn: 0.5492150\ttotal: 42.4ms\tremaining: 5.78ms\n",
      "88:\tlearn: 0.5481454\ttotal: 42.9ms\tremaining: 5.3ms\n",
      "89:\tlearn: 0.5474911\ttotal: 43.3ms\tremaining: 4.81ms\n",
      "90:\tlearn: 0.5464388\ttotal: 43.8ms\tremaining: 4.33ms\n",
      "91:\tlearn: 0.5454354\ttotal: 45ms\tremaining: 3.92ms\n",
      "92:\tlearn: 0.5450656\ttotal: 45.3ms\tremaining: 3.41ms\n",
      "93:\tlearn: 0.5439761\ttotal: 45.8ms\tremaining: 2.92ms\n",
      "94:\tlearn: 0.5431118\ttotal: 46.3ms\tremaining: 2.44ms\n",
      "95:\tlearn: 0.5421747\ttotal: 46.6ms\tremaining: 1.94ms\n",
      "96:\tlearn: 0.5413052\ttotal: 46.9ms\tremaining: 1.45ms\n",
      "97:\tlearn: 0.5404460\ttotal: 47.3ms\tremaining: 964us\n",
      "98:\tlearn: 0.5398677\ttotal: 47.8ms\tremaining: 482us\n",
      "99:\tlearn: 0.5389904\ttotal: 48.2ms\tremaining: 0us\n",
      "Learning rate set to 0.018202\n",
      "0:\tlearn: 0.6916690\ttotal: 611us\tremaining: 60.5ms\n",
      "1:\tlearn: 0.6893461\ttotal: 1.11ms\tremaining: 54.2ms\n",
      "2:\tlearn: 0.6865529\ttotal: 1.6ms\tremaining: 51.7ms\n",
      "3:\tlearn: 0.6841669\ttotal: 2.1ms\tremaining: 50.3ms\n",
      "4:\tlearn: 0.6813488\ttotal: 2.58ms\tremaining: 49.1ms\n",
      "5:\tlearn: 0.6785151\ttotal: 3.06ms\tremaining: 47.9ms\n",
      "6:\tlearn: 0.6759021\ttotal: 3.43ms\tremaining: 45.6ms\n",
      "7:\tlearn: 0.6731156\ttotal: 3.88ms\tremaining: 44.6ms\n",
      "8:\tlearn: 0.6718235\ttotal: 4.37ms\tremaining: 44.2ms\n",
      "9:\tlearn: 0.6699908\ttotal: 4.82ms\tremaining: 43.4ms\n",
      "10:\tlearn: 0.6686862\ttotal: 5.13ms\tremaining: 41.5ms\n",
      "11:\tlearn: 0.6656866\ttotal: 6.4ms\tremaining: 46.9ms\n",
      "12:\tlearn: 0.6637825\ttotal: 7.09ms\tremaining: 47.4ms\n",
      "13:\tlearn: 0.6616739\ttotal: 7.68ms\tremaining: 47.2ms\n",
      "14:\tlearn: 0.6586453\ttotal: 7.97ms\tremaining: 45.2ms\n",
      "15:\tlearn: 0.6567636\ttotal: 8.47ms\tremaining: 44.5ms\n",
      "16:\tlearn: 0.6539123\ttotal: 8.96ms\tremaining: 43.7ms\n",
      "17:\tlearn: 0.6516494\ttotal: 9.43ms\tremaining: 43ms\n",
      "18:\tlearn: 0.6490855\ttotal: 9.89ms\tremaining: 42.2ms\n",
      "19:\tlearn: 0.6473825\ttotal: 10.4ms\tremaining: 41.4ms\n",
      "20:\tlearn: 0.6446258\ttotal: 10.8ms\tremaining: 40.8ms\n",
      "21:\tlearn: 0.6422387\ttotal: 11.3ms\tremaining: 40.2ms\n",
      "22:\tlearn: 0.6399484\ttotal: 11.8ms\tremaining: 39.5ms\n",
      "23:\tlearn: 0.6381636\ttotal: 12.3ms\tremaining: 38.8ms\n",
      "24:\tlearn: 0.6362585\ttotal: 12.7ms\tremaining: 38.2ms\n",
      "25:\tlearn: 0.6333280\ttotal: 13.2ms\tremaining: 37.7ms\n",
      "26:\tlearn: 0.6324382\ttotal: 13.5ms\tremaining: 36.6ms\n",
      "27:\tlearn: 0.6307988\ttotal: 14ms\tremaining: 36.1ms\n",
      "28:\tlearn: 0.6286907\ttotal: 14.5ms\tremaining: 35.6ms\n",
      "29:\tlearn: 0.6275105\ttotal: 14.8ms\tremaining: 34.6ms\n",
      "30:\tlearn: 0.6253496\ttotal: 15.1ms\tremaining: 33.7ms\n",
      "31:\tlearn: 0.6236423\ttotal: 15.4ms\tremaining: 32.7ms\n",
      "32:\tlearn: 0.6214892\ttotal: 15.9ms\tremaining: 32.2ms\n",
      "33:\tlearn: 0.6202199\ttotal: 16.4ms\tremaining: 31.8ms\n",
      "34:\tlearn: 0.6187035\ttotal: 16.8ms\tremaining: 31.3ms\n",
      "35:\tlearn: 0.6170362\ttotal: 17.3ms\tremaining: 30.8ms\n",
      "36:\tlearn: 0.6148695\ttotal: 18ms\tremaining: 30.6ms\n",
      "37:\tlearn: 0.6132029\ttotal: 18.4ms\tremaining: 30ms\n",
      "38:\tlearn: 0.6118288\ttotal: 18.6ms\tremaining: 29.1ms\n",
      "39:\tlearn: 0.6094805\ttotal: 19.4ms\tremaining: 29.1ms\n",
      "40:\tlearn: 0.6079377\ttotal: 20ms\tremaining: 28.7ms\n",
      "41:\tlearn: 0.6051685\ttotal: 20.4ms\tremaining: 28.2ms\n",
      "42:\tlearn: 0.6028727\ttotal: 20.8ms\tremaining: 27.6ms\n",
      "43:\tlearn: 0.6007943\ttotal: 21.3ms\tremaining: 27.1ms\n",
      "44:\tlearn: 0.5996765\ttotal: 21.8ms\tremaining: 26.6ms\n",
      "45:\tlearn: 0.5980972\ttotal: 22.3ms\tremaining: 26.1ms\n",
      "46:\tlearn: 0.5964410\ttotal: 22.6ms\tremaining: 25.5ms\n",
      "47:\tlearn: 0.5946197\ttotal: 23.1ms\tremaining: 25ms\n",
      "48:\tlearn: 0.5934194\ttotal: 23.6ms\tremaining: 24.5ms\n",
      "49:\tlearn: 0.5918191\ttotal: 23.9ms\tremaining: 23.9ms\n",
      "50:\tlearn: 0.5903745\ttotal: 24.1ms\tremaining: 23.2ms\n",
      "51:\tlearn: 0.5884009\ttotal: 24.6ms\tremaining: 22.7ms\n",
      "52:\tlearn: 0.5869693\ttotal: 24.8ms\tremaining: 22ms\n",
      "53:\tlearn: 0.5855116\ttotal: 25.2ms\tremaining: 21.5ms\n",
      "54:\tlearn: 0.5836751\ttotal: 25.5ms\tremaining: 20.9ms\n",
      "55:\tlearn: 0.5830123\ttotal: 25.9ms\tremaining: 20.3ms\n",
      "56:\tlearn: 0.5818190\ttotal: 26.3ms\tremaining: 19.9ms\n",
      "57:\tlearn: 0.5801271\ttotal: 26.7ms\tremaining: 19.3ms\n",
      "58:\tlearn: 0.5790585\ttotal: 27.1ms\tremaining: 18.8ms\n",
      "59:\tlearn: 0.5776031\ttotal: 27.5ms\tremaining: 18.3ms\n",
      "60:\tlearn: 0.5764759\ttotal: 27.8ms\tremaining: 17.8ms\n",
      "61:\tlearn: 0.5753625\ttotal: 28.3ms\tremaining: 17.4ms\n",
      "62:\tlearn: 0.5739561\ttotal: 28.8ms\tremaining: 16.9ms\n",
      "63:\tlearn: 0.5726329\ttotal: 29.3ms\tremaining: 16.5ms\n",
      "64:\tlearn: 0.5713874\ttotal: 33.4ms\tremaining: 18ms\n",
      "65:\tlearn: 0.5696268\ttotal: 33.9ms\tremaining: 17.5ms\n",
      "66:\tlearn: 0.5680347\ttotal: 34.2ms\tremaining: 16.9ms\n",
      "67:\tlearn: 0.5666281\ttotal: 34.6ms\tremaining: 16.3ms\n",
      "68:\tlearn: 0.5647441\ttotal: 34.8ms\tremaining: 15.6ms\n",
      "69:\tlearn: 0.5641888\ttotal: 35ms\tremaining: 15ms\n",
      "70:\tlearn: 0.5632447\ttotal: 35.5ms\tremaining: 14.5ms\n",
      "71:\tlearn: 0.5617220\ttotal: 35.8ms\tremaining: 13.9ms\n",
      "72:\tlearn: 0.5610864\ttotal: 36.3ms\tremaining: 13.4ms\n",
      "73:\tlearn: 0.5596197\ttotal: 36.6ms\tremaining: 12.9ms\n",
      "74:\tlearn: 0.5578411\ttotal: 36.9ms\tremaining: 12.3ms\n",
      "75:\tlearn: 0.5565267\ttotal: 37.1ms\tremaining: 11.7ms\n",
      "76:\tlearn: 0.5551645\ttotal: 37.6ms\tremaining: 11.2ms\n",
      "77:\tlearn: 0.5540994\ttotal: 38ms\tremaining: 10.7ms\n",
      "78:\tlearn: 0.5524875\ttotal: 38.7ms\tremaining: 10.3ms\n",
      "79:\tlearn: 0.5511264\ttotal: 39.1ms\tremaining: 9.78ms\n",
      "80:\tlearn: 0.5500150\ttotal: 39.6ms\tremaining: 9.29ms\n",
      "81:\tlearn: 0.5483541\ttotal: 40ms\tremaining: 8.79ms\n",
      "82:\tlearn: 0.5474556\ttotal: 40.5ms\tremaining: 8.29ms\n",
      "83:\tlearn: 0.5464556\ttotal: 40.8ms\tremaining: 7.78ms\n",
      "84:\tlearn: 0.5452883\ttotal: 41.2ms\tremaining: 7.27ms\n",
      "85:\tlearn: 0.5439846\ttotal: 41.5ms\tremaining: 6.75ms\n",
      "86:\tlearn: 0.5426439\ttotal: 41.7ms\tremaining: 6.23ms\n",
      "87:\tlearn: 0.5410982\ttotal: 42ms\tremaining: 5.73ms\n",
      "88:\tlearn: 0.5397510\ttotal: 42.3ms\tremaining: 5.22ms\n",
      "89:\tlearn: 0.5383123\ttotal: 42.9ms\tremaining: 4.77ms\n",
      "90:\tlearn: 0.5371199\ttotal: 43.6ms\tremaining: 4.31ms\n",
      "91:\tlearn: 0.5363163\ttotal: 44.2ms\tremaining: 3.84ms\n",
      "92:\tlearn: 0.5352806\ttotal: 44.7ms\tremaining: 3.36ms\n",
      "93:\tlearn: 0.5344276\ttotal: 44.9ms\tremaining: 2.87ms\n",
      "94:\tlearn: 0.5332064\ttotal: 45.2ms\tremaining: 2.38ms\n",
      "95:\tlearn: 0.5319819\ttotal: 45.5ms\tremaining: 1.9ms\n",
      "96:\tlearn: 0.5307086\ttotal: 45.8ms\tremaining: 1.42ms\n",
      "97:\tlearn: 0.5299730\ttotal: 46.1ms\tremaining: 940us\n",
      "98:\tlearn: 0.5288051\ttotal: 46.5ms\tremaining: 469us\n",
      "99:\tlearn: 0.5273433\ttotal: 46.9ms\tremaining: 0us\n",
      "0.75\n"
     ]
    }
   ],
   "source": [
    "catboost_cv = cross_val_score(catboost, x_test, y_test, cv=10) \n",
    "print(catboost_cv.mean())  "
   ]
  },
  {
   "cell_type": "code",
   "execution_count": 212,
   "metadata": {},
   "outputs": [
    {
     "name": "stdout",
     "output_type": "stream",
     "text": [
      "Learning rate set to 0.031837\n",
      "0:\tlearn: 0.6924928\ttotal: 644us\tremaining: 63.8ms\n",
      "1:\tlearn: 0.6914215\ttotal: 1.59ms\tremaining: 78.2ms\n",
      "2:\tlearn: 0.6905170\ttotal: 2.1ms\tremaining: 67.9ms\n",
      "3:\tlearn: 0.6897952\ttotal: 2.58ms\tremaining: 62ms\n",
      "4:\tlearn: 0.6888944\ttotal: 3.07ms\tremaining: 58.4ms\n",
      "5:\tlearn: 0.6879281\ttotal: 3.59ms\tremaining: 56.3ms\n",
      "6:\tlearn: 0.6874209\ttotal: 4.17ms\tremaining: 55.5ms\n",
      "7:\tlearn: 0.6870032\ttotal: 4.56ms\tremaining: 52.5ms\n",
      "8:\tlearn: 0.6863104\ttotal: 5.08ms\tremaining: 51.4ms\n",
      "9:\tlearn: 0.6857172\ttotal: 5.61ms\tremaining: 50.5ms\n",
      "10:\tlearn: 0.6839965\ttotal: 6.5ms\tremaining: 52.6ms\n",
      "11:\tlearn: 0.6832281\ttotal: 7.54ms\tremaining: 55.3ms\n",
      "12:\tlearn: 0.6821854\ttotal: 8.06ms\tremaining: 53.9ms\n",
      "13:\tlearn: 0.6819684\ttotal: 8.37ms\tremaining: 51.4ms\n",
      "14:\tlearn: 0.6810390\ttotal: 8.87ms\tremaining: 50.3ms\n",
      "15:\tlearn: 0.6799512\ttotal: 9.37ms\tremaining: 49.2ms\n",
      "16:\tlearn: 0.6793526\ttotal: 9.88ms\tremaining: 48.2ms\n",
      "17:\tlearn: 0.6789174\ttotal: 10.4ms\tremaining: 47.2ms\n",
      "18:\tlearn: 0.6774939\ttotal: 10.8ms\tremaining: 46.2ms\n",
      "19:\tlearn: 0.6763451\ttotal: 11.3ms\tremaining: 45.3ms\n",
      "20:\tlearn: 0.6748398\ttotal: 11.8ms\tremaining: 44.4ms\n",
      "21:\tlearn: 0.6744821\ttotal: 12.3ms\tremaining: 43.6ms\n",
      "22:\tlearn: 0.6735567\ttotal: 12.8ms\tremaining: 42.8ms\n",
      "23:\tlearn: 0.6726614\ttotal: 13.1ms\tremaining: 41.5ms\n",
      "24:\tlearn: 0.6714355\ttotal: 13.6ms\tremaining: 40.8ms\n",
      "25:\tlearn: 0.6704401\ttotal: 14.1ms\tremaining: 40.1ms\n",
      "26:\tlearn: 0.6694877\ttotal: 14.6ms\tremaining: 39.4ms\n",
      "27:\tlearn: 0.6687582\ttotal: 15ms\tremaining: 38.7ms\n",
      "28:\tlearn: 0.6683405\ttotal: 15.5ms\tremaining: 38ms\n",
      "29:\tlearn: 0.6669512\ttotal: 16ms\tremaining: 37.4ms\n",
      "30:\tlearn: 0.6666951\ttotal: 16.5ms\tremaining: 36.7ms\n",
      "31:\tlearn: 0.6656644\ttotal: 17ms\tremaining: 36.1ms\n",
      "32:\tlearn: 0.6645860\ttotal: 17.5ms\tremaining: 35.5ms\n",
      "33:\tlearn: 0.6636135\ttotal: 17.9ms\tremaining: 34.8ms\n",
      "34:\tlearn: 0.6625066\ttotal: 18.4ms\tremaining: 34.3ms\n",
      "35:\tlearn: 0.6612990\ttotal: 19.4ms\tremaining: 34.4ms\n",
      "36:\tlearn: 0.6611165\ttotal: 19.8ms\tremaining: 33.8ms\n",
      "37:\tlearn: 0.6603808\ttotal: 20.3ms\tremaining: 33.2ms\n",
      "38:\tlearn: 0.6597133\ttotal: 21.1ms\tremaining: 32.9ms\n",
      "39:\tlearn: 0.6586880\ttotal: 21.7ms\tremaining: 32.6ms\n",
      "40:\tlearn: 0.6577547\ttotal: 22.3ms\tremaining: 32.1ms\n",
      "41:\tlearn: 0.6568851\ttotal: 22.9ms\tremaining: 31.7ms\n",
      "42:\tlearn: 0.6560004\ttotal: 23.6ms\tremaining: 31.2ms\n",
      "43:\tlearn: 0.6552504\ttotal: 24.2ms\tremaining: 30.8ms\n",
      "44:\tlearn: 0.6543019\ttotal: 24.8ms\tremaining: 30.3ms\n",
      "45:\tlearn: 0.6534529\ttotal: 25.5ms\tremaining: 29.9ms\n",
      "46:\tlearn: 0.6532240\ttotal: 26.1ms\tremaining: 29.5ms\n",
      "47:\tlearn: 0.6527408\ttotal: 26.7ms\tremaining: 29ms\n",
      "48:\tlearn: 0.6524561\ttotal: 27.4ms\tremaining: 28.5ms\n",
      "49:\tlearn: 0.6518588\ttotal: 27.9ms\tremaining: 27.9ms\n",
      "50:\tlearn: 0.6512386\ttotal: 28.4ms\tremaining: 27.3ms\n",
      "51:\tlearn: 0.6501640\ttotal: 28.9ms\tremaining: 26.7ms\n",
      "52:\tlearn: 0.6499002\ttotal: 29.4ms\tremaining: 26.1ms\n",
      "53:\tlearn: 0.6494107\ttotal: 29.9ms\tremaining: 25.5ms\n",
      "54:\tlearn: 0.6489104\ttotal: 30.4ms\tremaining: 24.9ms\n",
      "55:\tlearn: 0.6485568\ttotal: 30.9ms\tremaining: 24.3ms\n",
      "56:\tlearn: 0.6471156\ttotal: 31.7ms\tremaining: 23.9ms\n",
      "57:\tlearn: 0.6468853\ttotal: 32.3ms\tremaining: 23.4ms\n",
      "58:\tlearn: 0.6464998\ttotal: 33.2ms\tremaining: 23.1ms\n",
      "59:\tlearn: 0.6457413\ttotal: 33.7ms\tremaining: 22.5ms\n",
      "60:\tlearn: 0.6448741\ttotal: 34.3ms\tremaining: 21.9ms\n",
      "61:\tlearn: 0.6445866\ttotal: 34.9ms\tremaining: 21.4ms\n",
      "62:\tlearn: 0.6445641\ttotal: 35.1ms\tremaining: 20.6ms\n",
      "63:\tlearn: 0.6444344\ttotal: 35.6ms\tremaining: 20ms\n",
      "64:\tlearn: 0.6439212\ttotal: 36ms\tremaining: 19.4ms\n",
      "65:\tlearn: 0.6435548\ttotal: 36.5ms\tremaining: 18.8ms\n",
      "66:\tlearn: 0.6427089\ttotal: 37ms\tremaining: 18.2ms\n",
      "67:\tlearn: 0.6422516\ttotal: 37.5ms\tremaining: 17.6ms\n",
      "68:\tlearn: 0.6413052\ttotal: 38ms\tremaining: 17.1ms\n",
      "69:\tlearn: 0.6410014\ttotal: 38.6ms\tremaining: 16.5ms\n",
      "70:\tlearn: 0.6404543\ttotal: 39.1ms\tremaining: 16ms\n",
      "71:\tlearn: 0.6393816\ttotal: 39.6ms\tremaining: 15.4ms\n",
      "72:\tlearn: 0.6387728\ttotal: 40.1ms\tremaining: 14.8ms\n",
      "73:\tlearn: 0.6381769\ttotal: 40.6ms\tremaining: 14.3ms\n",
      "74:\tlearn: 0.6378297\ttotal: 41.2ms\tremaining: 13.7ms\n",
      "75:\tlearn: 0.6373304\ttotal: 41.7ms\tremaining: 13.2ms\n",
      "76:\tlearn: 0.6371988\ttotal: 42.3ms\tremaining: 12.6ms\n",
      "77:\tlearn: 0.6368106\ttotal: 42.9ms\tremaining: 12.1ms\n",
      "78:\tlearn: 0.6363427\ttotal: 43.4ms\tremaining: 11.5ms\n",
      "79:\tlearn: 0.6360594\ttotal: 44.5ms\tremaining: 11.1ms\n",
      "80:\tlearn: 0.6356020\ttotal: 45.2ms\tremaining: 10.6ms\n",
      "81:\tlearn: 0.6354081\ttotal: 45.7ms\tremaining: 10ms\n",
      "82:\tlearn: 0.6353033\ttotal: 63.8ms\tremaining: 13.1ms\n",
      "83:\tlearn: 0.6350125\ttotal: 64.3ms\tremaining: 12.3ms\n",
      "84:\tlearn: 0.6345993\ttotal: 64.7ms\tremaining: 11.4ms\n",
      "85:\tlearn: 0.6342909\ttotal: 65.2ms\tremaining: 10.6ms\n",
      "86:\tlearn: 0.6339677\ttotal: 65.7ms\tremaining: 9.82ms\n",
      "87:\tlearn: 0.6334262\ttotal: 66.3ms\tremaining: 9.04ms\n",
      "88:\tlearn: 0.6332416\ttotal: 66.8ms\tremaining: 8.25ms\n",
      "89:\tlearn: 0.6328873\ttotal: 67.3ms\tremaining: 7.48ms\n",
      "90:\tlearn: 0.6321735\ttotal: 67.8ms\tremaining: 6.71ms\n",
      "91:\tlearn: 0.6320046\ttotal: 68.2ms\tremaining: 5.93ms\n",
      "92:\tlearn: 0.6313043\ttotal: 68.7ms\tremaining: 5.17ms\n",
      "93:\tlearn: 0.6308009\ttotal: 69.4ms\tremaining: 4.43ms\n",
      "94:\tlearn: 0.6303638\ttotal: 70ms\tremaining: 3.68ms\n",
      "95:\tlearn: 0.6296149\ttotal: 70.5ms\tremaining: 2.94ms\n",
      "96:\tlearn: 0.6289641\ttotal: 71ms\tremaining: 2.2ms\n",
      "97:\tlearn: 0.6284351\ttotal: 71.5ms\tremaining: 1.46ms\n",
      "98:\tlearn: 0.6278962\ttotal: 72.1ms\tremaining: 728us\n",
      "99:\tlearn: 0.6276809\ttotal: 72.6ms\tremaining: 0us\n",
      "Learning rate set to 0.031837\n",
      "0:\tlearn: 0.6917403\ttotal: 638us\tremaining: 63.2ms\n",
      "1:\tlearn: 0.6897127\ttotal: 1.19ms\tremaining: 58.5ms\n",
      "2:\tlearn: 0.6884979\ttotal: 1.72ms\tremaining: 55.6ms\n",
      "3:\tlearn: 0.6878036\ttotal: 2.21ms\tremaining: 53.2ms\n",
      "4:\tlearn: 0.6869394\ttotal: 2.74ms\tremaining: 52ms\n",
      "5:\tlearn: 0.6845853\ttotal: 3.25ms\tremaining: 51ms\n",
      "6:\tlearn: 0.6826160\ttotal: 3.75ms\tremaining: 49.9ms\n",
      "7:\tlearn: 0.6810937\ttotal: 4.25ms\tremaining: 48.9ms\n",
      "8:\tlearn: 0.6799799\ttotal: 4.77ms\tremaining: 48.2ms\n",
      "9:\tlearn: 0.6783907\ttotal: 5.28ms\tremaining: 47.5ms\n",
      "10:\tlearn: 0.6768759\ttotal: 5.78ms\tremaining: 46.8ms\n",
      "11:\tlearn: 0.6752551\ttotal: 6.28ms\tremaining: 46.1ms\n",
      "12:\tlearn: 0.6739568\ttotal: 6.82ms\tremaining: 45.7ms\n",
      "13:\tlearn: 0.6728819\ttotal: 7.35ms\tremaining: 45.2ms\n",
      "14:\tlearn: 0.6726373\ttotal: 7.68ms\tremaining: 43.5ms\n",
      "15:\tlearn: 0.6713496\ttotal: 8.22ms\tremaining: 43.2ms\n",
      "16:\tlearn: 0.6707793\ttotal: 8.81ms\tremaining: 43ms\n",
      "17:\tlearn: 0.6700473\ttotal: 9.87ms\tremaining: 45ms\n",
      "18:\tlearn: 0.6690005\ttotal: 10.4ms\tremaining: 44.5ms\n",
      "19:\tlearn: 0.6681729\ttotal: 11ms\tremaining: 44.1ms\n",
      "20:\tlearn: 0.6669531\ttotal: 11.6ms\tremaining: 43.7ms\n",
      "21:\tlearn: 0.6661359\ttotal: 12.1ms\tremaining: 43ms\n",
      "22:\tlearn: 0.6650132\ttotal: 12.6ms\tremaining: 42.3ms\n",
      "23:\tlearn: 0.6638022\ttotal: 13.3ms\tremaining: 42ms\n",
      "24:\tlearn: 0.6634378\ttotal: 13.9ms\tremaining: 41.6ms\n",
      "25:\tlearn: 0.6627197\ttotal: 14.5ms\tremaining: 41.2ms\n",
      "26:\tlearn: 0.6621069\ttotal: 15.1ms\tremaining: 40.8ms\n",
      "27:\tlearn: 0.6613600\ttotal: 15.7ms\tremaining: 40.3ms\n",
      "28:\tlearn: 0.6609328\ttotal: 16.2ms\tremaining: 39.6ms\n",
      "29:\tlearn: 0.6603298\ttotal: 16.7ms\tremaining: 38.9ms\n",
      "30:\tlearn: 0.6596907\ttotal: 17.2ms\tremaining: 38.3ms\n",
      "31:\tlearn: 0.6593575\ttotal: 17.7ms\tremaining: 37.7ms\n",
      "32:\tlearn: 0.6585951\ttotal: 18.2ms\tremaining: 37ms\n",
      "33:\tlearn: 0.6574965\ttotal: 18.7ms\tremaining: 36.4ms\n",
      "34:\tlearn: 0.6566736\ttotal: 19.2ms\tremaining: 35.7ms\n",
      "35:\tlearn: 0.6558781\ttotal: 19.8ms\tremaining: 35.1ms\n",
      "36:\tlearn: 0.6553783\ttotal: 20.2ms\tremaining: 34.5ms\n",
      "37:\tlearn: 0.6543024\ttotal: 20.9ms\tremaining: 34.1ms\n",
      "38:\tlearn: 0.6533800\ttotal: 21.4ms\tremaining: 33.5ms\n",
      "39:\tlearn: 0.6530309\ttotal: 24.5ms\tremaining: 36.7ms\n",
      "40:\tlearn: 0.6525706\ttotal: 25.3ms\tremaining: 36.4ms\n",
      "41:\tlearn: 0.6523775\ttotal: 25.8ms\tremaining: 35.6ms\n",
      "42:\tlearn: 0.6514307\ttotal: 26.3ms\tremaining: 34.9ms\n",
      "43:\tlearn: 0.6505165\ttotal: 26.8ms\tremaining: 34.1ms\n",
      "44:\tlearn: 0.6500982\ttotal: 27.3ms\tremaining: 33.4ms\n",
      "45:\tlearn: 0.6496503\ttotal: 27.8ms\tremaining: 32.6ms\n",
      "46:\tlearn: 0.6488730\ttotal: 28.3ms\tremaining: 31.9ms\n",
      "47:\tlearn: 0.6479770\ttotal: 28.9ms\tremaining: 31.4ms\n",
      "48:\tlearn: 0.6470467\ttotal: 29.7ms\tremaining: 30.9ms\n",
      "49:\tlearn: 0.6468056\ttotal: 32.9ms\tremaining: 32.9ms\n",
      "50:\tlearn: 0.6460110\ttotal: 34.2ms\tremaining: 32.8ms\n",
      "51:\tlearn: 0.6451263\ttotal: 34.8ms\tremaining: 32.1ms\n",
      "52:\tlearn: 0.6449226\ttotal: 36.1ms\tremaining: 32ms\n",
      "53:\tlearn: 0.6443442\ttotal: 37.2ms\tremaining: 31.7ms\n",
      "54:\tlearn: 0.6438691\ttotal: 37.8ms\tremaining: 30.9ms\n",
      "55:\tlearn: 0.6433250\ttotal: 39.1ms\tremaining: 30.8ms\n",
      "56:\tlearn: 0.6430923\ttotal: 39.8ms\tremaining: 30.1ms\n",
      "57:\tlearn: 0.6426680\ttotal: 40.5ms\tremaining: 29.3ms\n",
      "58:\tlearn: 0.6420610\ttotal: 41.8ms\tremaining: 29ms\n",
      "59:\tlearn: 0.6418241\ttotal: 42.4ms\tremaining: 28.3ms\n",
      "60:\tlearn: 0.6412309\ttotal: 43ms\tremaining: 27.5ms\n",
      "61:\tlearn: 0.6409909\ttotal: 43.5ms\tremaining: 26.7ms\n",
      "62:\tlearn: 0.6404385\ttotal: 44.1ms\tremaining: 25.9ms\n",
      "63:\tlearn: 0.6394141\ttotal: 44.7ms\tremaining: 25.1ms\n",
      "64:\tlearn: 0.6389995\ttotal: 45.2ms\tremaining: 24.4ms\n",
      "65:\tlearn: 0.6388939\ttotal: 45.8ms\tremaining: 23.6ms\n",
      "66:\tlearn: 0.6388324\ttotal: 46.3ms\tremaining: 22.8ms\n",
      "67:\tlearn: 0.6385426\ttotal: 46.9ms\tremaining: 22.1ms\n",
      "68:\tlearn: 0.6382482\ttotal: 47.5ms\tremaining: 21.4ms\n",
      "69:\tlearn: 0.6378434\ttotal: 48.1ms\tremaining: 20.6ms\n",
      "70:\tlearn: 0.6371907\ttotal: 48.9ms\tremaining: 20ms\n",
      "71:\tlearn: 0.6366061\ttotal: 49.4ms\tremaining: 19.2ms\n",
      "72:\tlearn: 0.6363158\ttotal: 50ms\tremaining: 18.5ms\n",
      "73:\tlearn: 0.6357346\ttotal: 50.5ms\tremaining: 17.7ms\n",
      "74:\tlearn: 0.6351006\ttotal: 51.1ms\tremaining: 17ms\n",
      "75:\tlearn: 0.6349518\ttotal: 51.7ms\tremaining: 16.3ms\n",
      "76:\tlearn: 0.6342603\ttotal: 52.4ms\tremaining: 15.6ms\n",
      "77:\tlearn: 0.6342099\ttotal: 52.8ms\tremaining: 14.9ms\n",
      "78:\tlearn: 0.6337122\ttotal: 53.5ms\tremaining: 14.2ms\n",
      "79:\tlearn: 0.6332911\ttotal: 54.1ms\tremaining: 13.5ms\n",
      "80:\tlearn: 0.6331305\ttotal: 54.6ms\tremaining: 12.8ms\n",
      "81:\tlearn: 0.6326680\ttotal: 55.1ms\tremaining: 12.1ms\n",
      "82:\tlearn: 0.6324761\ttotal: 55.7ms\tremaining: 11.4ms\n",
      "83:\tlearn: 0.6320494\ttotal: 56.3ms\tremaining: 10.7ms\n",
      "84:\tlearn: 0.6319326\ttotal: 56.9ms\tremaining: 10ms\n",
      "85:\tlearn: 0.6313748\ttotal: 57.5ms\tremaining: 9.35ms\n",
      "86:\tlearn: 0.6309240\ttotal: 58ms\tremaining: 8.67ms\n",
      "87:\tlearn: 0.6304847\ttotal: 58.6ms\tremaining: 7.99ms\n",
      "88:\tlearn: 0.6301632\ttotal: 59.2ms\tremaining: 7.31ms\n",
      "89:\tlearn: 0.6299315\ttotal: 59.8ms\tremaining: 6.64ms\n",
      "90:\tlearn: 0.6292033\ttotal: 60.4ms\tremaining: 5.97ms\n",
      "91:\tlearn: 0.6289548\ttotal: 61.9ms\tremaining: 5.38ms\n",
      "92:\tlearn: 0.6287600\ttotal: 62.8ms\tremaining: 4.73ms\n",
      "93:\tlearn: 0.6283778\ttotal: 63.4ms\tremaining: 4.05ms\n",
      "94:\tlearn: 0.6277760\ttotal: 64ms\tremaining: 3.37ms\n",
      "95:\tlearn: 0.6276253\ttotal: 64.6ms\tremaining: 2.69ms\n",
      "96:\tlearn: 0.6273324\ttotal: 65.2ms\tremaining: 2.02ms\n",
      "97:\tlearn: 0.6272310\ttotal: 65.7ms\tremaining: 1.34ms\n",
      "98:\tlearn: 0.6268781\ttotal: 66.3ms\tremaining: 669us\n",
      "99:\tlearn: 0.6266961\ttotal: 66.9ms\tremaining: 0us\n",
      "Learning rate set to 0.031973\n",
      "0:\tlearn: 0.6922471\ttotal: 643us\tremaining: 63.7ms\n",
      "1:\tlearn: 0.6903250\ttotal: 1.22ms\tremaining: 59.7ms\n",
      "2:\tlearn: 0.6893095\ttotal: 1.79ms\tremaining: 57.9ms\n",
      "3:\tlearn: 0.6886188\ttotal: 2.33ms\tremaining: 55.9ms\n",
      "4:\tlearn: 0.6879488\ttotal: 2.9ms\tremaining: 55ms\n",
      "5:\tlearn: 0.6872134\ttotal: 3.45ms\tremaining: 54.1ms\n",
      "6:\tlearn: 0.6866460\ttotal: 3.86ms\tremaining: 51.2ms\n",
      "7:\tlearn: 0.6854741\ttotal: 4.39ms\tremaining: 50.5ms\n",
      "8:\tlearn: 0.6850435\ttotal: 4.94ms\tremaining: 49.9ms\n",
      "9:\tlearn: 0.6840842\ttotal: 5.46ms\tremaining: 49.1ms\n",
      "10:\tlearn: 0.6831499\ttotal: 6.05ms\tremaining: 48.9ms\n",
      "11:\tlearn: 0.6828159\ttotal: 6.48ms\tremaining: 47.6ms\n",
      "12:\tlearn: 0.6821667\ttotal: 7.04ms\tremaining: 47.1ms\n",
      "13:\tlearn: 0.6809840\ttotal: 7.62ms\tremaining: 46.8ms\n",
      "14:\tlearn: 0.6805573\ttotal: 8.29ms\tremaining: 47ms\n",
      "15:\tlearn: 0.6800178\ttotal: 8.63ms\tremaining: 45.3ms\n",
      "16:\tlearn: 0.6793622\ttotal: 9.14ms\tremaining: 44.6ms\n",
      "17:\tlearn: 0.6782850\ttotal: 9.66ms\tremaining: 44ms\n",
      "18:\tlearn: 0.6769707\ttotal: 10.2ms\tremaining: 43.5ms\n",
      "19:\tlearn: 0.6765931\ttotal: 10.8ms\tremaining: 43.1ms\n",
      "20:\tlearn: 0.6761299\ttotal: 11.3ms\tremaining: 42.6ms\n",
      "21:\tlearn: 0.6747889\ttotal: 11.9ms\tremaining: 42.1ms\n",
      "22:\tlearn: 0.6744913\ttotal: 12.5ms\tremaining: 41.9ms\n",
      "23:\tlearn: 0.6734983\ttotal: 13.1ms\tremaining: 41.6ms\n",
      "24:\tlearn: 0.6729071\ttotal: 13.7ms\tremaining: 41.1ms\n",
      "25:\tlearn: 0.6720196\ttotal: 14.2ms\tremaining: 40.5ms\n",
      "26:\tlearn: 0.6713870\ttotal: 14.8ms\tremaining: 40ms\n",
      "27:\tlearn: 0.6704860\ttotal: 15.3ms\tremaining: 39.5ms\n",
      "28:\tlearn: 0.6699008\ttotal: 15.9ms\tremaining: 38.9ms\n",
      "29:\tlearn: 0.6692260\ttotal: 16.5ms\tremaining: 38.5ms\n",
      "30:\tlearn: 0.6684614\ttotal: 17.1ms\tremaining: 38ms\n",
      "31:\tlearn: 0.6671858\ttotal: 17.6ms\tremaining: 37.5ms\n",
      "32:\tlearn: 0.6668076\ttotal: 18.2ms\tremaining: 37ms\n",
      "33:\tlearn: 0.6654532\ttotal: 18.8ms\tremaining: 36.5ms\n",
      "34:\tlearn: 0.6643882\ttotal: 19.4ms\tremaining: 36ms\n",
      "35:\tlearn: 0.6642477\ttotal: 19.9ms\tremaining: 35.4ms\n",
      "36:\tlearn: 0.6639766\ttotal: 20.4ms\tremaining: 34.8ms\n",
      "37:\tlearn: 0.6636487\ttotal: 21ms\tremaining: 34.2ms\n",
      "38:\tlearn: 0.6625206\ttotal: 22ms\tremaining: 34.4ms\n",
      "39:\tlearn: 0.6617191\ttotal: 22.6ms\tremaining: 33.9ms\n",
      "40:\tlearn: 0.6610436\ttotal: 23.2ms\tremaining: 33.4ms\n",
      "41:\tlearn: 0.6598791\ttotal: 23.7ms\tremaining: 32.8ms\n",
      "42:\tlearn: 0.6592798\ttotal: 24.2ms\tremaining: 32.1ms\n",
      "43:\tlearn: 0.6588890\ttotal: 24.8ms\tremaining: 31.5ms\n",
      "44:\tlearn: 0.6584448\ttotal: 25.3ms\tremaining: 30.9ms\n",
      "45:\tlearn: 0.6579534\ttotal: 25.9ms\tremaining: 30.3ms\n",
      "46:\tlearn: 0.6576252\ttotal: 26.4ms\tremaining: 29.8ms\n",
      "47:\tlearn: 0.6569106\ttotal: 26.9ms\tremaining: 29.2ms\n",
      "48:\tlearn: 0.6560595\ttotal: 27.5ms\tremaining: 28.6ms\n",
      "49:\tlearn: 0.6556673\ttotal: 28ms\tremaining: 28ms\n",
      "50:\tlearn: 0.6545131\ttotal: 28.6ms\tremaining: 27.4ms\n",
      "51:\tlearn: 0.6544230\ttotal: 28.9ms\tremaining: 26.6ms\n",
      "52:\tlearn: 0.6538943\ttotal: 29.4ms\tremaining: 26.1ms\n",
      "53:\tlearn: 0.6532925\ttotal: 30ms\tremaining: 25.5ms\n",
      "54:\tlearn: 0.6528467\ttotal: 30.5ms\tremaining: 25ms\n",
      "55:\tlearn: 0.6522024\ttotal: 31.1ms\tremaining: 24.4ms\n",
      "56:\tlearn: 0.6516688\ttotal: 31.6ms\tremaining: 23.9ms\n",
      "57:\tlearn: 0.6514022\ttotal: 32.2ms\tremaining: 23.3ms\n",
      "58:\tlearn: 0.6511031\ttotal: 32.9ms\tremaining: 22.8ms\n",
      "59:\tlearn: 0.6506905\ttotal: 35.2ms\tremaining: 23.5ms\n",
      "60:\tlearn: 0.6504214\ttotal: 35.9ms\tremaining: 23ms\n",
      "61:\tlearn: 0.6501037\ttotal: 36.6ms\tremaining: 22.4ms\n",
      "62:\tlearn: 0.6495623\ttotal: 37.2ms\tremaining: 21.9ms\n",
      "63:\tlearn: 0.6486678\ttotal: 37.8ms\tremaining: 21.3ms\n",
      "64:\tlearn: 0.6478411\ttotal: 38.4ms\tremaining: 20.7ms\n",
      "65:\tlearn: 0.6466024\ttotal: 39.1ms\tremaining: 20.1ms\n",
      "66:\tlearn: 0.6460781\ttotal: 39.7ms\tremaining: 19.5ms\n",
      "67:\tlearn: 0.6456258\ttotal: 40.3ms\tremaining: 18.9ms\n",
      "68:\tlearn: 0.6449619\ttotal: 40.8ms\tremaining: 18.3ms\n",
      "69:\tlearn: 0.6447935\ttotal: 41.4ms\tremaining: 17.7ms\n",
      "70:\tlearn: 0.6445101\ttotal: 42ms\tremaining: 17.2ms\n",
      "71:\tlearn: 0.6443588\ttotal: 42.6ms\tremaining: 16.6ms\n",
      "72:\tlearn: 0.6438809\ttotal: 43.2ms\tremaining: 16ms\n",
      "73:\tlearn: 0.6435290\ttotal: 43.8ms\tremaining: 15.4ms\n",
      "74:\tlearn: 0.6429952\ttotal: 44.5ms\tremaining: 14.8ms\n",
      "75:\tlearn: 0.6426359\ttotal: 45.1ms\tremaining: 14.2ms\n",
      "76:\tlearn: 0.6423006\ttotal: 45.8ms\tremaining: 13.7ms\n",
      "77:\tlearn: 0.6417973\ttotal: 46.4ms\tremaining: 13.1ms\n",
      "78:\tlearn: 0.6414636\ttotal: 47.3ms\tremaining: 12.6ms\n",
      "79:\tlearn: 0.6411568\ttotal: 48.1ms\tremaining: 12ms\n",
      "80:\tlearn: 0.6403429\ttotal: 49ms\tremaining: 11.5ms\n",
      "81:\tlearn: 0.6396730\ttotal: 49.7ms\tremaining: 10.9ms\n",
      "82:\tlearn: 0.6388926\ttotal: 50.3ms\tremaining: 10.3ms\n",
      "83:\tlearn: 0.6386752\ttotal: 50.9ms\tremaining: 9.7ms\n",
      "84:\tlearn: 0.6382476\ttotal: 51.5ms\tremaining: 9.1ms\n",
      "85:\tlearn: 0.6377321\ttotal: 52.2ms\tremaining: 8.49ms\n",
      "86:\tlearn: 0.6371730\ttotal: 52.8ms\tremaining: 7.89ms\n",
      "87:\tlearn: 0.6368389\ttotal: 53.5ms\tremaining: 7.29ms\n",
      "88:\tlearn: 0.6363872\ttotal: 54.1ms\tremaining: 6.69ms\n",
      "89:\tlearn: 0.6356803\ttotal: 54.7ms\tremaining: 6.08ms\n",
      "90:\tlearn: 0.6349288\ttotal: 55.3ms\tremaining: 5.47ms\n",
      "91:\tlearn: 0.6346839\ttotal: 55.7ms\tremaining: 4.85ms\n",
      "92:\tlearn: 0.6344564\ttotal: 56.2ms\tremaining: 4.23ms\n",
      "93:\tlearn: 0.6343538\ttotal: 56.8ms\tremaining: 3.62ms\n",
      "94:\tlearn: 0.6336015\ttotal: 57.5ms\tremaining: 3.02ms\n",
      "95:\tlearn: 0.6331620\ttotal: 58.1ms\tremaining: 2.42ms\n",
      "96:\tlearn: 0.6327481\ttotal: 58.9ms\tremaining: 1.82ms\n",
      "97:\tlearn: 0.6323518\ttotal: 59.5ms\tremaining: 1.21ms\n",
      "98:\tlearn: 0.6320652\ttotal: 60.4ms\tremaining: 609us\n",
      "99:\tlearn: 0.6317929\ttotal: 61ms\tremaining: 0us\n",
      "Learning rate set to 0.031973\n",
      "0:\tlearn: 0.6919787\ttotal: 643us\tremaining: 63.7ms\n",
      "1:\tlearn: 0.6913062\ttotal: 1.26ms\tremaining: 61.7ms\n",
      "2:\tlearn: 0.6904627\ttotal: 1.62ms\tremaining: 52.3ms\n",
      "3:\tlearn: 0.6896139\ttotal: 2.15ms\tremaining: 51.5ms\n",
      "4:\tlearn: 0.6886803\ttotal: 2.67ms\tremaining: 50.7ms\n"
     ]
    },
    {
     "name": "stdout",
     "output_type": "stream",
     "text": [
      "5:\tlearn: 0.6874692\ttotal: 3.98ms\tremaining: 62.4ms\n",
      "6:\tlearn: 0.6871834\ttotal: 4.54ms\tremaining: 60.4ms\n",
      "7:\tlearn: 0.6863170\ttotal: 5.41ms\tremaining: 62.2ms\n",
      "8:\tlearn: 0.6849061\ttotal: 6.22ms\tremaining: 62.9ms\n",
      "9:\tlearn: 0.6836044\ttotal: 6.88ms\tremaining: 61.9ms\n",
      "10:\tlearn: 0.6823468\ttotal: 10.2ms\tremaining: 82.4ms\n",
      "11:\tlearn: 0.6816118\ttotal: 10.8ms\tremaining: 79.1ms\n",
      "12:\tlearn: 0.6810858\ttotal: 11.3ms\tremaining: 75.8ms\n",
      "13:\tlearn: 0.6807887\ttotal: 11.7ms\tremaining: 71.7ms\n",
      "14:\tlearn: 0.6801372\ttotal: 12.3ms\tremaining: 69.5ms\n",
      "15:\tlearn: 0.6791469\ttotal: 12.9ms\tremaining: 67.7ms\n",
      "16:\tlearn: 0.6773878\ttotal: 13.5ms\tremaining: 65.9ms\n",
      "17:\tlearn: 0.6758664\ttotal: 14.1ms\tremaining: 64.1ms\n",
      "18:\tlearn: 0.6748592\ttotal: 14.7ms\tremaining: 62.5ms\n",
      "19:\tlearn: 0.6737808\ttotal: 15.2ms\tremaining: 60.9ms\n",
      "20:\tlearn: 0.6732054\ttotal: 15.9ms\tremaining: 60ms\n",
      "21:\tlearn: 0.6727339\ttotal: 16.7ms\tremaining: 59.1ms\n",
      "22:\tlearn: 0.6721502\ttotal: 17.2ms\tremaining: 57.7ms\n",
      "23:\tlearn: 0.6719518\ttotal: 17.9ms\tremaining: 56.6ms\n",
      "24:\tlearn: 0.6708110\ttotal: 18.5ms\tremaining: 55.4ms\n",
      "25:\tlearn: 0.6705310\ttotal: 19ms\tremaining: 54.1ms\n",
      "26:\tlearn: 0.6704150\ttotal: 19.6ms\tremaining: 52.9ms\n",
      "27:\tlearn: 0.6700378\ttotal: 20.1ms\tremaining: 51.7ms\n",
      "28:\tlearn: 0.6694389\ttotal: 20.7ms\tremaining: 50.6ms\n",
      "29:\tlearn: 0.6686928\ttotal: 22ms\tremaining: 51.4ms\n",
      "30:\tlearn: 0.6676341\ttotal: 22.6ms\tremaining: 50.3ms\n",
      "31:\tlearn: 0.6668531\ttotal: 23.2ms\tremaining: 49.2ms\n",
      "32:\tlearn: 0.6661836\ttotal: 23.8ms\tremaining: 48.4ms\n",
      "33:\tlearn: 0.6655771\ttotal: 24.5ms\tremaining: 47.5ms\n",
      "34:\tlearn: 0.6648105\ttotal: 25.1ms\tremaining: 46.6ms\n",
      "35:\tlearn: 0.6641875\ttotal: 25.7ms\tremaining: 45.7ms\n",
      "36:\tlearn: 0.6637395\ttotal: 26.4ms\tremaining: 45ms\n",
      "37:\tlearn: 0.6635667\ttotal: 26.9ms\tremaining: 44ms\n",
      "38:\tlearn: 0.6635044\ttotal: 27.2ms\tremaining: 42.6ms\n",
      "39:\tlearn: 0.6624889\ttotal: 27.7ms\tremaining: 41.6ms\n",
      "40:\tlearn: 0.6623395\ttotal: 28.2ms\tremaining: 40.5ms\n",
      "41:\tlearn: 0.6622011\ttotal: 28.5ms\tremaining: 39.4ms\n",
      "42:\tlearn: 0.6612481\ttotal: 29.1ms\tremaining: 38.6ms\n",
      "43:\tlearn: 0.6603251\ttotal: 29.6ms\tremaining: 37.7ms\n",
      "44:\tlearn: 0.6598226\ttotal: 30.2ms\tremaining: 36.9ms\n",
      "45:\tlearn: 0.6586232\ttotal: 30.7ms\tremaining: 36ms\n",
      "46:\tlearn: 0.6580018\ttotal: 31.4ms\tremaining: 35.4ms\n",
      "47:\tlearn: 0.6577464\ttotal: 31.9ms\tremaining: 34.5ms\n",
      "48:\tlearn: 0.6568336\ttotal: 32.6ms\tremaining: 33.9ms\n",
      "49:\tlearn: 0.6564415\ttotal: 33.2ms\tremaining: 33.2ms\n",
      "50:\tlearn: 0.6558683\ttotal: 33.7ms\tremaining: 32.4ms\n",
      "51:\tlearn: 0.6550626\ttotal: 34.3ms\tremaining: 31.6ms\n",
      "52:\tlearn: 0.6547001\ttotal: 34.8ms\tremaining: 30.9ms\n",
      "53:\tlearn: 0.6534301\ttotal: 35.5ms\tremaining: 30.2ms\n",
      "54:\tlearn: 0.6531305\ttotal: 36.8ms\tremaining: 30.1ms\n",
      "55:\tlearn: 0.6522417\ttotal: 37.6ms\tremaining: 29.5ms\n",
      "56:\tlearn: 0.6517733\ttotal: 38.2ms\tremaining: 28.8ms\n",
      "57:\tlearn: 0.6509308\ttotal: 38.8ms\tremaining: 28.1ms\n",
      "58:\tlearn: 0.6505305\ttotal: 39.5ms\tremaining: 27.4ms\n",
      "59:\tlearn: 0.6495696\ttotal: 40.2ms\tremaining: 26.8ms\n",
      "60:\tlearn: 0.6488388\ttotal: 40.8ms\tremaining: 26.1ms\n",
      "61:\tlearn: 0.6482143\ttotal: 42.1ms\tremaining: 25.8ms\n",
      "62:\tlearn: 0.6474939\ttotal: 43.6ms\tremaining: 25.6ms\n",
      "63:\tlearn: 0.6472180\ttotal: 45.2ms\tremaining: 25.4ms\n",
      "64:\tlearn: 0.6464552\ttotal: 47ms\tremaining: 25.3ms\n",
      "65:\tlearn: 0.6457014\ttotal: 47.5ms\tremaining: 24.5ms\n",
      "66:\tlearn: 0.6451195\ttotal: 48.1ms\tremaining: 23.7ms\n",
      "67:\tlearn: 0.6444805\ttotal: 48.6ms\tremaining: 22.9ms\n",
      "68:\tlearn: 0.6438864\ttotal: 49.2ms\tremaining: 22.1ms\n",
      "69:\tlearn: 0.6433757\ttotal: 49.9ms\tremaining: 21.4ms\n",
      "70:\tlearn: 0.6427713\ttotal: 50.4ms\tremaining: 20.6ms\n",
      "71:\tlearn: 0.6424353\ttotal: 51ms\tremaining: 19.8ms\n",
      "72:\tlearn: 0.6418597\ttotal: 51.5ms\tremaining: 19.1ms\n",
      "73:\tlearn: 0.6411202\ttotal: 52.1ms\tremaining: 18.3ms\n",
      "74:\tlearn: 0.6405216\ttotal: 52.7ms\tremaining: 17.6ms\n",
      "75:\tlearn: 0.6401371\ttotal: 53.3ms\tremaining: 16.8ms\n",
      "76:\tlearn: 0.6393705\ttotal: 53.9ms\tremaining: 16.1ms\n",
      "77:\tlearn: 0.6391792\ttotal: 54.5ms\tremaining: 15.4ms\n",
      "78:\tlearn: 0.6389979\ttotal: 55ms\tremaining: 14.6ms\n",
      "79:\tlearn: 0.6387993\ttotal: 55.6ms\tremaining: 13.9ms\n",
      "80:\tlearn: 0.6384190\ttotal: 56.2ms\tremaining: 13.2ms\n",
      "81:\tlearn: 0.6380032\ttotal: 57.3ms\tremaining: 12.6ms\n",
      "82:\tlearn: 0.6376808\ttotal: 57.9ms\tremaining: 11.9ms\n",
      "83:\tlearn: 0.6371941\ttotal: 58.5ms\tremaining: 11.1ms\n",
      "84:\tlearn: 0.6361052\ttotal: 59.1ms\tremaining: 10.4ms\n",
      "85:\tlearn: 0.6359615\ttotal: 59.5ms\tremaining: 9.68ms\n",
      "86:\tlearn: 0.6356646\ttotal: 60ms\tremaining: 8.97ms\n",
      "87:\tlearn: 0.6352617\ttotal: 60.6ms\tremaining: 8.27ms\n",
      "88:\tlearn: 0.6348553\ttotal: 61.3ms\tremaining: 7.57ms\n",
      "89:\tlearn: 0.6344831\ttotal: 61.9ms\tremaining: 6.88ms\n",
      "90:\tlearn: 0.6344055\ttotal: 62.2ms\tremaining: 6.15ms\n",
      "91:\tlearn: 0.6342038\ttotal: 62.8ms\tremaining: 5.46ms\n",
      "92:\tlearn: 0.6337742\ttotal: 63.3ms\tremaining: 4.77ms\n",
      "93:\tlearn: 0.6336411\ttotal: 63.7ms\tremaining: 4.07ms\n",
      "94:\tlearn: 0.6333977\ttotal: 64.1ms\tremaining: 3.38ms\n",
      "95:\tlearn: 0.6325974\ttotal: 64.7ms\tremaining: 2.69ms\n",
      "96:\tlearn: 0.6323402\ttotal: 65.3ms\tremaining: 2.02ms\n",
      "97:\tlearn: 0.6316772\ttotal: 65.6ms\tremaining: 1.34ms\n",
      "98:\tlearn: 0.6314611\ttotal: 66.2ms\tremaining: 668us\n",
      "99:\tlearn: 0.6310773\ttotal: 66.7ms\tremaining: 0us\n",
      "Learning rate set to 0.031973\n",
      "0:\tlearn: 0.6919044\ttotal: 664us\tremaining: 65.8ms\n",
      "1:\tlearn: 0.6905918\ttotal: 1.31ms\tremaining: 64.1ms\n",
      "2:\tlearn: 0.6894258\ttotal: 1.71ms\tremaining: 55.4ms\n",
      "3:\tlearn: 0.6879167\ttotal: 2.28ms\tremaining: 54.8ms\n",
      "4:\tlearn: 0.6870532\ttotal: 2.88ms\tremaining: 54.6ms\n",
      "5:\tlearn: 0.6854582\ttotal: 3.42ms\tremaining: 53.5ms\n",
      "6:\tlearn: 0.6846933\ttotal: 3.69ms\tremaining: 49ms\n",
      "7:\tlearn: 0.6836286\ttotal: 4.21ms\tremaining: 48.4ms\n",
      "8:\tlearn: 0.6825868\ttotal: 4.75ms\tremaining: 48.1ms\n",
      "9:\tlearn: 0.6810404\ttotal: 5.32ms\tremaining: 47.9ms\n",
      "10:\tlearn: 0.6792303\ttotal: 5.92ms\tremaining: 47.9ms\n",
      "11:\tlearn: 0.6782412\ttotal: 6.46ms\tremaining: 47.4ms\n",
      "12:\tlearn: 0.6766467\ttotal: 7.03ms\tremaining: 47ms\n",
      "13:\tlearn: 0.6761363\ttotal: 7.59ms\tremaining: 46.6ms\n",
      "14:\tlearn: 0.6750808\ttotal: 8.13ms\tremaining: 46ms\n",
      "15:\tlearn: 0.6736364\ttotal: 8.65ms\tremaining: 45.4ms\n",
      "16:\tlearn: 0.6732282\ttotal: 9.29ms\tremaining: 45.4ms\n",
      "17:\tlearn: 0.6728667\ttotal: 9.59ms\tremaining: 43.7ms\n",
      "18:\tlearn: 0.6715370\ttotal: 10.2ms\tremaining: 43.4ms\n",
      "19:\tlearn: 0.6703655\ttotal: 10.8ms\tremaining: 43.2ms\n",
      "20:\tlearn: 0.6695923\ttotal: 11.7ms\tremaining: 43.8ms\n",
      "21:\tlearn: 0.6689057\ttotal: 12.6ms\tremaining: 44.6ms\n",
      "22:\tlearn: 0.6681589\ttotal: 13.2ms\tremaining: 44.1ms\n",
      "23:\tlearn: 0.6677959\ttotal: 13.8ms\tremaining: 43.6ms\n",
      "24:\tlearn: 0.6670747\ttotal: 14.4ms\tremaining: 43.1ms\n",
      "25:\tlearn: 0.6662157\ttotal: 14.9ms\tremaining: 42.4ms\n",
      "26:\tlearn: 0.6653790\ttotal: 15.5ms\tremaining: 41.8ms\n",
      "27:\tlearn: 0.6647986\ttotal: 16ms\tremaining: 41.1ms\n",
      "28:\tlearn: 0.6640787\ttotal: 16.6ms\tremaining: 40.6ms\n",
      "29:\tlearn: 0.6634981\ttotal: 17.2ms\tremaining: 40.1ms\n",
      "30:\tlearn: 0.6625345\ttotal: 17.8ms\tremaining: 39.6ms\n",
      "31:\tlearn: 0.6617279\ttotal: 18.3ms\tremaining: 38.9ms\n",
      "32:\tlearn: 0.6606282\ttotal: 18.8ms\tremaining: 38.2ms\n",
      "33:\tlearn: 0.6601167\ttotal: 19.3ms\tremaining: 37.6ms\n",
      "34:\tlearn: 0.6592223\ttotal: 20ms\tremaining: 37.1ms\n",
      "35:\tlearn: 0.6587901\ttotal: 20.5ms\tremaining: 36.4ms\n",
      "36:\tlearn: 0.6582537\ttotal: 21.1ms\tremaining: 35.9ms\n",
      "37:\tlearn: 0.6577422\ttotal: 21.6ms\tremaining: 35.2ms\n",
      "38:\tlearn: 0.6571094\ttotal: 22.2ms\tremaining: 34.7ms\n",
      "39:\tlearn: 0.6562082\ttotal: 22.8ms\tremaining: 34.2ms\n",
      "40:\tlearn: 0.6556696\ttotal: 23.4ms\tremaining: 33.7ms\n",
      "41:\tlearn: 0.6550474\ttotal: 24.1ms\tremaining: 33.3ms\n",
      "42:\tlearn: 0.6547139\ttotal: 24.8ms\tremaining: 32.9ms\n",
      "43:\tlearn: 0.6540594\ttotal: 25.4ms\tremaining: 32.3ms\n",
      "44:\tlearn: 0.6535883\ttotal: 26ms\tremaining: 31.7ms\n",
      "45:\tlearn: 0.6534105\ttotal: 26.5ms\tremaining: 31.1ms\n",
      "46:\tlearn: 0.6530778\ttotal: 27.1ms\tremaining: 30.5ms\n",
      "47:\tlearn: 0.6526494\ttotal: 27.7ms\tremaining: 30ms\n",
      "48:\tlearn: 0.6516532\ttotal: 28.3ms\tremaining: 29.5ms\n",
      "49:\tlearn: 0.6512513\ttotal: 28.6ms\tremaining: 28.6ms\n",
      "50:\tlearn: 0.6506801\ttotal: 29.1ms\tremaining: 28ms\n",
      "51:\tlearn: 0.6501607\ttotal: 29.6ms\tremaining: 27.4ms\n",
      "52:\tlearn: 0.6497428\ttotal: 30.2ms\tremaining: 26.8ms\n",
      "53:\tlearn: 0.6491682\ttotal: 30.8ms\tremaining: 26.2ms\n",
      "54:\tlearn: 0.6481658\ttotal: 31.4ms\tremaining: 25.7ms\n",
      "55:\tlearn: 0.6477759\ttotal: 31.9ms\tremaining: 25.1ms\n",
      "56:\tlearn: 0.6474195\ttotal: 32.5ms\tremaining: 24.5ms\n",
      "57:\tlearn: 0.6471673\ttotal: 32.9ms\tremaining: 23.8ms\n",
      "58:\tlearn: 0.6469444\ttotal: 33.4ms\tremaining: 23.2ms\n",
      "59:\tlearn: 0.6465979\ttotal: 34.1ms\tremaining: 22.7ms\n",
      "60:\tlearn: 0.6457523\ttotal: 34.6ms\tremaining: 22.1ms\n",
      "61:\tlearn: 0.6456510\ttotal: 35.2ms\tremaining: 21.6ms\n",
      "62:\tlearn: 0.6452992\ttotal: 35.7ms\tremaining: 21ms\n",
      "63:\tlearn: 0.6448201\ttotal: 36.3ms\tremaining: 20.4ms\n",
      "64:\tlearn: 0.6439893\ttotal: 37ms\tremaining: 19.9ms\n",
      "65:\tlearn: 0.6435169\ttotal: 37.8ms\tremaining: 19.5ms\n",
      "66:\tlearn: 0.6430436\ttotal: 38.2ms\tremaining: 18.8ms\n",
      "67:\tlearn: 0.6427411\ttotal: 38.9ms\tremaining: 18.3ms\n",
      "68:\tlearn: 0.6419718\ttotal: 39.4ms\tremaining: 17.7ms\n",
      "69:\tlearn: 0.6417595\ttotal: 40.1ms\tremaining: 17.2ms\n",
      "70:\tlearn: 0.6410718\ttotal: 40.6ms\tremaining: 16.6ms\n",
      "71:\tlearn: 0.6407403\ttotal: 41.2ms\tremaining: 16ms\n",
      "72:\tlearn: 0.6403633\ttotal: 41.9ms\tremaining: 15.5ms\n",
      "73:\tlearn: 0.6395896\ttotal: 42.5ms\tremaining: 14.9ms\n",
      "74:\tlearn: 0.6389484\ttotal: 43.1ms\tremaining: 14.4ms\n",
      "75:\tlearn: 0.6380464\ttotal: 43.8ms\tremaining: 13.8ms\n",
      "76:\tlearn: 0.6373962\ttotal: 44.4ms\tremaining: 13.3ms\n",
      "77:\tlearn: 0.6370944\ttotal: 44.9ms\tremaining: 12.7ms\n",
      "78:\tlearn: 0.6368884\ttotal: 45.4ms\tremaining: 12.1ms\n",
      "79:\tlearn: 0.6362248\ttotal: 45.9ms\tremaining: 11.5ms\n",
      "80:\tlearn: 0.6355750\ttotal: 46.5ms\tremaining: 10.9ms\n",
      "81:\tlearn: 0.6351104\ttotal: 47ms\tremaining: 10.3ms\n",
      "82:\tlearn: 0.6349662\ttotal: 47.5ms\tremaining: 9.73ms\n",
      "83:\tlearn: 0.6346109\ttotal: 48.3ms\tremaining: 9.2ms\n",
      "84:\tlearn: 0.6339312\ttotal: 49.9ms\tremaining: 8.8ms\n",
      "85:\tlearn: 0.6336805\ttotal: 50.3ms\tremaining: 8.19ms\n",
      "86:\tlearn: 0.6332191\ttotal: 50.9ms\tremaining: 7.6ms\n",
      "87:\tlearn: 0.6326897\ttotal: 51.4ms\tremaining: 7.01ms\n",
      "88:\tlearn: 0.6320073\ttotal: 52.1ms\tremaining: 6.44ms\n",
      "89:\tlearn: 0.6317312\ttotal: 52.7ms\tremaining: 5.86ms\n",
      "90:\tlearn: 0.6313915\ttotal: 53.3ms\tremaining: 5.27ms\n",
      "91:\tlearn: 0.6308614\ttotal: 53.9ms\tremaining: 4.69ms\n",
      "92:\tlearn: 0.6303836\ttotal: 54.5ms\tremaining: 4.1ms\n",
      "93:\tlearn: 0.6298922\ttotal: 54.9ms\tremaining: 3.51ms\n",
      "94:\tlearn: 0.6297050\ttotal: 55.5ms\tremaining: 2.92ms\n",
      "95:\tlearn: 0.6292440\ttotal: 56.1ms\tremaining: 2.34ms\n",
      "96:\tlearn: 0.6288176\ttotal: 56.9ms\tremaining: 1.76ms\n",
      "97:\tlearn: 0.6284673\ttotal: 57.6ms\tremaining: 1.17ms\n",
      "98:\tlearn: 0.6274178\ttotal: 58.1ms\tremaining: 587us\n",
      "99:\tlearn: 0.6273894\ttotal: 58.6ms\tremaining: 0us\n"
     ]
    },
    {
     "name": "stdout",
     "output_type": "stream",
     "text": [
      "Learning rate set to 0.031973\n",
      "0:\tlearn: 0.6920287\ttotal: 1.2ms\tremaining: 119ms\n",
      "1:\tlearn: 0.6910555\ttotal: 1.94ms\tremaining: 95.3ms\n",
      "2:\tlearn: 0.6897578\ttotal: 2.54ms\tremaining: 82.2ms\n",
      "3:\tlearn: 0.6890424\ttotal: 3.07ms\tremaining: 73.7ms\n",
      "4:\tlearn: 0.6875760\ttotal: 3.63ms\tremaining: 69.1ms\n",
      "5:\tlearn: 0.6870636\ttotal: 4.2ms\tremaining: 65.8ms\n",
      "6:\tlearn: 0.6856943\ttotal: 4.73ms\tremaining: 62.8ms\n",
      "7:\tlearn: 0.6853588\ttotal: 5.17ms\tremaining: 59.5ms\n",
      "8:\tlearn: 0.6843430\ttotal: 5.7ms\tremaining: 57.6ms\n",
      "9:\tlearn: 0.6832930\ttotal: 6.33ms\tremaining: 56.9ms\n",
      "10:\tlearn: 0.6817143\ttotal: 7.17ms\tremaining: 58ms\n",
      "11:\tlearn: 0.6811933\ttotal: 7.66ms\tremaining: 56.2ms\n",
      "12:\tlearn: 0.6804984\ttotal: 8ms\tremaining: 53.6ms\n",
      "13:\tlearn: 0.6797616\ttotal: 8.54ms\tremaining: 52.4ms\n",
      "14:\tlearn: 0.6790033\ttotal: 9.09ms\tremaining: 51.5ms\n",
      "15:\tlearn: 0.6785166\ttotal: 9.67ms\tremaining: 50.8ms\n",
      "16:\tlearn: 0.6774397\ttotal: 10.2ms\tremaining: 49.6ms\n",
      "17:\tlearn: 0.6765104\ttotal: 10.7ms\tremaining: 48.7ms\n",
      "18:\tlearn: 0.6758977\ttotal: 11.7ms\tremaining: 49.9ms\n",
      "19:\tlearn: 0.6752951\ttotal: 12.3ms\tremaining: 49.3ms\n",
      "20:\tlearn: 0.6748177\ttotal: 12.8ms\tremaining: 48.2ms\n",
      "21:\tlearn: 0.6735628\ttotal: 13.8ms\tremaining: 49ms\n",
      "22:\tlearn: 0.6729430\ttotal: 14.5ms\tremaining: 48.4ms\n",
      "23:\tlearn: 0.6724383\ttotal: 15.1ms\tremaining: 47.8ms\n",
      "24:\tlearn: 0.6716620\ttotal: 15.7ms\tremaining: 47.1ms\n",
      "25:\tlearn: 0.6706291\ttotal: 16.4ms\tremaining: 46.6ms\n",
      "26:\tlearn: 0.6695775\ttotal: 16.9ms\tremaining: 45.8ms\n",
      "27:\tlearn: 0.6688630\ttotal: 17.5ms\tremaining: 44.9ms\n",
      "28:\tlearn: 0.6683396\ttotal: 18ms\tremaining: 44.1ms\n",
      "29:\tlearn: 0.6675818\ttotal: 18.6ms\tremaining: 43.3ms\n",
      "30:\tlearn: 0.6668418\ttotal: 19.1ms\tremaining: 42.5ms\n",
      "31:\tlearn: 0.6659598\ttotal: 19.7ms\tremaining: 41.8ms\n",
      "32:\tlearn: 0.6646177\ttotal: 20.2ms\tremaining: 41.1ms\n",
      "33:\tlearn: 0.6640629\ttotal: 20.7ms\tremaining: 40.3ms\n",
      "34:\tlearn: 0.6633627\ttotal: 21.3ms\tremaining: 39.6ms\n",
      "35:\tlearn: 0.6622507\ttotal: 21.9ms\tremaining: 38.9ms\n",
      "36:\tlearn: 0.6619192\ttotal: 22.4ms\tremaining: 38.2ms\n",
      "37:\tlearn: 0.6615902\ttotal: 23ms\tremaining: 37.5ms\n",
      "38:\tlearn: 0.6614787\ttotal: 23.3ms\tremaining: 36.4ms\n",
      "39:\tlearn: 0.6609423\ttotal: 24.8ms\tremaining: 37.1ms\n",
      "40:\tlearn: 0.6601402\ttotal: 26.2ms\tremaining: 37.7ms\n",
      "41:\tlearn: 0.6593826\ttotal: 26.8ms\tremaining: 37ms\n",
      "42:\tlearn: 0.6585785\ttotal: 27.4ms\tremaining: 36.3ms\n",
      "43:\tlearn: 0.6581255\ttotal: 27.9ms\tremaining: 35.5ms\n",
      "44:\tlearn: 0.6571703\ttotal: 28.4ms\tremaining: 34.7ms\n",
      "45:\tlearn: 0.6559885\ttotal: 28.9ms\tremaining: 33.9ms\n",
      "46:\tlearn: 0.6558784\ttotal: 29.1ms\tremaining: 32.9ms\n",
      "47:\tlearn: 0.6552660\ttotal: 29.6ms\tremaining: 32.1ms\n",
      "48:\tlearn: 0.6549438\ttotal: 30.1ms\tremaining: 31.3ms\n",
      "49:\tlearn: 0.6544807\ttotal: 30.5ms\tremaining: 30.5ms\n",
      "50:\tlearn: 0.6540868\ttotal: 31ms\tremaining: 29.8ms\n",
      "51:\tlearn: 0.6534262\ttotal: 31.5ms\tremaining: 29.1ms\n",
      "52:\tlearn: 0.6528898\ttotal: 31.9ms\tremaining: 28.3ms\n",
      "53:\tlearn: 0.6520517\ttotal: 32.3ms\tremaining: 27.5ms\n",
      "54:\tlearn: 0.6516596\ttotal: 32.8ms\tremaining: 26.8ms\n",
      "55:\tlearn: 0.6509468\ttotal: 33.3ms\tremaining: 26.2ms\n",
      "56:\tlearn: 0.6502463\ttotal: 33.9ms\tremaining: 25.6ms\n",
      "57:\tlearn: 0.6494462\ttotal: 34.4ms\tremaining: 24.9ms\n",
      "58:\tlearn: 0.6485388\ttotal: 34.9ms\tremaining: 24.3ms\n",
      "59:\tlearn: 0.6477761\ttotal: 35.5ms\tremaining: 23.6ms\n",
      "60:\tlearn: 0.6468713\ttotal: 36ms\tremaining: 23ms\n",
      "61:\tlearn: 0.6465694\ttotal: 36.5ms\tremaining: 22.4ms\n",
      "62:\tlearn: 0.6457880\ttotal: 37.4ms\tremaining: 22ms\n",
      "63:\tlearn: 0.6453381\ttotal: 37.9ms\tremaining: 21.3ms\n",
      "64:\tlearn: 0.6449158\ttotal: 38.4ms\tremaining: 20.7ms\n",
      "65:\tlearn: 0.6442075\ttotal: 39ms\tremaining: 20.1ms\n",
      "66:\tlearn: 0.6432073\ttotal: 39.6ms\tremaining: 19.5ms\n",
      "67:\tlearn: 0.6420951\ttotal: 40.1ms\tremaining: 18.9ms\n",
      "68:\tlearn: 0.6412941\ttotal: 40.7ms\tremaining: 18.3ms\n",
      "69:\tlearn: 0.6404707\ttotal: 41.2ms\tremaining: 17.7ms\n",
      "70:\tlearn: 0.6402261\ttotal: 41.8ms\tremaining: 17.1ms\n",
      "71:\tlearn: 0.6394980\ttotal: 42.3ms\tremaining: 16.5ms\n",
      "72:\tlearn: 0.6392068\ttotal: 42.9ms\tremaining: 15.9ms\n",
      "73:\tlearn: 0.6386557\ttotal: 43.5ms\tremaining: 15.3ms\n",
      "74:\tlearn: 0.6380376\ttotal: 44ms\tremaining: 14.7ms\n",
      "75:\tlearn: 0.6372902\ttotal: 44.5ms\tremaining: 14.1ms\n",
      "76:\tlearn: 0.6366599\ttotal: 45.1ms\tremaining: 13.5ms\n",
      "77:\tlearn: 0.6364832\ttotal: 45.6ms\tremaining: 12.9ms\n",
      "78:\tlearn: 0.6357696\ttotal: 46.1ms\tremaining: 12.3ms\n",
      "79:\tlearn: 0.6355968\ttotal: 46.5ms\tremaining: 11.6ms\n",
      "80:\tlearn: 0.6349735\ttotal: 47ms\tremaining: 11ms\n",
      "81:\tlearn: 0.6343199\ttotal: 47.6ms\tremaining: 10.4ms\n",
      "82:\tlearn: 0.6340769\ttotal: 48.4ms\tremaining: 9.9ms\n",
      "83:\tlearn: 0.6335678\ttotal: 48.9ms\tremaining: 9.3ms\n",
      "84:\tlearn: 0.6331749\ttotal: 51.6ms\tremaining: 9.11ms\n",
      "85:\tlearn: 0.6329177\ttotal: 52.1ms\tremaining: 8.48ms\n",
      "86:\tlearn: 0.6321317\ttotal: 52.7ms\tremaining: 7.88ms\n",
      "87:\tlearn: 0.6318737\ttotal: 53.2ms\tremaining: 7.26ms\n",
      "88:\tlearn: 0.6310756\ttotal: 53.8ms\tremaining: 6.65ms\n",
      "89:\tlearn: 0.6304789\ttotal: 54.3ms\tremaining: 6.04ms\n",
      "90:\tlearn: 0.6298731\ttotal: 54.9ms\tremaining: 5.43ms\n",
      "91:\tlearn: 0.6292532\ttotal: 55.4ms\tremaining: 4.82ms\n",
      "92:\tlearn: 0.6289132\ttotal: 55.9ms\tremaining: 4.21ms\n",
      "93:\tlearn: 0.6286285\ttotal: 56.5ms\tremaining: 3.6ms\n",
      "94:\tlearn: 0.6284895\ttotal: 57ms\tremaining: 3ms\n",
      "95:\tlearn: 0.6283722\ttotal: 57.6ms\tremaining: 2.4ms\n",
      "96:\tlearn: 0.6282193\ttotal: 58.1ms\tremaining: 1.8ms\n",
      "97:\tlearn: 0.6281180\ttotal: 58.7ms\tremaining: 1.2ms\n",
      "98:\tlearn: 0.6277653\ttotal: 59.1ms\tremaining: 596us\n",
      "99:\tlearn: 0.6276176\ttotal: 59.6ms\tremaining: 0us\n",
      "Learning rate set to 0.031973\n",
      "0:\tlearn: 0.6921400\ttotal: 659us\tremaining: 65.3ms\n",
      "1:\tlearn: 0.6907474\ttotal: 1.24ms\tremaining: 60.7ms\n",
      "2:\tlearn: 0.6900693\ttotal: 1.76ms\tremaining: 57ms\n",
      "3:\tlearn: 0.6894677\ttotal: 2.31ms\tremaining: 55.5ms\n",
      "4:\tlearn: 0.6885259\ttotal: 2.83ms\tremaining: 53.7ms\n",
      "5:\tlearn: 0.6878559\ttotal: 3.4ms\tremaining: 53.2ms\n",
      "6:\tlearn: 0.6861416\ttotal: 3.88ms\tremaining: 51.6ms\n",
      "7:\tlearn: 0.6855783\ttotal: 4.45ms\tremaining: 51.1ms\n",
      "8:\tlearn: 0.6841098\ttotal: 5.02ms\tremaining: 50.7ms\n",
      "9:\tlearn: 0.6837215\ttotal: 5.53ms\tremaining: 49.8ms\n",
      "10:\tlearn: 0.6825058\ttotal: 6.08ms\tremaining: 49.2ms\n",
      "11:\tlearn: 0.6800844\ttotal: 6.65ms\tremaining: 48.8ms\n",
      "12:\tlearn: 0.6795602\ttotal: 7.2ms\tremaining: 48.2ms\n",
      "13:\tlearn: 0.6791054\ttotal: 7.73ms\tremaining: 47.5ms\n",
      "14:\tlearn: 0.6788551\ttotal: 8.07ms\tremaining: 45.7ms\n",
      "15:\tlearn: 0.6779843\ttotal: 8.8ms\tremaining: 46.2ms\n",
      "16:\tlearn: 0.6771658\ttotal: 9.42ms\tremaining: 46ms\n",
      "17:\tlearn: 0.6762255\ttotal: 9.97ms\tremaining: 45.4ms\n",
      "18:\tlearn: 0.6759666\ttotal: 10.5ms\tremaining: 44.8ms\n",
      "19:\tlearn: 0.6751905\ttotal: 11ms\tremaining: 44.1ms\n",
      "20:\tlearn: 0.6737088\ttotal: 11.5ms\tremaining: 43.3ms\n",
      "21:\tlearn: 0.6734290\ttotal: 12ms\tremaining: 42.7ms\n",
      "22:\tlearn: 0.6730792\ttotal: 12.5ms\tremaining: 41.9ms\n",
      "23:\tlearn: 0.6718550\ttotal: 13.1ms\tremaining: 41.3ms\n",
      "24:\tlearn: 0.6716000\ttotal: 13.4ms\tremaining: 40.3ms\n",
      "25:\tlearn: 0.6711895\ttotal: 13.9ms\tremaining: 39.7ms\n",
      "26:\tlearn: 0.6708533\ttotal: 14.5ms\tremaining: 39.3ms\n",
      "27:\tlearn: 0.6701341\ttotal: 15.1ms\tremaining: 38.9ms\n",
      "28:\tlearn: 0.6699987\ttotal: 15.7ms\tremaining: 38.4ms\n",
      "29:\tlearn: 0.6691554\ttotal: 16.2ms\tremaining: 37.8ms\n",
      "30:\tlearn: 0.6686203\ttotal: 16.7ms\tremaining: 37.2ms\n",
      "31:\tlearn: 0.6680979\ttotal: 17.3ms\tremaining: 36.7ms\n",
      "32:\tlearn: 0.6674866\ttotal: 17.7ms\tremaining: 36ms\n",
      "33:\tlearn: 0.6666412\ttotal: 18.3ms\tremaining: 35.5ms\n",
      "34:\tlearn: 0.6663844\ttotal: 18.8ms\tremaining: 34.9ms\n",
      "35:\tlearn: 0.6649469\ttotal: 19.3ms\tremaining: 34.4ms\n",
      "36:\tlearn: 0.6642357\ttotal: 19.9ms\tremaining: 33.8ms\n",
      "37:\tlearn: 0.6638065\ttotal: 20.4ms\tremaining: 33.2ms\n",
      "38:\tlearn: 0.6633474\ttotal: 20.9ms\tremaining: 32.6ms\n",
      "39:\tlearn: 0.6629632\ttotal: 21.4ms\tremaining: 32.1ms\n",
      "40:\tlearn: 0.6624392\ttotal: 22.3ms\tremaining: 32ms\n",
      "41:\tlearn: 0.6614837\ttotal: 23.4ms\tremaining: 32.3ms\n",
      "42:\tlearn: 0.6609799\ttotal: 23.9ms\tremaining: 31.7ms\n",
      "43:\tlearn: 0.6607168\ttotal: 24.2ms\tremaining: 30.8ms\n",
      "44:\tlearn: 0.6602905\ttotal: 24.7ms\tremaining: 30.2ms\n",
      "45:\tlearn: 0.6597198\ttotal: 25.2ms\tremaining: 29.6ms\n",
      "46:\tlearn: 0.6592496\ttotal: 25.7ms\tremaining: 29ms\n",
      "47:\tlearn: 0.6583607\ttotal: 26.3ms\tremaining: 28.5ms\n",
      "48:\tlearn: 0.6579256\ttotal: 26.8ms\tremaining: 27.9ms\n",
      "49:\tlearn: 0.6576641\ttotal: 27.3ms\tremaining: 27.3ms\n",
      "50:\tlearn: 0.6567207\ttotal: 27.8ms\tremaining: 26.7ms\n",
      "51:\tlearn: 0.6559673\ttotal: 28.3ms\tremaining: 26.1ms\n",
      "52:\tlearn: 0.6549152\ttotal: 28.8ms\tremaining: 25.5ms\n",
      "53:\tlearn: 0.6546945\ttotal: 29.2ms\tremaining: 24.9ms\n",
      "54:\tlearn: 0.6540727\ttotal: 29.8ms\tremaining: 24.4ms\n",
      "55:\tlearn: 0.6534149\ttotal: 30.3ms\tremaining: 23.8ms\n",
      "56:\tlearn: 0.6528035\ttotal: 30.8ms\tremaining: 23.3ms\n",
      "57:\tlearn: 0.6524501\ttotal: 31.3ms\tremaining: 22.6ms\n",
      "58:\tlearn: 0.6517582\ttotal: 31.8ms\tremaining: 22.1ms\n",
      "59:\tlearn: 0.6507676\ttotal: 32.3ms\tremaining: 21.6ms\n",
      "60:\tlearn: 0.6501009\ttotal: 32.8ms\tremaining: 21ms\n",
      "61:\tlearn: 0.6498942\ttotal: 33.4ms\tremaining: 20.5ms\n",
      "62:\tlearn: 0.6495722\ttotal: 33.8ms\tremaining: 19.9ms\n",
      "63:\tlearn: 0.6486226\ttotal: 34.3ms\tremaining: 19.3ms\n",
      "64:\tlearn: 0.6484982\ttotal: 35ms\tremaining: 18.9ms\n",
      "65:\tlearn: 0.6482853\ttotal: 35.5ms\tremaining: 18.3ms\n",
      "66:\tlearn: 0.6479996\ttotal: 35.8ms\tremaining: 17.6ms\n",
      "67:\tlearn: 0.6478585\ttotal: 36.4ms\tremaining: 17.1ms\n",
      "68:\tlearn: 0.6472584\ttotal: 36.9ms\tremaining: 16.6ms\n",
      "69:\tlearn: 0.6469625\ttotal: 37.4ms\tremaining: 16ms\n",
      "70:\tlearn: 0.6466898\ttotal: 38ms\tremaining: 15.5ms\n",
      "71:\tlearn: 0.6464756\ttotal: 38.6ms\tremaining: 15ms\n",
      "72:\tlearn: 0.6459115\ttotal: 39.2ms\tremaining: 14.5ms\n",
      "73:\tlearn: 0.6454660\ttotal: 39.7ms\tremaining: 14ms\n",
      "74:\tlearn: 0.6450158\ttotal: 40.3ms\tremaining: 13.4ms\n",
      "75:\tlearn: 0.6446991\ttotal: 40.8ms\tremaining: 12.9ms\n",
      "76:\tlearn: 0.6441423\ttotal: 41.4ms\tremaining: 12.4ms\n",
      "77:\tlearn: 0.6437276\ttotal: 41.9ms\tremaining: 11.8ms\n",
      "78:\tlearn: 0.6434723\ttotal: 42.4ms\tremaining: 11.3ms\n",
      "79:\tlearn: 0.6431070\ttotal: 42.9ms\tremaining: 10.7ms\n",
      "80:\tlearn: 0.6427199\ttotal: 43.4ms\tremaining: 10.2ms\n",
      "81:\tlearn: 0.6424304\ttotal: 43.9ms\tremaining: 9.64ms\n",
      "82:\tlearn: 0.6420652\ttotal: 44.2ms\tremaining: 9.06ms\n",
      "83:\tlearn: 0.6417710\ttotal: 44.7ms\tremaining: 8.52ms\n",
      "84:\tlearn: 0.6411556\ttotal: 45.2ms\tremaining: 7.98ms\n",
      "85:\tlearn: 0.6409045\ttotal: 45.7ms\tremaining: 7.44ms\n",
      "86:\tlearn: 0.6403688\ttotal: 46.2ms\tremaining: 6.91ms\n",
      "87:\tlearn: 0.6401153\ttotal: 46.7ms\tremaining: 6.37ms\n",
      "88:\tlearn: 0.6392047\ttotal: 47.2ms\tremaining: 5.84ms\n",
      "89:\tlearn: 0.6387020\ttotal: 47.7ms\tremaining: 5.3ms\n",
      "90:\tlearn: 0.6386395\ttotal: 50.3ms\tremaining: 4.97ms\n",
      "91:\tlearn: 0.6384565\ttotal: 50.7ms\tremaining: 4.41ms\n",
      "92:\tlearn: 0.6382470\ttotal: 51.1ms\tremaining: 3.85ms\n",
      "93:\tlearn: 0.6376802\ttotal: 51.6ms\tremaining: 3.29ms\n",
      "94:\tlearn: 0.6373650\ttotal: 52.2ms\tremaining: 2.75ms\n",
      "95:\tlearn: 0.6370071\ttotal: 52.7ms\tremaining: 2.19ms\n",
      "96:\tlearn: 0.6366915\ttotal: 53.2ms\tremaining: 1.65ms\n",
      "97:\tlearn: 0.6362851\ttotal: 53.8ms\tremaining: 1.1ms\n",
      "98:\tlearn: 0.6358148\ttotal: 54.2ms\tremaining: 547us\n",
      "99:\tlearn: 0.6354597\ttotal: 54.9ms\tremaining: 0us\n"
     ]
    },
    {
     "name": "stdout",
     "output_type": "stream",
     "text": [
      "Learning rate set to 0.031973\n",
      "0:\tlearn: 0.6920808\ttotal: 746us\tremaining: 73.9ms\n",
      "1:\tlearn: 0.6912275\ttotal: 1.12ms\tremaining: 54.7ms\n",
      "2:\tlearn: 0.6907095\ttotal: 2.32ms\tremaining: 74.9ms\n",
      "3:\tlearn: 0.6899216\ttotal: 2.7ms\tremaining: 64.8ms\n",
      "4:\tlearn: 0.6898176\ttotal: 2.89ms\tremaining: 55ms\n",
      "5:\tlearn: 0.6886801\ttotal: 3.35ms\tremaining: 52.4ms\n",
      "6:\tlearn: 0.6881814\ttotal: 3.86ms\tremaining: 51.3ms\n",
      "7:\tlearn: 0.6871664\ttotal: 4.42ms\tremaining: 50.8ms\n",
      "8:\tlearn: 0.6866756\ttotal: 4.77ms\tremaining: 48.2ms\n",
      "9:\tlearn: 0.6855124\ttotal: 5.3ms\tremaining: 47.7ms\n",
      "10:\tlearn: 0.6849200\ttotal: 5.86ms\tremaining: 47.4ms\n",
      "11:\tlearn: 0.6839705\ttotal: 6.36ms\tremaining: 46.7ms\n",
      "12:\tlearn: 0.6834034\ttotal: 6.82ms\tremaining: 45.7ms\n",
      "13:\tlearn: 0.6821122\ttotal: 7.34ms\tremaining: 45.1ms\n",
      "14:\tlearn: 0.6811589\ttotal: 7.89ms\tremaining: 44.7ms\n",
      "15:\tlearn: 0.6804026\ttotal: 8.31ms\tremaining: 43.6ms\n",
      "16:\tlearn: 0.6794144\ttotal: 8.84ms\tremaining: 43.2ms\n",
      "17:\tlearn: 0.6782327\ttotal: 9.39ms\tremaining: 42.8ms\n",
      "18:\tlearn: 0.6769725\ttotal: 9.9ms\tremaining: 42.2ms\n",
      "19:\tlearn: 0.6759957\ttotal: 10.5ms\tremaining: 41.8ms\n",
      "20:\tlearn: 0.6755093\ttotal: 11ms\tremaining: 41.3ms\n",
      "21:\tlearn: 0.6748750\ttotal: 11.5ms\tremaining: 40.8ms\n",
      "22:\tlearn: 0.6741230\ttotal: 12ms\tremaining: 40.3ms\n",
      "23:\tlearn: 0.6733921\ttotal: 12.6ms\tremaining: 39.9ms\n",
      "24:\tlearn: 0.6726994\ttotal: 13.1ms\tremaining: 39.3ms\n",
      "25:\tlearn: 0.6721939\ttotal: 14.2ms\tremaining: 40.3ms\n",
      "26:\tlearn: 0.6713735\ttotal: 15ms\tremaining: 40.6ms\n",
      "27:\tlearn: 0.6709764\ttotal: 15.6ms\tremaining: 40.1ms\n",
      "28:\tlearn: 0.6700942\ttotal: 16.3ms\tremaining: 39.8ms\n",
      "29:\tlearn: 0.6694406\ttotal: 16.7ms\tremaining: 39.1ms\n",
      "30:\tlearn: 0.6691499\ttotal: 17.3ms\tremaining: 38.5ms\n",
      "31:\tlearn: 0.6688725\ttotal: 17.7ms\tremaining: 37.5ms\n",
      "32:\tlearn: 0.6670754\ttotal: 18.2ms\tremaining: 37ms\n",
      "33:\tlearn: 0.6661794\ttotal: 18.8ms\tremaining: 36.6ms\n",
      "34:\tlearn: 0.6652974\ttotal: 19.4ms\tremaining: 36.1ms\n",
      "35:\tlearn: 0.6646606\ttotal: 19.9ms\tremaining: 35.5ms\n",
      "36:\tlearn: 0.6640461\ttotal: 20.4ms\tremaining: 34.8ms\n",
      "37:\tlearn: 0.6639059\ttotal: 20.9ms\tremaining: 34.1ms\n",
      "38:\tlearn: 0.6625733\ttotal: 21.4ms\tremaining: 33.5ms\n",
      "39:\tlearn: 0.6617163\ttotal: 22ms\tremaining: 33.1ms\n",
      "40:\tlearn: 0.6606989\ttotal: 22.5ms\tremaining: 32.4ms\n",
      "41:\tlearn: 0.6602059\ttotal: 23ms\tremaining: 31.8ms\n",
      "42:\tlearn: 0.6599196\ttotal: 23.5ms\tremaining: 31.2ms\n",
      "43:\tlearn: 0.6584963\ttotal: 24ms\tremaining: 30.6ms\n",
      "44:\tlearn: 0.6580232\ttotal: 24.6ms\tremaining: 30ms\n",
      "45:\tlearn: 0.6576806\ttotal: 25.2ms\tremaining: 29.5ms\n",
      "46:\tlearn: 0.6572533\ttotal: 25.7ms\tremaining: 29ms\n",
      "47:\tlearn: 0.6569825\ttotal: 28.7ms\tremaining: 31.1ms\n",
      "48:\tlearn: 0.6562855\ttotal: 29.3ms\tremaining: 30.5ms\n",
      "49:\tlearn: 0.6553585\ttotal: 30.1ms\tremaining: 30.1ms\n",
      "50:\tlearn: 0.6549044\ttotal: 30.6ms\tremaining: 29.4ms\n",
      "51:\tlearn: 0.6545783\ttotal: 31.2ms\tremaining: 28.8ms\n",
      "52:\tlearn: 0.6541934\ttotal: 31.5ms\tremaining: 27.9ms\n",
      "53:\tlearn: 0.6539228\ttotal: 31.9ms\tremaining: 27.2ms\n",
      "54:\tlearn: 0.6536291\ttotal: 32.5ms\tremaining: 26.6ms\n",
      "55:\tlearn: 0.6530024\ttotal: 33ms\tremaining: 25.9ms\n",
      "56:\tlearn: 0.6520537\ttotal: 33.5ms\tremaining: 25.3ms\n",
      "57:\tlearn: 0.6519207\ttotal: 33.7ms\tremaining: 24.4ms\n",
      "58:\tlearn: 0.6513862\ttotal: 34.2ms\tremaining: 23.7ms\n",
      "59:\tlearn: 0.6513028\ttotal: 34.4ms\tremaining: 22.9ms\n",
      "60:\tlearn: 0.6510001\ttotal: 35.7ms\tremaining: 22.8ms\n",
      "61:\tlearn: 0.6502268\ttotal: 36.3ms\tremaining: 22.2ms\n",
      "62:\tlearn: 0.6498409\ttotal: 36.7ms\tremaining: 21.6ms\n",
      "63:\tlearn: 0.6491282\ttotal: 37.4ms\tremaining: 21ms\n",
      "64:\tlearn: 0.6490352\ttotal: 37.9ms\tremaining: 20.4ms\n",
      "65:\tlearn: 0.6486850\ttotal: 38.5ms\tremaining: 19.8ms\n",
      "66:\tlearn: 0.6484811\ttotal: 39ms\tremaining: 19.2ms\n",
      "67:\tlearn: 0.6481305\ttotal: 39.5ms\tremaining: 18.6ms\n",
      "68:\tlearn: 0.6475141\ttotal: 41.9ms\tremaining: 18.8ms\n",
      "69:\tlearn: 0.6472589\ttotal: 42.4ms\tremaining: 18.2ms\n",
      "70:\tlearn: 0.6470362\ttotal: 43.3ms\tremaining: 17.7ms\n",
      "71:\tlearn: 0.6465341\ttotal: 43.8ms\tremaining: 17ms\n",
      "72:\tlearn: 0.6462943\ttotal: 44.8ms\tremaining: 16.6ms\n",
      "73:\tlearn: 0.6458544\ttotal: 45.2ms\tremaining: 15.9ms\n",
      "74:\tlearn: 0.6453859\ttotal: 45.5ms\tremaining: 15.2ms\n",
      "75:\tlearn: 0.6448349\ttotal: 46ms\tremaining: 14.5ms\n",
      "76:\tlearn: 0.6444242\ttotal: 46.6ms\tremaining: 13.9ms\n",
      "77:\tlearn: 0.6440483\ttotal: 47.1ms\tremaining: 13.3ms\n",
      "78:\tlearn: 0.6435799\ttotal: 47.6ms\tremaining: 12.7ms\n",
      "79:\tlearn: 0.6434135\ttotal: 48.2ms\tremaining: 12ms\n",
      "80:\tlearn: 0.6429490\ttotal: 48.7ms\tremaining: 11.4ms\n",
      "81:\tlearn: 0.6428623\ttotal: 49ms\tremaining: 10.8ms\n",
      "82:\tlearn: 0.6426612\ttotal: 49.5ms\tremaining: 10.1ms\n",
      "83:\tlearn: 0.6421687\ttotal: 50ms\tremaining: 9.53ms\n",
      "84:\tlearn: 0.6418648\ttotal: 50.4ms\tremaining: 8.9ms\n",
      "85:\tlearn: 0.6414711\ttotal: 51ms\tremaining: 8.31ms\n",
      "86:\tlearn: 0.6410744\ttotal: 51.7ms\tremaining: 7.72ms\n",
      "87:\tlearn: 0.6407920\ttotal: 52.2ms\tremaining: 7.12ms\n",
      "88:\tlearn: 0.6403522\ttotal: 57ms\tremaining: 7.05ms\n",
      "89:\tlearn: 0.6401568\ttotal: 57.6ms\tremaining: 6.4ms\n",
      "90:\tlearn: 0.6397451\ttotal: 58.3ms\tremaining: 5.77ms\n",
      "91:\tlearn: 0.6393591\ttotal: 58.9ms\tremaining: 5.12ms\n",
      "92:\tlearn: 0.6389833\ttotal: 59.8ms\tremaining: 4.5ms\n",
      "93:\tlearn: 0.6382533\ttotal: 60.3ms\tremaining: 3.85ms\n",
      "94:\tlearn: 0.6377428\ttotal: 60.9ms\tremaining: 3.21ms\n",
      "95:\tlearn: 0.6374516\ttotal: 61.5ms\tremaining: 2.56ms\n",
      "96:\tlearn: 0.6370971\ttotal: 62ms\tremaining: 1.92ms\n",
      "97:\tlearn: 0.6365675\ttotal: 62.5ms\tremaining: 1.28ms\n",
      "98:\tlearn: 0.6359061\ttotal: 63.1ms\tremaining: 637us\n",
      "99:\tlearn: 0.6356664\ttotal: 63.6ms\tremaining: 0us\n",
      "Learning rate set to 0.031973\n",
      "0:\tlearn: 0.6911985\ttotal: 668us\tremaining: 66.2ms\n",
      "1:\tlearn: 0.6906093\ttotal: 1.3ms\tremaining: 63.8ms\n",
      "2:\tlearn: 0.6897905\ttotal: 1.67ms\tremaining: 53.9ms\n",
      "3:\tlearn: 0.6890460\ttotal: 2.19ms\tremaining: 52.5ms\n",
      "4:\tlearn: 0.6885159\ttotal: 2.74ms\tremaining: 52ms\n",
      "5:\tlearn: 0.6866822\ttotal: 3.76ms\tremaining: 58.9ms\n",
      "6:\tlearn: 0.6862799\ttotal: 4.07ms\tremaining: 54.1ms\n",
      "7:\tlearn: 0.6856638\ttotal: 4.59ms\tremaining: 52.8ms\n",
      "8:\tlearn: 0.6843199\ttotal: 5.18ms\tremaining: 52.3ms\n",
      "9:\tlearn: 0.6838434\ttotal: 5.66ms\tremaining: 51ms\n",
      "10:\tlearn: 0.6820417\ttotal: 6.14ms\tremaining: 49.7ms\n",
      "11:\tlearn: 0.6808290\ttotal: 6.79ms\tremaining: 49.8ms\n",
      "12:\tlearn: 0.6798579\ttotal: 7.32ms\tremaining: 49ms\n",
      "13:\tlearn: 0.6794020\ttotal: 7.81ms\tremaining: 48ms\n",
      "14:\tlearn: 0.6785870\ttotal: 8.29ms\tremaining: 47ms\n",
      "15:\tlearn: 0.6771135\ttotal: 8.79ms\tremaining: 46.2ms\n",
      "16:\tlearn: 0.6765979\ttotal: 9.28ms\tremaining: 45.3ms\n",
      "17:\tlearn: 0.6757211\ttotal: 9.77ms\tremaining: 44.5ms\n",
      "18:\tlearn: 0.6749959\ttotal: 10.3ms\tremaining: 43.7ms\n",
      "19:\tlearn: 0.6741699\ttotal: 10.7ms\tremaining: 42.9ms\n",
      "20:\tlearn: 0.6727953\ttotal: 11.2ms\tremaining: 42.2ms\n",
      "21:\tlearn: 0.6718209\ttotal: 11.7ms\tremaining: 41.5ms\n",
      "22:\tlearn: 0.6711080\ttotal: 12.2ms\tremaining: 40.8ms\n",
      "23:\tlearn: 0.6700357\ttotal: 12.7ms\tremaining: 40.1ms\n",
      "24:\tlearn: 0.6684720\ttotal: 13.2ms\tremaining: 39.5ms\n",
      "25:\tlearn: 0.6674113\ttotal: 13.6ms\tremaining: 38.8ms\n",
      "26:\tlearn: 0.6672042\ttotal: 14.1ms\tremaining: 38.2ms\n",
      "27:\tlearn: 0.6667457\ttotal: 14.6ms\tremaining: 37.5ms\n",
      "28:\tlearn: 0.6660372\ttotal: 15.1ms\tremaining: 37ms\n",
      "29:\tlearn: 0.6653673\ttotal: 15.7ms\tremaining: 36.5ms\n",
      "30:\tlearn: 0.6645421\ttotal: 16.5ms\tremaining: 36.8ms\n",
      "31:\tlearn: 0.6640327\ttotal: 17.5ms\tremaining: 37.1ms\n",
      "32:\tlearn: 0.6627945\ttotal: 18ms\tremaining: 36.5ms\n",
      "33:\tlearn: 0.6622025\ttotal: 18.5ms\tremaining: 35.8ms\n",
      "34:\tlearn: 0.6615836\ttotal: 19.2ms\tremaining: 35.7ms\n",
      "35:\tlearn: 0.6605162\ttotal: 19.8ms\tremaining: 35.2ms\n",
      "36:\tlearn: 0.6601078\ttotal: 20.4ms\tremaining: 34.7ms\n",
      "37:\tlearn: 0.6592560\ttotal: 20.9ms\tremaining: 34.1ms\n",
      "38:\tlearn: 0.6586458\ttotal: 21.4ms\tremaining: 33.4ms\n",
      "39:\tlearn: 0.6575232\ttotal: 21.9ms\tremaining: 32.9ms\n",
      "40:\tlearn: 0.6559175\ttotal: 22.9ms\tremaining: 32.9ms\n",
      "41:\tlearn: 0.6553804\ttotal: 23.5ms\tremaining: 32.4ms\n",
      "42:\tlearn: 0.6550110\ttotal: 24ms\tremaining: 31.8ms\n",
      "43:\tlearn: 0.6534250\ttotal: 24.5ms\tremaining: 31.2ms\n",
      "44:\tlearn: 0.6528063\ttotal: 25ms\tremaining: 30.5ms\n",
      "45:\tlearn: 0.6524648\ttotal: 25.5ms\tremaining: 29.9ms\n",
      "46:\tlearn: 0.6521756\ttotal: 25.9ms\tremaining: 29.2ms\n",
      "47:\tlearn: 0.6511881\ttotal: 26.4ms\tremaining: 28.7ms\n",
      "48:\tlearn: 0.6502578\ttotal: 27ms\tremaining: 28.1ms\n",
      "49:\tlearn: 0.6497590\ttotal: 27.5ms\tremaining: 27.5ms\n",
      "50:\tlearn: 0.6491876\ttotal: 28.1ms\tremaining: 27ms\n",
      "51:\tlearn: 0.6486311\ttotal: 30.5ms\tremaining: 28.1ms\n",
      "52:\tlearn: 0.6484209\ttotal: 31.1ms\tremaining: 27.6ms\n",
      "53:\tlearn: 0.6477527\ttotal: 31.7ms\tremaining: 27ms\n",
      "54:\tlearn: 0.6470033\ttotal: 32.2ms\tremaining: 26.3ms\n",
      "55:\tlearn: 0.6463794\ttotal: 32.7ms\tremaining: 25.7ms\n",
      "56:\tlearn: 0.6456789\ttotal: 33.1ms\tremaining: 25ms\n",
      "57:\tlearn: 0.6445475\ttotal: 33.6ms\tremaining: 24.3ms\n",
      "58:\tlearn: 0.6438960\ttotal: 34.1ms\tremaining: 23.7ms\n",
      "59:\tlearn: 0.6432080\ttotal: 34.5ms\tremaining: 23ms\n",
      "60:\tlearn: 0.6426585\ttotal: 35ms\tremaining: 22.4ms\n",
      "61:\tlearn: 0.6423299\ttotal: 35.4ms\tremaining: 21.7ms\n",
      "62:\tlearn: 0.6417298\ttotal: 35.9ms\tremaining: 21.1ms\n",
      "63:\tlearn: 0.6412890\ttotal: 36.4ms\tremaining: 20.5ms\n",
      "64:\tlearn: 0.6408715\ttotal: 36.7ms\tremaining: 19.8ms\n",
      "65:\tlearn: 0.6403553\ttotal: 37.1ms\tremaining: 19.1ms\n",
      "66:\tlearn: 0.6398920\ttotal: 37.6ms\tremaining: 18.5ms\n",
      "67:\tlearn: 0.6394606\ttotal: 38ms\tremaining: 17.9ms\n",
      "68:\tlearn: 0.6391394\ttotal: 38.5ms\tremaining: 17.3ms\n",
      "69:\tlearn: 0.6382570\ttotal: 39.1ms\tremaining: 16.7ms\n",
      "70:\tlearn: 0.6375691\ttotal: 39.8ms\tremaining: 16.2ms\n",
      "71:\tlearn: 0.6368086\ttotal: 40.8ms\tremaining: 15.9ms\n",
      "72:\tlearn: 0.6356116\ttotal: 41.4ms\tremaining: 15.3ms\n",
      "73:\tlearn: 0.6349493\ttotal: 43.2ms\tremaining: 15.2ms\n",
      "74:\tlearn: 0.6345778\ttotal: 44ms\tremaining: 14.7ms\n",
      "75:\tlearn: 0.6340735\ttotal: 44.5ms\tremaining: 14.1ms\n",
      "76:\tlearn: 0.6333768\ttotal: 45.3ms\tremaining: 13.5ms\n",
      "77:\tlearn: 0.6328739\ttotal: 46ms\tremaining: 13ms\n",
      "78:\tlearn: 0.6326632\ttotal: 46.5ms\tremaining: 12.4ms\n",
      "79:\tlearn: 0.6324508\ttotal: 46.9ms\tremaining: 11.7ms\n",
      "80:\tlearn: 0.6321755\ttotal: 47.7ms\tremaining: 11.2ms\n",
      "81:\tlearn: 0.6312463\ttotal: 48.2ms\tremaining: 10.6ms\n",
      "82:\tlearn: 0.6309077\ttotal: 48.7ms\tremaining: 9.97ms\n",
      "83:\tlearn: 0.6307366\ttotal: 49.4ms\tremaining: 9.4ms\n",
      "84:\tlearn: 0.6302384\ttotal: 51.5ms\tremaining: 9.09ms\n"
     ]
    },
    {
     "name": "stdout",
     "output_type": "stream",
     "text": [
      "85:\tlearn: 0.6301733\ttotal: 52.5ms\tremaining: 8.54ms\n",
      "86:\tlearn: 0.6299570\ttotal: 53.5ms\tremaining: 7.99ms\n",
      "87:\tlearn: 0.6296816\ttotal: 54.2ms\tremaining: 7.39ms\n",
      "88:\tlearn: 0.6294143\ttotal: 54.8ms\tremaining: 6.77ms\n",
      "89:\tlearn: 0.6293485\ttotal: 55.4ms\tremaining: 6.16ms\n",
      "90:\tlearn: 0.6289586\ttotal: 56ms\tremaining: 5.54ms\n",
      "91:\tlearn: 0.6285987\ttotal: 56.6ms\tremaining: 4.92ms\n",
      "92:\tlearn: 0.6284013\ttotal: 57.2ms\tremaining: 4.3ms\n",
      "93:\tlearn: 0.6282016\ttotal: 57.8ms\tremaining: 3.69ms\n",
      "94:\tlearn: 0.6274979\ttotal: 58.4ms\tremaining: 3.07ms\n",
      "95:\tlearn: 0.6269648\ttotal: 59ms\tremaining: 2.46ms\n",
      "96:\tlearn: 0.6265440\ttotal: 59.5ms\tremaining: 1.84ms\n",
      "97:\tlearn: 0.6258965\ttotal: 60ms\tremaining: 1.23ms\n",
      "98:\tlearn: 0.6254343\ttotal: 60.6ms\tremaining: 611us\n",
      "99:\tlearn: 0.6248661\ttotal: 61.1ms\tremaining: 0us\n",
      "Learning rate set to 0.031973\n",
      "0:\tlearn: 0.6916611\ttotal: 705us\tremaining: 69.9ms\n",
      "1:\tlearn: 0.6905801\ttotal: 1.27ms\tremaining: 62.5ms\n",
      "2:\tlearn: 0.6895952\ttotal: 1.81ms\tremaining: 58.5ms\n",
      "3:\tlearn: 0.6890562\ttotal: 2.34ms\tremaining: 56.2ms\n",
      "4:\tlearn: 0.6883284\ttotal: 2.87ms\tremaining: 54.5ms\n",
      "5:\tlearn: 0.6865636\ttotal: 3.38ms\tremaining: 53ms\n",
      "6:\tlearn: 0.6859946\ttotal: 3.8ms\tremaining: 50.5ms\n",
      "7:\tlearn: 0.6851200\ttotal: 4.35ms\tremaining: 50ms\n",
      "8:\tlearn: 0.6840848\ttotal: 4.88ms\tremaining: 49.3ms\n",
      "9:\tlearn: 0.6830032\ttotal: 5.38ms\tremaining: 48.4ms\n",
      "10:\tlearn: 0.6825557\ttotal: 5.91ms\tremaining: 47.8ms\n",
      "11:\tlearn: 0.6821347\ttotal: 6.33ms\tremaining: 46.4ms\n",
      "12:\tlearn: 0.6817617\ttotal: 6.66ms\tremaining: 44.6ms\n",
      "13:\tlearn: 0.6813926\ttotal: 7.08ms\tremaining: 43.5ms\n",
      "14:\tlearn: 0.6806390\ttotal: 7.61ms\tremaining: 43.1ms\n",
      "15:\tlearn: 0.6798236\ttotal: 8.11ms\tremaining: 42.6ms\n",
      "16:\tlearn: 0.6787316\ttotal: 8.61ms\tremaining: 42ms\n",
      "17:\tlearn: 0.6782382\ttotal: 9.08ms\tremaining: 41.4ms\n",
      "18:\tlearn: 0.6775137\ttotal: 9.57ms\tremaining: 40.8ms\n",
      "19:\tlearn: 0.6766050\ttotal: 10.4ms\tremaining: 41.4ms\n",
      "20:\tlearn: 0.6758519\ttotal: 10.9ms\tremaining: 41.1ms\n",
      "21:\tlearn: 0.6750413\ttotal: 11.5ms\tremaining: 40.8ms\n",
      "22:\tlearn: 0.6744904\ttotal: 12.2ms\tremaining: 40.8ms\n",
      "23:\tlearn: 0.6736807\ttotal: 12.7ms\tremaining: 40.3ms\n",
      "24:\tlearn: 0.6729815\ttotal: 13.3ms\tremaining: 39.8ms\n",
      "25:\tlearn: 0.6725397\ttotal: 13.8ms\tremaining: 39.3ms\n",
      "26:\tlearn: 0.6721168\ttotal: 14.4ms\tremaining: 38.8ms\n",
      "27:\tlearn: 0.6716669\ttotal: 14.9ms\tremaining: 38.2ms\n",
      "28:\tlearn: 0.6713480\ttotal: 15.4ms\tremaining: 37.6ms\n",
      "29:\tlearn: 0.6703318\ttotal: 15.9ms\tremaining: 37.2ms\n",
      "30:\tlearn: 0.6698514\ttotal: 16.5ms\tremaining: 36.6ms\n",
      "31:\tlearn: 0.6693436\ttotal: 17ms\tremaining: 36.1ms\n",
      "32:\tlearn: 0.6687379\ttotal: 17.5ms\tremaining: 35.6ms\n",
      "33:\tlearn: 0.6683960\ttotal: 17.8ms\tremaining: 34.5ms\n",
      "34:\tlearn: 0.6679798\ttotal: 18.3ms\tremaining: 34ms\n",
      "35:\tlearn: 0.6677227\ttotal: 18.8ms\tremaining: 33.4ms\n",
      "36:\tlearn: 0.6673827\ttotal: 19.3ms\tremaining: 32.9ms\n",
      "37:\tlearn: 0.6668693\ttotal: 19.7ms\tremaining: 32.2ms\n",
      "38:\tlearn: 0.6661729\ttotal: 20.3ms\tremaining: 31.7ms\n",
      "39:\tlearn: 0.6653636\ttotal: 20.8ms\tremaining: 31.2ms\n",
      "40:\tlearn: 0.6648186\ttotal: 21.6ms\tremaining: 31.1ms\n",
      "41:\tlearn: 0.6647651\ttotal: 24.3ms\tremaining: 33.5ms\n",
      "42:\tlearn: 0.6641899\ttotal: 24.8ms\tremaining: 32.9ms\n",
      "43:\tlearn: 0.6639259\ttotal: 25.3ms\tremaining: 32.2ms\n",
      "44:\tlearn: 0.6634685\ttotal: 25.8ms\tremaining: 31.5ms\n",
      "45:\tlearn: 0.6632611\ttotal: 26.4ms\tremaining: 30.9ms\n",
      "46:\tlearn: 0.6627782\ttotal: 26.9ms\tremaining: 30.3ms\n",
      "47:\tlearn: 0.6621282\ttotal: 27.4ms\tremaining: 29.7ms\n",
      "48:\tlearn: 0.6611556\ttotal: 28ms\tremaining: 29.1ms\n",
      "49:\tlearn: 0.6606969\ttotal: 28.6ms\tremaining: 28.6ms\n",
      "50:\tlearn: 0.6601357\ttotal: 29.1ms\tremaining: 27.9ms\n",
      "51:\tlearn: 0.6598529\ttotal: 29.6ms\tremaining: 27.3ms\n",
      "52:\tlearn: 0.6596145\ttotal: 30.2ms\tremaining: 26.7ms\n",
      "53:\tlearn: 0.6590371\ttotal: 30.8ms\tremaining: 26.2ms\n",
      "54:\tlearn: 0.6588152\ttotal: 32.1ms\tremaining: 26.2ms\n",
      "55:\tlearn: 0.6583594\ttotal: 32.6ms\tremaining: 25.6ms\n",
      "56:\tlearn: 0.6578189\ttotal: 33.2ms\tremaining: 25ms\n",
      "57:\tlearn: 0.6571676\ttotal: 33.7ms\tremaining: 24.4ms\n",
      "58:\tlearn: 0.6565295\ttotal: 34.3ms\tremaining: 23.8ms\n",
      "59:\tlearn: 0.6564006\ttotal: 34.8ms\tremaining: 23.2ms\n",
      "60:\tlearn: 0.6558664\ttotal: 35.3ms\tremaining: 22.6ms\n",
      "61:\tlearn: 0.6556101\ttotal: 35.9ms\tremaining: 22ms\n",
      "62:\tlearn: 0.6553133\ttotal: 36.4ms\tremaining: 21.4ms\n",
      "63:\tlearn: 0.6547978\ttotal: 36.9ms\tremaining: 20.8ms\n",
      "64:\tlearn: 0.6540972\ttotal: 37.4ms\tremaining: 20.1ms\n",
      "65:\tlearn: 0.6536918\ttotal: 37.9ms\tremaining: 19.5ms\n",
      "66:\tlearn: 0.6528576\ttotal: 38.3ms\tremaining: 18.9ms\n",
      "67:\tlearn: 0.6527028\ttotal: 38.8ms\tremaining: 18.3ms\n",
      "68:\tlearn: 0.6522555\ttotal: 39.2ms\tremaining: 17.6ms\n",
      "69:\tlearn: 0.6519188\ttotal: 39.7ms\tremaining: 17ms\n",
      "70:\tlearn: 0.6518067\ttotal: 40.1ms\tremaining: 16.4ms\n",
      "71:\tlearn: 0.6512089\ttotal: 40.6ms\tremaining: 15.8ms\n",
      "72:\tlearn: 0.6506962\ttotal: 41ms\tremaining: 15.2ms\n",
      "73:\tlearn: 0.6502491\ttotal: 41.5ms\tremaining: 14.6ms\n",
      "74:\tlearn: 0.6498251\ttotal: 41.9ms\tremaining: 14ms\n",
      "75:\tlearn: 0.6493372\ttotal: 42.4ms\tremaining: 13.4ms\n",
      "76:\tlearn: 0.6487104\ttotal: 42.9ms\tremaining: 12.8ms\n",
      "77:\tlearn: 0.6485247\ttotal: 43.3ms\tremaining: 12.2ms\n",
      "78:\tlearn: 0.6481965\ttotal: 43.8ms\tremaining: 11.6ms\n",
      "79:\tlearn: 0.6480399\ttotal: 44.1ms\tremaining: 11ms\n",
      "80:\tlearn: 0.6473349\ttotal: 44.5ms\tremaining: 10.4ms\n",
      "81:\tlearn: 0.6470532\ttotal: 45ms\tremaining: 9.87ms\n",
      "82:\tlearn: 0.6468703\ttotal: 45.4ms\tremaining: 9.29ms\n",
      "83:\tlearn: 0.6458881\ttotal: 45.8ms\tremaining: 8.73ms\n",
      "84:\tlearn: 0.6455617\ttotal: 46.3ms\tremaining: 8.17ms\n",
      "85:\tlearn: 0.6455201\ttotal: 46.6ms\tremaining: 7.58ms\n",
      "86:\tlearn: 0.6452570\ttotal: 47ms\tremaining: 7.02ms\n",
      "87:\tlearn: 0.6447325\ttotal: 49.2ms\tremaining: 6.71ms\n",
      "88:\tlearn: 0.6443987\ttotal: 52.9ms\tremaining: 6.54ms\n",
      "89:\tlearn: 0.6441626\ttotal: 53.5ms\tremaining: 5.94ms\n",
      "90:\tlearn: 0.6439095\ttotal: 54.1ms\tremaining: 5.35ms\n",
      "91:\tlearn: 0.6432335\ttotal: 54.7ms\tremaining: 4.75ms\n",
      "92:\tlearn: 0.6424447\ttotal: 55.2ms\tremaining: 4.15ms\n",
      "93:\tlearn: 0.6422817\ttotal: 55.7ms\tremaining: 3.56ms\n",
      "94:\tlearn: 0.6419590\ttotal: 56.3ms\tremaining: 2.96ms\n",
      "95:\tlearn: 0.6417747\ttotal: 56.7ms\tremaining: 2.36ms\n",
      "96:\tlearn: 0.6416509\ttotal: 57.2ms\tremaining: 1.77ms\n",
      "97:\tlearn: 0.6413664\ttotal: 57.6ms\tremaining: 1.18ms\n",
      "98:\tlearn: 0.6408372\ttotal: 58.1ms\tremaining: 587us\n",
      "99:\tlearn: 0.6406807\ttotal: 59.1ms\tremaining: 0us\n",
      "0.4992424242424242\n"
     ]
    }
   ],
   "source": [
    "catboost_cv = cross_val_score(catboost, x_train, y_train, cv=10) \n",
    "print(catboost_cv.mean())  "
   ]
  },
  {
   "cell_type": "code",
   "execution_count": 221,
   "metadata": {},
   "outputs": [
    {
     "data": {
      "image/png": "[encoded data removed]",
      "text/plain": [
       "<Figure size 800x600 with 2 Axes>"
      ]
     },
     "metadata": {},
     "output_type": "display_data"
    }
   ],
   "source": [
    "plot_confusion_matrix(y_test, y_pred_test, labels)"
   ]
  },
  {
   "cell_type": "markdown",
   "metadata": {},
   "source": [
    "LSTM"
   ]
  },
  {
   "cell_type": "code",
   "execution_count": 214,
   "metadata": {},
   "outputs": [
    {
     "name": "stdout",
     "output_type": "stream",
     "text": [
      "Epoch 1/10\n",
      "4/4 [==============================] - 4s 233ms/step - loss: 0.6930 - accuracy: 0.5089 - val_loss: 0.7011 - val_accuracy: 0.3448\n",
      "Epoch 2/10\n",
      "4/4 [==============================] - 0s 22ms/step - loss: 0.6929 - accuracy: 0.4911 - val_loss: 0.7005 - val_accuracy: 0.3448\n",
      "Epoch 3/10\n",
      "4/4 [==============================] - 0s 17ms/step - loss: 0.6928 - accuracy: 0.4911 - val_loss: 0.7003 - val_accuracy: 0.3448\n",
      "Epoch 4/10\n",
      "4/4 [==============================] - 0s 19ms/step - loss: 0.6927 - accuracy: 0.4911 - val_loss: 0.7000 - val_accuracy: 0.3448\n",
      "Epoch 5/10\n",
      "4/4 [==============================] - 0s 21ms/step - loss: 0.6927 - accuracy: 0.4821 - val_loss: 0.6994 - val_accuracy: 0.3448\n",
      "Epoch 6/10\n",
      "4/4 [==============================] - 0s 17ms/step - loss: 0.6927 - accuracy: 0.4732 - val_loss: 0.6987 - val_accuracy: 0.3448\n",
      "Epoch 7/10\n",
      "4/4 [==============================] - 0s 19ms/step - loss: 0.6928 - accuracy: 0.5179 - val_loss: 0.6981 - val_accuracy: 0.3793\n",
      "Epoch 8/10\n",
      "4/4 [==============================] - 0s 25ms/step - loss: 0.6928 - accuracy: 0.5536 - val_loss: 0.6979 - val_accuracy: 0.4138\n",
      "Epoch 9/10\n",
      "4/4 [==============================] - 0s 19ms/step - loss: 0.6926 - accuracy: 0.5536 - val_loss: 0.6982 - val_accuracy: 0.4138\n",
      "Epoch 10/10\n",
      "4/4 [==============================] - 0s 21ms/step - loss: 0.6927 - accuracy: 0.5446 - val_loss: 0.6989 - val_accuracy: 0.3448\n"
     ]
    },
    {
     "data": {
      "text/plain": [
       "<keras.callbacks.History at 0x22d34f6b220>"
      ]
     },
     "execution_count": 214,
     "metadata": {},
     "output_type": "execute_result"
    }
   ],
   "source": [
    "from tensorflow import keras\n",
    "from tensorflow.keras.models import Sequential\n",
    "from tensorflow.keras.layers import LSTM, Dense\n",
    "\n",
    "# Definiți dimensiunea seriei de timp (numărul de caracteristici de intrare)\n",
    "input_dim = x_train.shape[1]\n",
    "\n",
    "# Inițializați modelul LSTM\n",
    "model = Sequential()\n",
    "\n",
    "# Adăugați stratul LSTM\n",
    "model.add(LSTM(64, input_shape=(None, input_dim)))  # Numărul de unități LSTM poate fi ajustat în funcție de cerințele dvs.\n",
    "\n",
    "# Adăugați un strat de ieșire\n",
    "model.add(Dense(1, activation='sigmoid'))  # Stratul de ieșire pentru clasificarea binară\n",
    "\n",
    "# Compilați modelul\n",
    "model.compile(loss='binary_crossentropy', optimizer='adam', metrics=['accuracy'])\n",
    "\n",
    "# Antrenați modelul\n",
    "model.fit(x_train, y_train, batch_size=32, epochs=10, validation_data=(x_test, y_test))"
   ]
  },
  {
   "cell_type": "code",
   "execution_count": 215,
   "metadata": {},
   "outputs": [
    {
     "name": "stdout",
     "output_type": "stream",
     "text": [
      "4/4 [==============================] - 0s 4ms/step - loss: 0.6926 - accuracy: 0.5536\n",
      "Acuratețe: 0.5535714030265808\n"
     ]
    }
   ],
   "source": [
    "# Evaluarea modelului pe datele de testare\n",
    "loss, accuracy = model.evaluate(x_train, y_train)\n",
    "\n",
    "# Afișarea valorii de acuratețe\n",
    "print('Acuratețe:', accuracy)"
   ]
  },
  {
   "cell_type": "markdown",
   "metadata": {},
   "source": [
    "ANALIZA CLUSTER"
   ]
  },
  {
   "cell_type": "code",
   "execution_count": 30,
   "metadata": {},
   "outputs": [],
   "source": [
    "x_train, x_test, y_train, y_test = train_test_split(x, y, test_size = 0.2, random_state = 42)"
   ]
  },
  {
   "cell_type": "code",
   "execution_count": 36,
   "metadata": {},
   "outputs": [],
   "source": [
    "import numpy as np\n",
    "from sklearn.cluster import KMeans\n",
    "\n",
    "\n",
    "# Create a KMeans instance\n",
    "kmeans = KMeans(n_clusters=3)\n",
    "\n",
    "# Fit the data to the KMeans model\n",
    "kmeans.fit(df[['compound', 'RI']])\n",
    "\n",
    "# Get the cluster labels for each data point\n",
    "labels = kmeans.labels_\n",
    "\n",
    "# Get the coordinates of the cluster centers\n",
    "centers = kmeans.cluster_centers_"
   ]
  },
  {
   "cell_type": "code",
   "execution_count": 37,
   "metadata": {},
   "outputs": [
    {
     "data": {
      "text/plain": [
       "array([1, 1, 1, 1, 1, 1, 1, 1, 1, 1, 1, 1, 1, 1, 1, 1, 0, 0, 0, 0, 0, 1,\n",
       "       1, 1, 1, 1, 1, 1, 1, 1, 1, 1, 1, 1, 1, 1, 1, 1, 1, 1, 1, 1, 1, 1,\n",
       "       1, 1, 1, 1, 1, 1, 1, 1, 0, 0, 0, 0, 0, 0, 0, 0, 1, 1, 1, 1, 1, 1,\n",
       "       1, 0, 0, 0, 0, 0, 0, 0, 0, 0, 0, 0, 0, 0, 0, 0, 0, 0, 0, 0, 0, 0,\n",
       "       0, 0, 0, 0, 0, 0, 0, 0, 0, 0, 0, 0, 0, 0, 1, 1, 1, 1, 1, 1, 1, 0,\n",
       "       0, 0, 0, 0, 0, 0, 0, 0, 0, 0, 0, 0, 0, 0, 0, 0, 0, 1, 1, 1, 1, 1,\n",
       "       1, 2, 2, 2, 2, 2, 2, 2, 2, 2])"
      ]
     },
     "execution_count": 37,
     "metadata": {},
     "output_type": "execute_result"
    }
   ],
   "source": [
    "labels"
   ]
  },
  {
   "cell_type": "code",
   "execution_count": 38,
   "metadata": {},
   "outputs": [],
   "source": [
    "centers = kmeans.cluster_centers_"
   ]
  },
  {
   "cell_type": "code",
   "execution_count": 39,
   "metadata": {},
   "outputs": [
    {
     "data": {
      "text/plain": [
       "array([[ 0.32822879,  1.67984848],\n",
       "       [ 0.43015522,  6.59328358],\n",
       "       [ 0.33311111, 14.71888889]])"
      ]
     },
     "execution_count": 39,
     "metadata": {},
     "output_type": "execute_result"
    }
   ],
   "source": [
    "centers"
   ]
  },
  {
   "cell_type": "code",
   "execution_count": null,
   "metadata": {},
   "outputs": [],
   "source": []
  }
 ],
 "metadata": {
  "colab": {
   "provenance": []
  },
  "kernelspec": {
   "display_name": "Python 3 (ipykernel)",
   "language": "python",
   "name": "python3"
  },
  "language_info": {
   "codemirror_mode": {
    "name": "ipython",
    "version": 3
   },
   "file_extension": ".py",
   "mimetype": "text/x-python",
   "name": "python",
   "nbconvert_exporter": "python",
   "pygments_lexer": "ipython3",
   "version": "3.9.13"
  }
 },
 "nbformat": 4,
 "nbformat_minor": 1
}
