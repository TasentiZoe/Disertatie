{
 "cells": [
  {
   "cell_type": "code",
   "execution_count": 1,
   "id": "980dd736",
   "metadata": {},
   "outputs": [],
   "source": [
    "setwd(\"C:/Users/Zoe/Desktop/Disertatie/Coduri\")"
   ]
  },
  {
   "cell_type": "code",
   "execution_count": 2,
   "id": "dae38857",
   "metadata": {},
   "outputs": [],
   "source": [
    "library(readxl)"
   ]
  },
  {
   "cell_type": "code",
   "execution_count": 22,
   "id": "d24b4d49",
   "metadata": {},
   "outputs": [],
   "source": [
    "Erori <- read_excel(\"Erori.xlsx\")"
   ]
  },
  {
   "cell_type": "code",
   "execution_count": 23,
   "id": "4f01e797",
   "metadata": {},
   "outputs": [],
   "source": [
    "Erori = na.omit(Erori)"
   ]
  },
  {
   "cell_type": "code",
   "execution_count": 24,
   "id": "68f213be",
   "metadata": {},
   "outputs": [
    {
     "data": {
      "text/html": [
       "<table class=\"dataframe\">\n",
       "<caption>A tibble: 6 × 10</caption>\n",
       "<thead>\n",
       "\t<tr><th scope=col>Luna</th><th scope=col>RIR</th><th scope=col>RIRD1</th><th scope=col>ARIMA</th><th scope=col>ES</th><th scope=col>HW</th><th scope=col>RegSimplă</th><th scope=col>RegSimplă (M1)*</th><th scope=col>VAR</th><th scope=col>OLS cu compund</th></tr>\n",
       "\t<tr><th scope=col>&lt;chr&gt;</th><th scope=col>&lt;dbl&gt;</th><th scope=col>&lt;dbl&gt;</th><th scope=col>&lt;dbl&gt;</th><th scope=col>&lt;dbl&gt;</th><th scope=col>&lt;dbl&gt;</th><th scope=col>&lt;dbl&gt;</th><th scope=col>&lt;dbl&gt;</th><th scope=col>&lt;dbl&gt;</th><th scope=col>&lt;dbl&gt;</th></tr>\n",
       "</thead>\n",
       "<tbody>\n",
       "\t<tr><td>44835   </td><td>15.32</td><td>-0.56</td><td>15.69</td><td>16.11</td><td>16.35540</td><td>11.204</td><td>13.002</td><td>0.156</td><td>4.183</td></tr>\n",
       "\t<tr><td>Nov 2022</td><td>16.76</td><td> 1.44</td><td>16.85</td><td>16.30</td><td>16.64378</td><td>11.832</td><td>13.224</td><td>0.074</td><td>5.778</td></tr>\n",
       "\t<tr><td>44896   </td><td>16.37</td><td>-0.39</td><td>17.41</td><td>16.45</td><td>17.35470</td><td>11.984</td><td>14.080</td><td>0.048</td><td>5.704</td></tr>\n",
       "\t<tr><td>44927   </td><td>15.07</td><td>-1.30</td><td>17.62</td><td>16.57</td><td>18.24798</td><td>12.336</td><td>14.889</td><td>0.039</td><td>5.923</td></tr>\n",
       "\t<tr><td>44958   </td><td>15.52</td><td> 0.45</td><td>18.32</td><td>16.66</td><td>19.06057</td><td>12.358</td><td>15.706</td><td>0.036</td><td>4.249</td></tr>\n",
       "\t<tr><td>44986   </td><td>14.53</td><td>-0.99</td><td>17.83</td><td>16.74</td><td>20.05982</td><td>12.561</td><td>15.508</td><td>0.035</td><td>4.901</td></tr>\n",
       "</tbody>\n",
       "</table>\n"
      ],
      "text/latex": [
       "A tibble: 6 × 10\n",
       "\\begin{tabular}{llllllllll}\n",
       " Luna & RIR & RIRD1 & ARIMA & ES & HW & RegSimplă & RegSimplă (M1)* & VAR & OLS cu compund\\\\\n",
       " <chr> & <dbl> & <dbl> & <dbl> & <dbl> & <dbl> & <dbl> & <dbl> & <dbl> & <dbl>\\\\\n",
       "\\hline\n",
       "\t 44835    & 15.32 & -0.56 & 15.69 & 16.11 & 16.35540 & 11.204 & 13.002 & 0.156 & 4.183\\\\\n",
       "\t Nov 2022 & 16.76 &  1.44 & 16.85 & 16.30 & 16.64378 & 11.832 & 13.224 & 0.074 & 5.778\\\\\n",
       "\t 44896    & 16.37 & -0.39 & 17.41 & 16.45 & 17.35470 & 11.984 & 14.080 & 0.048 & 5.704\\\\\n",
       "\t 44927    & 15.07 & -1.30 & 17.62 & 16.57 & 18.24798 & 12.336 & 14.889 & 0.039 & 5.923\\\\\n",
       "\t 44958    & 15.52 &  0.45 & 18.32 & 16.66 & 19.06057 & 12.358 & 15.706 & 0.036 & 4.249\\\\\n",
       "\t 44986    & 14.53 & -0.99 & 17.83 & 16.74 & 20.05982 & 12.561 & 15.508 & 0.035 & 4.901\\\\\n",
       "\\end{tabular}\n"
      ],
      "text/markdown": [
       "\n",
       "A tibble: 6 × 10\n",
       "\n",
       "| Luna &lt;chr&gt; | RIR &lt;dbl&gt; | RIRD1 &lt;dbl&gt; | ARIMA &lt;dbl&gt; | ES &lt;dbl&gt; | HW &lt;dbl&gt; | RegSimplă &lt;dbl&gt; | RegSimplă (M1)* &lt;dbl&gt; | VAR &lt;dbl&gt; | OLS cu compund &lt;dbl&gt; |\n",
       "|---|---|---|---|---|---|---|---|---|---|\n",
       "| 44835    | 15.32 | -0.56 | 15.69 | 16.11 | 16.35540 | 11.204 | 13.002 | 0.156 | 4.183 |\n",
       "| Nov 2022 | 16.76 |  1.44 | 16.85 | 16.30 | 16.64378 | 11.832 | 13.224 | 0.074 | 5.778 |\n",
       "| 44896    | 16.37 | -0.39 | 17.41 | 16.45 | 17.35470 | 11.984 | 14.080 | 0.048 | 5.704 |\n",
       "| 44927    | 15.07 | -1.30 | 17.62 | 16.57 | 18.24798 | 12.336 | 14.889 | 0.039 | 5.923 |\n",
       "| 44958    | 15.52 |  0.45 | 18.32 | 16.66 | 19.06057 | 12.358 | 15.706 | 0.036 | 4.249 |\n",
       "| 44986    | 14.53 | -0.99 | 17.83 | 16.74 | 20.05982 | 12.561 | 15.508 | 0.035 | 4.901 |\n",
       "\n"
      ],
      "text/plain": [
       "  Luna     RIR   RIRD1 ARIMA ES    HW       RegSimplă RegSimplă (M1)* VAR  \n",
       "1 44835    15.32 -0.56 15.69 16.11 16.35540 11.204    13.002          0.156\n",
       "2 Nov 2022 16.76  1.44 16.85 16.30 16.64378 11.832    13.224          0.074\n",
       "3 44896    16.37 -0.39 17.41 16.45 17.35470 11.984    14.080          0.048\n",
       "4 44927    15.07 -1.30 17.62 16.57 18.24798 12.336    14.889          0.039\n",
       "5 44958    15.52  0.45 18.32 16.66 19.06057 12.358    15.706          0.036\n",
       "6 44986    14.53 -0.99 17.83 16.74 20.05982 12.561    15.508          0.035\n",
       "  OLS cu compund\n",
       "1 4.183         \n",
       "2 5.778         \n",
       "3 5.704         \n",
       "4 5.923         \n",
       "5 4.249         \n",
       "6 4.901         "
      ]
     },
     "metadata": {},
     "output_type": "display_data"
    }
   ],
   "source": [
    "Erori"
   ]
  },
  {
   "cell_type": "code",
   "execution_count": 25,
   "id": "7826b94f",
   "metadata": {},
   "outputs": [],
   "source": [
    "Erori1 = Erori$RIR - Erori$RegSimplă"
   ]
  },
  {
   "cell_type": "code",
   "execution_count": 26,
   "id": "63761cca",
   "metadata": {},
   "outputs": [
    {
     "data": {
      "text/html": [
       "3.54916666666667"
      ],
      "text/latex": [
       "3.54916666666667"
      ],
      "text/markdown": [
       "3.54916666666667"
      ],
      "text/plain": [
       "[1] 3.549167"
      ]
     },
     "metadata": {},
     "output_type": "display_data"
    }
   ],
   "source": [
    "ME <- mean(Erori1)\n",
    "ME"
   ]
  },
  {
   "cell_type": "code",
   "execution_count": 27,
   "id": "3ada7e10",
   "metadata": {},
   "outputs": [
    {
     "data": {
      "text/html": [
       "3.69264126337775"
      ],
      "text/latex": [
       "3.69264126337775"
      ],
      "text/markdown": [
       "3.69264126337775"
      ],
      "text/plain": [
       "[1] 3.692641"
      ]
     },
     "metadata": {},
     "output_type": "display_data"
    }
   ],
   "source": [
    "RMSE <- sqrt(mean(Erori1^2))\n",
    "RMSE"
   ]
  },
  {
   "cell_type": "code",
   "execution_count": 28,
   "id": "8fd3395a",
   "metadata": {},
   "outputs": [
    {
     "data": {
      "text/html": [
       "3.54916666666667"
      ],
      "text/latex": [
       "3.54916666666667"
      ],
      "text/markdown": [
       "3.54916666666667"
      ],
      "text/plain": [
       "[1] 3.549167"
      ]
     },
     "metadata": {},
     "output_type": "display_data"
    }
   ],
   "source": [
    "MAE <- mean(abs(Erori1))\n",
    "MAE"
   ]
  },
  {
   "cell_type": "code",
   "execution_count": 29,
   "id": "f81500de",
   "metadata": {},
   "outputs": [
    {
     "data": {
      "text/html": [
       "22.5216807393523"
      ],
      "text/latex": [
       "22.5216807393523"
      ],
      "text/markdown": [
       "22.5216807393523"
      ],
      "text/plain": [
       "[1] 22.52168"
      ]
     },
     "metadata": {},
     "output_type": "display_data"
    }
   ],
   "source": [
    "MPE <- mean(Erori1/Erori$RIR) * 100\n",
    "MPE"
   ]
  },
  {
   "cell_type": "code",
   "execution_count": 30,
   "id": "397d66b4",
   "metadata": {},
   "outputs": [
    {
     "data": {
      "text/html": [
       "22.5216807393523"
      ],
      "text/latex": [
       "22.5216807393523"
      ],
      "text/markdown": [
       "22.5216807393523"
      ],
      "text/plain": [
       "[1] 22.52168"
      ]
     },
     "metadata": {},
     "output_type": "display_data"
    }
   ],
   "source": [
    "MAPE <- mean(abs(Erori1 / Erori$RIR)) * 100\n",
    "MAPE"
   ]
  },
  {
   "cell_type": "code",
   "execution_count": 31,
   "id": "b3e8897e",
   "metadata": {},
   "outputs": [
    {
     "data": {
      "text/html": [
       "1.00258945386064"
      ],
      "text/latex": [
       "1.00258945386064"
      ],
      "text/markdown": [
       "1.00258945386064"
      ],
      "text/plain": [
       "[1] 1.002589"
      ]
     },
     "metadata": {},
     "output_type": "display_data"
    }
   ],
   "source": [
    "naive_error_mean <- 3.54\n",
    "MASE <- mean(abs(Erori1)) / naive_error_mean\n",
    "MASE"
   ]
  },
  {
   "cell_type": "code",
   "execution_count": 32,
   "id": "8650a4ce",
   "metadata": {},
   "outputs": [
    {
     "data": {
      "text/html": [
       "<style>\n",
       ".list-inline {list-style: none; margin:0; padding: 0}\n",
       ".list-inline>li {display: inline-block}\n",
       ".list-inline>li:not(:last-child)::after {content: \"\\00b7\"; padding: 0 .5ex}\n",
       "</style>\n",
       "<ol class=list-inline><li>1</li><li>0.349795396142062</li><li>0.0504437912917043</li><li>-0.371864543135747</li><li>-0.38469838492317</li><li>-0.143676259374849</li></ol>\n"
      ],
      "text/latex": [
       "\\begin{enumerate*}\n",
       "\\item 1\n",
       "\\item 0.349795396142062\n",
       "\\item 0.0504437912917043\n",
       "\\item -0.371864543135747\n",
       "\\item -0.38469838492317\n",
       "\\item -0.143676259374849\n",
       "\\end{enumerate*}\n"
      ],
      "text/markdown": [
       "1. 1\n",
       "2. 0.349795396142062\n",
       "3. 0.0504437912917043\n",
       "4. -0.371864543135747\n",
       "5. -0.38469838492317\n",
       "6. -0.143676259374849\n",
       "\n",
       "\n"
      ],
      "text/plain": [
       ", , 1\n",
       "\n",
       "            [,1]\n",
       "[1,]  1.00000000\n",
       "[2,]  0.34979540\n",
       "[3,]  0.05044379\n",
       "[4,] -0.37186454\n",
       "[5,] -0.38469838\n",
       "[6,] -0.14367626\n"
      ]
     },
     "metadata": {},
     "output_type": "display_data"
    },
    {
     "data": {
      "image/png": "[encoded data removed]",
      "text/plain": [
       "Plot with title \"Series  Erori1\""
      ]
     },
     "metadata": {
      "image/png": {
       "height": 420,
       "width": 420
      }
     },
     "output_type": "display_data"
    }
   ],
   "source": [
    "acf_values <- acf(Erori1)\n",
    "acf_values$acf"
   ]
  },
  {
   "cell_type": "code",
   "execution_count": null,
   "id": "13253438",
   "metadata": {},
   "outputs": [],
   "source": []
  }
 ],
 "metadata": {
  "kernelspec": {
   "display_name": "R",
   "language": "R",
   "name": "ir"
  },
  "language_info": {
   "codemirror_mode": "r",
   "file_extension": ".r",
   "mimetype": "text/x-r-source",
   "name": "R",
   "pygments_lexer": "r",
   "version": "4.1.3"
  }
 },
 "nbformat": 4,
 "nbformat_minor": 5
}
