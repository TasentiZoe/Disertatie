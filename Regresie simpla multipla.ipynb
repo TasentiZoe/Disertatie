{
 "cells": [
  {
   "cell_type": "code",
   "execution_count": 1,
   "id": "7f26294e",
   "metadata": {},
   "outputs": [],
   "source": [
    "setwd(\"C:/Users/Zoe/Desktop/Disertatie/Coduri\")"
   ]
  },
  {
   "cell_type": "code",
   "execution_count": 3,
   "id": "d4c94974",
   "metadata": {},
   "outputs": [],
   "source": [
    "library(readxl)\n",
    "library(MASS)\n",
    "library(base)\n",
    "library(vars)\n",
    "library(car)\n",
    "library(forecast)\n",
    "library(tseries)"
   ]
  },
  {
   "cell_type": "code",
   "execution_count": 4,
   "id": "6b46effb",
   "metadata": {},
   "outputs": [],
   "source": [
    "Disertatie <- read_excel(\"Disertatie.xlsx\")"
   ]
  },
  {
   "cell_type": "code",
   "execution_count": 5,
   "id": "e139c8e0",
   "metadata": {},
   "outputs": [],
   "source": [
    "train_data <- Disertatie[1:(nrow(Disertatie)-7), ]\n",
    "test_data <- Disertatie[(nrow(Disertatie)-6):(nrow(Disertatie)-1), ]"
   ]
  },
  {
   "cell_type": "code",
   "execution_count": 6,
   "id": "4c8d5a82",
   "metadata": {},
   "outputs": [
    {
     "data": {
      "text/plain": [
       "\n",
       "Call:\n",
       "lm(formula = RI ~ ., data = train_data[-1])\n",
       "\n",
       "Coefficients:\n",
       "(Intercept)          RPM       R_CRED        R_DEP          EUR           SN  \n",
       "  -8.924641     0.894233     0.446207    -0.279837    -0.982760     0.004656  \n",
       "RSBIM_15_74  \n",
       "   0.134469  \n"
      ]
     },
     "metadata": {},
     "output_type": "display_data"
    }
   ],
   "source": [
    "model1 <- lm(RI ~ ., data = train_data[-1])\n",
    "model1"
   ]
  },
  {
   "cell_type": "code",
   "execution_count": 7,
   "id": "8740414b",
   "metadata": {},
   "outputs": [
    {
     "data": {
      "text/plain": [
       "\n",
       "Call:\n",
       "lm(formula = RI ~ ., data = train_data[-1])\n",
       "\n",
       "Residuals:\n",
       "    Min      1Q  Median      3Q     Max \n",
       "-6.4638 -1.2836 -0.5536  1.3371  5.7758 \n",
       "\n",
       "Coefficients:\n",
       "              Estimate Std. Error t value Pr(>|t|)    \n",
       "(Intercept) -8.9246412  3.3588910  -2.657  0.00850 ** \n",
       "RPM          0.8942327  0.3198569   2.796  0.00567 ** \n",
       "R_CRED       0.4462073  0.1861492   2.397  0.01743 *  \n",
       "R_DEP       -0.2798373  0.1935730  -1.446  0.14980    \n",
       "EUR         -0.9827601  1.0267328  -0.957  0.33961    \n",
       "SN           0.0046557  0.0005682   8.194  2.7e-14 ***\n",
       "RSBIM_15_74  0.1344690  0.1834761   0.733  0.46446    \n",
       "---\n",
       "Signif. codes:  0 '***' 0.001 '**' 0.01 '*' 0.05 '.' 0.1 ' ' 1\n",
       "\n",
       "Residual standard error: 2.02 on 205 degrees of freedom\n",
       "Multiple R-squared:  0.6787,\tAdjusted R-squared:  0.6693 \n",
       "F-statistic: 72.16 on 6 and 205 DF,  p-value: < 2.2e-16\n"
      ]
     },
     "metadata": {},
     "output_type": "display_data"
    }
   ],
   "source": [
    "summary(model1)"
   ]
  },
  {
   "cell_type": "code",
   "execution_count": 10,
   "id": "090362ea",
   "metadata": {},
   "outputs": [
    {
     "data": {
      "text/html": [
       "<table class=\"dataframe\">\n",
       "<caption>A matrix: 7 × 4 of type dbl</caption>\n",
       "<thead>\n",
       "\t<tr><th></th><th scope=col>Estimate</th><th scope=col>Std. Error</th><th scope=col>t value</th><th scope=col>Pr(&gt;|t|)</th></tr>\n",
       "</thead>\n",
       "<tbody>\n",
       "\t<tr><th scope=row>(Intercept)</th><td>-8.924641176</td><td>3.3588909614</td><td>-2.6570202</td><td>8.504391e-03</td></tr>\n",
       "\t<tr><th scope=row>RPM</th><td> 0.894232681</td><td>0.3198569241</td><td> 2.7957271</td><td>5.670497e-03</td></tr>\n",
       "\t<tr><th scope=row>R_CRED</th><td> 0.446207304</td><td>0.1861491996</td><td> 2.3970412</td><td>1.742569e-02</td></tr>\n",
       "\t<tr><th scope=row>R_DEP</th><td>-0.279837336</td><td>0.1935729880</td><td>-1.4456425</td><td>1.498045e-01</td></tr>\n",
       "\t<tr><th scope=row>EUR</th><td>-0.982760052</td><td>1.0267328346</td><td>-0.9571721</td><td>3.396078e-01</td></tr>\n",
       "\t<tr><th scope=row>SN</th><td> 0.004655651</td><td>0.0005681932</td><td> 8.1937820</td><td>2.704734e-14</td></tr>\n",
       "\t<tr><th scope=row>RSBIM_15_74</th><td> 0.134468974</td><td>0.1834761497</td><td> 0.7328962</td><td>4.644589e-01</td></tr>\n",
       "</tbody>\n",
       "</table>\n"
      ],
      "text/latex": [
       "A matrix: 7 × 4 of type dbl\n",
       "\\begin{tabular}{r|llll}\n",
       "  & Estimate & Std. Error & t value & Pr(>\\textbar{}t\\textbar{})\\\\\n",
       "\\hline\n",
       "\t(Intercept) & -8.924641176 & 3.3588909614 & -2.6570202 & 8.504391e-03\\\\\n",
       "\tRPM &  0.894232681 & 0.3198569241 &  2.7957271 & 5.670497e-03\\\\\n",
       "\tR\\_CRED &  0.446207304 & 0.1861491996 &  2.3970412 & 1.742569e-02\\\\\n",
       "\tR\\_DEP & -0.279837336 & 0.1935729880 & -1.4456425 & 1.498045e-01\\\\\n",
       "\tEUR & -0.982760052 & 1.0267328346 & -0.9571721 & 3.396078e-01\\\\\n",
       "\tSN &  0.004655651 & 0.0005681932 &  8.1937820 & 2.704734e-14\\\\\n",
       "\tRSBIM\\_15\\_74 &  0.134468974 & 0.1834761497 &  0.7328962 & 4.644589e-01\\\\\n",
       "\\end{tabular}\n"
      ],
      "text/markdown": [
       "\n",
       "A matrix: 7 × 4 of type dbl\n",
       "\n",
       "| <!--/--> | Estimate | Std. Error | t value | Pr(&gt;|t|) |\n",
       "|---|---|---|---|---|\n",
       "| (Intercept) | -8.924641176 | 3.3588909614 | -2.6570202 | 8.504391e-03 |\n",
       "| RPM |  0.894232681 | 0.3198569241 |  2.7957271 | 5.670497e-03 |\n",
       "| R_CRED |  0.446207304 | 0.1861491996 |  2.3970412 | 1.742569e-02 |\n",
       "| R_DEP | -0.279837336 | 0.1935729880 | -1.4456425 | 1.498045e-01 |\n",
       "| EUR | -0.982760052 | 1.0267328346 | -0.9571721 | 3.396078e-01 |\n",
       "| SN |  0.004655651 | 0.0005681932 |  8.1937820 | 2.704734e-14 |\n",
       "| RSBIM_15_74 |  0.134468974 | 0.1834761497 |  0.7328962 | 4.644589e-01 |\n",
       "\n"
      ],
      "text/plain": [
       "            Estimate     Std. Error   t value    Pr(>|t|)    \n",
       "(Intercept) -8.924641176 3.3588909614 -2.6570202 8.504391e-03\n",
       "RPM          0.894232681 0.3198569241  2.7957271 5.670497e-03\n",
       "R_CRED       0.446207304 0.1861491996  2.3970412 1.742569e-02\n",
       "R_DEP       -0.279837336 0.1935729880 -1.4456425 1.498045e-01\n",
       "EUR         -0.982760052 1.0267328346 -0.9571721 3.396078e-01\n",
       "SN           0.004655651 0.0005681932  8.1937820 2.704734e-14\n",
       "RSBIM_15_74  0.134468974 0.1834761497  0.7328962 4.644589e-01"
      ]
     },
     "metadata": {},
     "output_type": "display_data"
    }
   ],
   "source": [
    "model_summary <- summary(model1)\n",
    "coefficients <- model_summary$coefficients\n",
    "coefficients"
   ]
  },
  {
   "cell_type": "code",
   "execution_count": 12,
   "id": "da84dbda",
   "metadata": {},
   "outputs": [
    {
     "name": "stdout",
     "output_type": "stream",
     "text": [
      "\n",
      "\\begin{table}[!htbp] \\centering \n",
      "  \\caption{Summary of Linear Regression Model} \n",
      "  \\label{} \n",
      "\\begin{tabular}{@{\\extracolsep{5pt}}lD{.}{.}{-4} } \n",
      "\\\\[-1.8ex]\\hline \n",
      "\\hline \\\\[-1.8ex] \n",
      " & \\multicolumn{1}{c}{\\textit{Dependent variable:}} \\\\ \n",
      "\\cline{2-2} \n",
      "\\\\[-1.8ex] & \\multicolumn{1}{c}{RI} \\\\ \n",
      "\\hline \\\\[-1.8ex] \n",
      " RPM & 0.8942^{**} \\\\ \n",
      "  & (0.3199) \\\\ \n",
      "  & \\\\ \n",
      " R\\_CRED & 0.4462^{*} \\\\ \n",
      "  & (0.1861) \\\\ \n",
      "  & \\\\ \n",
      " R\\_DEP & -0.2798 \\\\ \n",
      "  & (0.1936) \\\\ \n",
      "  & \\\\ \n",
      " EUR & -0.9828 \\\\ \n",
      "  & (1.0267) \\\\ \n",
      "  & \\\\ \n",
      " SN & 0.0047^{***} \\\\ \n",
      "  & (0.0006) \\\\ \n",
      "  & \\\\ \n",
      " RSBIM\\_15\\_74 & 0.1345 \\\\ \n",
      "  & (0.1835) \\\\ \n",
      "  & \\\\ \n",
      " Constant & -8.9246^{**} \\\\ \n",
      "  & (3.3589) \\\\ \n",
      "  & \\\\ \n",
      "\\hline \\\\[-1.8ex] \n",
      "Observations & \\multicolumn{1}{c}{212} \\\\ \n",
      "R$^{2}$ & \\multicolumn{1}{c}{0.6787} \\\\ \n",
      "Adjusted R$^{2}$ & \\multicolumn{1}{c}{0.6693} \\\\ \n",
      "Residual Std. Error & \\multicolumn{1}{c}{2.0196 (df = 205)} \\\\ \n",
      "F Statistic & \\multicolumn{1}{c}{72.1626$^{***}$ (df = 6; 205)} \\\\ \n",
      "\\hline \n",
      "\\hline \\\\[-1.8ex] \n",
      "\\textit{Note:}  & \\multicolumn{1}{r}{$^{*}$p$<$0.05; $^{**}$p$<$0.01; $^{***}$p$<$0.001} \\\\ \n",
      "\\end{tabular} \n",
      "\\end{table} \n"
     ]
    }
   ],
   "source": [
    "library(stargazer)\n",
    "\n",
    "model <- lm(formula = RI ~ ., data = train_data[-1])\n",
    "\n",
    "# Afisarea rezumatului modelului cu stargazer\n",
    "stargazer(model, title = \"Summary of Linear Regression Model\",\n",
    "          align = TRUE, \n",
    "          digits = 4,\n",
    "          star.cutoffs = c(0.05, 0.01, 0.001),\n",
    "          header = FALSE)\n"
   ]
  },
  {
   "cell_type": "code",
   "execution_count": 9,
   "id": "4e16c744",
   "metadata": {},
   "outputs": [
    {
     "data": {
      "text/html": [
       "<style>\n",
       ".dl-inline {width: auto; margin:0; padding: 0}\n",
       ".dl-inline>dt, .dl-inline>dd {float: none; width: auto; display: inline-block}\n",
       ".dl-inline>dt::after {content: \":\\0020\"; padding-right: .5ex}\n",
       ".dl-inline>dt:not(:first-of-type) {padding-left: .5ex}\n",
       "</style><dl class=dl-inline><dt>RPM</dt><dd>52.5740826537624</dd><dt>R_CRED</dt><dd>45.1358451485862</dd><dt>R_DEP</dt><dd>4.67098084487526</dd><dt>EUR</dt><dd>12.0661297342574</dd><dt>SN</dt><dd>13.7000034732028</dd><dt>RSBIM_15_74</dt><dd>3.78851485611839</dd></dl>\n"
      ],
      "text/latex": [
       "\\begin{description*}\n",
       "\\item[RPM] 52.5740826537624\n",
       "\\item[R\\textbackslash{}\\_CRED] 45.1358451485862\n",
       "\\item[R\\textbackslash{}\\_DEP] 4.67098084487526\n",
       "\\item[EUR] 12.0661297342574\n",
       "\\item[SN] 13.7000034732028\n",
       "\\item[RSBIM\\textbackslash{}\\_15\\textbackslash{}\\_74] 3.78851485611839\n",
       "\\end{description*}\n"
      ],
      "text/markdown": [
       "RPM\n",
       ":   52.5740826537624R_CRED\n",
       ":   45.1358451485862R_DEP\n",
       ":   4.67098084487526EUR\n",
       ":   12.0661297342574SN\n",
       ":   13.7000034732028RSBIM_15_74\n",
       ":   3.78851485611839\n",
       "\n"
      ],
      "text/plain": [
       "        RPM      R_CRED       R_DEP         EUR          SN RSBIM_15_74 \n",
       "  52.574083   45.135845    4.670981   12.066130   13.700003    3.788515 "
      ]
     },
     "metadata": {},
     "output_type": "display_data"
    }
   ],
   "source": [
    "vif(model1)"
   ]
  },
  {
   "cell_type": "code",
   "execution_count": 10,
   "id": "a58bca8f",
   "metadata": {},
   "outputs": [
    {
     "data": {
      "text/plain": [
       "\n",
       "\tBreusch-Godfrey test for serial correlation of order up to 10\n",
       "\n",
       "data:  Residuals\n",
       "LM test = 168.63, df = 10, p-value < 2.2e-16\n"
      ]
     },
     "metadata": {},
     "output_type": "display_data"
    },
    {
     "data": {
      "image/png": "[encoded data removed]",
      "text/plain": [
       "plot without title"
      ]
     },
     "metadata": {
      "image/png": {
       "height": 420,
       "width": 420
      }
     },
     "output_type": "display_data"
    }
   ],
   "source": [
    "checkresiduals(model1)"
   ]
  },
  {
   "cell_type": "code",
   "execution_count": 11,
   "id": "46286a1f",
   "metadata": {},
   "outputs": [
    {
     "data": {
      "text/plain": [
       "\n",
       "\tJarque Bera Test\n",
       "\n",
       "data:  residual\n",
       "X-squared = 3.9708, df = 2, p-value = 0.1373\n"
      ]
     },
     "metadata": {},
     "output_type": "display_data"
    }
   ],
   "source": [
    "residual = residuals(model1)\n",
    "jarque.bera.test(residual)"
   ]
  },
  {
   "cell_type": "code",
   "execution_count": 12,
   "id": "0a79034c",
   "metadata": {},
   "outputs": [
    {
     "ename": "ERROR",
     "evalue": "Error in as.matrix(y): argument \"y\" is missing, with no default\n",
     "output_type": "error",
     "traceback": [
      "Error in as.matrix(y): argument \"y\" is missing, with no default\nTraceback:\n",
      "1. white.test(residual)",
      "2. white.test.default(residual)",
      "3. as.matrix(y)"
     ]
    }
   ],
   "source": [
    "white.test(residual)\n"
   ]
  },
  {
   "cell_type": "code",
   "execution_count": 15,
   "id": "7af08e01",
   "metadata": {},
   "outputs": [
    {
     "data": {
      "text/plain": [
       "\n",
       "\tstudentized Breusch-Pagan test\n",
       "\n",
       "data:  model1\n",
       "BP = 49.34, df = 6, p-value = 6.374e-09\n"
      ]
     },
     "metadata": {},
     "output_type": "display_data"
    }
   ],
   "source": [
    "white_test <- bptest(model1)\n",
    "white_test"
   ]
  },
  {
   "cell_type": "code",
   "execution_count": 13,
   "id": "75b6f6d3",
   "metadata": {},
   "outputs": [
    {
     "data": {
      "text/plain": [
       "\n",
       "\tBox-Ljung test\n",
       "\n",
       "data:  residual\n",
       "X-squared = 411.82, df = 4, p-value < 2.2e-16\n"
      ]
     },
     "metadata": {},
     "output_type": "display_data"
    }
   ],
   "source": [
    "Box.test(residual, lag = 4, type = \"Ljung-Box\")"
   ]
  },
  {
   "cell_type": "code",
   "execution_count": 17,
   "id": "555ef9fd",
   "metadata": {},
   "outputs": [
    {
     "data": {
      "text/plain": [
       "\n",
       "Call:\n",
       "lm(formula = RI ~ ., data = Disertatie[, -c(1, 7)])\n",
       "\n",
       "Coefficients:\n",
       "(Intercept)          RPM       R_CRED        R_DEP          EUR  RSBIM_15_74  \n",
       "  -20.38110      1.04921      0.26731      0.02461      5.91670     -1.10566  \n"
      ]
     },
     "metadata": {},
     "output_type": "display_data"
    }
   ],
   "source": [
    "model2 <- lm(RI ~ ., data = Disertatie[,-c(1,7)])\n",
    "model2"
   ]
  },
  {
   "cell_type": "code",
   "execution_count": 18,
   "id": "68ecdf24",
   "metadata": {},
   "outputs": [
    {
     "data": {
      "text/plain": [
       "\n",
       "Call:\n",
       "lm(formula = RI ~ ., data = Disertatie[, -c(1, 7)])\n",
       "\n",
       "Residuals:\n",
       "    Min      1Q  Median      3Q     Max \n",
       "-7.9039 -1.5855 -0.5094  1.2886  7.8834 \n",
       "\n",
       "Coefficients:\n",
       "             Estimate Std. Error t value Pr(>|t|)    \n",
       "(Intercept) -20.38110    3.74718  -5.439 1.47e-07 ***\n",
       "RPM           1.04921    0.37948   2.765   0.0062 ** \n",
       "R_CRED        0.26731    0.22079   1.211   0.2274    \n",
       "R_DEP         0.02461    0.22738   0.108   0.9139    \n",
       "EUR           5.91670    0.80307   7.368 3.81e-12 ***\n",
       "RSBIM_15_74  -1.10566    0.13315  -8.304 1.19e-14 ***\n",
       "---\n",
       "Signif. codes:  0 '***' 0.001 '**' 0.01 '*' 0.05 '.' 0.1 ' ' 1\n",
       "\n",
       "Residual standard error: 2.408 on 212 degrees of freedom\n",
       "  (1 observation deleted due to missingness)\n",
       "Multiple R-squared:  0.6308,\tAdjusted R-squared:  0.6221 \n",
       "F-statistic: 72.45 on 5 and 212 DF,  p-value: < 2.2e-16\n"
      ]
     },
     "metadata": {},
     "output_type": "display_data"
    }
   ],
   "source": [
    "summary(model2)"
   ]
  },
  {
   "cell_type": "code",
   "execution_count": 19,
   "id": "757f3062",
   "metadata": {},
   "outputs": [
    {
     "data": {
      "text/plain": [
       "\n",
       "Call:\n",
       "lm(formula = RI ~ ., data = Disertatie[, -c(1, 5, 7)])\n",
       "\n",
       "Coefficients:\n",
       "(Intercept)          RPM       R_CRED          EUR  RSBIM_15_74  \n",
       "   -20.5797       1.0785       0.2577       5.9612      -1.1082  \n"
      ]
     },
     "metadata": {},
     "output_type": "display_data"
    }
   ],
   "source": [
    "model3 <- lm(RI ~ ., data = Disertatie[,-c(1,5,7)])\n",
    "model3"
   ]
  },
  {
   "cell_type": "code",
   "execution_count": 20,
   "id": "5870a211",
   "metadata": {},
   "outputs": [
    {
     "data": {
      "text/plain": [
       "\n",
       "Call:\n",
       "lm(formula = RI ~ ., data = Disertatie[, -c(1, 5, 7)])\n",
       "\n",
       "Residuals:\n",
       "    Min      1Q  Median      3Q     Max \n",
       "-7.9536 -1.6013 -0.5038  1.2843  7.8795 \n",
       "\n",
       "Coefficients:\n",
       "            Estimate Std. Error t value Pr(>|t|)    \n",
       "(Intercept) -20.5797     3.2596  -6.314 1.56e-09 ***\n",
       "RPM           1.0785     0.2654   4.064 6.80e-05 ***\n",
       "R_CRED        0.2577     0.2018   1.277    0.203    \n",
       "EUR           5.9612     0.6882   8.662 1.17e-15 ***\n",
       "RSBIM_15_74  -1.1082     0.1307  -8.480 3.78e-15 ***\n",
       "---\n",
       "Signif. codes:  0 '***' 0.001 '**' 0.01 '*' 0.05 '.' 0.1 ' ' 1\n",
       "\n",
       "Residual standard error: 2.403 on 213 degrees of freedom\n",
       "  (1 observation deleted due to missingness)\n",
       "Multiple R-squared:  0.6308,\tAdjusted R-squared:  0.6239 \n",
       "F-statistic: 90.98 on 4 and 213 DF,  p-value: < 2.2e-16\n"
      ]
     },
     "metadata": {},
     "output_type": "display_data"
    }
   ],
   "source": [
    "summary(model3)"
   ]
  },
  {
   "cell_type": "code",
   "execution_count": 13,
   "id": "ce64392e",
   "metadata": {},
   "outputs": [
    {
     "data": {
      "text/plain": [
       "\n",
       "Call:\n",
       "lm(formula = RI ~ ., data = Disertatie[, -c(1, 4, 5, 7)])\n",
       "\n",
       "Coefficients:\n",
       "(Intercept)          RPM          EUR  RSBIM_15_74  \n",
       "    -18.283        1.402        5.393       -1.025  \n"
      ]
     },
     "metadata": {},
     "output_type": "display_data"
    }
   ],
   "source": [
    "model4 <- lm(RI ~ ., data = Disertatie[,-c(1,4,5,7)])\n",
    "model4"
   ]
  },
  {
   "cell_type": "code",
   "execution_count": 14,
   "id": "b8dfba9e",
   "metadata": {},
   "outputs": [
    {
     "data": {
      "text/plain": [
       "\n",
       "Call:\n",
       "lm(formula = RI ~ ., data = Disertatie[, -c(1, 4, 5, 7)])\n",
       "\n",
       "Residuals:\n",
       "   Min     1Q Median     3Q    Max \n",
       "-7.385 -1.568 -0.587  1.312  7.946 \n",
       "\n",
       "Coefficients:\n",
       "             Estimate Std. Error t value Pr(>|t|)    \n",
       "(Intercept) -18.28311    2.72274  -6.715 1.67e-10 ***\n",
       "RPM           1.40157    0.08042  17.427  < 2e-16 ***\n",
       "EUR           5.39297    0.52586  10.255  < 2e-16 ***\n",
       "RSBIM_15_74  -1.02479    0.11335  -9.041  < 2e-16 ***\n",
       "---\n",
       "Signif. codes:  0 '***' 0.001 '**' 0.01 '*' 0.05 '.' 0.1 ' ' 1\n",
       "\n",
       "Residual standard error: 2.406 on 214 degrees of freedom\n",
       "  (1 observation deleted due to missingness)\n",
       "Multiple R-squared:  0.628,\tAdjusted R-squared:  0.6228 \n",
       "F-statistic: 120.4 on 3 and 214 DF,  p-value: < 2.2e-16\n"
      ]
     },
     "metadata": {},
     "output_type": "display_data"
    }
   ],
   "source": [
    "summary(model4)"
   ]
  },
  {
   "cell_type": "code",
   "execution_count": 15,
   "id": "0f485b83",
   "metadata": {},
   "outputs": [
    {
     "data": {
      "text/html": [
       "<table class=\"dataframe\">\n",
       "<caption>A matrix: 4 × 4 of type dbl</caption>\n",
       "<thead>\n",
       "\t<tr><th></th><th scope=col>Estimate</th><th scope=col>Std. Error</th><th scope=col>t value</th><th scope=col>Pr(&gt;|t|)</th></tr>\n",
       "</thead>\n",
       "<tbody>\n",
       "\t<tr><th scope=row>(Intercept)</th><td>-18.283105</td><td>2.72274489</td><td>-6.714953</td><td>1.666415e-10</td></tr>\n",
       "\t<tr><th scope=row>RPM</th><td>  1.401565</td><td>0.08042497</td><td>17.426989</td><td>6.288561e-43</td></tr>\n",
       "\t<tr><th scope=row>EUR</th><td>  5.392973</td><td>0.52586398</td><td>10.255452</td><td>2.492139e-20</td></tr>\n",
       "\t<tr><th scope=row>RSBIM_15_74</th><td> -1.024793</td><td>0.11335382</td><td>-9.040659</td><td>9.512113e-17</td></tr>\n",
       "</tbody>\n",
       "</table>\n"
      ],
      "text/latex": [
       "A matrix: 4 × 4 of type dbl\n",
       "\\begin{tabular}{r|llll}\n",
       "  & Estimate & Std. Error & t value & Pr(>\\textbar{}t\\textbar{})\\\\\n",
       "\\hline\n",
       "\t(Intercept) & -18.283105 & 2.72274489 & -6.714953 & 1.666415e-10\\\\\n",
       "\tRPM &   1.401565 & 0.08042497 & 17.426989 & 6.288561e-43\\\\\n",
       "\tEUR &   5.392973 & 0.52586398 & 10.255452 & 2.492139e-20\\\\\n",
       "\tRSBIM\\_15\\_74 &  -1.024793 & 0.11335382 & -9.040659 & 9.512113e-17\\\\\n",
       "\\end{tabular}\n"
      ],
      "text/markdown": [
       "\n",
       "A matrix: 4 × 4 of type dbl\n",
       "\n",
       "| <!--/--> | Estimate | Std. Error | t value | Pr(&gt;|t|) |\n",
       "|---|---|---|---|---|\n",
       "| (Intercept) | -18.283105 | 2.72274489 | -6.714953 | 1.666415e-10 |\n",
       "| RPM |   1.401565 | 0.08042497 | 17.426989 | 6.288561e-43 |\n",
       "| EUR |   5.392973 | 0.52586398 | 10.255452 | 2.492139e-20 |\n",
       "| RSBIM_15_74 |  -1.024793 | 0.11335382 | -9.040659 | 9.512113e-17 |\n",
       "\n"
      ],
      "text/plain": [
       "            Estimate   Std. Error t value   Pr(>|t|)    \n",
       "(Intercept) -18.283105 2.72274489 -6.714953 1.666415e-10\n",
       "RPM           1.401565 0.08042497 17.426989 6.288561e-43\n",
       "EUR           5.392973 0.52586398 10.255452 2.492139e-20\n",
       "RSBIM_15_74  -1.024793 0.11335382 -9.040659 9.512113e-17"
      ]
     },
     "metadata": {},
     "output_type": "display_data"
    }
   ],
   "source": [
    "model_summary <- summary(model4)\n",
    "coefficients <- model_summary$coefficients\n",
    "coefficients"
   ]
  },
  {
   "cell_type": "code",
   "execution_count": 23,
   "id": "2064e828",
   "metadata": {},
   "outputs": [
    {
     "data": {
      "text/plain": [
       "\n",
       "\tBreusch-Godfrey test for serial correlation of order up to 10\n",
       "\n",
       "data:  Residuals\n",
       "LM test = 179.05, df = 10, p-value < 2.2e-16\n"
      ]
     },
     "metadata": {},
     "output_type": "display_data"
    },
    {
     "data": {
      "image/png": "[encoded data removed]",
      "text/plain": [
       "plot without title"
      ]
     },
     "metadata": {
      "image/png": {
       "height": 420,
       "width": 420
      }
     },
     "output_type": "display_data"
    }
   ],
   "source": [
    "checkresiduals(model4)"
   ]
  },
  {
   "cell_type": "code",
   "execution_count": 32,
   "id": "fd1e230a",
   "metadata": {},
   "outputs": [
    {
     "data": {
      "text/plain": [
       "\n",
       "\tJarque Bera Test\n",
       "\n",
       "data:  residual\n",
       "X-squared = 13.788, df = 2, p-value = 0.001014\n"
      ]
     },
     "metadata": {},
     "output_type": "display_data"
    }
   ],
   "source": [
    "residual = residuals(model4)\n",
    "jarque.bera.test(residual)"
   ]
  },
  {
   "cell_type": "code",
   "execution_count": 37,
   "id": "9b808da4",
   "metadata": {},
   "outputs": [
    {
     "ename": "ERROR",
     "evalue": "Error in as.matrix(y): argument \"y\" is missing, with no default\n",
     "output_type": "error",
     "traceback": [
      "Error in as.matrix(y): argument \"y\" is missing, with no default\nTraceback:\n",
      "1. white.test(residual)",
      "2. white.test.default(residual)",
      "3. as.matrix(y)"
     ]
    }
   ],
   "source": [
    "\n",
    "white.test(residual)"
   ]
  },
  {
   "cell_type": "code",
   "execution_count": 38,
   "id": "d10e3c44",
   "metadata": {},
   "outputs": [
    {
     "data": {
      "text/plain": [
       "\n",
       "\tBox-Ljung test\n",
       "\n",
       "data:  residual\n",
       "X-squared = 529, df = 4, p-value < 2.2e-16\n"
      ]
     },
     "metadata": {},
     "output_type": "display_data"
    }
   ],
   "source": [
    "Box.test(residual, lag = 4, type = \"Ljung-Box\")"
   ]
  },
  {
   "cell_type": "code",
   "execution_count": 40,
   "id": "4de4f28b",
   "metadata": {},
   "outputs": [],
   "source": [
    "y_pred <- predict(model4,  newdata = test_data)"
   ]
  },
  {
   "cell_type": "code",
   "execution_count": 41,
   "id": "646c4eea",
   "metadata": {},
   "outputs": [
    {
     "data": {
      "text/html": [
       "<style>\n",
       ".dl-inline {width: auto; margin:0; padding: 0}\n",
       ".dl-inline>dt, .dl-inline>dd {float: none; width: auto; display: inline-block}\n",
       ".dl-inline>dt::after {content: \":\\0020\"; padding-right: .5ex}\n",
       ".dl-inline>dt:not(:first-of-type) {padding-left: .5ex}\n",
       "</style><dl class=dl-inline><dt>1</dt><dd>11.2043756117664</dd><dt>2</dt><dd>11.8323530047315</dd><dt>3</dt><dd>11.984986971391</dd><dt>4</dt><dd>12.3369961269747</dd><dt>5</dt><dd>12.358580851626</dd><dt>6</dt><dd>12.5613694664616</dd></dl>\n"
      ],
      "text/latex": [
       "\\begin{description*}\n",
       "\\item[1] 11.2043756117664\n",
       "\\item[2] 11.8323530047315\n",
       "\\item[3] 11.984986971391\n",
       "\\item[4] 12.3369961269747\n",
       "\\item[5] 12.358580851626\n",
       "\\item[6] 12.5613694664616\n",
       "\\end{description*}\n"
      ],
      "text/markdown": [
       "1\n",
       ":   11.20437561176642\n",
       ":   11.83235300473153\n",
       ":   11.9849869713914\n",
       ":   12.33699612697475\n",
       ":   12.3585808516266\n",
       ":   12.5613694664616\n",
       "\n"
      ],
      "text/plain": [
       "       1        2        3        4        5        6 \n",
       "11.20438 11.83235 11.98499 12.33700 12.35858 12.56137 "
      ]
     },
     "metadata": {},
     "output_type": "display_data"
    }
   ],
   "source": [
    "y_pred"
   ]
  },
  {
   "cell_type": "code",
   "execution_count": 42,
   "id": "2b3745b5",
   "metadata": {},
   "outputs": [
    {
     "data": {
      "text/html": [
       "<table class=\"dataframe\">\n",
       "<caption>A tibble: 6 × 8</caption>\n",
       "<thead>\n",
       "\t<tr><th scope=col>Data</th><th scope=col>RI</th><th scope=col>RPM</th><th scope=col>R_CRED</th><th scope=col>R_DEP</th><th scope=col>EUR</th><th scope=col>SN</th><th scope=col>RSBIM_15_74</th></tr>\n",
       "\t<tr><th scope=col>&lt;dttm&gt;</th><th scope=col>&lt;dbl&gt;</th><th scope=col>&lt;dbl&gt;</th><th scope=col>&lt;dbl&gt;</th><th scope=col>&lt;dbl&gt;</th><th scope=col>&lt;dbl&gt;</th><th scope=col>&lt;dbl&gt;</th><th scope=col>&lt;dbl&gt;</th></tr>\n",
       "</thead>\n",
       "<tbody>\n",
       "\t<tr><td>2022-10-01</td><td>15.32</td><td>6.25</td><td>7.25</td><td>5.25</td><td>4.9266</td><td>4008</td><td>5.7</td></tr>\n",
       "\t<tr><td>2022-11-01</td><td>16.76</td><td>6.75</td><td>7.75</td><td>5.75</td><td>4.9131</td><td>4141</td><td>5.7</td></tr>\n",
       "\t<tr><td>2022-12-01</td><td>16.37</td><td>6.75</td><td>7.75</td><td>5.75</td><td>4.9224</td><td>4398</td><td>5.6</td></tr>\n",
       "\t<tr><td>2023-01-01</td><td>15.07</td><td>7.00</td><td>8.00</td><td>6.00</td><td>4.9227</td><td>4254</td><td>5.6</td></tr>\n",
       "\t<tr><td>2023-02-01</td><td>15.52</td><td>7.00</td><td>8.00</td><td>6.00</td><td>4.9077</td><td>4270</td><td>5.5</td></tr>\n",
       "\t<tr><td>2023-03-01</td><td>14.53</td><td>7.00</td><td>8.00</td><td>6.00</td><td>4.9263</td><td>4554</td><td>5.4</td></tr>\n",
       "</tbody>\n",
       "</table>\n"
      ],
      "text/latex": [
       "A tibble: 6 × 8\n",
       "\\begin{tabular}{llllllll}\n",
       " Data & RI & RPM & R\\_CRED & R\\_DEP & EUR & SN & RSBIM\\_15\\_74\\\\\n",
       " <dttm> & <dbl> & <dbl> & <dbl> & <dbl> & <dbl> & <dbl> & <dbl>\\\\\n",
       "\\hline\n",
       "\t 2022-10-01 & 15.32 & 6.25 & 7.25 & 5.25 & 4.9266 & 4008 & 5.7\\\\\n",
       "\t 2022-11-01 & 16.76 & 6.75 & 7.75 & 5.75 & 4.9131 & 4141 & 5.7\\\\\n",
       "\t 2022-12-01 & 16.37 & 6.75 & 7.75 & 5.75 & 4.9224 & 4398 & 5.6\\\\\n",
       "\t 2023-01-01 & 15.07 & 7.00 & 8.00 & 6.00 & 4.9227 & 4254 & 5.6\\\\\n",
       "\t 2023-02-01 & 15.52 & 7.00 & 8.00 & 6.00 & 4.9077 & 4270 & 5.5\\\\\n",
       "\t 2023-03-01 & 14.53 & 7.00 & 8.00 & 6.00 & 4.9263 & 4554 & 5.4\\\\\n",
       "\\end{tabular}\n"
      ],
      "text/markdown": [
       "\n",
       "A tibble: 6 × 8\n",
       "\n",
       "| Data &lt;dttm&gt; | RI &lt;dbl&gt; | RPM &lt;dbl&gt; | R_CRED &lt;dbl&gt; | R_DEP &lt;dbl&gt; | EUR &lt;dbl&gt; | SN &lt;dbl&gt; | RSBIM_15_74 &lt;dbl&gt; |\n",
       "|---|---|---|---|---|---|---|---|\n",
       "| 2022-10-01 | 15.32 | 6.25 | 7.25 | 5.25 | 4.9266 | 4008 | 5.7 |\n",
       "| 2022-11-01 | 16.76 | 6.75 | 7.75 | 5.75 | 4.9131 | 4141 | 5.7 |\n",
       "| 2022-12-01 | 16.37 | 6.75 | 7.75 | 5.75 | 4.9224 | 4398 | 5.6 |\n",
       "| 2023-01-01 | 15.07 | 7.00 | 8.00 | 6.00 | 4.9227 | 4254 | 5.6 |\n",
       "| 2023-02-01 | 15.52 | 7.00 | 8.00 | 6.00 | 4.9077 | 4270 | 5.5 |\n",
       "| 2023-03-01 | 14.53 | 7.00 | 8.00 | 6.00 | 4.9263 | 4554 | 5.4 |\n",
       "\n"
      ],
      "text/plain": [
       "  Data       RI    RPM  R_CRED R_DEP EUR    SN   RSBIM_15_74\n",
       "1 2022-10-01 15.32 6.25 7.25   5.25  4.9266 4008 5.7        \n",
       "2 2022-11-01 16.76 6.75 7.75   5.75  4.9131 4141 5.7        \n",
       "3 2022-12-01 16.37 6.75 7.75   5.75  4.9224 4398 5.6        \n",
       "4 2023-01-01 15.07 7.00 8.00   6.00  4.9227 4254 5.6        \n",
       "5 2023-02-01 15.52 7.00 8.00   6.00  4.9077 4270 5.5        \n",
       "6 2023-03-01 14.53 7.00 8.00   6.00  4.9263 4554 5.4        "
      ]
     },
     "metadata": {},
     "output_type": "display_data"
    }
   ],
   "source": [
    "test_data"
   ]
  },
  {
   "cell_type": "code",
   "execution_count": 43,
   "id": "96656595",
   "metadata": {},
   "outputs": [],
   "source": [
    "RI         = data.frame(Disertatie$RI)\n",
    "RPM        = data.frame(Disertatie$RPM)\n",
    "R_CRED     = data.frame(Disertatie$R_CRED)\n",
    "R_DEP      = data.frame(Disertatie$R_DEP)\n",
    "EUR        = data.frame(Disertatie$EUR)\n",
    "SN         = data.frame(Disertatie$SN)\n",
    "RSBIM_15_74= data.frame(Disertatie$RSBIM_15_74)"
   ]
  },
  {
   "cell_type": "code",
   "execution_count": 44,
   "id": "8c83a007",
   "metadata": {},
   "outputs": [],
   "source": [
    "RII <- ts(RI[,1], start=c(2005,2), end=c(2023, 02), frequency = 12)\n",
    "RPMI <- ts(RPM[,1], start=c(2005,2), end=c(2023, 02), frequency = 12)\n",
    "R_CREDI <- ts(R_CRED[,1], start=c(2005,2), end=c(2023, 02), frequency = 12)\n",
    "R_DEPI <- ts(R_DEP[,1], start=c(2005,2), end=c(2023, 02), frequency = 12)\n",
    "EURI <- ts(EUR[,1], start=c(2005,2), end=c(2023, 02), frequency = 12)\n",
    "SNI <- ts(SN[,1], start=c(2005,2), end=c(2023, 02), frequency = 12)\n",
    "RSBIM_15_74I <- ts(RSBIM_15_74[,1], start=c(2005,2), end=c(2023, 02), frequency = 12)"
   ]
  },
  {
   "cell_type": "code",
   "execution_count": 45,
   "id": "2e898ef8",
   "metadata": {},
   "outputs": [],
   "source": [
    "RI_test         = data.frame(test_data$RI)\n",
    "RPM_test        = data.frame(test_data$RPM)\n",
    "R_CRED_test     = data.frame(test_data$R_CRED)\n",
    "R_DEP_test      = data.frame(test_data$R_DEP)\n",
    "EUR_test        = data.frame(test_data$EUR)\n",
    "SN_test         = data.frame(test_data$SN)\n",
    "RSBIM_15_74_test= data.frame(test_data$RSBIM_15_74)"
   ]
  },
  {
   "cell_type": "code",
   "execution_count": 46,
   "id": "48e8e51d",
   "metadata": {},
   "outputs": [],
   "source": [
    "RI_test         = ts(RI_test, start=c(2022,10), end=c(2023, 02), frequency = 12)\n",
    "RPM_test        = ts(RPM_test, start=c(2022,10), end=c(2023, 02), frequency = 12)\n",
    "R_CRED_test     = ts(R_CRED_test, start=c(2022,10), end=c(2023, 02), frequency = 12)\n",
    "R_DEP_test      = ts(R_DEP_test, start=c(2022,10), end=c(2023, 02), frequency = 12)\n",
    "EUR_test        = ts(EUR_test, start=c(2022,10), end=c(2023, 02), frequency = 12)\n",
    "SN_test         = ts(SN_test, start=c(2022,10), end=c(2023, 02), frequency = 12)\n",
    "RSBIM_15_74_test= ts(RSBIM_15_74_test, start=c(2022,10), end=c(2023, 02), frequency = 12)"
   ]
  },
  {
   "cell_type": "code",
   "execution_count": 47,
   "id": "c8a52e1b",
   "metadata": {},
   "outputs": [],
   "source": [
    "RI_train    = data.frame(train_data$RI)\n",
    "RPM_train       = data.frame(train_data$RPM)\n",
    "R_CRED_train     = data.frame(train_data$R_CRED)\n",
    "R_DEP_train      = data.frame(train_data$R_DEP)\n",
    "EUR_train        = data.frame(train_data$EUR)\n",
    "SN_train         = data.frame(train_data$SN)\n",
    "RSBIM_15_74_train= data.frame(train_data$RSBIM_15_74)"
   ]
  },
  {
   "cell_type": "code",
   "execution_count": 48,
   "id": "0e49bd46",
   "metadata": {},
   "outputs": [],
   "source": [
    "RI_train         = ts(RI_train, start=c(2005,2), end=c(2022, 09), frequency = 12)\n",
    "RPM_train        = ts(RPM_train, start=c(2005,2), end=c(2022, 09), frequency = 12)\n",
    "R_CRED_train     = ts(R_CRED_train, start=c(2005,2), end=c(2022, 09), frequency = 12)\n",
    "R_DEP_train      = ts(R_DEP_train, start=c(2005,2), end=c(2022, 09), frequency = 12)\n",
    "EUR_train        = ts(EUR_train, start=c(2005,2), end=c(2022, 09), frequency = 12)\n",
    "SN_train         = ts(SN_train, start=c(2005,2), end=c(2022, 09), frequency = 12)\n",
    "RSBIM_15_74_train= ts(RSBIM_15_74_train, start=c(2005,2), end=c(2022, 09), frequency = 12)"
   ]
  },
  {
   "cell_type": "code",
   "execution_count": 49,
   "id": "d25c0101",
   "metadata": {},
   "outputs": [],
   "source": [
    "RID1         = diff(RI_train)  \n",
    "RPMD1        = diff(RPM_train)    \n",
    "R_CREDD1     = diff(R_CRED_train)     \n",
    "R_DEPD1      = diff(R_DEP_train)\n",
    "EURD1        = diff(EUR_train)       \n",
    "SND1         = diff(SN_train)\n",
    "RSBIM_15_74D1= diff(RSBIM_15_74_train)"
   ]
  },
  {
   "cell_type": "code",
   "execution_count": 50,
   "id": "8879074a",
   "metadata": {},
   "outputs": [],
   "source": [
    "ts_data = data.frame(RID1, \n",
    "                     RPMD1,\n",
    "                     R_CREDD1,    \n",
    "                     R_DEPD1,\n",
    "                     EURD1,      \n",
    "                     SND1,\n",
    "                     RSBIM_15_74D1)"
   ]
  },
  {
   "cell_type": "code",
   "execution_count": 52,
   "id": "92f3fafa",
   "metadata": {},
   "outputs": [
    {
     "data": {
      "text/plain": [
       "\n",
       "Call:\n",
       "lm(formula = RID1 ~ ., data = ts_data[-1])\n",
       "\n",
       "Coefficients:\n",
       "           (Intercept)          train_data.RPM       train_data.R_CRED  \n",
       "             0.0110088               0.1564964              -0.1978531  \n",
       "      train_data.R_DEP          train_data.EUR           train_data.SN  \n",
       "             0.2636354               0.7754433               0.0004657  \n",
       "train_data.RSBIM_15_74  \n",
       "            -0.1404181  \n"
      ]
     },
     "metadata": {},
     "output_type": "display_data"
    }
   ],
   "source": [
    "model1 <- lm(RID1 ~ ., data = ts_data[-1])\n",
    "model1"
   ]
  },
  {
   "cell_type": "code",
   "execution_count": 53,
   "id": "86d106a3",
   "metadata": {},
   "outputs": [
    {
     "data": {
      "text/plain": [
       "\n",
       "Call:\n",
       "lm(formula = RID1 ~ ., data = ts_data[-1])\n",
       "\n",
       "Residuals:\n",
       "    Min      1Q  Median      3Q     Max \n",
       "-3.1533 -0.2997 -0.0059  0.3096  3.5690 \n",
       "\n",
       "Coefficients:\n",
       "                         Estimate Std. Error t value Pr(>|t|)  \n",
       "(Intercept)             0.0110088  0.0506916   0.217   0.8283  \n",
       "train_data.RPM          0.1564964  0.1400509   1.117   0.2651  \n",
       "train_data.R_CRED      -0.1978531  0.1123360  -1.761   0.0797 .\n",
       "train_data.R_DEP        0.2636354  0.1662379   1.586   0.1143  \n",
       "train_data.EUR          0.7754433  1.0443925   0.742   0.4586  \n",
       "train_data.SN           0.0004657  0.0006668   0.698   0.4857  \n",
       "train_data.RSBIM_15_74 -0.1404181  0.1623950  -0.865   0.3882  \n",
       "---\n",
       "Signif. codes:  0 '***' 0.001 '**' 0.01 '*' 0.05 '.' 0.1 ' ' 1\n",
       "\n",
       "Residual standard error: 0.697 on 204 degrees of freedom\n",
       "Multiple R-squared:  0.02921,\tAdjusted R-squared:  0.0006538 \n",
       "F-statistic: 1.023 on 6 and 204 DF,  p-value: 0.4114\n"
      ]
     },
     "metadata": {},
     "output_type": "display_data"
    }
   ],
   "source": [
    "summary(model1)"
   ]
  },
  {
   "cell_type": "code",
   "execution_count": 63,
   "id": "cc9f8050",
   "metadata": {},
   "outputs": [
    {
     "ename": "ERROR",
     "evalue": "Error in model.frame.default(formula = RID1 ~ ., data = ts_data[, -c(1, : 'data' must be a data.frame, environment, or list\n",
     "output_type": "error",
     "traceback": [
      "Error in model.frame.default(formula = RID1 ~ ., data = ts_data[, -c(1, : 'data' must be a data.frame, environment, or list\nTraceback:\n",
      "1. lm(RID1 ~ ., data = ts_data[, -c(1, 2, 4, 5, 6, 7)])",
      "2. eval(mf, parent.frame())",
      "3. eval(mf, parent.frame())",
      "4. stats::model.frame(formula = RID1 ~ ., data = ts_data[, -c(1, \n .     2, 4, 5, 6, 7)], drop.unused.levels = TRUE)",
      "5. model.frame.default(formula = RID1 ~ ., data = ts_data[, -c(1, \n .     2, 4, 5, 6, 7)], drop.unused.levels = TRUE)",
      "6. stop(\"'data' must be a data.frame, environment, or list\")"
     ]
    }
   ],
   "source": [
    "model1 <- lm(RID1 ~ ., data = ts_data[,-c(1,2,4,5,6,7)])\n",
    "model1"
   ]
  },
  {
   "cell_type": "code",
   "execution_count": 61,
   "id": "f6fa6af2",
   "metadata": {},
   "outputs": [
    {
     "data": {
      "text/plain": [
       "\n",
       "Call:\n",
       "lm(formula = RID1 ~ ., data = ts_data[, -c(1, 4, 5, 6, 7)])\n",
       "\n",
       "Residuals:\n",
       "    Min      1Q  Median      3Q     Max \n",
       "-3.1139 -0.3039 -0.0345  0.2811  3.5761 \n",
       "\n",
       "Coefficients:\n",
       "                  Estimate Std. Error t value Pr(>|t|)\n",
       "(Intercept)        0.03394    0.04858   0.699    0.486\n",
       "train_data.RPM     0.19287    0.13757   1.402    0.162\n",
       "train_data.R_CRED -0.09701    0.08975  -1.081    0.281\n",
       "\n",
       "Residual standard error: 0.6969 on 208 degrees of freedom\n",
       "Multiple R-squared:  0.0105,\tAdjusted R-squared:  0.0009814 \n",
       "F-statistic: 1.103 on 2 and 208 DF,  p-value: 0.3338\n"
      ]
     },
     "metadata": {},
     "output_type": "display_data"
    }
   ],
   "source": [
    "summary(model1)"
   ]
  },
  {
   "cell_type": "code",
   "execution_count": 25,
   "id": "e4adb9dd",
   "metadata": {},
   "outputs": [
    {
     "data": {
      "text/plain": [
       "'log Lik.' -498.7153 (df=5)"
      ]
     },
     "metadata": {},
     "output_type": "display_data"
    }
   ],
   "source": [
    "log_likelihood <- logLik(model4)\n",
    "log_likelihood"
   ]
  },
  {
   "cell_type": "code",
   "execution_count": 26,
   "id": "82357d91",
   "metadata": {},
   "outputs": [],
   "source": [
    "aic <- AIC(model4)\n",
    "bic <- BIC(model4)"
   ]
  },
  {
   "cell_type": "code",
   "execution_count": 27,
   "id": "756305f4",
   "metadata": {},
   "outputs": [
    {
     "data": {
      "text/html": [
       "1007.43052069837"
      ],
      "text/latex": [
       "1007.43052069837"
      ],
      "text/markdown": [
       "1007.43052069837"
      ],
      "text/plain": [
       "[1] 1007.431"
      ]
     },
     "metadata": {},
     "output_type": "display_data"
    },
    {
     "data": {
      "text/html": [
       "1024.35299601231"
      ],
      "text/latex": [
       "1024.35299601231"
      ],
      "text/markdown": [
       "1024.35299601231"
      ],
      "text/plain": [
       "[1] 1024.353"
      ]
     },
     "metadata": {},
     "output_type": "display_data"
    }
   ],
   "source": [
    "aic\n",
    "bic"
   ]
  },
  {
   "cell_type": "code",
   "execution_count": null,
   "id": "964f5d5d",
   "metadata": {},
   "outputs": [],
   "source": []
  }
 ],
 "metadata": {
  "kernelspec": {
   "display_name": "R",
   "language": "R",
   "name": "ir"
  },
  "language_info": {
   "codemirror_mode": "r",
   "file_extension": ".r",
   "mimetype": "text/x-r-source",
   "name": "R",
   "pygments_lexer": "r",
   "version": "4.1.3"
  }
 },
 "nbformat": 4,
 "nbformat_minor": 5
}
