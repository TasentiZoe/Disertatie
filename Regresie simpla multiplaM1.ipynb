{
 "cells": [
  {
   "cell_type": "code",
   "execution_count": 1,
   "id": "7f26294e",
   "metadata": {},
   "outputs": [],
   "source": [
    "setwd(\"C:/Users/Zoe/Desktop/Disertatie/Coduri\")"
   ]
  },
  {
   "cell_type": "code",
   "execution_count": 3,
   "id": "d4c94974",
   "metadata": {},
   "outputs": [],
   "source": [
    "library(readxl)\n",
    "library(MASS)\n",
    "library(base)\n",
    "library(vars)\n",
    "library(car)\n",
    "library(forecast)\n",
    "library(tseries)"
   ]
  },
  {
   "cell_type": "code",
   "execution_count": 4,
   "id": "6b46effb",
   "metadata": {},
   "outputs": [],
   "source": [
    "Disertatie <- read_excel(\"DisertatieM1.xlsx\")"
   ]
  },
  {
   "cell_type": "code",
   "execution_count": 5,
   "id": "e139c8e0",
   "metadata": {},
   "outputs": [],
   "source": [
    "train_data <- Disertatie[1:(nrow(Disertatie)-7), ]\n",
    "test_data <- Disertatie[(nrow(Disertatie)-6):(nrow(Disertatie)), ]"
   ]
  },
  {
   "cell_type": "code",
   "execution_count": 6,
   "id": "4942f1a7",
   "metadata": {},
   "outputs": [
    {
     "data": {
      "text/html": [
       "<table class=\"dataframe\">\n",
       "<caption>A tibble: 7 × 9</caption>\n",
       "<thead>\n",
       "\t<tr><th scope=col>Data</th><th scope=col>RI</th><th scope=col>RPM</th><th scope=col>R_CRED</th><th scope=col>R_DEP</th><th scope=col>EUR</th><th scope=col>SN</th><th scope=col>RSBIM_15_74</th><th scope=col>M1</th></tr>\n",
       "\t<tr><th scope=col>&lt;dttm&gt;</th><th scope=col>&lt;dbl&gt;</th><th scope=col>&lt;dbl&gt;</th><th scope=col>&lt;dbl&gt;</th><th scope=col>&lt;dbl&gt;</th><th scope=col>&lt;dbl&gt;</th><th scope=col>&lt;dbl&gt;</th><th scope=col>&lt;dbl&gt;</th><th scope=col>&lt;dbl&gt;</th></tr>\n",
       "</thead>\n",
       "<tbody>\n",
       "\t<tr><td>2022-10-01</td><td>15.32</td><td>6.25</td><td>7.25</td><td>5.25</td><td>4.9266</td><td>4008</td><td>5.7</td><td>398146000</td></tr>\n",
       "\t<tr><td>2022-11-01</td><td>16.76</td><td>6.75</td><td>7.75</td><td>5.75</td><td>4.9131</td><td>4141</td><td>5.7</td><td>389976296</td></tr>\n",
       "\t<tr><td>2022-12-01</td><td>16.37</td><td>6.75</td><td>7.75</td><td>5.75</td><td>4.9224</td><td>4398</td><td>5.6</td><td>398407606</td></tr>\n",
       "\t<tr><td>2023-01-01</td><td>15.07</td><td>7.00</td><td>8.00</td><td>6.00</td><td>4.9227</td><td>4254</td><td>5.6</td><td>390090363</td></tr>\n",
       "\t<tr><td>2023-02-01</td><td>15.52</td><td>7.00</td><td>8.00</td><td>6.00</td><td>4.9077</td><td>4270</td><td>5.5</td><td>389759403</td></tr>\n",
       "\t<tr><td>2023-03-01</td><td>14.53</td><td>7.00</td><td>8.00</td><td>6.00</td><td>4.9263</td><td>4554</td><td>5.4</td><td>382193287</td></tr>\n",
       "\t<tr><td>2023-04-01</td><td>11.23</td><td>7.00</td><td>8.00</td><td>6.00</td><td>4.9364</td><td>4554</td><td>5.4</td><td>381901459</td></tr>\n",
       "</tbody>\n",
       "</table>\n"
      ],
      "text/latex": [
       "A tibble: 7 × 9\n",
       "\\begin{tabular}{lllllllll}\n",
       " Data & RI & RPM & R\\_CRED & R\\_DEP & EUR & SN & RSBIM\\_15\\_74 & M1\\\\\n",
       " <dttm> & <dbl> & <dbl> & <dbl> & <dbl> & <dbl> & <dbl> & <dbl> & <dbl>\\\\\n",
       "\\hline\n",
       "\t 2022-10-01 & 15.32 & 6.25 & 7.25 & 5.25 & 4.9266 & 4008 & 5.7 & 398146000\\\\\n",
       "\t 2022-11-01 & 16.76 & 6.75 & 7.75 & 5.75 & 4.9131 & 4141 & 5.7 & 389976296\\\\\n",
       "\t 2022-12-01 & 16.37 & 6.75 & 7.75 & 5.75 & 4.9224 & 4398 & 5.6 & 398407606\\\\\n",
       "\t 2023-01-01 & 15.07 & 7.00 & 8.00 & 6.00 & 4.9227 & 4254 & 5.6 & 390090363\\\\\n",
       "\t 2023-02-01 & 15.52 & 7.00 & 8.00 & 6.00 & 4.9077 & 4270 & 5.5 & 389759403\\\\\n",
       "\t 2023-03-01 & 14.53 & 7.00 & 8.00 & 6.00 & 4.9263 & 4554 & 5.4 & 382193287\\\\\n",
       "\t 2023-04-01 & 11.23 & 7.00 & 8.00 & 6.00 & 4.9364 & 4554 & 5.4 & 381901459\\\\\n",
       "\\end{tabular}\n"
      ],
      "text/markdown": [
       "\n",
       "A tibble: 7 × 9\n",
       "\n",
       "| Data &lt;dttm&gt; | RI &lt;dbl&gt; | RPM &lt;dbl&gt; | R_CRED &lt;dbl&gt; | R_DEP &lt;dbl&gt; | EUR &lt;dbl&gt; | SN &lt;dbl&gt; | RSBIM_15_74 &lt;dbl&gt; | M1 &lt;dbl&gt; |\n",
       "|---|---|---|---|---|---|---|---|---|\n",
       "| 2022-10-01 | 15.32 | 6.25 | 7.25 | 5.25 | 4.9266 | 4008 | 5.7 | 398146000 |\n",
       "| 2022-11-01 | 16.76 | 6.75 | 7.75 | 5.75 | 4.9131 | 4141 | 5.7 | 389976296 |\n",
       "| 2022-12-01 | 16.37 | 6.75 | 7.75 | 5.75 | 4.9224 | 4398 | 5.6 | 398407606 |\n",
       "| 2023-01-01 | 15.07 | 7.00 | 8.00 | 6.00 | 4.9227 | 4254 | 5.6 | 390090363 |\n",
       "| 2023-02-01 | 15.52 | 7.00 | 8.00 | 6.00 | 4.9077 | 4270 | 5.5 | 389759403 |\n",
       "| 2023-03-01 | 14.53 | 7.00 | 8.00 | 6.00 | 4.9263 | 4554 | 5.4 | 382193287 |\n",
       "| 2023-04-01 | 11.23 | 7.00 | 8.00 | 6.00 | 4.9364 | 4554 | 5.4 | 381901459 |\n",
       "\n"
      ],
      "text/plain": [
       "  Data       RI    RPM  R_CRED R_DEP EUR    SN   RSBIM_15_74 M1       \n",
       "1 2022-10-01 15.32 6.25 7.25   5.25  4.9266 4008 5.7         398146000\n",
       "2 2022-11-01 16.76 6.75 7.75   5.75  4.9131 4141 5.7         389976296\n",
       "3 2022-12-01 16.37 6.75 7.75   5.75  4.9224 4398 5.6         398407606\n",
       "4 2023-01-01 15.07 7.00 8.00   6.00  4.9227 4254 5.6         390090363\n",
       "5 2023-02-01 15.52 7.00 8.00   6.00  4.9077 4270 5.5         389759403\n",
       "6 2023-03-01 14.53 7.00 8.00   6.00  4.9263 4554 5.4         382193287\n",
       "7 2023-04-01 11.23 7.00 8.00   6.00  4.9364 4554 5.4         381901459"
      ]
     },
     "metadata": {},
     "output_type": "display_data"
    }
   ],
   "source": [
    "test_data"
   ]
  },
  {
   "cell_type": "code",
   "execution_count": 7,
   "id": "4c8d5a82",
   "metadata": {},
   "outputs": [
    {
     "data": {
      "text/plain": [
       "\n",
       "Call:\n",
       "lm(formula = RI ~ ., data = train_data[-1])\n",
       "\n",
       "Coefficients:\n",
       "(Intercept)          RPM       R_CRED        R_DEP          EUR           SN  \n",
       " -1.840e+01    1.434e+00    3.819e-01   -6.260e-01    1.425e+00    2.425e-03  \n",
       "RSBIM_15_74           M1  \n",
       "  6.400e-02    1.680e-08  \n"
      ]
     },
     "metadata": {},
     "output_type": "display_data"
    }
   ],
   "source": [
    "model1 <- lm(RI ~ ., data = train_data[-1])\n",
    "model1"
   ]
  },
  {
   "cell_type": "code",
   "execution_count": 8,
   "id": "8740414b",
   "metadata": {},
   "outputs": [
    {
     "data": {
      "text/plain": [
       "\n",
       "Call:\n",
       "lm(formula = RI ~ ., data = train_data[-1])\n",
       "\n",
       "Residuals:\n",
       "    Min      1Q  Median      3Q     Max \n",
       "-3.6238 -1.4061 -0.3029  1.2262  5.0026 \n",
       "\n",
       "Coefficients:\n",
       "              Estimate Std. Error t value Pr(>|t|)    \n",
       "(Intercept) -1.840e+01  3.665e+00  -5.020 1.23e-06 ***\n",
       "RPM          1.434e+00  4.598e-01   3.119  0.00211 ** \n",
       "R_CRED       3.819e-01  2.771e-01   1.378  0.16994    \n",
       "R_DEP       -6.260e-01  2.519e-01  -2.485  0.01385 *  \n",
       "EUR          1.425e+00  1.179e+00   1.208  0.22852    \n",
       "SN           2.425e-03  1.401e-03   1.731  0.08518 .  \n",
       "RSBIM_15_74  6.400e-02  2.002e-01   0.320  0.74958    \n",
       "M1           1.680e-08  8.531e-09   1.969  0.05049 .  \n",
       "---\n",
       "Signif. codes:  0 '***' 0.001 '**' 0.01 '*' 0.05 '.' 0.1 ' ' 1\n",
       "\n",
       "Residual standard error: 1.816 on 181 degrees of freedom\n",
       "Multiple R-squared:  0.7355,\tAdjusted R-squared:  0.7253 \n",
       "F-statistic: 71.91 on 7 and 181 DF,  p-value: < 2.2e-16\n"
      ]
     },
     "metadata": {},
     "output_type": "display_data"
    }
   ],
   "source": [
    "summary(model1)"
   ]
  },
  {
   "cell_type": "code",
   "execution_count": 9,
   "id": "4e16c744",
   "metadata": {},
   "outputs": [
    {
     "data": {
      "text/html": [
       "<style>\n",
       ".dl-inline {width: auto; margin:0; padding: 0}\n",
       ".dl-inline>dt, .dl-inline>dd {float: none; width: auto; display: inline-block}\n",
       ".dl-inline>dt::after {content: \":\\0020\"; padding-right: .5ex}\n",
       ".dl-inline>dt:not(:first-of-type) {padding-left: .5ex}\n",
       "</style><dl class=dl-inline><dt>RPM</dt><dd>89.5950345531008</dd><dt>R_CRED</dt><dd>74.8420303379524</dd><dt>R_DEP</dt><dd>8.71145785625663</dd><dt>EUR</dt><dd>13.8727051399588</dd><dt>SN</dt><dd>81.8445723821951</dd><dt>RSBIM_15_74</dt><dd>5.5413129537655</dd><dt>M1</dt><dd>45.1576953052169</dd></dl>\n"
      ],
      "text/latex": [
       "\\begin{description*}\n",
       "\\item[RPM] 89.5950345531008\n",
       "\\item[R\\textbackslash{}\\_CRED] 74.8420303379524\n",
       "\\item[R\\textbackslash{}\\_DEP] 8.71145785625663\n",
       "\\item[EUR] 13.8727051399588\n",
       "\\item[SN] 81.8445723821951\n",
       "\\item[RSBIM\\textbackslash{}\\_15\\textbackslash{}\\_74] 5.5413129537655\n",
       "\\item[M1] 45.1576953052169\n",
       "\\end{description*}\n"
      ],
      "text/markdown": [
       "RPM\n",
       ":   89.5950345531008R_CRED\n",
       ":   74.8420303379524R_DEP\n",
       ":   8.71145785625663EUR\n",
       ":   13.8727051399588SN\n",
       ":   81.8445723821951RSBIM_15_74\n",
       ":   5.5413129537655M1\n",
       ":   45.1576953052169\n",
       "\n"
      ],
      "text/plain": [
       "        RPM      R_CRED       R_DEP         EUR          SN RSBIM_15_74 \n",
       "  89.595035   74.842030    8.711458   13.872705   81.844572    5.541313 \n",
       "         M1 \n",
       "  45.157695 "
      ]
     },
     "metadata": {},
     "output_type": "display_data"
    }
   ],
   "source": [
    "vif(model1)"
   ]
  },
  {
   "cell_type": "code",
   "execution_count": 10,
   "id": "a58bca8f",
   "metadata": {},
   "outputs": [
    {
     "data": {
      "text/plain": [
       "\n",
       "\tBreusch-Godfrey test for serial correlation of order up to 11\n",
       "\n",
       "data:  Residuals\n",
       "LM test = 156.41, df = 11, p-value < 2.2e-16\n"
      ]
     },
     "metadata": {},
     "output_type": "display_data"
    },
    {
     "data": {
      "image/png": "[encoded data removed]",
      "text/plain": [
       "plot without title"
      ]
     },
     "metadata": {
      "image/png": {
       "height": 420,
       "width": 420
      }
     },
     "output_type": "display_data"
    }
   ],
   "source": [
    "checkresiduals(model1)"
   ]
  },
  {
   "cell_type": "code",
   "execution_count": 11,
   "id": "46286a1f",
   "metadata": {},
   "outputs": [
    {
     "data": {
      "text/plain": [
       "\n",
       "\tJarque Bera Test\n",
       "\n",
       "data:  residual\n",
       "X-squared = 9.6341, df = 2, p-value = 0.008091\n"
      ]
     },
     "metadata": {},
     "output_type": "display_data"
    }
   ],
   "source": [
    "residual = residuals(model1)\n",
    "jarque.bera.test(residual)"
   ]
  },
  {
   "cell_type": "code",
   "execution_count": 12,
   "id": "0a79034c",
   "metadata": {},
   "outputs": [
    {
     "ename": "ERROR",
     "evalue": "Error in as.matrix(y): argument \"y\" is missing, with no default\n",
     "output_type": "error",
     "traceback": [
      "Error in as.matrix(y): argument \"y\" is missing, with no default\nTraceback:\n",
      "1. white.test(residual)",
      "2. white.test.default(residual)",
      "3. as.matrix(y)"
     ]
    }
   ],
   "source": [
    "white.test(residual)\n"
   ]
  },
  {
   "cell_type": "code",
   "execution_count": 13,
   "id": "3a59861a",
   "metadata": {},
   "outputs": [
    {
     "data": {
      "text/plain": [
       "\n",
       "\tstudentized Breusch-Pagan test\n",
       "\n",
       "data:  model1\n",
       "BP = 23.528, df = 7, p-value = 0.001379\n"
      ]
     },
     "metadata": {},
     "output_type": "display_data"
    }
   ],
   "source": [
    "white_test <- bptest(model1)\n",
    "white_test"
   ]
  },
  {
   "cell_type": "code",
   "execution_count": 14,
   "id": "75b6f6d3",
   "metadata": {},
   "outputs": [
    {
     "data": {
      "text/plain": [
       "\n",
       "\tBox-Ljung test\n",
       "\n",
       "data:  residual\n",
       "X-squared = 395.35, df = 4, p-value < 2.2e-16\n"
      ]
     },
     "metadata": {},
     "output_type": "display_data"
    }
   ],
   "source": [
    "Box.test(residual, lag = 4, type = \"Ljung-Box\")"
   ]
  },
  {
   "cell_type": "code",
   "execution_count": 15,
   "id": "555ef9fd",
   "metadata": {},
   "outputs": [
    {
     "data": {
      "text/plain": [
       "\n",
       "Call:\n",
       "lm(formula = RI ~ ., data = Disertatie[, -c(1, 3, 4, 7, 8)])\n",
       "\n",
       "Coefficients:\n",
       "(Intercept)        R_DEP          EUR           M1  \n",
       "  8.631e+00    1.503e+00   -2.369e+00    2.007e-08  \n"
      ]
     },
     "metadata": {},
     "output_type": "display_data"
    }
   ],
   "source": [
    "model2 <- lm(RI ~ ., data = Disertatie[,-c(1,3,4,7,8)])\n",
    "model2"
   ]
  },
  {
   "cell_type": "code",
   "execution_count": 16,
   "id": "68ecdf24",
   "metadata": {},
   "outputs": [
    {
     "data": {
      "text/plain": [
       "\n",
       "Call:\n",
       "lm(formula = RI ~ ., data = Disertatie[, -c(1, 3, 4, 7, 8)])\n",
       "\n",
       "Residuals:\n",
       "    Min      1Q  Median      3Q     Max \n",
       "-4.9844 -1.8812 -0.0674  1.2978  6.7363 \n",
       "\n",
       "Coefficients:\n",
       "              Estimate Std. Error t value Pr(>|t|)    \n",
       "(Intercept)  8.631e+00  2.689e+00   3.209 0.001559 ** \n",
       "R_DEP        1.503e+00  1.061e-01  14.164  < 2e-16 ***\n",
       "EUR         -2.369e+00  6.638e-01  -3.568 0.000454 ***\n",
       "M1           2.007e-08  2.470e-09   8.125 5.36e-14 ***\n",
       "---\n",
       "Signif. codes:  0 '***' 0.001 '**' 0.01 '*' 0.05 '.' 0.1 ' ' 1\n",
       "\n",
       "Residual standard error: 2.377 on 192 degrees of freedom\n",
       "Multiple R-squared:  0.6479,\tAdjusted R-squared:  0.6424 \n",
       "F-statistic: 117.8 on 3 and 192 DF,  p-value: < 2.2e-16\n"
      ]
     },
     "metadata": {},
     "output_type": "display_data"
    }
   ],
   "source": [
    "summary(model2)"
   ]
  },
  {
   "cell_type": "code",
   "execution_count": 17,
   "id": "6eff9a5f",
   "metadata": {},
   "outputs": [
    {
     "data": {
      "text/html": [
       "<table class=\"dataframe\">\n",
       "<caption>A matrix: 4 × 4 of type dbl</caption>\n",
       "<thead>\n",
       "\t<tr><th></th><th scope=col>Estimate</th><th scope=col>Std. Error</th><th scope=col>t value</th><th scope=col>Pr(&gt;|t|)</th></tr>\n",
       "</thead>\n",
       "<tbody>\n",
       "\t<tr><th scope=row>(Intercept)</th><td> 8.630900e+00</td><td>2.689296e+00</td><td> 3.209353</td><td>1.559301e-03</td></tr>\n",
       "\t<tr><th scope=row>R_DEP</th><td> 1.503087e+00</td><td>1.061232e-01</td><td>14.163606</td><td>1.203040e-31</td></tr>\n",
       "\t<tr><th scope=row>EUR</th><td>-2.368712e+00</td><td>6.638499e-01</td><td>-3.568144</td><td>4.540714e-04</td></tr>\n",
       "\t<tr><th scope=row>M1</th><td> 2.007085e-08</td><td>2.470377e-09</td><td> 8.124613</td><td>5.362546e-14</td></tr>\n",
       "</tbody>\n",
       "</table>\n"
      ],
      "text/latex": [
       "A matrix: 4 × 4 of type dbl\n",
       "\\begin{tabular}{r|llll}\n",
       "  & Estimate & Std. Error & t value & Pr(>\\textbar{}t\\textbar{})\\\\\n",
       "\\hline\n",
       "\t(Intercept) &  8.630900e+00 & 2.689296e+00 &  3.209353 & 1.559301e-03\\\\\n",
       "\tR\\_DEP &  1.503087e+00 & 1.061232e-01 & 14.163606 & 1.203040e-31\\\\\n",
       "\tEUR & -2.368712e+00 & 6.638499e-01 & -3.568144 & 4.540714e-04\\\\\n",
       "\tM1 &  2.007085e-08 & 2.470377e-09 &  8.124613 & 5.362546e-14\\\\\n",
       "\\end{tabular}\n"
      ],
      "text/markdown": [
       "\n",
       "A matrix: 4 × 4 of type dbl\n",
       "\n",
       "| <!--/--> | Estimate | Std. Error | t value | Pr(&gt;|t|) |\n",
       "|---|---|---|---|---|\n",
       "| (Intercept) |  8.630900e+00 | 2.689296e+00 |  3.209353 | 1.559301e-03 |\n",
       "| R_DEP |  1.503087e+00 | 1.061232e-01 | 14.163606 | 1.203040e-31 |\n",
       "| EUR | -2.368712e+00 | 6.638499e-01 | -3.568144 | 4.540714e-04 |\n",
       "| M1 |  2.007085e-08 | 2.470377e-09 |  8.124613 | 5.362546e-14 |\n",
       "\n"
      ],
      "text/plain": [
       "            Estimate      Std. Error   t value   Pr(>|t|)    \n",
       "(Intercept)  8.630900e+00 2.689296e+00  3.209353 1.559301e-03\n",
       "R_DEP        1.503087e+00 1.061232e-01 14.163606 1.203040e-31\n",
       "EUR         -2.368712e+00 6.638499e-01 -3.568144 4.540714e-04\n",
       "M1           2.007085e-08 2.470377e-09  8.124613 5.362546e-14"
      ]
     },
     "metadata": {},
     "output_type": "display_data"
    }
   ],
   "source": [
    "model_summary <- summary(model2)\n",
    "coefficients <- model_summary$coefficients\n",
    "coefficients"
   ]
  },
  {
   "cell_type": "code",
   "execution_count": 24,
   "id": "2064e828",
   "metadata": {},
   "outputs": [
    {
     "data": {
      "text/plain": [
       "\n",
       "\tBreusch-Godfrey test for serial correlation of order up to 10\n",
       "\n",
       "data:  Residuals\n",
       "LM test = 170.66, df = 10, p-value < 2.2e-16\n"
      ]
     },
     "metadata": {},
     "output_type": "display_data"
    },
    {
     "data": {
      "image/png": "[encoded data removed]",
      "text/plain": [
       "plot without title"
      ]
     },
     "metadata": {
      "image/png": {
       "height": 420,
       "width": 420
      }
     },
     "output_type": "display_data"
    }
   ],
   "source": [
    "checkresiduals(model2)"
   ]
  },
  {
   "cell_type": "code",
   "execution_count": 25,
   "id": "fd1e230a",
   "metadata": {},
   "outputs": [
    {
     "data": {
      "text/plain": [
       "\n",
       "\tJarque Bera Test\n",
       "\n",
       "data:  residual\n",
       "X-squared = 5.3216, df = 2, p-value = 0.06989\n"
      ]
     },
     "metadata": {},
     "output_type": "display_data"
    }
   ],
   "source": [
    "residual = residuals(model2)\n",
    "jarque.bera.test(residual)"
   ]
  },
  {
   "cell_type": "code",
   "execution_count": 26,
   "id": "9b808da4",
   "metadata": {},
   "outputs": [
    {
     "data": {
      "text/plain": [
       "\n",
       "\tstudentized Breusch-Pagan test\n",
       "\n",
       "data:  model1\n",
       "BP = 23.528, df = 7, p-value = 0.001379\n"
      ]
     },
     "metadata": {},
     "output_type": "display_data"
    }
   ],
   "source": [
    "white_test <- bptest(model1)\n",
    "white_test"
   ]
  },
  {
   "cell_type": "code",
   "execution_count": 27,
   "id": "d10e3c44",
   "metadata": {},
   "outputs": [
    {
     "data": {
      "text/plain": [
       "\n",
       "\tBox-Ljung test\n",
       "\n",
       "data:  residual\n",
       "X-squared = 525.82, df = 4, p-value < 2.2e-16\n"
      ]
     },
     "metadata": {},
     "output_type": "display_data"
    }
   ],
   "source": [
    "Box.test(residual, lag = 4, type = \"Ljung-Box\")"
   ]
  },
  {
   "cell_type": "code",
   "execution_count": 28,
   "id": "4de4f28b",
   "metadata": {},
   "outputs": [],
   "source": [
    "y_pred <- predict(model2,  newdata = test_data)"
   ]
  },
  {
   "cell_type": "code",
   "execution_count": 29,
   "id": "646c4eea",
   "metadata": {},
   "outputs": [
    {
     "data": {
      "text/html": [
       "<style>\n",
       ".dl-inline {width: auto; margin:0; padding: 0}\n",
       ".dl-inline>dt, .dl-inline>dd {float: none; width: auto; display: inline-block}\n",
       ".dl-inline>dt::after {content: \":\\0020\"; padding-right: .5ex}\n",
       ".dl-inline>dt:not(:first-of-type) {padding-left: .5ex}\n",
       "</style><dl class=dl-inline><dt>1</dt><dd>12.8435399148588</dd><dt>2</dt><dd>13.4630880567354</dd><dt>3</dt><dd>13.6102826144528</dd><dt>4</dt><dd>13.8184095824832</dd><dt>5</dt><dd>13.8472976003975</dd><dt>6</dt><dd>13.6513811680946</dd><dt>7</dt><dd>13.6215999359366</dd></dl>\n"
      ],
      "text/latex": [
       "\\begin{description*}\n",
       "\\item[1] 12.8435399148588\n",
       "\\item[2] 13.4630880567354\n",
       "\\item[3] 13.6102826144528\n",
       "\\item[4] 13.8184095824832\n",
       "\\item[5] 13.8472976003975\n",
       "\\item[6] 13.6513811680946\n",
       "\\item[7] 13.6215999359366\n",
       "\\end{description*}\n"
      ],
      "text/markdown": [
       "1\n",
       ":   12.84353991485882\n",
       ":   13.46308805673543\n",
       ":   13.61028261445284\n",
       ":   13.81840958248325\n",
       ":   13.84729760039756\n",
       ":   13.65138116809467\n",
       ":   13.6215999359366\n",
       "\n"
      ],
      "text/plain": [
       "       1        2        3        4        5        6        7 \n",
       "12.84354 13.46309 13.61028 13.81841 13.84730 13.65138 13.62160 "
      ]
     },
     "metadata": {},
     "output_type": "display_data"
    }
   ],
   "source": [
    "y_pred"
   ]
  },
  {
   "cell_type": "code",
   "execution_count": 30,
   "id": "2b3745b5",
   "metadata": {},
   "outputs": [
    {
     "data": {
      "text/html": [
       "<table class=\"dataframe\">\n",
       "<caption>A tibble: 7 × 9</caption>\n",
       "<thead>\n",
       "\t<tr><th scope=col>Data</th><th scope=col>RI</th><th scope=col>RPM</th><th scope=col>R_CRED</th><th scope=col>R_DEP</th><th scope=col>EUR</th><th scope=col>SN</th><th scope=col>RSBIM_15_74</th><th scope=col>M1</th></tr>\n",
       "\t<tr><th scope=col>&lt;dttm&gt;</th><th scope=col>&lt;dbl&gt;</th><th scope=col>&lt;dbl&gt;</th><th scope=col>&lt;dbl&gt;</th><th scope=col>&lt;dbl&gt;</th><th scope=col>&lt;dbl&gt;</th><th scope=col>&lt;dbl&gt;</th><th scope=col>&lt;dbl&gt;</th><th scope=col>&lt;dbl&gt;</th></tr>\n",
       "</thead>\n",
       "<tbody>\n",
       "\t<tr><td>2022-10-01</td><td>15.32</td><td>6.25</td><td>7.25</td><td>5.25</td><td>4.9266</td><td>4008</td><td>5.7</td><td>398146000</td></tr>\n",
       "\t<tr><td>2022-11-01</td><td>16.76</td><td>6.75</td><td>7.75</td><td>5.75</td><td>4.9131</td><td>4141</td><td>5.7</td><td>389976296</td></tr>\n",
       "\t<tr><td>2022-12-01</td><td>16.37</td><td>6.75</td><td>7.75</td><td>5.75</td><td>4.9224</td><td>4398</td><td>5.6</td><td>398407606</td></tr>\n",
       "\t<tr><td>2023-01-01</td><td>15.07</td><td>7.00</td><td>8.00</td><td>6.00</td><td>4.9227</td><td>4254</td><td>5.6</td><td>390090363</td></tr>\n",
       "\t<tr><td>2023-02-01</td><td>15.52</td><td>7.00</td><td>8.00</td><td>6.00</td><td>4.9077</td><td>4270</td><td>5.5</td><td>389759403</td></tr>\n",
       "\t<tr><td>2023-03-01</td><td>14.53</td><td>7.00</td><td>8.00</td><td>6.00</td><td>4.9263</td><td>4554</td><td>5.4</td><td>382193287</td></tr>\n",
       "\t<tr><td>2023-04-01</td><td>11.23</td><td>7.00</td><td>8.00</td><td>6.00</td><td>4.9364</td><td>4554</td><td>5.4</td><td>381901459</td></tr>\n",
       "</tbody>\n",
       "</table>\n"
      ],
      "text/latex": [
       "A tibble: 7 × 9\n",
       "\\begin{tabular}{lllllllll}\n",
       " Data & RI & RPM & R\\_CRED & R\\_DEP & EUR & SN & RSBIM\\_15\\_74 & M1\\\\\n",
       " <dttm> & <dbl> & <dbl> & <dbl> & <dbl> & <dbl> & <dbl> & <dbl> & <dbl>\\\\\n",
       "\\hline\n",
       "\t 2022-10-01 & 15.32 & 6.25 & 7.25 & 5.25 & 4.9266 & 4008 & 5.7 & 398146000\\\\\n",
       "\t 2022-11-01 & 16.76 & 6.75 & 7.75 & 5.75 & 4.9131 & 4141 & 5.7 & 389976296\\\\\n",
       "\t 2022-12-01 & 16.37 & 6.75 & 7.75 & 5.75 & 4.9224 & 4398 & 5.6 & 398407606\\\\\n",
       "\t 2023-01-01 & 15.07 & 7.00 & 8.00 & 6.00 & 4.9227 & 4254 & 5.6 & 390090363\\\\\n",
       "\t 2023-02-01 & 15.52 & 7.00 & 8.00 & 6.00 & 4.9077 & 4270 & 5.5 & 389759403\\\\\n",
       "\t 2023-03-01 & 14.53 & 7.00 & 8.00 & 6.00 & 4.9263 & 4554 & 5.4 & 382193287\\\\\n",
       "\t 2023-04-01 & 11.23 & 7.00 & 8.00 & 6.00 & 4.9364 & 4554 & 5.4 & 381901459\\\\\n",
       "\\end{tabular}\n"
      ],
      "text/markdown": [
       "\n",
       "A tibble: 7 × 9\n",
       "\n",
       "| Data &lt;dttm&gt; | RI &lt;dbl&gt; | RPM &lt;dbl&gt; | R_CRED &lt;dbl&gt; | R_DEP &lt;dbl&gt; | EUR &lt;dbl&gt; | SN &lt;dbl&gt; | RSBIM_15_74 &lt;dbl&gt; | M1 &lt;dbl&gt; |\n",
       "|---|---|---|---|---|---|---|---|---|\n",
       "| 2022-10-01 | 15.32 | 6.25 | 7.25 | 5.25 | 4.9266 | 4008 | 5.7 | 398146000 |\n",
       "| 2022-11-01 | 16.76 | 6.75 | 7.75 | 5.75 | 4.9131 | 4141 | 5.7 | 389976296 |\n",
       "| 2022-12-01 | 16.37 | 6.75 | 7.75 | 5.75 | 4.9224 | 4398 | 5.6 | 398407606 |\n",
       "| 2023-01-01 | 15.07 | 7.00 | 8.00 | 6.00 | 4.9227 | 4254 | 5.6 | 390090363 |\n",
       "| 2023-02-01 | 15.52 | 7.00 | 8.00 | 6.00 | 4.9077 | 4270 | 5.5 | 389759403 |\n",
       "| 2023-03-01 | 14.53 | 7.00 | 8.00 | 6.00 | 4.9263 | 4554 | 5.4 | 382193287 |\n",
       "| 2023-04-01 | 11.23 | 7.00 | 8.00 | 6.00 | 4.9364 | 4554 | 5.4 | 381901459 |\n",
       "\n"
      ],
      "text/plain": [
       "  Data       RI    RPM  R_CRED R_DEP EUR    SN   RSBIM_15_74 M1       \n",
       "1 2022-10-01 15.32 6.25 7.25   5.25  4.9266 4008 5.7         398146000\n",
       "2 2022-11-01 16.76 6.75 7.75   5.75  4.9131 4141 5.7         389976296\n",
       "3 2022-12-01 16.37 6.75 7.75   5.75  4.9224 4398 5.6         398407606\n",
       "4 2023-01-01 15.07 7.00 8.00   6.00  4.9227 4254 5.6         390090363\n",
       "5 2023-02-01 15.52 7.00 8.00   6.00  4.9077 4270 5.5         389759403\n",
       "6 2023-03-01 14.53 7.00 8.00   6.00  4.9263 4554 5.4         382193287\n",
       "7 2023-04-01 11.23 7.00 8.00   6.00  4.9364 4554 5.4         381901459"
      ]
     },
     "metadata": {},
     "output_type": "display_data"
    }
   ],
   "source": [
    "test_data"
   ]
  },
  {
   "cell_type": "code",
   "execution_count": 31,
   "id": "e4adb9dd",
   "metadata": {},
   "outputs": [
    {
     "data": {
      "text/plain": [
       "'log Lik.' -445.8048 (df=5)"
      ]
     },
     "metadata": {},
     "output_type": "display_data"
    }
   ],
   "source": [
    "log_likelihood <- logLik(model2)\n",
    "log_likelihood"
   ]
  },
  {
   "cell_type": "code",
   "execution_count": 32,
   "id": "b7a17f05",
   "metadata": {},
   "outputs": [
    {
     "data": {
      "text/html": [
       "901.609506746764"
      ],
      "text/latex": [
       "901.609506746764"
      ],
      "text/markdown": [
       "901.609506746764"
      ],
      "text/plain": [
       "[1] 901.6095"
      ]
     },
     "metadata": {},
     "output_type": "display_data"
    },
    {
     "data": {
      "text/html": [
       "918.000080042917"
      ],
      "text/latex": [
       "918.000080042917"
      ],
      "text/markdown": [
       "918.000080042917"
      ],
      "text/plain": [
       "[1] 918.0001"
      ]
     },
     "metadata": {},
     "output_type": "display_data"
    }
   ],
   "source": [
    "aic <- AIC(model2)\n",
    "bic <- BIC(model2)\n",
    "\n",
    "aic\n",
    "bic"
   ]
  },
  {
   "cell_type": "code",
   "execution_count": null,
   "id": "5e7ed077",
   "metadata": {},
   "outputs": [],
   "source": []
  }
 ],
 "metadata": {
  "kernelspec": {
   "display_name": "R",
   "language": "R",
   "name": "ir"
  },
  "language_info": {
   "codemirror_mode": "r",
   "file_extension": ".r",
   "mimetype": "text/x-r-source",
   "name": "R",
   "pygments_lexer": "r",
   "version": "4.1.3"
  }
 },
 "nbformat": 4,
 "nbformat_minor": 5
}
